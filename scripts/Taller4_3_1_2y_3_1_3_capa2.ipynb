{
  "cells": [
    {
      "cell_type": "markdown",
      "source": [
        "#**Código taller 4 grupo 9**"
      ],
      "metadata": {
        "id": "OmDG8SCywvrr"
      }
    },
    {
      "cell_type": "code",
      "execution_count": 1,
      "metadata": {
        "vscode": {
          "languageId": "r"
        },
        "id": "np_YHaypHpgb"
      },
      "outputs": [],
      "source": [
        "rm(list = ls())\n"
      ]
    },
    {
      "cell_type": "code",
      "execution_count": 2,
      "metadata": {
        "vscode": {
          "languageId": "r"
        },
        "id": "wioluF_8Hpge",
        "colab": {
          "base_uri": "https://localhost:8080/"
        },
        "outputId": "66f6889e-209b-489d-c942-4b36ea73ab59"
      },
      "outputs": [
        {
          "output_type": "stream",
          "name": "stderr",
          "text": [
            "Installing package into ‘/usr/local/lib/R/site-library’\n",
            "(as ‘lib’ is unspecified)\n",
            "\n",
            "also installing the dependencies ‘Rcpp’, ‘RcppTOML’, ‘here’, ‘png’, ‘config’, ‘tfautograph’, ‘reticulate’, ‘tensorflow’, ‘tfruns’, ‘zeallot’\n",
            "\n",
            "\n"
          ]
        }
      ],
      "source": [
        "install.packages('keras')\n",
        "library(keras)"
      ]
    },
    {
      "cell_type": "code",
      "source": [
        "install.packages(\"readr\")\n",
        "library(readr)"
      ],
      "metadata": {
        "colab": {
          "base_uri": "https://localhost:8080/"
        },
        "id": "OV6TDM7Mx-x3",
        "outputId": "3ec08903-cc1d-423b-ce47-30b7863c1608"
      },
      "execution_count": 3,
      "outputs": [
        {
          "output_type": "stream",
          "name": "stderr",
          "text": [
            "Installing package into ‘/usr/local/lib/R/site-library’\n",
            "(as ‘lib’ is unspecified)\n",
            "\n"
          ]
        }
      ]
    },
    {
      "cell_type": "code",
      "source": [
        "library(dplyr)"
      ],
      "metadata": {
        "colab": {
          "base_uri": "https://localhost:8080/"
        },
        "id": "5r47zQegObdR",
        "outputId": "4d1c4cc9-1a8d-4838-8ab0-ec900a42a61c"
      },
      "execution_count": 4,
      "outputs": [
        {
          "output_type": "stream",
          "name": "stderr",
          "text": [
            "\n",
            "Attaching package: ‘dplyr’\n",
            "\n",
            "\n",
            "The following objects are masked from ‘package:stats’:\n",
            "\n",
            "    filter, lag\n",
            "\n",
            "\n",
            "The following objects are masked from ‘package:base’:\n",
            "\n",
            "    intersect, setdiff, setequal, union\n",
            "\n",
            "\n"
          ]
        }
      ]
    },
    {
      "cell_type": "markdown",
      "source": [
        "## Cargando los datos"
      ],
      "metadata": {
        "id": "pTP6IjQtxvT7"
      }
    },
    {
      "cell_type": "code",
      "source": [
        "test<-read.csv(\"test_final.csv\")\n",
        "train<-read.csv(\"train_final.csv\")\n",
        "\n",
        "head(test, 5)\n"
      ],
      "metadata": {
        "id": "FTwOiSR5xrLI",
        "colab": {
          "base_uri": "https://localhost:8080/",
          "height": 570
        },
        "outputId": "a488062b-39d4-4c04-c2af-c6f179fd29c4"
      },
      "execution_count": 5,
      "outputs": [
        {
          "output_type": "display_data",
          "data": {
            "text/html": [
              "<table class=\"dataframe\">\n",
              "<caption>A data.frame: 5 × 112</caption>\n",
              "<thead>\n",
              "\t<tr><th></th><th scope=col>id</th><th scope=col>comentario</th><th scope=col>colombia</th><th scope=col>bogota</th><th scope=col>via</th><th scope=col>ano</th><th scope=col>gracia</th><th scope=col>medellin</th><th scope=col>ciudad</th><th scope=col>joven</th><th scope=col>⋯</th><th scope=col>Bogota</th><th scope=col>colombiahumana</th><th scope=col>cundinamarcar</th><th scope=col>concejo</th><th scope=col>socialismo</th><th scope=col>fascismo</th><th scope=col>transmilenio</th><th scope=col>distrital</th><th scope=col>estacion</th><th scope=col>onzar</th></tr>\n",
              "\t<tr><th></th><th scope=col>&lt;chr&gt;</th><th scope=col>&lt;chr&gt;</th><th scope=col>&lt;dbl&gt;</th><th scope=col>&lt;dbl&gt;</th><th scope=col>&lt;dbl&gt;</th><th scope=col>&lt;dbl&gt;</th><th scope=col>&lt;dbl&gt;</th><th scope=col>&lt;lgl&gt;</th><th scope=col>&lt;lgl&gt;</th><th scope=col>&lt;lgl&gt;</th><th scope=col>⋯</th><th scope=col>&lt;lgl&gt;</th><th scope=col>&lt;lgl&gt;</th><th scope=col>&lt;lgl&gt;</th><th scope=col>&lt;lgl&gt;</th><th scope=col>&lt;lgl&gt;</th><th scope=col>&lt;lgl&gt;</th><th scope=col>&lt;lgl&gt;</th><th scope=col>&lt;lgl&gt;</th><th scope=col>&lt;lgl&gt;</th><th scope=col>&lt;lgl&gt;</th></tr>\n",
              "</thead>\n",
              "<tbody>\n",
              "\t<tr><th scope=row>1</th><td>0004d31c290018d960ea1b61</td><td>ir pacifico                                                                                      </td><td>0</td><td>0.0000000</td><td>0.000000</td><td>0</td><td>0</td><td>FALSE</td><td>FALSE</td><td>FALSE</td><td>⋯</td><td>FALSE</td><td>FALSE</td><td>FALSE</td><td>FALSE</td><td>FALSE</td><td>FALSE</td><td>FALSE</td><td>FALSE</td><td>FALSE</td><td>FALSE</td></tr>\n",
              "\t<tr><th scope=row>2</th><td>001387a7e556a17e9af9e684</td><td>unico unico voto dejar                                                                           </td><td>0</td><td>0.0000000</td><td>0.000000</td><td>0</td><td>0</td><td>FALSE</td><td>FALSE</td><td>FALSE</td><td>⋯</td><td>FALSE</td><td>FALSE</td><td>FALSE</td><td>FALSE</td><td>FALSE</td><td>FALSE</td><td>FALSE</td><td>FALSE</td><td>FALSE</td><td>FALSE</td></tr>\n",
              "\t<tr><th scope=row>3</th><td>0017570ee84b80e1c3e10218</td><td>elr fuerza bogota ministro defensa policia consejo seguridad conjunto compromiso seguridad bogota</td><td>0</td><td>0.4682133</td><td>0.000000</td><td>0</td><td>0</td><td>FALSE</td><td>FALSE</td><td>FALSE</td><td>⋯</td><td>FALSE</td><td>FALSE</td><td>FALSE</td><td>FALSE</td><td>FALSE</td><td>FALSE</td><td>FALSE</td><td>FALSE</td><td>FALSE</td><td>FALSE</td></tr>\n",
              "\t<tr><th scope=row>4</th><td>0036f3d867393f8effa12b66</td><td>llamado asesinato persona crimen humanidad criminal humanidad                                    </td><td>0</td><td>0.0000000</td><td>0.000000</td><td>0</td><td>0</td><td>FALSE</td><td>FALSE</td><td>FALSE</td><td>⋯</td><td>FALSE</td><td>FALSE</td><td>FALSE</td><td>FALSE</td><td>FALSE</td><td>FALSE</td><td>FALSE</td><td>FALSE</td><td>FALSE</td><td>FALSE</td></tr>\n",
              "\t<tr><th scope=row>5</th><td>004508bf8e624f9656fdf9ec</td><td>publicar via                                                                                     </td><td>0</td><td>0.0000000</td><td>2.482892</td><td>0</td><td>0</td><td>FALSE</td><td>FALSE</td><td>FALSE</td><td>⋯</td><td>FALSE</td><td>FALSE</td><td>FALSE</td><td>FALSE</td><td>FALSE</td><td>FALSE</td><td>FALSE</td><td>FALSE</td><td>FALSE</td><td>FALSE</td></tr>\n",
              "</tbody>\n",
              "</table>\n"
            ],
            "text/markdown": "\nA data.frame: 5 × 112\n\n| <!--/--> | id &lt;chr&gt; | comentario &lt;chr&gt; | colombia &lt;dbl&gt; | bogota &lt;dbl&gt; | via &lt;dbl&gt; | ano &lt;dbl&gt; | gracia &lt;dbl&gt; | medellin &lt;lgl&gt; | ciudad &lt;lgl&gt; | joven &lt;lgl&gt; | ⋯ ⋯ | Bogota &lt;lgl&gt; | colombiahumana &lt;lgl&gt; | cundinamarcar &lt;lgl&gt; | concejo &lt;lgl&gt; | socialismo &lt;lgl&gt; | fascismo &lt;lgl&gt; | transmilenio &lt;lgl&gt; | distrital &lt;lgl&gt; | estacion &lt;lgl&gt; | onzar &lt;lgl&gt; |\n|---|---|---|---|---|---|---|---|---|---|---|---|---|---|---|---|---|---|---|---|---|---|\n| 1 | 0004d31c290018d960ea1b61 | ir pacifico                                                                                       | 0 | 0.0000000 | 0.000000 | 0 | 0 | FALSE | FALSE | FALSE | ⋯ | FALSE | FALSE | FALSE | FALSE | FALSE | FALSE | FALSE | FALSE | FALSE | FALSE |\n| 2 | 001387a7e556a17e9af9e684 | unico unico voto dejar                                                                            | 0 | 0.0000000 | 0.000000 | 0 | 0 | FALSE | FALSE | FALSE | ⋯ | FALSE | FALSE | FALSE | FALSE | FALSE | FALSE | FALSE | FALSE | FALSE | FALSE |\n| 3 | 0017570ee84b80e1c3e10218 | elr fuerza bogota ministro defensa policia consejo seguridad conjunto compromiso seguridad bogota | 0 | 0.4682133 | 0.000000 | 0 | 0 | FALSE | FALSE | FALSE | ⋯ | FALSE | FALSE | FALSE | FALSE | FALSE | FALSE | FALSE | FALSE | FALSE | FALSE |\n| 4 | 0036f3d867393f8effa12b66 | llamado asesinato persona crimen humanidad criminal humanidad                                     | 0 | 0.0000000 | 0.000000 | 0 | 0 | FALSE | FALSE | FALSE | ⋯ | FALSE | FALSE | FALSE | FALSE | FALSE | FALSE | FALSE | FALSE | FALSE | FALSE |\n| 5 | 004508bf8e624f9656fdf9ec | publicar via                                                                                      | 0 | 0.0000000 | 2.482892 | 0 | 0 | FALSE | FALSE | FALSE | ⋯ | FALSE | FALSE | FALSE | FALSE | FALSE | FALSE | FALSE | FALSE | FALSE | FALSE |\n\n",
            "text/latex": "A data.frame: 5 × 112\n\\begin{tabular}{r|lllllllllllllllllllll}\n  & id & comentario & colombia & bogota & via & ano & gracia & medellin & ciudad & joven & ⋯ & Bogota & colombiahumana & cundinamarcar & concejo & socialismo & fascismo & transmilenio & distrital & estacion & onzar\\\\\n  & <chr> & <chr> & <dbl> & <dbl> & <dbl> & <dbl> & <dbl> & <lgl> & <lgl> & <lgl> & ⋯ & <lgl> & <lgl> & <lgl> & <lgl> & <lgl> & <lgl> & <lgl> & <lgl> & <lgl> & <lgl>\\\\\n\\hline\n\t1 & 0004d31c290018d960ea1b61 & ir pacifico                                                                                       & 0 & 0.0000000 & 0.000000 & 0 & 0 & FALSE & FALSE & FALSE & ⋯ & FALSE & FALSE & FALSE & FALSE & FALSE & FALSE & FALSE & FALSE & FALSE & FALSE\\\\\n\t2 & 001387a7e556a17e9af9e684 & unico unico voto dejar                                                                            & 0 & 0.0000000 & 0.000000 & 0 & 0 & FALSE & FALSE & FALSE & ⋯ & FALSE & FALSE & FALSE & FALSE & FALSE & FALSE & FALSE & FALSE & FALSE & FALSE\\\\\n\t3 & 0017570ee84b80e1c3e10218 & elr fuerza bogota ministro defensa policia consejo seguridad conjunto compromiso seguridad bogota & 0 & 0.4682133 & 0.000000 & 0 & 0 & FALSE & FALSE & FALSE & ⋯ & FALSE & FALSE & FALSE & FALSE & FALSE & FALSE & FALSE & FALSE & FALSE & FALSE\\\\\n\t4 & 0036f3d867393f8effa12b66 & llamado asesinato persona crimen humanidad criminal humanidad                                     & 0 & 0.0000000 & 0.000000 & 0 & 0 & FALSE & FALSE & FALSE & ⋯ & FALSE & FALSE & FALSE & FALSE & FALSE & FALSE & FALSE & FALSE & FALSE & FALSE\\\\\n\t5 & 004508bf8e624f9656fdf9ec & publicar via                                                                                      & 0 & 0.0000000 & 2.482892 & 0 & 0 & FALSE & FALSE & FALSE & ⋯ & FALSE & FALSE & FALSE & FALSE & FALSE & FALSE & FALSE & FALSE & FALSE & FALSE\\\\\n\\end{tabular}\n",
            "text/plain": [
              "  id                      \n",
              "1 0004d31c290018d960ea1b61\n",
              "2 001387a7e556a17e9af9e684\n",
              "3 0017570ee84b80e1c3e10218\n",
              "4 0036f3d867393f8effa12b66\n",
              "5 004508bf8e624f9656fdf9ec\n",
              "  comentario                                                                                       \n",
              "1 ir pacifico                                                                                      \n",
              "2 unico unico voto dejar                                                                           \n",
              "3 elr fuerza bogota ministro defensa policia consejo seguridad conjunto compromiso seguridad bogota\n",
              "4 llamado asesinato persona crimen humanidad criminal humanidad                                    \n",
              "5 publicar via                                                                                     \n",
              "  colombia bogota    via      ano gracia medellin ciudad joven ⋯ Bogota\n",
              "1 0        0.0000000 0.000000 0   0      FALSE    FALSE  FALSE ⋯ FALSE \n",
              "2 0        0.0000000 0.000000 0   0      FALSE    FALSE  FALSE ⋯ FALSE \n",
              "3 0        0.4682133 0.000000 0   0      FALSE    FALSE  FALSE ⋯ FALSE \n",
              "4 0        0.0000000 0.000000 0   0      FALSE    FALSE  FALSE ⋯ FALSE \n",
              "5 0        0.0000000 2.482892 0   0      FALSE    FALSE  FALSE ⋯ FALSE \n",
              "  colombiahumana cundinamarcar concejo socialismo fascismo transmilenio\n",
              "1 FALSE          FALSE         FALSE   FALSE      FALSE    FALSE       \n",
              "2 FALSE          FALSE         FALSE   FALSE      FALSE    FALSE       \n",
              "3 FALSE          FALSE         FALSE   FALSE      FALSE    FALSE       \n",
              "4 FALSE          FALSE         FALSE   FALSE      FALSE    FALSE       \n",
              "5 FALSE          FALSE         FALSE   FALSE      FALSE    FALSE       \n",
              "  distrital estacion onzar\n",
              "1 FALSE     FALSE    FALSE\n",
              "2 FALSE     FALSE    FALSE\n",
              "3 FALSE     FALSE    FALSE\n",
              "4 FALSE     FALSE    FALSE\n",
              "5 FALSE     FALSE    FALSE"
            ]
          },
          "metadata": {}
        }
      ]
    },
    {
      "cell_type": "code",
      "source": [
        "head(train, 5)"
      ],
      "metadata": {
        "id": "EDAxfF_Zy8CL",
        "colab": {
          "base_uri": "https://localhost:8080/",
          "height": 987
        },
        "outputId": "2c6d08ed-8185-4f43-a4e2-f3ff308d0f87"
      },
      "execution_count": 6,
      "outputs": [
        {
          "output_type": "display_data",
          "data": {
            "text/html": [
              "<table class=\"dataframe\">\n",
              "<caption>A data.frame: 5 × 113</caption>\n",
              "<thead>\n",
              "\t<tr><th></th><th scope=col>id</th><th scope=col>name</th><th scope=col>comentario</th><th scope=col>colombia</th><th scope=col>bogota</th><th scope=col>gobierno</th><th scope=col>cuidar</th><th scope=col>ano</th><th scope=col>politico</th><th scope=col>joven</th><th scope=col>⋯</th><th scope=col>Bogota</th><th scope=col>colombiahumana</th><th scope=col>cundinamarcar</th><th scope=col>concejo</th><th scope=col>socialismo</th><th scope=col>fascismo</th><th scope=col>transmilenio</th><th scope=col>distrital</th><th scope=col>estacion</th><th scope=col>onzar</th></tr>\n",
              "\t<tr><th></th><th scope=col>&lt;int&gt;</th><th scope=col>&lt;chr&gt;</th><th scope=col>&lt;chr&gt;</th><th scope=col>&lt;dbl&gt;</th><th scope=col>&lt;dbl&gt;</th><th scope=col>&lt;lgl&gt;</th><th scope=col>&lt;lgl&gt;</th><th scope=col>&lt;dbl&gt;</th><th scope=col>&lt;dbl&gt;</th><th scope=col>&lt;lgl&gt;</th><th scope=col>⋯</th><th scope=col>&lt;lgl&gt;</th><th scope=col>&lt;lgl&gt;</th><th scope=col>&lt;lgl&gt;</th><th scope=col>&lt;lgl&gt;</th><th scope=col>&lt;lgl&gt;</th><th scope=col>&lt;lgl&gt;</th><th scope=col>&lt;lgl&gt;</th><th scope=col>&lt;lgl&gt;</th><th scope=col>&lt;lgl&gt;</th><th scope=col>&lt;lgl&gt;</th></tr>\n",
              "</thead>\n",
              "<tbody>\n",
              "\t<tr><th scope=row>1</th><td>1</td><td>Petro</td><td>columna punto resistencia colombiahumana juventud llegarar campo popular organizar organizar organizar multitud humano                            </td><td>0.0000000</td><td>0.0000000</td><td>FALSE</td><td>FALSE</td><td>0.0000000</td><td>0</td><td>FALSE</td><td>⋯</td><td>FALSE</td><td> TRUE</td><td>FALSE</td><td>FALSE</td><td>FALSE</td><td>FALSE</td><td>FALSE</td><td>FALSE</td><td>FALSE</td><td>FALSE</td></tr>\n",
              "\t<tr><th scope=row>2</th><td>2</td><td>Lopez</td><td>bogota cundinamarcar salir colombia salir trabajar junto bogotano lograr lograr campesino vida dignar construir construir paz hacer bogotaregion  </td><td>0.1922953</td><td>0.1487278</td><td>FALSE</td><td>FALSE</td><td>0.0000000</td><td>0</td><td>FALSE</td><td>⋯</td><td>FALSE</td><td>FALSE</td><td> TRUE</td><td>FALSE</td><td>FALSE</td><td>FALSE</td><td>FALSE</td><td>FALSE</td><td>FALSE</td><td>FALSE</td></tr>\n",
              "\t<tr><th scope=row>3</th><td>3</td><td>Lopez</td><td>significar proyecto rescate social economico concejo bogota                                                                                       </td><td>0.0000000</td><td>0.3824428</td><td>FALSE</td><td>FALSE</td><td>0.0000000</td><td>0</td><td>FALSE</td><td>⋯</td><td>FALSE</td><td>FALSE</td><td>FALSE</td><td> TRUE</td><td>FALSE</td><td>FALSE</td><td>FALSE</td><td>FALSE</td><td>FALSE</td><td>FALSE</td></tr>\n",
              "\t<tr><th scope=row>4</th><td>4</td><td>Lopez</td><td>avanzar recorrido sar cristobal llegar colegio santa listo diciembre ano beneficiara estudiante localidad contar aula basica primario basica medio</td><td>0.0000000</td><td>0.0000000</td><td>FALSE</td><td>FALSE</td><td>0.2112980</td><td>0</td><td>FALSE</td><td>⋯</td><td>FALSE</td><td>FALSE</td><td>FALSE</td><td>FALSE</td><td>FALSE</td><td>FALSE</td><td>FALSE</td><td>FALSE</td><td>FALSE</td><td>FALSE</td></tr>\n",
              "\t<tr><th scope=row>5</th><td>5</td><td>Petro</td><td>mil persona bucaramanga momento seguir calle terminar rechazar asesinato masacre mundo colombia ano gobierno paronacionalm                        </td><td>0.2307543</td><td>0.0000000</td><td> TRUE</td><td>FALSE</td><td>0.2676442</td><td>0</td><td>FALSE</td><td>⋯</td><td>FALSE</td><td>FALSE</td><td>FALSE</td><td>FALSE</td><td>FALSE</td><td>FALSE</td><td>FALSE</td><td>FALSE</td><td>FALSE</td><td>FALSE</td></tr>\n",
              "</tbody>\n",
              "</table>\n"
            ],
            "text/markdown": "\nA data.frame: 5 × 113\n\n| <!--/--> | id &lt;int&gt; | name &lt;chr&gt; | comentario &lt;chr&gt; | colombia &lt;dbl&gt; | bogota &lt;dbl&gt; | gobierno &lt;lgl&gt; | cuidar &lt;lgl&gt; | ano &lt;dbl&gt; | politico &lt;dbl&gt; | joven &lt;lgl&gt; | ⋯ ⋯ | Bogota &lt;lgl&gt; | colombiahumana &lt;lgl&gt; | cundinamarcar &lt;lgl&gt; | concejo &lt;lgl&gt; | socialismo &lt;lgl&gt; | fascismo &lt;lgl&gt; | transmilenio &lt;lgl&gt; | distrital &lt;lgl&gt; | estacion &lt;lgl&gt; | onzar &lt;lgl&gt; |\n|---|---|---|---|---|---|---|---|---|---|---|---|---|---|---|---|---|---|---|---|---|---|\n| 1 | 1 | Petro | columna punto resistencia colombiahumana juventud llegarar campo popular organizar organizar organizar multitud humano                             | 0.0000000 | 0.0000000 | FALSE | FALSE | 0.0000000 | 0 | FALSE | ⋯ | FALSE |  TRUE | FALSE | FALSE | FALSE | FALSE | FALSE | FALSE | FALSE | FALSE |\n| 2 | 2 | Lopez | bogota cundinamarcar salir colombia salir trabajar junto bogotano lograr lograr campesino vida dignar construir construir paz hacer bogotaregion   | 0.1922953 | 0.1487278 | FALSE | FALSE | 0.0000000 | 0 | FALSE | ⋯ | FALSE | FALSE |  TRUE | FALSE | FALSE | FALSE | FALSE | FALSE | FALSE | FALSE |\n| 3 | 3 | Lopez | significar proyecto rescate social economico concejo bogota                                                                                        | 0.0000000 | 0.3824428 | FALSE | FALSE | 0.0000000 | 0 | FALSE | ⋯ | FALSE | FALSE | FALSE |  TRUE | FALSE | FALSE | FALSE | FALSE | FALSE | FALSE |\n| 4 | 4 | Lopez | avanzar recorrido sar cristobal llegar colegio santa listo diciembre ano beneficiara estudiante localidad contar aula basica primario basica medio | 0.0000000 | 0.0000000 | FALSE | FALSE | 0.2112980 | 0 | FALSE | ⋯ | FALSE | FALSE | FALSE | FALSE | FALSE | FALSE | FALSE | FALSE | FALSE | FALSE |\n| 5 | 5 | Petro | mil persona bucaramanga momento seguir calle terminar rechazar asesinato masacre mundo colombia ano gobierno paronacionalm                         | 0.2307543 | 0.0000000 |  TRUE | FALSE | 0.2676442 | 0 | FALSE | ⋯ | FALSE | FALSE | FALSE | FALSE | FALSE | FALSE | FALSE | FALSE | FALSE | FALSE |\n\n",
            "text/latex": "A data.frame: 5 × 113\n\\begin{tabular}{r|lllllllllllllllllllll}\n  & id & name & comentario & colombia & bogota & gobierno & cuidar & ano & politico & joven & ⋯ & Bogota & colombiahumana & cundinamarcar & concejo & socialismo & fascismo & transmilenio & distrital & estacion & onzar\\\\\n  & <int> & <chr> & <chr> & <dbl> & <dbl> & <lgl> & <lgl> & <dbl> & <dbl> & <lgl> & ⋯ & <lgl> & <lgl> & <lgl> & <lgl> & <lgl> & <lgl> & <lgl> & <lgl> & <lgl> & <lgl>\\\\\n\\hline\n\t1 & 1 & Petro & columna punto resistencia colombiahumana juventud llegarar campo popular organizar organizar organizar multitud humano                             & 0.0000000 & 0.0000000 & FALSE & FALSE & 0.0000000 & 0 & FALSE & ⋯ & FALSE &  TRUE & FALSE & FALSE & FALSE & FALSE & FALSE & FALSE & FALSE & FALSE\\\\\n\t2 & 2 & Lopez & bogota cundinamarcar salir colombia salir trabajar junto bogotano lograr lograr campesino vida dignar construir construir paz hacer bogotaregion   & 0.1922953 & 0.1487278 & FALSE & FALSE & 0.0000000 & 0 & FALSE & ⋯ & FALSE & FALSE &  TRUE & FALSE & FALSE & FALSE & FALSE & FALSE & FALSE & FALSE\\\\\n\t3 & 3 & Lopez & significar proyecto rescate social economico concejo bogota                                                                                        & 0.0000000 & 0.3824428 & FALSE & FALSE & 0.0000000 & 0 & FALSE & ⋯ & FALSE & FALSE & FALSE &  TRUE & FALSE & FALSE & FALSE & FALSE & FALSE & FALSE\\\\\n\t4 & 4 & Lopez & avanzar recorrido sar cristobal llegar colegio santa listo diciembre ano beneficiara estudiante localidad contar aula basica primario basica medio & 0.0000000 & 0.0000000 & FALSE & FALSE & 0.2112980 & 0 & FALSE & ⋯ & FALSE & FALSE & FALSE & FALSE & FALSE & FALSE & FALSE & FALSE & FALSE & FALSE\\\\\n\t5 & 5 & Petro & mil persona bucaramanga momento seguir calle terminar rechazar asesinato masacre mundo colombia ano gobierno paronacionalm                         & 0.2307543 & 0.0000000 &  TRUE & FALSE & 0.2676442 & 0 & FALSE & ⋯ & FALSE & FALSE & FALSE & FALSE & FALSE & FALSE & FALSE & FALSE & FALSE & FALSE\\\\\n\\end{tabular}\n",
            "text/plain": [
              "  id name \n",
              "1 1  Petro\n",
              "2 2  Lopez\n",
              "3 3  Lopez\n",
              "4 4  Lopez\n",
              "5 5  Petro\n",
              "  comentario                                                                                                                                        \n",
              "1 columna punto resistencia colombiahumana juventud llegarar campo popular organizar organizar organizar multitud humano                            \n",
              "2 bogota cundinamarcar salir colombia salir trabajar junto bogotano lograr lograr campesino vida dignar construir construir paz hacer bogotaregion  \n",
              "3 significar proyecto rescate social economico concejo bogota                                                                                       \n",
              "4 avanzar recorrido sar cristobal llegar colegio santa listo diciembre ano beneficiara estudiante localidad contar aula basica primario basica medio\n",
              "5 mil persona bucaramanga momento seguir calle terminar rechazar asesinato masacre mundo colombia ano gobierno paronacionalm                        \n",
              "  colombia  bogota    gobierno cuidar ano       politico joven ⋯ Bogota\n",
              "1 0.0000000 0.0000000 FALSE    FALSE  0.0000000 0        FALSE ⋯ FALSE \n",
              "2 0.1922953 0.1487278 FALSE    FALSE  0.0000000 0        FALSE ⋯ FALSE \n",
              "3 0.0000000 0.3824428 FALSE    FALSE  0.0000000 0        FALSE ⋯ FALSE \n",
              "4 0.0000000 0.0000000 FALSE    FALSE  0.2112980 0        FALSE ⋯ FALSE \n",
              "5 0.2307543 0.0000000  TRUE    FALSE  0.2676442 0        FALSE ⋯ FALSE \n",
              "  colombiahumana cundinamarcar concejo socialismo fascismo transmilenio\n",
              "1  TRUE          FALSE         FALSE   FALSE      FALSE    FALSE       \n",
              "2 FALSE           TRUE         FALSE   FALSE      FALSE    FALSE       \n",
              "3 FALSE          FALSE          TRUE   FALSE      FALSE    FALSE       \n",
              "4 FALSE          FALSE         FALSE   FALSE      FALSE    FALSE       \n",
              "5 FALSE          FALSE         FALSE   FALSE      FALSE    FALSE       \n",
              "  distrital estacion onzar\n",
              "1 FALSE     FALSE    FALSE\n",
              "2 FALSE     FALSE    FALSE\n",
              "3 FALSE     FALSE    FALSE\n",
              "4 FALSE     FALSE    FALSE\n",
              "5 FALSE     FALSE    FALSE"
            ]
          },
          "metadata": {}
        }
      ]
    },
    {
      "cell_type": "code",
      "source": [
        "head(train,10)"
      ],
      "metadata": {
        "id": "WXej32cy-Uzx",
        "colab": {
          "base_uri": "https://localhost:8080/",
          "height": 1000
        },
        "outputId": "4148e366-d697-4884-c833-2165128f269f"
      },
      "execution_count": 7,
      "outputs": [
        {
          "output_type": "display_data",
          "data": {
            "text/html": [
              "<table class=\"dataframe\">\n",
              "<caption>A data.frame: 10 × 113</caption>\n",
              "<thead>\n",
              "\t<tr><th></th><th scope=col>id</th><th scope=col>name</th><th scope=col>comentario</th><th scope=col>colombia</th><th scope=col>bogota</th><th scope=col>gobierno</th><th scope=col>cuidar</th><th scope=col>ano</th><th scope=col>politico</th><th scope=col>joven</th><th scope=col>⋯</th><th scope=col>Bogota</th><th scope=col>colombiahumana</th><th scope=col>cundinamarcar</th><th scope=col>concejo</th><th scope=col>socialismo</th><th scope=col>fascismo</th><th scope=col>transmilenio</th><th scope=col>distrital</th><th scope=col>estacion</th><th scope=col>onzar</th></tr>\n",
              "\t<tr><th></th><th scope=col>&lt;int&gt;</th><th scope=col>&lt;chr&gt;</th><th scope=col>&lt;chr&gt;</th><th scope=col>&lt;dbl&gt;</th><th scope=col>&lt;dbl&gt;</th><th scope=col>&lt;lgl&gt;</th><th scope=col>&lt;lgl&gt;</th><th scope=col>&lt;dbl&gt;</th><th scope=col>&lt;dbl&gt;</th><th scope=col>&lt;lgl&gt;</th><th scope=col>⋯</th><th scope=col>&lt;lgl&gt;</th><th scope=col>&lt;lgl&gt;</th><th scope=col>&lt;lgl&gt;</th><th scope=col>&lt;lgl&gt;</th><th scope=col>&lt;lgl&gt;</th><th scope=col>&lt;lgl&gt;</th><th scope=col>&lt;lgl&gt;</th><th scope=col>&lt;lgl&gt;</th><th scope=col>&lt;lgl&gt;</th><th scope=col>&lt;lgl&gt;</th></tr>\n",
              "</thead>\n",
              "<tbody>\n",
              "\t<tr><th scope=row>1</th><td> 1</td><td>Petro</td><td>columna punto resistencia colombiahumana juventud llegarar campo popular organizar organizar organizar multitud humano                            </td><td>0.0000000</td><td>0.0000000</td><td>FALSE</td><td>FALSE</td><td>0.0000000</td><td>0</td><td>FALSE</td><td>⋯</td><td>FALSE</td><td> TRUE</td><td>FALSE</td><td>FALSE</td><td>FALSE</td><td>FALSE</td><td>FALSE</td><td>FALSE</td><td>FALSE</td><td>FALSE</td></tr>\n",
              "\t<tr><th scope=row>2</th><td> 2</td><td>Lopez</td><td>bogota cundinamarcar salir colombia salir trabajar junto bogotano lograr lograr campesino vida dignar construir construir paz hacer bogotaregion  </td><td>0.1922953</td><td>0.1487278</td><td>FALSE</td><td>FALSE</td><td>0.0000000</td><td>0</td><td>FALSE</td><td>⋯</td><td>FALSE</td><td>FALSE</td><td> TRUE</td><td>FALSE</td><td>FALSE</td><td>FALSE</td><td>FALSE</td><td>FALSE</td><td>FALSE</td><td>FALSE</td></tr>\n",
              "\t<tr><th scope=row>3</th><td> 3</td><td>Lopez</td><td>significar proyecto rescate social economico concejo bogota                                                                                       </td><td>0.0000000</td><td>0.3824428</td><td>FALSE</td><td>FALSE</td><td>0.0000000</td><td>0</td><td>FALSE</td><td>⋯</td><td>FALSE</td><td>FALSE</td><td>FALSE</td><td> TRUE</td><td>FALSE</td><td>FALSE</td><td>FALSE</td><td>FALSE</td><td>FALSE</td><td>FALSE</td></tr>\n",
              "\t<tr><th scope=row>4</th><td> 4</td><td>Lopez</td><td>avanzar recorrido sar cristobal llegar colegio santa listo diciembre ano beneficiara estudiante localidad contar aula basica primario basica medio</td><td>0.0000000</td><td>0.0000000</td><td>FALSE</td><td>FALSE</td><td>0.2112980</td><td>0</td><td>FALSE</td><td>⋯</td><td>FALSE</td><td>FALSE</td><td>FALSE</td><td>FALSE</td><td>FALSE</td><td>FALSE</td><td>FALSE</td><td>FALSE</td><td>FALSE</td><td>FALSE</td></tr>\n",
              "\t<tr><th scope=row>5</th><td> 5</td><td>Petro</td><td>mil persona bucaramanga momento seguir calle terminar rechazar asesinato masacre mundo colombia ano gobierno paronacionalm                        </td><td>0.2307543</td><td>0.0000000</td><td> TRUE</td><td>FALSE</td><td>0.2676442</td><td>0</td><td>FALSE</td><td>⋯</td><td>FALSE</td><td>FALSE</td><td>FALSE</td><td>FALSE</td><td>FALSE</td><td>FALSE</td><td>FALSE</td><td>FALSE</td><td>FALSE</td><td>FALSE</td></tr>\n",
              "\t<tr><th scope=row>6</th><td> 6</td><td>Petro</td><td>porcentaje trabajador semana fuerza laboral mundo grado explotacion laboral                                                                       </td><td>0.0000000</td><td>0.0000000</td><td>FALSE</td><td>FALSE</td><td>0.0000000</td><td>0</td><td>FALSE</td><td>⋯</td><td>FALSE</td><td>FALSE</td><td>FALSE</td><td>FALSE</td><td>FALSE</td><td>FALSE</td><td>FALSE</td><td>FALSE</td><td>FALSE</td><td>FALSE</td></tr>\n",
              "\t<tr><th scope=row>7</th><td> 7</td><td>Uribe</td><td>acelerar superacion pobreza hablarle duro socialismo                                                                                              </td><td>0.0000000</td><td>0.0000000</td><td>FALSE</td><td>FALSE</td><td>0.0000000</td><td>0</td><td>FALSE</td><td>⋯</td><td>FALSE</td><td>FALSE</td><td>FALSE</td><td>FALSE</td><td>FALSE</td><td>FALSE</td><td>FALSE</td><td>FALSE</td><td>FALSE</td><td>FALSE</td></tr>\n",
              "\t<tr><th scope=row>8</th><td> 8</td><td>Petro</td><td>pedir alcalde riesgo climatico establecer establecer crisis climatica municipio ampliar participacion popular                                     </td><td>0.0000000</td><td>0.0000000</td><td>FALSE</td><td>FALSE</td><td>0.0000000</td><td>0</td><td>FALSE</td><td>⋯</td><td>FALSE</td><td>FALSE</td><td>FALSE</td><td>FALSE</td><td>FALSE</td><td>FALSE</td><td>FALSE</td><td>FALSE</td><td>FALSE</td><td>FALSE</td></tr>\n",
              "\t<tr><th scope=row>9</th><td> 9</td><td>Petro</td><td>fascismo mundo mundo pais rico tratar objetivo pueblo excluido mundo                                                                              </td><td>0.0000000</td><td>0.0000000</td><td>FALSE</td><td>FALSE</td><td>0.0000000</td><td>0</td><td>FALSE</td><td>⋯</td><td>FALSE</td><td>FALSE</td><td>FALSE</td><td>FALSE</td><td>FALSE</td><td>FALSE</td><td>FALSE</td><td>FALSE</td><td>FALSE</td><td>FALSE</td></tr>\n",
              "\t<tr><th scope=row>10</th><td>10</td><td>Lopez</td><td>principal punto movilización manana julio ruta habilitar consultar consultar sectormovilidad transmilenio ciclovia                                </td><td>0.0000000</td><td>0.0000000</td><td>FALSE</td><td>FALSE</td><td>0.0000000</td><td>0</td><td>FALSE</td><td>⋯</td><td>FALSE</td><td>FALSE</td><td>FALSE</td><td>FALSE</td><td>FALSE</td><td>FALSE</td><td>FALSE</td><td>FALSE</td><td>FALSE</td><td>FALSE</td></tr>\n",
              "</tbody>\n",
              "</table>\n"
            ],
            "text/markdown": "\nA data.frame: 10 × 113\n\n| <!--/--> | id &lt;int&gt; | name &lt;chr&gt; | comentario &lt;chr&gt; | colombia &lt;dbl&gt; | bogota &lt;dbl&gt; | gobierno &lt;lgl&gt; | cuidar &lt;lgl&gt; | ano &lt;dbl&gt; | politico &lt;dbl&gt; | joven &lt;lgl&gt; | ⋯ ⋯ | Bogota &lt;lgl&gt; | colombiahumana &lt;lgl&gt; | cundinamarcar &lt;lgl&gt; | concejo &lt;lgl&gt; | socialismo &lt;lgl&gt; | fascismo &lt;lgl&gt; | transmilenio &lt;lgl&gt; | distrital &lt;lgl&gt; | estacion &lt;lgl&gt; | onzar &lt;lgl&gt; |\n|---|---|---|---|---|---|---|---|---|---|---|---|---|---|---|---|---|---|---|---|---|---|\n| 1 |  1 | Petro | columna punto resistencia colombiahumana juventud llegarar campo popular organizar organizar organizar multitud humano                             | 0.0000000 | 0.0000000 | FALSE | FALSE | 0.0000000 | 0 | FALSE | ⋯ | FALSE |  TRUE | FALSE | FALSE | FALSE | FALSE | FALSE | FALSE | FALSE | FALSE |\n| 2 |  2 | Lopez | bogota cundinamarcar salir colombia salir trabajar junto bogotano lograr lograr campesino vida dignar construir construir paz hacer bogotaregion   | 0.1922953 | 0.1487278 | FALSE | FALSE | 0.0000000 | 0 | FALSE | ⋯ | FALSE | FALSE |  TRUE | FALSE | FALSE | FALSE | FALSE | FALSE | FALSE | FALSE |\n| 3 |  3 | Lopez | significar proyecto rescate social economico concejo bogota                                                                                        | 0.0000000 | 0.3824428 | FALSE | FALSE | 0.0000000 | 0 | FALSE | ⋯ | FALSE | FALSE | FALSE |  TRUE | FALSE | FALSE | FALSE | FALSE | FALSE | FALSE |\n| 4 |  4 | Lopez | avanzar recorrido sar cristobal llegar colegio santa listo diciembre ano beneficiara estudiante localidad contar aula basica primario basica medio | 0.0000000 | 0.0000000 | FALSE | FALSE | 0.2112980 | 0 | FALSE | ⋯ | FALSE | FALSE | FALSE | FALSE | FALSE | FALSE | FALSE | FALSE | FALSE | FALSE |\n| 5 |  5 | Petro | mil persona bucaramanga momento seguir calle terminar rechazar asesinato masacre mundo colombia ano gobierno paronacionalm                         | 0.2307543 | 0.0000000 |  TRUE | FALSE | 0.2676442 | 0 | FALSE | ⋯ | FALSE | FALSE | FALSE | FALSE | FALSE | FALSE | FALSE | FALSE | FALSE | FALSE |\n| 6 |  6 | Petro | porcentaje trabajador semana fuerza laboral mundo grado explotacion laboral                                                                        | 0.0000000 | 0.0000000 | FALSE | FALSE | 0.0000000 | 0 | FALSE | ⋯ | FALSE | FALSE | FALSE | FALSE | FALSE | FALSE | FALSE | FALSE | FALSE | FALSE |\n| 7 |  7 | Uribe | acelerar superacion pobreza hablarle duro socialismo                                                                                               | 0.0000000 | 0.0000000 | FALSE | FALSE | 0.0000000 | 0 | FALSE | ⋯ | FALSE | FALSE | FALSE | FALSE | FALSE | FALSE | FALSE | FALSE | FALSE | FALSE |\n| 8 |  8 | Petro | pedir alcalde riesgo climatico establecer establecer crisis climatica municipio ampliar participacion popular                                      | 0.0000000 | 0.0000000 | FALSE | FALSE | 0.0000000 | 0 | FALSE | ⋯ | FALSE | FALSE | FALSE | FALSE | FALSE | FALSE | FALSE | FALSE | FALSE | FALSE |\n| 9 |  9 | Petro | fascismo mundo mundo pais rico tratar objetivo pueblo excluido mundo                                                                               | 0.0000000 | 0.0000000 | FALSE | FALSE | 0.0000000 | 0 | FALSE | ⋯ | FALSE | FALSE | FALSE | FALSE | FALSE | FALSE | FALSE | FALSE | FALSE | FALSE |\n| 10 | 10 | Lopez | principal punto movilización manana julio ruta habilitar consultar consultar sectormovilidad transmilenio ciclovia                                 | 0.0000000 | 0.0000000 | FALSE | FALSE | 0.0000000 | 0 | FALSE | ⋯ | FALSE | FALSE | FALSE | FALSE | FALSE | FALSE | FALSE | FALSE | FALSE | FALSE |\n\n",
            "text/latex": "A data.frame: 10 × 113\n\\begin{tabular}{r|lllllllllllllllllllll}\n  & id & name & comentario & colombia & bogota & gobierno & cuidar & ano & politico & joven & ⋯ & Bogota & colombiahumana & cundinamarcar & concejo & socialismo & fascismo & transmilenio & distrital & estacion & onzar\\\\\n  & <int> & <chr> & <chr> & <dbl> & <dbl> & <lgl> & <lgl> & <dbl> & <dbl> & <lgl> & ⋯ & <lgl> & <lgl> & <lgl> & <lgl> & <lgl> & <lgl> & <lgl> & <lgl> & <lgl> & <lgl>\\\\\n\\hline\n\t1 &  1 & Petro & columna punto resistencia colombiahumana juventud llegarar campo popular organizar organizar organizar multitud humano                             & 0.0000000 & 0.0000000 & FALSE & FALSE & 0.0000000 & 0 & FALSE & ⋯ & FALSE &  TRUE & FALSE & FALSE & FALSE & FALSE & FALSE & FALSE & FALSE & FALSE\\\\\n\t2 &  2 & Lopez & bogota cundinamarcar salir colombia salir trabajar junto bogotano lograr lograr campesino vida dignar construir construir paz hacer bogotaregion   & 0.1922953 & 0.1487278 & FALSE & FALSE & 0.0000000 & 0 & FALSE & ⋯ & FALSE & FALSE &  TRUE & FALSE & FALSE & FALSE & FALSE & FALSE & FALSE & FALSE\\\\\n\t3 &  3 & Lopez & significar proyecto rescate social economico concejo bogota                                                                                        & 0.0000000 & 0.3824428 & FALSE & FALSE & 0.0000000 & 0 & FALSE & ⋯ & FALSE & FALSE & FALSE &  TRUE & FALSE & FALSE & FALSE & FALSE & FALSE & FALSE\\\\\n\t4 &  4 & Lopez & avanzar recorrido sar cristobal llegar colegio santa listo diciembre ano beneficiara estudiante localidad contar aula basica primario basica medio & 0.0000000 & 0.0000000 & FALSE & FALSE & 0.2112980 & 0 & FALSE & ⋯ & FALSE & FALSE & FALSE & FALSE & FALSE & FALSE & FALSE & FALSE & FALSE & FALSE\\\\\n\t5 &  5 & Petro & mil persona bucaramanga momento seguir calle terminar rechazar asesinato masacre mundo colombia ano gobierno paronacionalm                         & 0.2307543 & 0.0000000 &  TRUE & FALSE & 0.2676442 & 0 & FALSE & ⋯ & FALSE & FALSE & FALSE & FALSE & FALSE & FALSE & FALSE & FALSE & FALSE & FALSE\\\\\n\t6 &  6 & Petro & porcentaje trabajador semana fuerza laboral mundo grado explotacion laboral                                                                        & 0.0000000 & 0.0000000 & FALSE & FALSE & 0.0000000 & 0 & FALSE & ⋯ & FALSE & FALSE & FALSE & FALSE & FALSE & FALSE & FALSE & FALSE & FALSE & FALSE\\\\\n\t7 &  7 & Uribe & acelerar superacion pobreza hablarle duro socialismo                                                                                               & 0.0000000 & 0.0000000 & FALSE & FALSE & 0.0000000 & 0 & FALSE & ⋯ & FALSE & FALSE & FALSE & FALSE & FALSE & FALSE & FALSE & FALSE & FALSE & FALSE\\\\\n\t8 &  8 & Petro & pedir alcalde riesgo climatico establecer establecer crisis climatica municipio ampliar participacion popular                                      & 0.0000000 & 0.0000000 & FALSE & FALSE & 0.0000000 & 0 & FALSE & ⋯ & FALSE & FALSE & FALSE & FALSE & FALSE & FALSE & FALSE & FALSE & FALSE & FALSE\\\\\n\t9 &  9 & Petro & fascismo mundo mundo pais rico tratar objetivo pueblo excluido mundo                                                                               & 0.0000000 & 0.0000000 & FALSE & FALSE & 0.0000000 & 0 & FALSE & ⋯ & FALSE & FALSE & FALSE & FALSE & FALSE & FALSE & FALSE & FALSE & FALSE & FALSE\\\\\n\t10 & 10 & Lopez & principal punto movilización manana julio ruta habilitar consultar consultar sectormovilidad transmilenio ciclovia                                 & 0.0000000 & 0.0000000 & FALSE & FALSE & 0.0000000 & 0 & FALSE & ⋯ & FALSE & FALSE & FALSE & FALSE & FALSE & FALSE & FALSE & FALSE & FALSE & FALSE\\\\\n\\end{tabular}\n",
            "text/plain": [
              "   id name \n",
              "1   1 Petro\n",
              "2   2 Lopez\n",
              "3   3 Lopez\n",
              "4   4 Lopez\n",
              "5   5 Petro\n",
              "6   6 Petro\n",
              "7   7 Uribe\n",
              "8   8 Petro\n",
              "9   9 Petro\n",
              "10 10 Lopez\n",
              "   comentario                                                                                                                                        \n",
              "1  columna punto resistencia colombiahumana juventud llegarar campo popular organizar organizar organizar multitud humano                            \n",
              "2  bogota cundinamarcar salir colombia salir trabajar junto bogotano lograr lograr campesino vida dignar construir construir paz hacer bogotaregion  \n",
              "3  significar proyecto rescate social economico concejo bogota                                                                                       \n",
              "4  avanzar recorrido sar cristobal llegar colegio santa listo diciembre ano beneficiara estudiante localidad contar aula basica primario basica medio\n",
              "5  mil persona bucaramanga momento seguir calle terminar rechazar asesinato masacre mundo colombia ano gobierno paronacionalm                        \n",
              "6  porcentaje trabajador semana fuerza laboral mundo grado explotacion laboral                                                                       \n",
              "7  acelerar superacion pobreza hablarle duro socialismo                                                                                              \n",
              "8  pedir alcalde riesgo climatico establecer establecer crisis climatica municipio ampliar participacion popular                                     \n",
              "9  fascismo mundo mundo pais rico tratar objetivo pueblo excluido mundo                                                                              \n",
              "10 principal punto movilización manana julio ruta habilitar consultar consultar sectormovilidad transmilenio ciclovia                                \n",
              "   colombia  bogota    gobierno cuidar ano       politico joven ⋯ Bogota\n",
              "1  0.0000000 0.0000000 FALSE    FALSE  0.0000000 0        FALSE ⋯ FALSE \n",
              "2  0.1922953 0.1487278 FALSE    FALSE  0.0000000 0        FALSE ⋯ FALSE \n",
              "3  0.0000000 0.3824428 FALSE    FALSE  0.0000000 0        FALSE ⋯ FALSE \n",
              "4  0.0000000 0.0000000 FALSE    FALSE  0.2112980 0        FALSE ⋯ FALSE \n",
              "5  0.2307543 0.0000000  TRUE    FALSE  0.2676442 0        FALSE ⋯ FALSE \n",
              "6  0.0000000 0.0000000 FALSE    FALSE  0.0000000 0        FALSE ⋯ FALSE \n",
              "7  0.0000000 0.0000000 FALSE    FALSE  0.0000000 0        FALSE ⋯ FALSE \n",
              "8  0.0000000 0.0000000 FALSE    FALSE  0.0000000 0        FALSE ⋯ FALSE \n",
              "9  0.0000000 0.0000000 FALSE    FALSE  0.0000000 0        FALSE ⋯ FALSE \n",
              "10 0.0000000 0.0000000 FALSE    FALSE  0.0000000 0        FALSE ⋯ FALSE \n",
              "   colombiahumana cundinamarcar concejo socialismo fascismo transmilenio\n",
              "1   TRUE          FALSE         FALSE   FALSE      FALSE    FALSE       \n",
              "2  FALSE           TRUE         FALSE   FALSE      FALSE    FALSE       \n",
              "3  FALSE          FALSE          TRUE   FALSE      FALSE    FALSE       \n",
              "4  FALSE          FALSE         FALSE   FALSE      FALSE    FALSE       \n",
              "5  FALSE          FALSE         FALSE   FALSE      FALSE    FALSE       \n",
              "6  FALSE          FALSE         FALSE   FALSE      FALSE    FALSE       \n",
              "7  FALSE          FALSE         FALSE   FALSE      FALSE    FALSE       \n",
              "8  FALSE          FALSE         FALSE   FALSE      FALSE    FALSE       \n",
              "9  FALSE          FALSE         FALSE   FALSE      FALSE    FALSE       \n",
              "10 FALSE          FALSE         FALSE   FALSE      FALSE    FALSE       \n",
              "   distrital estacion onzar\n",
              "1  FALSE     FALSE    FALSE\n",
              "2  FALSE     FALSE    FALSE\n",
              "3  FALSE     FALSE    FALSE\n",
              "4  FALSE     FALSE    FALSE\n",
              "5  FALSE     FALSE    FALSE\n",
              "6  FALSE     FALSE    FALSE\n",
              "7  FALSE     FALSE    FALSE\n",
              "8  FALSE     FALSE    FALSE\n",
              "9  FALSE     FALSE    FALSE\n",
              "10 FALSE     FALSE    FALSE"
            ]
          },
          "metadata": {}
        }
      ]
    },
    {
      "cell_type": "code",
      "source": [
        "train$cat <- ifelse(train$name == \"Lopez\", 1, ifelse(train$name == \"Uribe\",2,3))"
      ],
      "metadata": {
        "id": "YVE2RvC_zLIK"
      },
      "execution_count": 8,
      "outputs": []
    },
    {
      "cell_type": "code",
      "source": [
        "train$cat"
      ],
      "metadata": {
        "colab": {
          "base_uri": "https://localhost:8080/",
          "height": 121
        },
        "id": "AnoP-JUAHGel",
        "outputId": "37b6e461-efb1-4416-edac-c6e884cc0d68"
      },
      "execution_count": 9,
      "outputs": [
        {
          "output_type": "display_data",
          "data": {
            "text/html": [
              "<style>\n",
              ".list-inline {list-style: none; margin:0; padding: 0}\n",
              ".list-inline>li {display: inline-block}\n",
              ".list-inline>li:not(:last-child)::after {content: \"\\00b7\"; padding: 0 .5ex}\n",
              "</style>\n",
              "<ol class=list-inline><li>3</li><li>1</li><li>1</li><li>1</li><li>3</li><li>3</li><li>2</li><li>3</li><li>3</li><li>1</li><li>1</li><li>2</li><li>1</li><li>3</li><li>1</li><li>2</li><li>2</li><li>2</li><li>2</li><li>2</li><li>2</li><li>2</li><li>1</li><li>1</li><li>1</li><li>3</li><li>1</li><li>1</li><li>2</li><li>3</li><li>1</li><li>2</li><li>1</li><li>1</li><li>3</li><li>2</li><li>1</li><li>3</li><li>3</li><li>2</li><li>1</li><li>2</li><li>3</li><li>1</li><li>2</li><li>3</li><li>1</li><li>3</li><li>1</li><li>1</li><li>3</li><li>2</li><li>2</li><li>1</li><li>3</li><li>2</li><li>1</li><li>3</li><li>3</li><li>1</li><li>1</li><li>2</li><li>1</li><li>1</li><li>1</li><li>3</li><li>1</li><li>1</li><li>2</li><li>2</li><li>1</li><li>3</li><li>3</li><li>1</li><li>2</li><li>3</li><li>1</li><li>1</li><li>2</li><li>3</li><li>1</li><li>2</li><li>2</li><li>1</li><li>2</li><li>1</li><li>1</li><li>3</li><li>2</li><li>2</li><li>1</li><li>2</li><li>1</li><li>2</li><li>3</li><li>2</li><li>1</li><li>1</li><li>3</li><li>1</li><li>3</li><li>3</li><li>3</li><li>2</li><li>1</li><li>1</li><li>2</li><li>3</li><li>1</li><li>3</li><li>2</li><li>1</li><li>3</li><li>1</li><li>3</li><li>1</li><li>3</li><li>3</li><li>2</li><li>1</li><li>1</li><li>2</li><li>1</li><li>1</li><li>2</li><li>1</li><li>2</li><li>1</li><li>1</li><li>3</li><li>2</li><li>3</li><li>1</li><li>2</li><li>2</li><li>3</li><li>3</li><li>2</li><li>1</li><li>1</li><li>2</li><li>1</li><li>3</li><li>3</li><li>1</li><li>2</li><li>2</li><li>2</li><li>3</li><li>2</li><li>1</li><li>1</li><li>3</li><li>3</li><li>1</li><li>1</li><li>3</li><li>1</li><li>2</li><li>1</li><li>3</li><li>1</li><li>3</li><li>2</li><li>3</li><li>3</li><li>1</li><li>2</li><li>2</li><li>2</li><li>2</li><li>2</li><li>2</li><li>2</li><li>2</li><li>1</li><li>1</li><li>3</li><li>1</li><li>3</li><li>1</li><li>2</li><li>2</li><li>1</li><li>2</li><li>1</li><li>2</li><li>1</li><li>1</li><li>3</li><li>3</li><li>3</li><li>2</li><li>1</li><li>3</li><li>3</li><li>2</li><li>1</li><li>2</li><li>1</li><li>⋯</li><li>1</li><li>1</li><li>3</li><li>2</li><li>2</li><li>1</li><li>1</li><li>1</li><li>1</li><li>1</li><li>2</li><li>3</li><li>3</li><li>2</li><li>1</li><li>3</li><li>1</li><li>2</li><li>3</li><li>3</li><li>2</li><li>3</li><li>2</li><li>3</li><li>3</li><li>2</li><li>3</li><li>2</li><li>3</li><li>1</li><li>1</li><li>1</li><li>2</li><li>1</li><li>1</li><li>1</li><li>3</li><li>1</li><li>3</li><li>2</li><li>2</li><li>3</li><li>3</li><li>3</li><li>1</li><li>1</li><li>1</li><li>2</li><li>3</li><li>2</li><li>2</li><li>3</li><li>3</li><li>2</li><li>1</li><li>2</li><li>3</li><li>1</li><li>1</li><li>2</li><li>2</li><li>1</li><li>2</li><li>3</li><li>1</li><li>1</li><li>1</li><li>2</li><li>3</li><li>3</li><li>1</li><li>3</li><li>1</li><li>1</li><li>3</li><li>3</li><li>3</li><li>2</li><li>1</li><li>3</li><li>1</li><li>2</li><li>2</li><li>1</li><li>2</li><li>3</li><li>2</li><li>1</li><li>2</li><li>3</li><li>1</li><li>1</li><li>1</li><li>1</li><li>2</li><li>3</li><li>3</li><li>1</li><li>2</li><li>3</li><li>1</li><li>3</li><li>2</li><li>1</li><li>1</li><li>2</li><li>1</li><li>1</li><li>2</li><li>3</li><li>3</li><li>2</li><li>2</li><li>1</li><li>3</li><li>1</li><li>3</li><li>2</li><li>3</li><li>3</li><li>3</li><li>2</li><li>2</li><li>2</li><li>1</li><li>3</li><li>1</li><li>2</li><li>1</li><li>2</li><li>3</li><li>2</li><li>2</li><li>1</li><li>3</li><li>3</li><li>3</li><li>1</li><li>2</li><li>3</li><li>1</li><li>2</li><li>3</li><li>2</li><li>3</li><li>1</li><li>1</li><li>1</li><li>1</li><li>2</li><li>1</li><li>3</li><li>1</li><li>3</li><li>3</li><li>3</li><li>1</li><li>1</li><li>2</li><li>1</li><li>1</li><li>2</li><li>1</li><li>2</li><li>1</li><li>3</li><li>2</li><li>2</li><li>2</li><li>1</li><li>2</li><li>2</li><li>2</li><li>1</li><li>1</li><li>3</li><li>2</li><li>2</li><li>2</li><li>3</li><li>3</li><li>2</li><li>1</li><li>1</li><li>2</li><li>3</li><li>3</li><li>2</li><li>2</li><li>3</li><li>2</li><li>1</li><li>3</li><li>3</li><li>1</li><li>2</li><li>3</li><li>2</li><li>1</li><li>3</li></ol>\n"
            ],
            "text/markdown": "1. 3\n2. 1\n3. 1\n4. 1\n5. 3\n6. 3\n7. 2\n8. 3\n9. 3\n10. 1\n11. 1\n12. 2\n13. 1\n14. 3\n15. 1\n16. 2\n17. 2\n18. 2\n19. 2\n20. 2\n21. 2\n22. 2\n23. 1\n24. 1\n25. 1\n26. 3\n27. 1\n28. 1\n29. 2\n30. 3\n31. 1\n32. 2\n33. 1\n34. 1\n35. 3\n36. 2\n37. 1\n38. 3\n39. 3\n40. 2\n41. 1\n42. 2\n43. 3\n44. 1\n45. 2\n46. 3\n47. 1\n48. 3\n49. 1\n50. 1\n51. 3\n52. 2\n53. 2\n54. 1\n55. 3\n56. 2\n57. 1\n58. 3\n59. 3\n60. 1\n61. 1\n62. 2\n63. 1\n64. 1\n65. 1\n66. 3\n67. 1\n68. 1\n69. 2\n70. 2\n71. 1\n72. 3\n73. 3\n74. 1\n75. 2\n76. 3\n77. 1\n78. 1\n79. 2\n80. 3\n81. 1\n82. 2\n83. 2\n84. 1\n85. 2\n86. 1\n87. 1\n88. 3\n89. 2\n90. 2\n91. 1\n92. 2\n93. 1\n94. 2\n95. 3\n96. 2\n97. 1\n98. 1\n99. 3\n100. 1\n101. 3\n102. 3\n103. 3\n104. 2\n105. 1\n106. 1\n107. 2\n108. 3\n109. 1\n110. 3\n111. 2\n112. 1\n113. 3\n114. 1\n115. 3\n116. 1\n117. 3\n118. 3\n119. 2\n120. 1\n121. 1\n122. 2\n123. 1\n124. 1\n125. 2\n126. 1\n127. 2\n128. 1\n129. 1\n130. 3\n131. 2\n132. 3\n133. 1\n134. 2\n135. 2\n136. 3\n137. 3\n138. 2\n139. 1\n140. 1\n141. 2\n142. 1\n143. 3\n144. 3\n145. 1\n146. 2\n147. 2\n148. 2\n149. 3\n150. 2\n151. 1\n152. 1\n153. 3\n154. 3\n155. 1\n156. 1\n157. 3\n158. 1\n159. 2\n160. 1\n161. 3\n162. 1\n163. 3\n164. 2\n165. 3\n166. 3\n167. 1\n168. 2\n169. 2\n170. 2\n171. 2\n172. 2\n173. 2\n174. 2\n175. 2\n176. 1\n177. 1\n178. 3\n179. 1\n180. 3\n181. 1\n182. 2\n183. 2\n184. 1\n185. 2\n186. 1\n187. 2\n188. 1\n189. 1\n190. 3\n191. 3\n192. 3\n193. 2\n194. 1\n195. 3\n196. 3\n197. 2\n198. 1\n199. 2\n200. 1\n201. ⋯\n202. 1\n203. 1\n204. 3\n205. 2\n206. 2\n207. 1\n208. 1\n209. 1\n210. 1\n211. 1\n212. 2\n213. 3\n214. 3\n215. 2\n216. 1\n217. 3\n218. 1\n219. 2\n220. 3\n221. 3\n222. 2\n223. 3\n224. 2\n225. 3\n226. 3\n227. 2\n228. 3\n229. 2\n230. 3\n231. 1\n232. 1\n233. 1\n234. 2\n235. 1\n236. 1\n237. 1\n238. 3\n239. 1\n240. 3\n241. 2\n242. 2\n243. 3\n244. 3\n245. 3\n246. 1\n247. 1\n248. 1\n249. 2\n250. 3\n251. 2\n252. 2\n253. 3\n254. 3\n255. 2\n256. 1\n257. 2\n258. 3\n259. 1\n260. 1\n261. 2\n262. 2\n263. 1\n264. 2\n265. 3\n266. 1\n267. 1\n268. 1\n269. 2\n270. 3\n271. 3\n272. 1\n273. 3\n274. 1\n275. 1\n276. 3\n277. 3\n278. 3\n279. 2\n280. 1\n281. 3\n282. 1\n283. 2\n284. 2\n285. 1\n286. 2\n287. 3\n288. 2\n289. 1\n290. 2\n291. 3\n292. 1\n293. 1\n294. 1\n295. 1\n296. 2\n297. 3\n298. 3\n299. 1\n300. 2\n301. 3\n302. 1\n303. 3\n304. 2\n305. 1\n306. 1\n307. 2\n308. 1\n309. 1\n310. 2\n311. 3\n312. 3\n313. 2\n314. 2\n315. 1\n316. 3\n317. 1\n318. 3\n319. 2\n320. 3\n321. 3\n322. 3\n323. 2\n324. 2\n325. 2\n326. 1\n327. 3\n328. 1\n329. 2\n330. 1\n331. 2\n332. 3\n333. 2\n334. 2\n335. 1\n336. 3\n337. 3\n338. 3\n339. 1\n340. 2\n341. 3\n342. 1\n343. 2\n344. 3\n345. 2\n346. 3\n347. 1\n348. 1\n349. 1\n350. 1\n351. 2\n352. 1\n353. 3\n354. 1\n355. 3\n356. 3\n357. 3\n358. 1\n359. 1\n360. 2\n361. 1\n362. 1\n363. 2\n364. 1\n365. 2\n366. 1\n367. 3\n368. 2\n369. 2\n370. 2\n371. 1\n372. 2\n373. 2\n374. 2\n375. 1\n376. 1\n377. 3\n378. 2\n379. 2\n380. 2\n381. 3\n382. 3\n383. 2\n384. 1\n385. 1\n386. 2\n387. 3\n388. 3\n389. 2\n390. 2\n391. 3\n392. 2\n393. 1\n394. 3\n395. 3\n396. 1\n397. 2\n398. 3\n399. 2\n400. 1\n401. 3\n\n\n",
            "text/latex": "\\begin{enumerate*}\n\\item 3\n\\item 1\n\\item 1\n\\item 1\n\\item 3\n\\item 3\n\\item 2\n\\item 3\n\\item 3\n\\item 1\n\\item 1\n\\item 2\n\\item 1\n\\item 3\n\\item 1\n\\item 2\n\\item 2\n\\item 2\n\\item 2\n\\item 2\n\\item 2\n\\item 2\n\\item 1\n\\item 1\n\\item 1\n\\item 3\n\\item 1\n\\item 1\n\\item 2\n\\item 3\n\\item 1\n\\item 2\n\\item 1\n\\item 1\n\\item 3\n\\item 2\n\\item 1\n\\item 3\n\\item 3\n\\item 2\n\\item 1\n\\item 2\n\\item 3\n\\item 1\n\\item 2\n\\item 3\n\\item 1\n\\item 3\n\\item 1\n\\item 1\n\\item 3\n\\item 2\n\\item 2\n\\item 1\n\\item 3\n\\item 2\n\\item 1\n\\item 3\n\\item 3\n\\item 1\n\\item 1\n\\item 2\n\\item 1\n\\item 1\n\\item 1\n\\item 3\n\\item 1\n\\item 1\n\\item 2\n\\item 2\n\\item 1\n\\item 3\n\\item 3\n\\item 1\n\\item 2\n\\item 3\n\\item 1\n\\item 1\n\\item 2\n\\item 3\n\\item 1\n\\item 2\n\\item 2\n\\item 1\n\\item 2\n\\item 1\n\\item 1\n\\item 3\n\\item 2\n\\item 2\n\\item 1\n\\item 2\n\\item 1\n\\item 2\n\\item 3\n\\item 2\n\\item 1\n\\item 1\n\\item 3\n\\item 1\n\\item 3\n\\item 3\n\\item 3\n\\item 2\n\\item 1\n\\item 1\n\\item 2\n\\item 3\n\\item 1\n\\item 3\n\\item 2\n\\item 1\n\\item 3\n\\item 1\n\\item 3\n\\item 1\n\\item 3\n\\item 3\n\\item 2\n\\item 1\n\\item 1\n\\item 2\n\\item 1\n\\item 1\n\\item 2\n\\item 1\n\\item 2\n\\item 1\n\\item 1\n\\item 3\n\\item 2\n\\item 3\n\\item 1\n\\item 2\n\\item 2\n\\item 3\n\\item 3\n\\item 2\n\\item 1\n\\item 1\n\\item 2\n\\item 1\n\\item 3\n\\item 3\n\\item 1\n\\item 2\n\\item 2\n\\item 2\n\\item 3\n\\item 2\n\\item 1\n\\item 1\n\\item 3\n\\item 3\n\\item 1\n\\item 1\n\\item 3\n\\item 1\n\\item 2\n\\item 1\n\\item 3\n\\item 1\n\\item 3\n\\item 2\n\\item 3\n\\item 3\n\\item 1\n\\item 2\n\\item 2\n\\item 2\n\\item 2\n\\item 2\n\\item 2\n\\item 2\n\\item 2\n\\item 1\n\\item 1\n\\item 3\n\\item 1\n\\item 3\n\\item 1\n\\item 2\n\\item 2\n\\item 1\n\\item 2\n\\item 1\n\\item 2\n\\item 1\n\\item 1\n\\item 3\n\\item 3\n\\item 3\n\\item 2\n\\item 1\n\\item 3\n\\item 3\n\\item 2\n\\item 1\n\\item 2\n\\item 1\n\\item ⋯\n\\item 1\n\\item 1\n\\item 3\n\\item 2\n\\item 2\n\\item 1\n\\item 1\n\\item 1\n\\item 1\n\\item 1\n\\item 2\n\\item 3\n\\item 3\n\\item 2\n\\item 1\n\\item 3\n\\item 1\n\\item 2\n\\item 3\n\\item 3\n\\item 2\n\\item 3\n\\item 2\n\\item 3\n\\item 3\n\\item 2\n\\item 3\n\\item 2\n\\item 3\n\\item 1\n\\item 1\n\\item 1\n\\item 2\n\\item 1\n\\item 1\n\\item 1\n\\item 3\n\\item 1\n\\item 3\n\\item 2\n\\item 2\n\\item 3\n\\item 3\n\\item 3\n\\item 1\n\\item 1\n\\item 1\n\\item 2\n\\item 3\n\\item 2\n\\item 2\n\\item 3\n\\item 3\n\\item 2\n\\item 1\n\\item 2\n\\item 3\n\\item 1\n\\item 1\n\\item 2\n\\item 2\n\\item 1\n\\item 2\n\\item 3\n\\item 1\n\\item 1\n\\item 1\n\\item 2\n\\item 3\n\\item 3\n\\item 1\n\\item 3\n\\item 1\n\\item 1\n\\item 3\n\\item 3\n\\item 3\n\\item 2\n\\item 1\n\\item 3\n\\item 1\n\\item 2\n\\item 2\n\\item 1\n\\item 2\n\\item 3\n\\item 2\n\\item 1\n\\item 2\n\\item 3\n\\item 1\n\\item 1\n\\item 1\n\\item 1\n\\item 2\n\\item 3\n\\item 3\n\\item 1\n\\item 2\n\\item 3\n\\item 1\n\\item 3\n\\item 2\n\\item 1\n\\item 1\n\\item 2\n\\item 1\n\\item 1\n\\item 2\n\\item 3\n\\item 3\n\\item 2\n\\item 2\n\\item 1\n\\item 3\n\\item 1\n\\item 3\n\\item 2\n\\item 3\n\\item 3\n\\item 3\n\\item 2\n\\item 2\n\\item 2\n\\item 1\n\\item 3\n\\item 1\n\\item 2\n\\item 1\n\\item 2\n\\item 3\n\\item 2\n\\item 2\n\\item 1\n\\item 3\n\\item 3\n\\item 3\n\\item 1\n\\item 2\n\\item 3\n\\item 1\n\\item 2\n\\item 3\n\\item 2\n\\item 3\n\\item 1\n\\item 1\n\\item 1\n\\item 1\n\\item 2\n\\item 1\n\\item 3\n\\item 1\n\\item 3\n\\item 3\n\\item 3\n\\item 1\n\\item 1\n\\item 2\n\\item 1\n\\item 1\n\\item 2\n\\item 1\n\\item 2\n\\item 1\n\\item 3\n\\item 2\n\\item 2\n\\item 2\n\\item 1\n\\item 2\n\\item 2\n\\item 2\n\\item 1\n\\item 1\n\\item 3\n\\item 2\n\\item 2\n\\item 2\n\\item 3\n\\item 3\n\\item 2\n\\item 1\n\\item 1\n\\item 2\n\\item 3\n\\item 3\n\\item 2\n\\item 2\n\\item 3\n\\item 2\n\\item 1\n\\item 3\n\\item 3\n\\item 1\n\\item 2\n\\item 3\n\\item 2\n\\item 1\n\\item 3\n\\end{enumerate*}\n",
            "text/plain": [
              "   [1] 3 1 1 1 3 3 2 3 3 1 1 2 1 3 1 2 2 2 2 2 2 2 1 1 1 3 1 1 2 3 1 2 1 1 3 2 1\n",
              "  [38] 3 3 2 1 2 3 1 2 3 1 3 1 1 3 2 2 1 3 2 1 3 3 1 1 2 1 1 1 3 1 1 2 2 1 3 3 1\n",
              "  [75] 2 3 1 1 2 3 1 2 2 1 2 1 1 3 2 2 1 2 1 2 3 2 1 1 3 1 3 3 3 2 1 1 2 3 1 3 2\n",
              " [112] 1 3 1 3 1 3 3 2 1 1 2 1 1 2 1 2 1 1 3 2 3 1 2 2 3 3 2 1 1 2 1 3 3 1 2 2 2\n",
              " [149] 3 2 1 1 3 3 1 1 3 1 2 1 3 1 3 2 3 3 1 2 2 2 2 2 2 2 2 1 1 3 1 3 1 2 2 1 2\n",
              " [186] 1 2 1 1 3 3 3 2 1 3 3 2 1 2 1 2 2 1 1 2 3 2 3 1 1 1 2 1 1 3 3 1 2 1 2 3 1\n",
              " [223] 1 3 2 2 1 1 1 2 3 1 3 1 2 2 2 2 2 1 2 1 1 3 2 2 1 2 1 2 2 3 2 1 1 1 2 3 2\n",
              " [260] 1 1 3 1 1 2 2 3 3 3 2 1 3 1 1 1 3 3 1 2 1 2 3 2 3 3 3 1 2 1 1 2 3 2 1 1 1\n",
              " [297] 1 3 3 3 1 3 2 3 1 1 3 1 1 1 1 1 1 3 1 2 2 1 2 2 1 1 2 3 2 1 2 1 3 3 3 2 2\n",
              " [334] 1 3 3 2 1 1 3 3 3 1 2 2 3 3 1 1 1 2 2 1 1 1 3 1 3 3 3 2 3 2 2 2 1 2 1 2 1\n",
              " [371] 2 3 2 1 1 3 1 1 3 2 3 3 2 2 2 1 1 1 2 1 1 3 2 3 1 2 2 1 1 1 3 3 3 2 2 1 2\n",
              " [408] 1 3 2 3 2 2 2 3 1 1 2 1 1 1 2 3 3 1 3 2 2 1 1 1 2 1 3 3 3 1 3 1 1 1 1 1 1\n",
              " [445] 2 2 1 3 2 3 2 1 3 3 3 3 3 1 3 1 2 3 3 1 3 1 3 3 3 2 1 2 1 2 3 2 3 1 1 1 1\n",
              " [482] 3 2 3 1 2 3 1 1 2 2 1 2 1 2 1 2 3 1 3 3 1 1 2 2 1 1 2 1 1 1 3 1 2 1 3 1 3\n",
              " [519] 1 3 1 1 1 1 2 1 2 3 3 3 3 3 1 2 3 1 3 1 1 2 1 1 1 1 2 1 1 3 1 2 3 1 1 3 1\n",
              " [556] 1 3 3 3 2 2 3 2 3 2 2 3 2 1 1 2 2 3 2 3 2 1 1 1 2 1 3 3 2 2 1 1 3 3 3 2 3\n",
              " [593] 3 1 2 3 3 1 1 2 2 3 2 2 1 2 2 1 3 2 2 1 3 1 1 1 3 1 2 3 2 2 1 3 2 1 2 3 3\n",
              " [630] 1 2 1 2 1 2 2 2 3 2 3 3 2 1 2 3 2 1 2 1 3 1 2 2 1 3 3 2 3 2 3 3 2 2 1 2 2\n",
              " [667] 1 3 1 3 2 3 1 3 1 1 1 2 1 2 3 2 2 1 1 3 1 2 1 2 1 3 1 2 1 1 1 2 2 2 2 1 3\n",
              " [704] 3 3 2 1 2 2 1 3 1 2 2 3 1 3 2 2 3 2 2 3 2 1 3 1 1 2 2 3 1 3 1 2 2 1 2 1 3\n",
              " [741] 2 1 1 1 1 2 2 3 3 2 1 2 3 3 1 2 1 1 3 2 3 1 2 1 2 3 2 3 2 2 3 3 3 1 3 2 2\n",
              " [778] 2 1 1 2 3 2 1 3 1 3 2 1 1 2 1 3 3 3 3 1 2 1 2 1 1 3 1 1 1 3 2 1 1 1 2 3 3\n",
              " [815] 1 3 1 1 3 3 1 1 1 1 3 3 1 1 2 1 2 1 3 1 3 2 2 2 2 3 1 1 2 3 1 1 1 2 2 2 3\n",
              " [852] 2 3 3 3 1 3 3 2 1 2 2 3 2 3 1 2 3 2 1 3 3 1 2 3 3 1 1 3 1 2 2 1 2 3 3 1 3\n",
              " [889] 1 3 3 2 2 1 2 1 1 1 3 3 2 2 3 3 1 3 2 1 1 2 3 2 1 1 3 1 2 2 3 2 3 2 3 2 1\n",
              " [926] 3 2 3 1 2 3 2 1 1 3 1 2 2 1 2 2 2 2 3 1 1 1 3 3 3 3 1 1 1 1 1 2 1 1 3 1 2\n",
              " [963] 3 3 3 2 1 1 3 3 2 2 1 2 2 3 3 1 3 3 1 3 2 1 2 2 1 1 1 2 1 1 3 1 1 1 2 1 2\n",
              "[1000] 1 1 2 1 2 2 2 3 2 2 3 1 1 1 3 2 3 2 2 3 1 1 3 3 3 2 1 3 2 1 2 3 2 2 1 1 1\n",
              "[1037] 2 1 1 1 2 1 1 2 2 2 1 3 3 2 3 1 1 2 3 1 3 1 1 3 2 1 2 2 2 3 2 1 3 3 1 1 3\n",
              "[1074] 2 1 1 1 2 3 2 3 2 2 1 3 1 2 2 1 2 3 2 1 3 3 3 1 1 1 3 1 3 1 2 1 3 1 2 2 2\n",
              "[1111] 1 2 3 3 2 2 3 1 2 3 2 1 1 1 2 1 1 2 2 1 1 3 1 2 2 1 3 1 1 1 1 3 3 2 1 1 1\n",
              "[1148] 1 1 2 3 1 1 2 2 2 2 1 2 3 2 2 3 1 3 1 1 2 1 2 2 2 2 1 2 1 3 1 3 2 1 1 1 2\n",
              "[1185] 2 3 2 1 1 3 1 2 3 1 2 2 1 1 3 2 2 2 1 1 2 3 3 3 1 1 2 2 1 3 1 2 1 2 1 1 2\n",
              "[1222] 3 3 1 1 1 3 1 1 1 3 2 2 3 2 1 1 2 3 1 2 1 2 1 3 3 2 3 1 3 3 3 3 3 1 3 1 3\n",
              "[1259] 1 3 3 3 2 2 1 3 3 1 1 1 1 3 2 2 3 3 1 2 2 3 2 3 2 3 1 2 1 3 2 2 1 2 3 2 3\n",
              "[1296] 1 3 2 1 1 1 3 1 3 1 3 1 2 3 1 1 1 1 3 1 2 1 1 3 3 2 2 1 2 3 3 3 2 3 3 1 3\n",
              "[1333] 2 1 2 3 3 2 2 2 3 3 1 2 1 3 3 2 2 2 2 1 2 3 1 1 1 3 2 2 2 3 3 1 2 2 1 3 1\n",
              "[1370] 2 1 3 1 3 2 3 2 2 2 3 2 3 1 2 3 3 1 2 1 3 1 2 1 3 1 1 2 2 2 1 2 2 1 3 1 1\n",
              "[1407] 2 1 1 2 1 2 3 1 1 3 3 3 1 2 2 1 2 1 1 1 3 1 2 3 2 2 2 3 3 1 1 2 2 3 2 3 2\n",
              "[1444] 1 2 1 1 1 3 3 3 1 3 1 2 2 1 2 2 1 2 3 1 2 2 2 3 1 2 3 3 3 3 1 2 2 1 1 3 1\n",
              "[1481] 3 3 2 1 2 2 1 2 1 1 3 3 2 3 3 3 3 1 3 3 2 1 3 3 1 3 3 2 1 2 2 3 2 1 1 2 1\n",
              "[1518] 3 3 2 3 2 2 3 1 1 2 3 2 3 3 1 1 3 1 2 2 3 1 1 3 3 1 2 2 3 3 1 1 2 1 1 1 2\n",
              "[1555] 3 3 2 1 1 2 1 2 3 1 2 2 1 2 1 1 2 3 2 1 3 1 1 1 3 3 2 1 3 3 1 1 1 1 2 2 2\n",
              "[1592] 2 3 3 3 3 1 3 2 3 3 3 1 1 2 1 1 3 1 1 1 3 3 2 2 3 3 1 2 3 2 2 1 2 1 2 2 1\n",
              "[1629] 3 1 1 2 2 2 2 3 3 3 1 3 1 2 3 3 3 1 3 2 2 2 2 1 1 1 3 1 1 1 2 3 1 1 1 3 3\n",
              "[1666] 3 2 3 2 1 3 1 2 3 2 1 3 2 2 3 2 1 1 2 2 3 3 1 2 1 1 1 3 1 1 1 1 2 2 1 2 1\n",
              "[1703] 3 3 3 1 1 1 2 2 1 3 3 3 2 3 1 3 3 1 3 2 2 3 3 2 1 3 3 3 2 3 1 3 2 1 1 1 3\n",
              "[1740] 3 3 3 3 2 1 1 2 1 1 1 3 1 2 2 3 2 3 2 2 3 2 1 3 3 3 1 3 3 3 1 1 3 1 1 3 3\n",
              "[1777] 1 2 3 3 3 1 3 3 1 2 2 2 1 2 3 1 1 2 1 3 1 2 3 2 1 1 1 2 1 3 3 1 3 3 2 1 1\n",
              "[1814] 2 3 1 2 2 3 3 2 3 1 1 3 3 2 3 2 1 1 2 1 1 1 1 1 2 2 2 3 3 2 1 1 1 2 3 2 1\n",
              "[1851] 3 1 3 2 2 2 3 3 1 2 2 2 3 1 1 3 3 2 3 3 2 1 1 1 3 1 3 3 2 2 1 2 2 1 1 1 1\n",
              "[1888] 3 1 2 1 2 2 2 3 3 1 3 3 2 2 1 2 2 2 1 1 2 1 1 2 3 1 2 1 2 1 1 2 2 3 2 2 3\n",
              "[1925] 1 1 3 1 2 1 2 3 2 1 2 3 1 1 1 3 2 2 2 1 3 1 3 1 2 2 3 1 3 2 2 1 1 3 3 2 1\n",
              "[1962] 1 3 3 3 1 1 3 2 2 3 2 1 1 3 2 1 2 1 2 3 2 3 2 2 3 1 2 1 1 2 2 1 1 3 3 2 2\n",
              "[1999] 3 1 2 2 1 1 2 3 2 2 3 1 2 1 1 2 3 3 3 3 1 3 2 3 3 2 1 2 2 2 3 3 3 1 1 3 2\n",
              "[2036] 1 1 1 3 1 2 3 1 1 3 3 1 1 2 1 3 1 3 1 2 3 1 1 2 2 1 3 2 1 2 2 3 2 3 2 2 2\n",
              "[2073] 2 3 2 1 3 1 1 1 3 1 1 2 3 1 1 3 2 2 3 2 3 1 1 1 3 1 1 3 2 1 3 3 1 3 2 1 3\n",
              "[2110] 3 2 3 1 3 1 1 3 2 2 1 1 2 2 3 2 2 3 1 1 2 1 2 2 2 1 1 2 3 2 2 3 2 1 2 2 1\n",
              "[2147] 1 2 3 1 2 1 3 3 2 2 1 1 3 1 3 3 3 1 3 2 3 1 3 1 1 3 1 2 2 1 3 3 2 2 1 1 1\n",
              "[2184] 1 1 3 2 1 2 1 3 3 3 1 1 2 2 1 3 3 1 1 2 1 1 1 3 1 1 1 1 3 3 2 2 3 2 2 1 3\n",
              "[2221] 3 2 3 1 2 2 2 1 2 3 3 1 2 3 2 2 2 2 3 2 1 3 3 1 1 3 1 1 3 2 3 2 2 1 2 1 2\n",
              "[2258] 1 2 2 3 1 2 1 3 1 1 3 1 2 2 2 1 3 2 3 2 2 3 1 1 3 1 2 3 1 2 3 2 1 1 3 1 2\n",
              "[2295] 1 2 1 1 3 3 2 2 1 1 2 1 2 3 3 1 3 2 3 2 3 2 2 2 1 2 1 1 2 2 3 1 2 3 2 1 3\n",
              "[2332] 3 3 2 3 3 2 1 2 3 3 2 3 1 2 1 1 1 1 3 2 2 2 1 1 2 2 1 2 1 3 3 2 3 3 3 1 2\n",
              "[2369] 2 3 3 1 3 2 1 1 2 1 2 2 1 2 1 2 3 3 1 2 2 1 2 1 2 1 3 3 3 3 1 1 2 2 1 1 1\n",
              "[2406] 3 1 2 2 3 3 1 1 1 1 2 1 3 1 2 2 1 3 1 2 3 2 3 1 1 1 1 2 2 2 3 2 3 3 2 2 1\n",
              "[2443] 1 3 3 3 1 2 3 1 1 2 1 3 2 2 3 3 1 2 1 2 3 1 2 2 1 1 3 1 3 3 3 2 2 1 1 3 2\n",
              "[2480] 3 1 1 1 1 3 3 2 2 2 2 1 3 1 3 2 3 2 1 3 2 1 2 2 3 2 1 2 3 3 2 2 3 3 1 3 3\n",
              "[2517] 1 3 2 2 1 2 1 3 3 1 1 3 2 2 2 2 1 2 1 2 3 1 1 2 1 3 3 1 1 3 3 3 2 3 3 3 1\n",
              "[2554] 2 3 3 3 1 1 3 1 2 3 2 2 3 1 3 1 1 1 1 2 2 1 2 3 2 1 1 2 1 2 2 1 1 3 2 2 1\n",
              "[2591] 2 1 1 3 1 3 1 2 1 3 1 3 2 1 2 3 2 2 3 2 2 2 1 3 1 2 3 2 3 2 2 1 1 1 2 1 3\n",
              "[2628] 1 2 3 1 1 3 1 2 1 1 3 2 1 1 2 2 2 3 3 2 1 1 2 1 2 1 2 1 3 3 1 2 2 2 1 2 3\n",
              "[2665] 1 3 1 2 3 3 1 3 1 3 1 1 3 1 2 3 2 1 3 2 1 3 3 1 1 1 2 1 1 3 2 3 1 3 2 1 1\n",
              "[2702] 3 1 1 3 3 1 3 2 2 2 1 2 1 1 2 2 2 1 1 1 1 2 1 2 1 1 3 1 3 1 2 1 3 2 2 1 2\n",
              "[2739] 1 1 1 3 1 3 1 1 1 1 3 3 2 2 2 1 3 3 1 1 2 2 2 1 3 1 1 1 3 1 1 1 3 3 3 1 3\n",
              "[2776] 2 3 2 1 1 3 1 2 2 1 2 2 3 2 3 2 3 2 3 3 2 1 3 1 3 1 3 1 1 2 2 1 1 2 1 1 3\n",
              "[2813] 1 3 3 3 1 1 3 1 2 1 2 1 1 1 1 3 1 2 1 2 2 2 1 1 1 1 3 3 1 3 3 3 1 2 2 1 2\n",
              "[2850] 3 3 2 1 3 2 2 3 2 3 2 1 3 3 2 3 1 1 1 1 2 1 1 3 2 1 1 3 2 3 3 1 2 1 3 2 3\n",
              "[2887] 1 1 3 3 3 2 1 1 1 1 2 3 2 1 1 2 3 2 2 1 1 1 1 3 3 2 1 1 2 3 1 1 1 2 2 1 1\n",
              "[2924] 2 2 2 1 1 2 3 2 3 2 1 3 2 1 1 2 3 3 1 1 1 2 1 2 2 1 1 2 2 3 3 1 2 2 1 1 3\n",
              "[2961] 2 3 1 2 2 3 1 2 1 2 2 2 1 2 3 1 3 2 2 3 3 2 1 1 1 2 1 3 2 1 2 1 3 1 2 3 3\n",
              "[2998] 3 2 1 1 3 2 3 3 1 2 2 1 2 1 3 3 1 2 3 1 2 2 1 3 1 2 3 1 1 1 3 2 3 1 2 1 1\n",
              "[3035] 1 1 3 1 3 1 2 1 3 1 3 3 1 1 3 1 2 1 2 1 1 3 2 2 1 2 2 3 2 3 1 3 1 3 3 1 1\n",
              "[3072] 3 3 3 3 2 2 3 1 1 3 2 1 1 3 3 2 2 1 2 3 1 1 3 3 1 1 2 1 1 2 3 3 2 2 2 1 3\n",
              "[3109] 3 2 1 3 3 2 3 3 1 2 2 1 3 3 2 2 3 3 1 2 3 1 3 3 2 3 3 3 2 1 1 3 1 1 2 3 1\n",
              "[3146] 3 1 1 1 2 1 1 1 3 2 3 3 2 3 1 1 1 1 1 2 2 1 2 1 1 3 3 3 1 3 3 1 2 1 2 3 2\n",
              "[3183] 2 1 2 1 1 1 1 1 3 1 3 3 1 1 1 1 1 1 2 1 1 2 3 1 1 3 3 1 2 1 2 2 1 2 3 1 3\n",
              "[3220] 2 2 1 2 3 2 3 2 3 3 2 1 1 2 1 2 3 1 1 3 2 2 2 1 3 1 1 3 3 2 1 2 3 3 1 1 1\n",
              "[3257] 3 1 2 2 1 1 1 3 3 2 1 1 1 3 2 1 2 1 1 2 1 1 2 3 2 2 2 2 1 1 2 3 2 1 3 1 3\n",
              "[3294] 3 3 2 3 1 1 1 1 1 1 3 1 3 2 1 2 3 1 3 1 2 3 2 2 3 2 1 3 2 1 3 1 1 2 1 3 1\n",
              "[3331] 2 2 2 3 3 3 3 2 3 2 1 2 3 1 3 3 2 2 1 3 3 1 2 3 1 3 3 1 2 1 3 3 3 1 1 2 3\n",
              "[3368] 2 3 2 2 1 2 1 3 1 2 3 1 2 3 2 1 3 1 1 2 1 2 1 1 3 1 2 3 1 1 3 1 3 1 1 1 3\n",
              "[3405] 3 3 1 3 1 3 2 2 2 3 1 1 1 2 1 1 3 1 3 3 1 3 1 3 2 2 3 2 2 3 2 1 1 1 2 1 3\n",
              "[3442] 3 3 2 2 1 1 1 1 2 1 1 1 1 2 2 3 2 1 1 1 3 2 1 1 2 3 1 3 3 1 2 2 3 1 2 3 2\n",
              "[3479] 2 3 2 1 1 1 3 2 1 2 3 1 1 3 2 2 2 1 2 2 2 2 3 3 2 3 3 2 1 3 2 2 1 3 1 1 3\n",
              "[3516] 1 2 3 3 1 3 2 3 1 3 2 3 3 1 1 3 3 2 2 2 2 1 1 2 2 1 2 3 3 1 2 1 3 3 1 1 2\n",
              "[3553] 1 2 3 2 3 3 1 3 2 2 2 1 3 1 2 3 3 3 2 1 2 1 2 2 3 1 2 3 3 3 1 1 2 2 1 1 2\n",
              "[3590] 2 2 3 1 1 1 3 3 3 3 3 1 1 3 1 2 3 1 3 1 1 1 2 3 3 3 1 2 2 1 3 1 1 1 1 1 2\n",
              "[3627] 2 2 1 1 3 3 3 2 3 2 3 1 3 1 1 1 1 1 1 3 1 2 3 3 1 3 3 3 3 1 3 2 1 1 3 2 2\n",
              "[3664] 1 2 1 2 3 3 3 1 1 1 3 1 3 3 1 2 2 2 3 1 1 1 3 1 2 2 2 3 3 3 2 1 3 1 1 2 2\n",
              "[3701] 1 1 3 1 1 1 1 1 2 2 1 1 2 3 1 2 2 3 3 3 3 3 1 2 1 3 1 1 1 3 2 3 2 2 2 3 2\n",
              "[3738] 2 1 2 3 2 3 3 3 1 2 1 1 2 1 3 2 1 2 3 2 1 2 3 3 1 3 3 1 3 3 3 2 2 1 1 1 1\n",
              "[3775] 1 1 1 1 2 2 2 2 1 3 3 2 1 2 1 3 2 3 3 3 3 1 2 1 3 1 1 1 3 1 2 2 1 3 1 1 1\n",
              "[3812] 3 1 2 1 3 3 3 3 1 1 2 2 1 1 1 2 1 2 2 2 1 2 2 3 1 1 2 2 1 1 1 3 3 1 2 1 2\n",
              "[3849] 1 2 3 1 2 1 1 3 3 2 1 1 1 2 3 1 2 2 1 1 3 3 3 2 3 2 2 1 1 3 3 2 3 2 3 3 1\n",
              "[3886] 3 1 3 1 3 2 2 2 2 2 2 2 3 1 1 1 2 2 1 2 1 2 3 1 3 2 1 2 1 1 2 3 1 1 2 2 3\n",
              "[3923] 3 3 2 1 1 1 1 3 3 1 2 3 2 2 1 1 3 3 2 1 1 2 1 1 2 1 3 3 3 3 2 1 2 2 2 3 3\n",
              "[3960] 2 1 3 2 2 3 1 3 2 1 3 2 2 3 1 2 1 2 3 3 1 2 3 2 3 2 3 2 3 2 3 3 1 2 1 2 1\n",
              "[3997] 3 3 1 1 2 1 2 1 2 2 2 1 1 1 3 1 1 2 3 1 3 1 3 1 3 3 2 2 2 2 3 1 1 3 1 2 1\n",
              "[4034] 1 1 2 1 2 2 2 2 3 1 2 1 2 3 2 3 1 2 3 2 3 2 2 1 1 3 3 3 1 2 3 2 2 3 1 3 1\n",
              "[4071] 2 2 1 1 2 3 1 2 2 3 2 1 1 1 2 1 3 1 3 3 3 2 1 1 3 1 3 2 1 2 2 1 3 3 1 3 2\n",
              "[4108] 1 1 2 1 3 2 2 3 2 3 3 2 2 1 3 1 1 2 1 1 3 1 1 2 1 3 2 1 1 2 2 3 1 3 1 1 1\n",
              "[4145] 2 3 3 2 2 1 2 3 2 1 2 2 1 3 1 1 3 2 3 1 1 1 2 3 3 1 1 1 3 1 1 2 2 1 1 2 1\n",
              "[4182] 3 2 3 1 2 3 1 3 2 2 3 1 3 2 2 3 2 2 1 2 3 1 3 3 2 3 1 2 3 1 2 3 1 1 1 1 1\n",
              "[4219] 1 2 1 1 1 1 2 1 2 1 3 2 3 2 1 1 2 3 1 1 3 1 1 1 2 1 3 2 3 2 3 3 2 3 2 3 3\n",
              "[4256] 1 1 1 1 3 3 2 2 1 1 3 2 2 3 3 1 2 3 1 3 2 2 1 3 2 3 1 2 3 1 3 3 1 2 1 3 1\n",
              "[4293] 2 2 2 1 2 3 3 1 3 1 1 1 3 1 1 2 2 2 2 3 1 3 1 3 3 3 1 3 3 1 3 3 1 3 1 1 3\n",
              "[4330] 3 1 2 3 2 2 1 3 1 2 3 3 1 2 2 3 3 2 3 1 1 1 2 1 1 3 1 3 3 2 1 3 3 3 2 1 1\n",
              "[4367] 2 1 1 3 1 1 1 2 1 3 1 2 2 2 1 1 3 3 1 1 3 2 1 1 1 3 1 2 1 3 2 1 1 3 2 1 2\n",
              "[4404] 1 1 1 1 3 1 3 2 2 1 3 1 3 3 1 2 1 3 1 1 1 1 1 3 1 2 3 1 3 3 1 2 1 1 1 3 1\n",
              "[4441] 2 1 1 3 1 3 2 2 3 3 2 2 1 3 2 1 3 2 2 3 1 2 3 2 2 3 1 3 2 1 3 2 3 1 1 2 2\n",
              "[4478] 2 2 1 2 1 1 3 3 1 2 3 1 2 3 3 3 3 2 3 3 1 2 3 2 3 2 2 2 2 2 1 1 2 1 1 3 2\n",
              "[4515] 3 2 3 3 3 2 3 1 3 3 1 2 1 3 1 3 1 2 3 2 3 2 2 3 2 2 3 2 2 1 1 2 1 2 3 3 1\n",
              "[4552] 1 2 2 3 1 3 3 1 2 2 1 1 2 2 2 1 2 1 1 2 3 2 1 1 1 2 3 1 2 3 1 1 1 3 2 2 2\n",
              "[4589] 3 2 2 1 2 2 2 3 1 2 2 2 1 2 3 2 2 1 3 1 3 1 2 1 1 1 3 1 3 1 3 2 1 1 3 3 2\n",
              "[4626] 3 2 3 1 3 3 1 3 3 1 3 2 1 1 3 1 2 3 1 1 3 2 3 2 2 3 3 2 1 3 1 2 1 2 1 1 1\n",
              "[4663] 2 1 1 2 2 3 2 3 2 1 1 1 1 1 1 1 2 2 1 1 1 1 1 2 1 1 1 3 1 3 1 2 1 1 2 2 1\n",
              "[4700] 3 3 2 2 1 1 3 2 2 3 2 3 1 1 1 2 1 2 2 3 1 3 2 1 1 2 3 2 3 1 3 2 3 2 1 2 1\n",
              "[4737] 2 3 2 1 2 3 2 3 3 2 1 1 2 2 1 2 1 1 1 2 2 2 1 3 1 2 2 1 1 2 2 1 3 2 2 2 1\n",
              "[4774] 3 2 1 2 3 1 2 2 2 1 3 3 2 1 2 2 3 2 1 1 2 1 3 3 1 3 1 1 1 1 3 1 1 3 1 3 2\n",
              "[4811] 3 1 3 1 3 3 1 2 2 2 2 2 2 3 3 2 2 1 3 3 3 2 1 1 1 3 1 1 3 1 1 3 2 1 2 3 1\n",
              "[4848] 2 3 3 1 2 2 1 1 2 1 3 1 1 2 3 2 3 1 3 1 1 2 3 2 3 1 1 2 1 1 2 2 3 2 1 2 1\n",
              "[4885] 1 3 3 3 3 3 1 2 3 2 2 1 1 1 2 1 3 1 1 3 2 1 2 3 2 3 2 1 1 2 1 2 2 3 3 3 3\n",
              "[4922] 2 3 1 3 1 3 1 2 1 1 1 1 2 1 2 2 2 1 2 2 3 2 2 1 1 2 3 3 2 3 1 1 1 2 2 3 3\n",
              "[4959] 2 1 1 3 2 2 2 2 2 2 2 3 3 2 1 3 3 1 1 1 1 1 2 2 1 1 1 3 1 1 1 2 1 1 2 1 1\n",
              "[4996] 3 1 3 3 2 1 1 3 2 3 2 3 1 2 3 2 2 3 1 3 3 1 1 3 2 1 3 3 2 3 2 3 1 2 1 3 2\n",
              "[5033] 2 2 1 3 2 2 2 3 1 2 3 1 3 2 3 2 3 1 1 2 2 1 1 1 1 3 2 2 3 3 2 2 2 3 2 3 1\n",
              "[5070] 3 2 2 3 1 2 2 2 2 3 2 2 3 1 2 3 1 3 2 3 1 3 2 3 1 2 2 3 1 2 2 2 2 2 3 1 2\n",
              "[5107] 3 3 2 3 2 2 3 1 1 3 2 1 2 3 2 3 3 1 2 3 1 1 2 1 2 1 2 1 2 3 2 3 3 1 1 2 1\n",
              "[5144] 1 1 3 2 2 2 1 1 2 1 1 1 1 2 3 2 1 2 3 3 3 1 3 3 2 2 2 3 3 3 2 1 3 3 3 1 1\n",
              "[5181] 1 3 3 2 2 1 2 2 1 3 3 3 3 3 1 1 3 2 2 2 3 1 1 2 2 1 2 3 2 1 3 3 2 1 2 3 3\n",
              "[5218] 2 1 2 1 2 3 3 2 3 3 3 2 2 3 3 1 3 2 1 1 2 3 3 2 3 1 2 2 2 2 3 2 3 3 2 1 1\n",
              "[5255] 1 1 1 1 3 2 2 2 1 3 1 3 3 2 1 3 3 1 2 3 1 3 1 1 2 2 3 3 2 3 3 2 3 1 3 1 2\n",
              "[5292] 3 1 1 3 1 1 1 1 2 3 3 3 2 1 3 1 1 1 1 3 2 1 1 3 1 1 3 1 2 1 1 2 3 1 3 3 1\n",
              "[5329] 3 2 3 3 3 3 1 3 1 2 1 1 3 1 3 3 3 3 2 2 2 1 1 1 3 2 3 1 2 1 3 3 2 1 2 1 2\n",
              "[5366] 3 1 2 2 1 1 3 3 1 2 2 2 1 1 1 1 3 2 2 1 1 1 3 3 2 1 3 1 2 1 2 3 2 2 1 1 3\n",
              "[5403] 2 1 1 1 1 1 1 2 2 2 3 2 1 3 1 3 2 3 1 3 1 3 1 2 2 2 3 1 2 2 3 2 2 2 2 2 3\n",
              "[5440] 3 1 1 3 3 3 1 3 2 3 3 3 2 1 1 1 3 2 1 3 1 2 1 2 3 2 1 3 3 2 3 1 3 3 2 3 1\n",
              "[5477] 1 2 1 1 1 1 2 1 3 2 1 3 2 2 3 3 3 1 2 1 2 3 1 1 3 2 3 2 3 2 1 3 1 2 1 2 1\n",
              "[5514] 1 1 2 1 2 2 1 2 1 3 2 3 1 1 2 1 2 1 1 3 3 2 3 1 2 2 1 3 3 1 3 3 1 1 2 1 3\n",
              "[5551] 1 1 1 2 2 3 1 3 1 3 1 3 1 2 1 2 3 2 3 1 3 1 2 1 2 1 1 3 3 2 3 3 2 2 3 1 1\n",
              "[5588] 1 2 2 2 3 2 2 1 1 2 1 1 2 2 1 3 2 2 2 3 1 3 3 1 1 1 3 2 1 3 1 2 3 2 2 2 2\n",
              "[5625] 1 1 1 1 1 2 3 2 3 1 1 2 2 1 1 3 2 2 3 2 2 1 3 2 1 2 3 1 1 2 2 1 3 1 2 2 3\n",
              "[5662] 2 3 1 3 3 1 3 1 2 1 1 2 2 2 2 1 1 3 1 3 3 1 2 2 1 1 2 3 2 3 2 2 2 1 1 3 2\n",
              "[5699] 2 3 1 2 3 1 1 2 2 1 3 2 3 1 2 2 1 3 2 1 1 1 1 2 1 3 2 3 3 1 3 3 2 1 1 1 3\n",
              "[5736] 1 1 3 1 3 2 1 3 1 2 2 1 2 1 1 1 2 2 2 2 3 1 2 2 3 3 2 1 3 2 2 2 2 3 1 3 2\n",
              "[5773] 3 3 1 1 2 2 1 1 1 1 1 3 3 2 3 2 2 3 3 1 1 1 3 1 1 3 3 3 3 3 3 1 1 1 3 2 1\n",
              "[5810] 3 1 1 1 2 3 3 2 3 1 1 1 3 3 1 3 2 3 2 3 3 2 1 2 2 3 1 2 1 3 2 1 3 2 1 1 3\n",
              "[5847] 3 3 2 1 1 3 2 2 3 2 1 2 1 2 2 2 3 1 1 2 2 2 2 1 1 1 2 2 2 3 1 3 1 1 1 1 3\n",
              "[5884] 2 1 2 2 2 1 3 3 3 2 1 3 3 2 3 1 1 3 2 3 3 1 1 2 2 2 1 3 2 2 3 1 1 2 3 2 2\n",
              "[5921] 3 3 3 1 2 2 3 2 3 2 3 2 2 1 1 3 2 3 1 1 2 3 3 1 2 2 2 2 3 1 2 1 3 3 2 1 3\n",
              "[5958] 3 1 2 1 1 3 3 3 3 3 2 3 3 2 2 1 3 2 2 2 2 1 3 3 2 2 1 2 2 3 3 1 1 1 3 1 3\n",
              "[5995] 1 1 1 1 1 3 2 2 3 2 3 1 3 1 3 3 3 2 3 1 2 1 3 2 2 3 1 3 2 1 3 3 2 3 1 1 3\n",
              "[6032] 3 3 2 2 1 3 2 1 3 1 1 2 2 3 1 2 3 2 3 1 3 1 1 2 3 1 1 2 3 1 3 1 3 1 1 1 1\n",
              "[6069] 2 3 1 1 1 1 2 2 2 1 2 3 2 2 1 3 1 1 2 3 1 1 1 1 3 1 1 3 2 3 1 3 1 2 3 1 3\n",
              "[6106] 1 1 1 2 3 3 3 2 3 1 2 3 2 1 2 2 3 3 2 1 1 1 3 3 2 3 3 2 2 3 3 1 1 2 3 2 2\n",
              "[6143] 2 2 1 1 1 2 3 3 3 3 1 2 3 3 1 1 2 1 2 1 1 2 1 2 3 2 1 2 3 1 3 2 3 1 3 2 2\n",
              "[6180] 1 1 3 2 2 2 3 2 1 2 1 3 1 2 1 1 3 3 3 2 1 1 3 1 3 3 3 2 3 2 1 1 1 1 1 2 2\n",
              "[6217] 3 2 1 3 2 1 2 2 1 1 2 3 2 2 3 1 2 1 2 1 3 2 1 2 2 3 2 3 3 2 1 2 3 1 1 1 1\n",
              "[6254] 3 1 1 2 2 2 1 3 1 1 3 2 2 3 3 1 1 1 1 3 3 1 3 1 1 1 2 1 1 1 1 2 3 2 1 3 2\n",
              "[6291] 2 2 1 3 2 2 2 1 1 1 1 1 2 3 1 1 1 3 2 2 2 1 1 1 3 1 1 2 1 1 2 2 2 3 3 1 3\n",
              "[6328] 3 1 3 1 2 1 1 3 3 1 3 3 3 2 1 1 3 2 3 3 1 3 2 3 1 1 2 2 3 3 3 1 3 1 2 2 1\n",
              "[6365] 2 2 2 1 1 2 3 1 2 2 3 1 3 3 1 1 3 1 3 2 1 1 3 2 3 1 2 3 1 2 3 3 1 2 1 1 3\n",
              "[6402] 1 2 1 1 2 1 3 3 2 1 3 3 1 2 3 3 1 1 2 1 2 1 3 1 3 2 2 3 3 3 2 2 2 1 2 1 3\n",
              "[6439] 2 2 2 3 2 2 2 2 1 3 1 3 1 1 3 3 2 2 1 3 1 3 3 1 1 3 1 3 3 3 2 3 3 3 2 2 2\n",
              "[6476] 2 3 3 1 2 3 3 2 3 2 1 3 2 2 1 1 2 3 2 3 2 3 1 1 1 2 2 2 3 1 1 3 2 1 3 1 2\n",
              "[6513] 1 2 2 2 1 3 2 1 1 1 3 2 2 1 3 1 1 1 2 3 2 3 2 1 3 1 3 1 2 2 3 1 1 3 3 2 1\n",
              "[6550] 1 2 3 2 3 2 2 3 3 2 2 3 1 1 2 1 1 2 1 3 1 3 3 1 2 3 2 1 2 3 3 2 3 1 1 1 1\n",
              "[6587] 1 1 1 1 3 1 1 1 1 1 1 2 3 2 1 1 3 1 3 3 2 2 2 1 3 2 3 3 1 2 2 1 2 1 2 2 3\n",
              "[6624] 3 3 1 2 2 2 2 1 1 3 1 2 1 2 2 1 1 2 1 2 2 2 1 1 3 2 1 1 3 1 1 2 1 2 3 3 1\n",
              "[6661] 3 1 1 3 3 2 1 3 3 3 2 2 3 2 1 2 1 1 2 1 3 3 2 1 1 1 3 2 1 1 1 1 3 1 3 2 3\n",
              "[6698] 1 3 2 1 3 3 2 2 3 3 1 2 1 3 1 1 2 3 3 2 1 1 1 3 2 3 1 3 3 1 1 2 1 1 3 2 1\n",
              "[6735] 3 1 1 3 3 1 2 3 2 2 2 2 1 2 2 3 3 2 1 1 2 1 1 2 2 3 3 1 1 1 1 1 1 2 1 1 3\n",
              "[6772] 2 3 2 1 1 2 3 3 3 2 2 1 3 1 2 1 2 1 1 3 1 3 3 3 3 2 1 1 1 2 2 3 2 1 1 2 1\n",
              "[6809] 2 3 3 3 1 2 3 3 2 2 1 2 2 1 1 1 2 3 1 3 1 1 1 2 2 1 3 1 3 3 3 3 1 3 1 2 1\n",
              "[6846] 1 3 3 2 2 1 1 1 3 2 2 1 1 1 1 3 2 3 2 1 3 1 1 2 1 1 1 2 3 1 3 1 3 1 2 2 3\n",
              "[6883] 2 3 3 1 2 1 2 1 1 1 2 1 2 2 1 3 3 2 1 3 1 3 3 3 1 1 1 2 1 2 2 1 1 2 1 2 2\n",
              "[6920] 3 3 2 3 1 3 1 3 2 3 3 2 2 1 1 1 1 1 2 1 3 3 3 3 1 2 2 3 3 3 1 2 2 3 1 3 1\n",
              "[6957] 3 3 2 1 2 3 3 1 3 2 3 2 1 2 2 3 1 3 1 3 1 1 1 1 1 1 2 2 2 3 1 1 2 2 2 1 1\n",
              "[6994] 1 3 3 2 3 2 3 1 2 1 3 1 2 1 1 1 1 3 3 3 1 1 1 2 1 1 1 1 1 1 1 1 1 2 2 1 1\n",
              "[7031] 1 2 3 3 2 3 3 2 1 3 3 1 3 3 3 1 3 2 3 3 1 1 3 1 3 2 1 1 2 2 2 2 2 3 3 3 2\n",
              "[7068] 3 1 3 3 2 3 3 1 1 2 3 1 3 3 1 3 1 1 2 2 2 1 2 1 3 3 1 1 1 3 2 1 2 1 1 3 1\n",
              "[7105] 2 1 1 1 3 1 3 3 2 1 1 1 3 1 1 2 2 1 1 2 1 1 3 1 2 1 3 2 1 3 2 1 3 2 1 1 1\n",
              "[7142] 1 2 1 3 3 1 1 1 1 1 3 3 2 2 2 1 1 3 2 1 3 3 2 3 2 1 2 1 3 3 1 1 1 1 2 1 2\n",
              "[7179] 1 1 2 2 2 2 1 2 2 1 1 1 2 1 1 3 1 3 2 2 1 1 1 2 3 3 1 3 1 2 3 2 2 2 1 2 2\n",
              "[7216] 1 1 2 1 2 1 3 1 2 1 2 1 2 2 1 3 3 3 1 2 2 3 2 2 1 1 2 3 3 3 3 3 2 3 3 2 1\n",
              "[7253] 1 3 3 1 3 3 1 1 2 2 3 1 2 3 2 3 1 1 3 2 2 1 3 1 1 1 1 2 3 1 1 2 3 1 2 2 3\n",
              "[7290] 2 1 1 2 2 2 3 3 3 3 2 2 1 2 2 3 2 2 1 3 2 2 1 1 2 1 1 3 1 3 3 1 2 2 3 3 2\n",
              "[7327] 3 2 2 2 2 3 3 1 1 2 3 1 1 3 3 3 1 3 1 1 3 2 2 3 1 1 2 3 3 3 2 2 2 1 1 3 1\n",
              "[7364] 1 1 2 2 2 3 2 1 2 3 2 2 3 3 1 2 2 1 3 2 3 3 3 2 3 1 2 3 2 1 2 1 1 2 1 3 1\n",
              "[7401] 2 1 2 3 3 3 2 3 1 2 1 3 2 2 3 1 1 1 1 2 3 2 2 2 2 1 3 2 1 3 2 3 1 2 2 3 1\n",
              "[7438] 1 1 2 1 1 2 1 2 1 3 3 1 3 3 3 2 2 2 1 2 1 1 3 2 2 1 2 3 1 3 3 3 2 3 3 3 2\n",
              "[7475] 3 1 3 2 1 2 3 2 2 1 1 3 3 3 3 1 2 3 2 3 3 3 1 1 1 1 2 3 2 3 1 2 3 1 1 2 2\n",
              "[7512] 1 2 3 1 3 1 2 2 1 1 3 1 2 3 3 3 1 2 2 3 1 3 1 2 2 1 3 3 2 1 3 3 2 1 2 3 1\n",
              "[7549] 3 1 1 2 2 1 3 1 2 1 1 1 3 2 3 2 2 3 2 2 2 3 2 3 3 2 3 2 2 1 1 3 3 1 1 2 1\n",
              "[7586] 1 3 1 1 3 2 1 1 1 1 3 2 1 1 1 2 2 1 2 3 2 2 2 3 1 3 3 1 1 2 1 3 3 1 2 3 2\n",
              "[7623] 3 2 2 1 1 2 2 1 1 1 3 1 3 1 2 2 1 1 2 3 1 2 1 2 2 1 3 3 2 1 1 1 3 1 1 3 3\n",
              "[7660] 1 3 1 2 1 3 2 2 1 1 2 1 1 3 1 3 2 1 2 2 3 2 3 1 2 1 1 3 3 3 3 3 1 2 1 3 1\n",
              "[7697] 2 1 3 3 2 1 1 3 2 2 3 3 3 1 3 1 3 3 3 2 3 3 2 2 2 3 2 3 3 3 1 1 3 3 2 2 2\n",
              "[7734] 1 1 2 1 3 2 1 1 2 3 2 1 1 1 3 3 3 3 2 2 3 2 1 3 1 2 1 2 1 3 1 3 1 2 2 3 3\n",
              "[7771] 3 3 3 3 2 1 1 2 1 3 2 1 2 2 1 2 2 2 3 2 3 2 3 3 1 2 1 2 3 3 3 2 3 2 3 1 3\n",
              "[7808] 2 1 3 2 2 2 1 2 1 3 2 1 3 2 1 1 1 2 3 1 2 3 2 2 3 3 3 3 2 2 2 2 2 1 3 2 1\n",
              "[7845] 2 1 2 1 1 2 3 2 2 2 3 2 1 1 3 2 3 1 3 1 1 1 1 2 3 2 2 3 3 3 2 1 3 3 1 1 2\n",
              "[7882] 1 2 3 3 1 1 2 3 1 2 1 2 3 1 3 3 3 3 1 2 2 3 2 1 3 1 3 2 3 2 1 1 2 2 2 1 1\n",
              "[7919] 3 2 3 2 2 1 3 2 1 1 1 2 3 3 3 1 1 2 3 2 2 2 2 3 1 2 1 1 1 1 1 2 3 1 1 3 3\n",
              "[7956] 1 2 1 2 2 2 2 3 3 2 2 1 1 1 3 2 3 2 1 3 3 2 3 2 1 3 2 1 3 3 1 1 2 3 3 2 2\n",
              "[7993] 1 3 2 2 1 1 1 1 1 1 1 1 1 3 2 1 1 1 2 2 1 3 1 3 2 3 2 2 1 2 1 2 3 2 2 2 1\n",
              "[8030] 1 2 1 3 1 2 1 2 2 3 2 2 1 3 2 3 1 2 3 2 3 2 2 1 1 3 2 3 1 1 3 3 1 2 2 2 3\n",
              "[8067] 1 3 3 2 1 2 2 1 2 3 1 3 2 3 1 2 1 1 3 2 2 2 3 2 3 2 1 3 1 3 3 2 2 2 1 2 1\n",
              "[8104] 1 3 2 3 1 1 1 2 2 2 2 1 2 1 2 1 1 1 1 2 3 2 3 1 2 2 2 3 3 3 1 1 2 3 1 1 2\n",
              "[8141] 1 1 1 1 2 3 1 1 1 3 3 3 2 2 2 3 3 3 3 1 3 2 1 1 3 3 3 3 1 3 3 1 3 3 2 2 1\n",
              "[8178] 3 1 2 3 2 2 3 1 2 3 1 2 3 3 1 2 3 1 3 3 3 3 2 1 1 3 3 3 3 3 2 1 3 1 1 1 3\n",
              "[8215] 1 1 3 1 2 2 1 3 2 1 2 1 3 2 2 1 1 2 3 2 3 3 2 3 2 3 3 3 1 3 1 1 1 1 2 2 1\n",
              "[8252] 1 2 2 2 3 3 2 3 1 1 2 2 1 2 2 1 1 2 3 3 3 1 1 3 3 1 1 1 2 3 3 2 3 2 1 3 2\n",
              "[8289] 3 2 1 1 1 3 3 3 1 3 2 2 2 2 1 1 3 2 3 2 2 2 3 1 3 1 1 1 3 1 3 2 1 1 2 1 1\n",
              "[8326] 2 1 1 1 1 1 3 1 3 2 1 2 1 3 1 2 2 2 1 1 2 1 1 2 1 2 3 3 2 1 3 3 2 2 3 3 3\n",
              "[8363] 2 1 1 2 3 2 2 2 2 3 1 1 3 3 3 1 2 1 1 1 1 1 3 3 1 3 3 1 1 1 3 3 3 2 1 3 1\n",
              "[8400] 3 2 3 1 2 3 3 2 3 2 1 3 3 3 2 2 2 1 1 1 3 3 1 2 2 1 2 3 1 1 2 1 2 3 1 1 3\n",
              "[8437] 3 1 3 2 1 2 1 3 1 3 2 2 1 2 3 3 2 2 3 2 1 1 2 2 2 3 3 2 3 3 1 3 3 1 3 3 2\n",
              "[8474] 1 1 3 2 1 2 1 2 2 1 3 2 3 1 3 2 1 1 3 2 3 2 1 2 3 3 3 1 1 1 3 1 1 1 3 2 1\n",
              "[8511] 3 1 3 1 1 2 1 2 3 3 3 1 2 3 2 1 1 1 2 3 2 2 2 3 2 1 3 2 1 1 3 2 3 1 1 1 1\n",
              "[8548] 2 1 1 1 3 1 3 1 2 1 2 3 3 1 1 2 1 1 1 2 3 1 1 2 3 2 3 2 1 1 3 3 1 1 3 2 1\n",
              "[8585] 3 1 1 1 3 2 1 2 1 2 1 1 2 3 2 3 3 1 3 1 2 1 3 3 3 3 1 1 1 1 2 3 1 2 3 1 1\n",
              "[8622] 1 1 1 3 3 2 1 3 1 1 1 2 2 2 1 2 2 3 2 2 1 3 3 3 3 3 2 2 2 2 3 2 2 2 2 1 1\n",
              "[8659] 2 2 1 3 2 1 2 3 3 1 1 3 2 3 1 2 2 1 2 2 2 2 2 3 1 1 2 3 1 1 2 3 2 1 1 2 2\n",
              "[8696] 3 1 2 3 1 3 1 3 2 1 3 2 2 3 3 1 1 2 3 2 1 1 1 1 2 2 3 3 2 3 3 3 3 2 1 1 1\n",
              "[8733] 1 1 1 1 2 2 2 1 3 3 2 3 2 1 3 1 2 3 2 3 2 1 3 2 2 1 3 2 1 3 2 2 3 2 3 1 1\n",
              "[8770] 1 2 2 3 1 1 1 3 1 1 2 2 1 1 2 1 3 1 2 3 3 2 3 1 3 2 3 3 3 1 1 3 1 1 2 2 1\n",
              "[8807] 3 3 2 1 2 1 2 1 1 3 1 1 1 3 2 2 3 1 3 3 3 3 3 2 1 3 1 1 1 2 2 3 3 1 1 3 1\n",
              "[8844] 2 1 1 2 1 3 1 3 3 1 2 3 1 2 3 2 2 1 1 3 3 1 3 3 1 3 3 3 3 3 1 3 1 2 3 2 1\n",
              "[8881] 2 3 1 3 2 2 2 3 1 2 1 1 1 2 3 3 1 1 3 2 2 1 1 3 1 3 3 3 2 2 3 2 2 1 2 2 1\n",
              "[8918] 3 2 3 1 2 1 3 1 3 3 2 3 3 1 1 1 2 2 2 2 3 1 2 3 1 2 2 3 1 3 3 1 2 1 3 2 2\n",
              "[8955] 1 2 3 3 3 1 1 3 1 1 1 3 3 2 3 1 3 3 2 1 2 3 1 3 3 3 2 3 2 2 3 2 1 1 2 3 2\n",
              "[8992] 2 3 2 2 3 3 1 1 3 2 2 1 1 1 1 1 2 3 3 2 1 3 1 2 3 3 2 3 2 3 3 2 3 2 3 1 1\n",
              "[9029] 1 2 1 1 1 3 1 3 2 2 3 3 3 1 1 1 2 3 2 2 3 3 2 1 2 3 1 1 2 2 1 2 3 1 1 1 2\n",
              "[9066] 3 3 1 3 1 1 3 3 3 2 1 3 1 2 2 1 2 3 2 1 2 3 1 1 1 1 2 3 3 1 2 3 1 3 2 1 1\n",
              "[9103] 2 1 1 2 3 3 2 2 1 3 1 3 2 3 3 3 2 2 2 1 3 1 2 1 2 3 2 2 1 3 3 3 1 2 3 1 2\n",
              "[9140] 3 2 3 1 1 1 1 2 1 3 1 3 3 3 1 1 2 1 1 2 1 2 1 3 2 2 2 1 2 2 2 1 1 3 2 2 2\n",
              "[9177] 3 3 2 1 1 2 3 3 2 2 3 2 1 3 3 1 2 3 2 1 3"
            ]
          },
          "metadata": {}
        }
      ]
    },
    {
      "cell_type": "code",
      "source": [
        "y_train <- train$cat\n",
        "y_train <- to_categorical(y_train)"
      ],
      "metadata": {
        "id": "ybQyZKDxz1RD"
      },
      "execution_count": 10,
      "outputs": []
    },
    {
      "cell_type": "code",
      "source": [
        "y_train <- y_train[, -1]\n",
        "dim(y_train)\n",
        "y_train"
      ],
      "metadata": {
        "id": "IEXAcphYGU4z",
        "colab": {
          "base_uri": "https://localhost:8080/",
          "height": 1000
        },
        "outputId": "867166c0-4e95-4f08-d41f-bb9bc84ec652"
      },
      "execution_count": 11,
      "outputs": [
        {
          "output_type": "display_data",
          "data": {
            "text/html": [
              "<style>\n",
              ".list-inline {list-style: none; margin:0; padding: 0}\n",
              ".list-inline>li {display: inline-block}\n",
              ".list-inline>li:not(:last-child)::after {content: \"\\00b7\"; padding: 0 .5ex}\n",
              "</style>\n",
              "<ol class=list-inline><li>9197</li><li>3</li></ol>\n"
            ],
            "text/markdown": "1. 9197\n2. 3\n\n\n",
            "text/latex": "\\begin{enumerate*}\n\\item 9197\n\\item 3\n\\end{enumerate*}\n",
            "text/plain": [
              "[1] 9197    3"
            ]
          },
          "metadata": {}
        },
        {
          "output_type": "display_data",
          "data": {
            "text/html": [
              "<table class=\"dataframe\">\n",
              "<caption>A matrix: 9197 × 3 of type dbl</caption>\n",
              "<tbody>\n",
              "\t<tr><td>0</td><td>0</td><td>1</td></tr>\n",
              "\t<tr><td>1</td><td>0</td><td>0</td></tr>\n",
              "\t<tr><td>1</td><td>0</td><td>0</td></tr>\n",
              "\t<tr><td>1</td><td>0</td><td>0</td></tr>\n",
              "\t<tr><td>0</td><td>0</td><td>1</td></tr>\n",
              "\t<tr><td>0</td><td>0</td><td>1</td></tr>\n",
              "\t<tr><td>0</td><td>1</td><td>0</td></tr>\n",
              "\t<tr><td>0</td><td>0</td><td>1</td></tr>\n",
              "\t<tr><td>0</td><td>0</td><td>1</td></tr>\n",
              "\t<tr><td>1</td><td>0</td><td>0</td></tr>\n",
              "\t<tr><td>1</td><td>0</td><td>0</td></tr>\n",
              "\t<tr><td>0</td><td>1</td><td>0</td></tr>\n",
              "\t<tr><td>1</td><td>0</td><td>0</td></tr>\n",
              "\t<tr><td>0</td><td>0</td><td>1</td></tr>\n",
              "\t<tr><td>1</td><td>0</td><td>0</td></tr>\n",
              "\t<tr><td>0</td><td>1</td><td>0</td></tr>\n",
              "\t<tr><td>0</td><td>1</td><td>0</td></tr>\n",
              "\t<tr><td>0</td><td>1</td><td>0</td></tr>\n",
              "\t<tr><td>0</td><td>1</td><td>0</td></tr>\n",
              "\t<tr><td>0</td><td>1</td><td>0</td></tr>\n",
              "\t<tr><td>0</td><td>1</td><td>0</td></tr>\n",
              "\t<tr><td>0</td><td>1</td><td>0</td></tr>\n",
              "\t<tr><td>1</td><td>0</td><td>0</td></tr>\n",
              "\t<tr><td>1</td><td>0</td><td>0</td></tr>\n",
              "\t<tr><td>1</td><td>0</td><td>0</td></tr>\n",
              "\t<tr><td>0</td><td>0</td><td>1</td></tr>\n",
              "\t<tr><td>1</td><td>0</td><td>0</td></tr>\n",
              "\t<tr><td>1</td><td>0</td><td>0</td></tr>\n",
              "\t<tr><td>0</td><td>1</td><td>0</td></tr>\n",
              "\t<tr><td>0</td><td>0</td><td>1</td></tr>\n",
              "\t<tr><td>⋮</td><td>⋮</td><td>⋮</td></tr>\n",
              "\t<tr><td>0</td><td>1</td><td>0</td></tr>\n",
              "\t<tr><td>0</td><td>1</td><td>0</td></tr>\n",
              "\t<tr><td>0</td><td>1</td><td>0</td></tr>\n",
              "\t<tr><td>1</td><td>0</td><td>0</td></tr>\n",
              "\t<tr><td>1</td><td>0</td><td>0</td></tr>\n",
              "\t<tr><td>0</td><td>0</td><td>1</td></tr>\n",
              "\t<tr><td>0</td><td>1</td><td>0</td></tr>\n",
              "\t<tr><td>0</td><td>1</td><td>0</td></tr>\n",
              "\t<tr><td>0</td><td>1</td><td>0</td></tr>\n",
              "\t<tr><td>0</td><td>0</td><td>1</td></tr>\n",
              "\t<tr><td>0</td><td>0</td><td>1</td></tr>\n",
              "\t<tr><td>0</td><td>1</td><td>0</td></tr>\n",
              "\t<tr><td>1</td><td>0</td><td>0</td></tr>\n",
              "\t<tr><td>1</td><td>0</td><td>0</td></tr>\n",
              "\t<tr><td>0</td><td>1</td><td>0</td></tr>\n",
              "\t<tr><td>0</td><td>0</td><td>1</td></tr>\n",
              "\t<tr><td>0</td><td>0</td><td>1</td></tr>\n",
              "\t<tr><td>0</td><td>1</td><td>0</td></tr>\n",
              "\t<tr><td>0</td><td>1</td><td>0</td></tr>\n",
              "\t<tr><td>0</td><td>0</td><td>1</td></tr>\n",
              "\t<tr><td>0</td><td>1</td><td>0</td></tr>\n",
              "\t<tr><td>1</td><td>0</td><td>0</td></tr>\n",
              "\t<tr><td>0</td><td>0</td><td>1</td></tr>\n",
              "\t<tr><td>0</td><td>0</td><td>1</td></tr>\n",
              "\t<tr><td>1</td><td>0</td><td>0</td></tr>\n",
              "\t<tr><td>0</td><td>1</td><td>0</td></tr>\n",
              "\t<tr><td>0</td><td>0</td><td>1</td></tr>\n",
              "\t<tr><td>0</td><td>1</td><td>0</td></tr>\n",
              "\t<tr><td>1</td><td>0</td><td>0</td></tr>\n",
              "\t<tr><td>0</td><td>0</td><td>1</td></tr>\n",
              "</tbody>\n",
              "</table>\n"
            ],
            "text/markdown": "\nA matrix: 9197 × 3 of type dbl\n\n| 0 | 0 | 1 |\n| 1 | 0 | 0 |\n| 1 | 0 | 0 |\n| 1 | 0 | 0 |\n| 0 | 0 | 1 |\n| 0 | 0 | 1 |\n| 0 | 1 | 0 |\n| 0 | 0 | 1 |\n| 0 | 0 | 1 |\n| 1 | 0 | 0 |\n| 1 | 0 | 0 |\n| 0 | 1 | 0 |\n| 1 | 0 | 0 |\n| 0 | 0 | 1 |\n| 1 | 0 | 0 |\n| 0 | 1 | 0 |\n| 0 | 1 | 0 |\n| 0 | 1 | 0 |\n| 0 | 1 | 0 |\n| 0 | 1 | 0 |\n| 0 | 1 | 0 |\n| 0 | 1 | 0 |\n| 1 | 0 | 0 |\n| 1 | 0 | 0 |\n| 1 | 0 | 0 |\n| 0 | 0 | 1 |\n| 1 | 0 | 0 |\n| 1 | 0 | 0 |\n| 0 | 1 | 0 |\n| 0 | 0 | 1 |\n| ⋮ | ⋮ | ⋮ |\n| 0 | 1 | 0 |\n| 0 | 1 | 0 |\n| 0 | 1 | 0 |\n| 1 | 0 | 0 |\n| 1 | 0 | 0 |\n| 0 | 0 | 1 |\n| 0 | 1 | 0 |\n| 0 | 1 | 0 |\n| 0 | 1 | 0 |\n| 0 | 0 | 1 |\n| 0 | 0 | 1 |\n| 0 | 1 | 0 |\n| 1 | 0 | 0 |\n| 1 | 0 | 0 |\n| 0 | 1 | 0 |\n| 0 | 0 | 1 |\n| 0 | 0 | 1 |\n| 0 | 1 | 0 |\n| 0 | 1 | 0 |\n| 0 | 0 | 1 |\n| 0 | 1 | 0 |\n| 1 | 0 | 0 |\n| 0 | 0 | 1 |\n| 0 | 0 | 1 |\n| 1 | 0 | 0 |\n| 0 | 1 | 0 |\n| 0 | 0 | 1 |\n| 0 | 1 | 0 |\n| 1 | 0 | 0 |\n| 0 | 0 | 1 |\n\n",
            "text/latex": "A matrix: 9197 × 3 of type dbl\n\\begin{tabular}{lll}\n\t 0 & 0 & 1\\\\\n\t 1 & 0 & 0\\\\\n\t 1 & 0 & 0\\\\\n\t 1 & 0 & 0\\\\\n\t 0 & 0 & 1\\\\\n\t 0 & 0 & 1\\\\\n\t 0 & 1 & 0\\\\\n\t 0 & 0 & 1\\\\\n\t 0 & 0 & 1\\\\\n\t 1 & 0 & 0\\\\\n\t 1 & 0 & 0\\\\\n\t 0 & 1 & 0\\\\\n\t 1 & 0 & 0\\\\\n\t 0 & 0 & 1\\\\\n\t 1 & 0 & 0\\\\\n\t 0 & 1 & 0\\\\\n\t 0 & 1 & 0\\\\\n\t 0 & 1 & 0\\\\\n\t 0 & 1 & 0\\\\\n\t 0 & 1 & 0\\\\\n\t 0 & 1 & 0\\\\\n\t 0 & 1 & 0\\\\\n\t 1 & 0 & 0\\\\\n\t 1 & 0 & 0\\\\\n\t 1 & 0 & 0\\\\\n\t 0 & 0 & 1\\\\\n\t 1 & 0 & 0\\\\\n\t 1 & 0 & 0\\\\\n\t 0 & 1 & 0\\\\\n\t 0 & 0 & 1\\\\\n\t ⋮ & ⋮ & ⋮\\\\\n\t 0 & 1 & 0\\\\\n\t 0 & 1 & 0\\\\\n\t 0 & 1 & 0\\\\\n\t 1 & 0 & 0\\\\\n\t 1 & 0 & 0\\\\\n\t 0 & 0 & 1\\\\\n\t 0 & 1 & 0\\\\\n\t 0 & 1 & 0\\\\\n\t 0 & 1 & 0\\\\\n\t 0 & 0 & 1\\\\\n\t 0 & 0 & 1\\\\\n\t 0 & 1 & 0\\\\\n\t 1 & 0 & 0\\\\\n\t 1 & 0 & 0\\\\\n\t 0 & 1 & 0\\\\\n\t 0 & 0 & 1\\\\\n\t 0 & 0 & 1\\\\\n\t 0 & 1 & 0\\\\\n\t 0 & 1 & 0\\\\\n\t 0 & 0 & 1\\\\\n\t 0 & 1 & 0\\\\\n\t 1 & 0 & 0\\\\\n\t 0 & 0 & 1\\\\\n\t 0 & 0 & 1\\\\\n\t 1 & 0 & 0\\\\\n\t 0 & 1 & 0\\\\\n\t 0 & 0 & 1\\\\\n\t 0 & 1 & 0\\\\\n\t 1 & 0 & 0\\\\\n\t 0 & 0 & 1\\\\\n\\end{tabular}\n",
            "text/plain": [
              "      [,1] [,2] [,3]\n",
              " [1,] 0    0    1   \n",
              " [2,] 1    0    0   \n",
              " [3,] 1    0    0   \n",
              " [4,] 1    0    0   \n",
              " [5,] 0    0    1   \n",
              " [6,] 0    0    1   \n",
              " [7,] 0    1    0   \n",
              " [8,] 0    0    1   \n",
              " [9,] 0    0    1   \n",
              "[10,] 1    0    0   \n",
              "[11,] 1    0    0   \n",
              "[12,] 0    1    0   \n",
              "[13,] 1    0    0   \n",
              "[14,] 0    0    1   \n",
              "[15,] 1    0    0   \n",
              "[16,] 0    1    0   \n",
              "[17,] 0    1    0   \n",
              "[18,] 0    1    0   \n",
              "[19,] 0    1    0   \n",
              "[20,] 0    1    0   \n",
              "[21,] 0    1    0   \n",
              "[22,] 0    1    0   \n",
              "[23,] 1    0    0   \n",
              "[24,] 1    0    0   \n",
              "[25,] 1    0    0   \n",
              "[26,] 0    0    1   \n",
              "[27,] 1    0    0   \n",
              "[28,] 1    0    0   \n",
              "[29,] 0    1    0   \n",
              "[30,] 0    0    1   \n",
              "[31,] ⋮    ⋮    ⋮   \n",
              "[32,] 0    1    0   \n",
              "[33,] 0    1    0   \n",
              "[34,] 0    1    0   \n",
              "[35,] 1    0    0   \n",
              "[36,] 1    0    0   \n",
              "[37,] 0    0    1   \n",
              "[38,] 0    1    0   \n",
              "[39,] 0    1    0   \n",
              "[40,] 0    1    0   \n",
              "[41,] 0    0    1   \n",
              "[42,] 0    0    1   \n",
              "[43,] 0    1    0   \n",
              "[44,] 1    0    0   \n",
              "[45,] 1    0    0   \n",
              "[46,] 0    1    0   \n",
              "[47,] 0    0    1   \n",
              "[48,] 0    0    1   \n",
              "[49,] 0    1    0   \n",
              "[50,] 0    1    0   \n",
              "[51,] 0    0    1   \n",
              "[52,] 0    1    0   \n",
              "[53,] 1    0    0   \n",
              "[54,] 0    0    1   \n",
              "[55,] 0    0    1   \n",
              "[56,] 1    0    0   \n",
              "[57,] 0    1    0   \n",
              "[58,] 0    0    1   \n",
              "[59,] 0    1    0   \n",
              "[60,] 1    0    0   \n",
              "[61,] 0    0    1   "
            ]
          },
          "metadata": {}
        }
      ]
    },
    {
      "cell_type": "code",
      "source": [
        "x_train <-  subset(train, select = -c(cat))\n",
        "dim(x_train)\n"
      ],
      "metadata": {
        "colab": {
          "base_uri": "https://localhost:8080/",
          "height": 34
        },
        "id": "1bqTpy_lM-4l",
        "outputId": "8547aeec-a533-4963-afb6-8f6c7339b4a0"
      },
      "execution_count": 12,
      "outputs": [
        {
          "output_type": "display_data",
          "data": {
            "text/html": [
              "<style>\n",
              ".list-inline {list-style: none; margin:0; padding: 0}\n",
              ".list-inline>li {display: inline-block}\n",
              ".list-inline>li:not(:last-child)::after {content: \"\\00b7\"; padding: 0 .5ex}\n",
              "</style>\n",
              "<ol class=list-inline><li>9197</li><li>113</li></ol>\n"
            ],
            "text/markdown": "1. 9197\n2. 113\n\n\n",
            "text/latex": "\\begin{enumerate*}\n\\item 9197\n\\item 113\n\\end{enumerate*}\n",
            "text/plain": [
              "[1] 9197  113"
            ]
          },
          "metadata": {}
        }
      ]
    },
    {
      "cell_type": "code",
      "source": [
        "x_train <-  as.matrix(train[,4:113])"
      ],
      "metadata": {
        "id": "DecILqvm1RkG"
      },
      "execution_count": 13,
      "outputs": []
    },
    {
      "cell_type": "code",
      "source": [
        "dim(y_train)\n",
        "class(y_train)"
      ],
      "metadata": {
        "colab": {
          "base_uri": "https://localhost:8080/",
          "height": 52
        },
        "id": "rGhV_scG1jSv",
        "outputId": "7a82ad26-a206-4dd6-bf4f-946ca9cde54e"
      },
      "execution_count": 14,
      "outputs": [
        {
          "output_type": "display_data",
          "data": {
            "text/html": [
              "<style>\n",
              ".list-inline {list-style: none; margin:0; padding: 0}\n",
              ".list-inline>li {display: inline-block}\n",
              ".list-inline>li:not(:last-child)::after {content: \"\\00b7\"; padding: 0 .5ex}\n",
              "</style>\n",
              "<ol class=list-inline><li>9197</li><li>3</li></ol>\n"
            ],
            "text/markdown": "1. 9197\n2. 3\n\n\n",
            "text/latex": "\\begin{enumerate*}\n\\item 9197\n\\item 3\n\\end{enumerate*}\n",
            "text/plain": [
              "[1] 9197    3"
            ]
          },
          "metadata": {}
        },
        {
          "output_type": "display_data",
          "data": {
            "text/html": [
              "<style>\n",
              ".list-inline {list-style: none; margin:0; padding: 0}\n",
              ".list-inline>li {display: inline-block}\n",
              ".list-inline>li:not(:last-child)::after {content: \"\\00b7\"; padding: 0 .5ex}\n",
              "</style>\n",
              "<ol class=list-inline><li>'matrix'</li><li>'array'</li></ol>\n"
            ],
            "text/markdown": "1. 'matrix'\n2. 'array'\n\n\n",
            "text/latex": "\\begin{enumerate*}\n\\item 'matrix'\n\\item 'array'\n\\end{enumerate*}\n",
            "text/plain": [
              "[1] \"matrix\" \"array\" "
            ]
          },
          "metadata": {}
        }
      ]
    },
    {
      "cell_type": "code",
      "source": [
        "dim(x_train)"
      ],
      "metadata": {
        "colab": {
          "base_uri": "https://localhost:8080/",
          "height": 34
        },
        "id": "7qOR8bMe47lL",
        "outputId": "bf53b9de-efb2-41ba-c146-91df8b01c4eb"
      },
      "execution_count": 15,
      "outputs": [
        {
          "output_type": "display_data",
          "data": {
            "text/html": [
              "<style>\n",
              ".list-inline {list-style: none; margin:0; padding: 0}\n",
              ".list-inline>li {display: inline-block}\n",
              ".list-inline>li:not(:last-child)::after {content: \"\\00b7\"; padding: 0 .5ex}\n",
              "</style>\n",
              "<ol class=list-inline><li>9197</li><li>110</li></ol>\n"
            ],
            "text/markdown": "1. 9197\n2. 110\n\n\n",
            "text/latex": "\\begin{enumerate*}\n\\item 9197\n\\item 110\n\\end{enumerate*}\n",
            "text/plain": [
              "[1] 9197  110"
            ]
          },
          "metadata": {}
        }
      ]
    },
    {
      "cell_type": "code",
      "source": [
        "set.seed(1234)"
      ],
      "metadata": {
        "id": "HA1vvZGk5Jud"
      },
      "execution_count": 16,
      "outputs": []
    },
    {
      "cell_type": "markdown",
      "source": [
        "## Modelo 1\n",
        "\n",
        "Se utiliza toda la base de datos que se construyó. 1 sola capa\n",
        "\n"
      ],
      "metadata": {
        "id": "W3mt1y83201w"
      }
    },
    {
      "cell_type": "code",
      "source": [
        "model <- keras_model_sequential() \n",
        "model %>% \n",
        "  layer_dense(units = 50, activation = 'relu', input_shape =ncol(x_train)) %>% \n",
        "  layer_dense(units = 2, activation = 'relu') %>%\n",
        "  layer_dense(units = 3, activation = 'softmax')"
      ],
      "metadata": {
        "id": "7uUsT3F72pGz"
      },
      "execution_count": 17,
      "outputs": []
    },
    {
      "cell_type": "code",
      "source": [
        "summary(model)"
      ],
      "metadata": {
        "id": "CDyf2eds2w1I",
        "colab": {
          "base_uri": "https://localhost:8080/"
        },
        "outputId": "a54e4596-d218-4678-fc47-f1a087d053de"
      },
      "execution_count": 18,
      "outputs": [
        {
          "output_type": "stream",
          "name": "stdout",
          "text": [
            "Model: \"sequential\"\n",
            "________________________________________________________________________________\n",
            " Layer (type)                       Output Shape                    Param #     \n",
            "================================================================================\n",
            " dense_2 (Dense)                    (None, 50)                      5550        \n",
            " dense_1 (Dense)                    (None, 2)                       102         \n",
            " dense (Dense)                      (None, 3)                       9           \n",
            "================================================================================\n",
            "Total params: 5,661\n",
            "Trainable params: 5,661\n",
            "Non-trainable params: 0\n",
            "________________________________________________________________________________\n"
          ]
        }
      ]
    },
    {
      "cell_type": "code",
      "source": [
        "model %>% compile(\n",
        "  optimizer = 'adam',\n",
        "  loss = 'categorical_crossentropy',\n",
        "  metrics = c('accuracy')\n",
        ")"
      ],
      "metadata": {
        "id": "CaDN-CZo3Bc1"
      },
      "execution_count": 19,
      "outputs": []
    },
    {
      "cell_type": "code",
      "source": [
        "history <- model %>% fit(\n",
        "  x_train, y_train, \n",
        "  epochs = 30, \n",
        "  batch_size = 2^4,\n",
        "  validation_split = 0.2\n",
        ")"
      ],
      "metadata": {
        "id": "G0eE2khG3LGJ"
      },
      "execution_count": 20,
      "outputs": []
    },
    {
      "cell_type": "code",
      "source": [
        "plot(history)"
      ],
      "metadata": {
        "colab": {
          "base_uri": "https://localhost:8080/",
          "height": 437
        },
        "id": "XZjMoLhkJOFQ",
        "outputId": "d7636726-3c2f-4811-8d7d-28800d93677a"
      },
      "execution_count": 21,
      "outputs": [
        {
          "output_type": "display_data",
          "data": {
            "text/plain": [
              "plot without title"
            ],
            "image/png": "[encoded data removed]"
          },
          "metadata": {
            "image/png": {
              "width": 420,
              "height": 420
            }
          }
        }
      ]
    },
    {
      "cell_type": "code",
      "source": [
        "dim(test)\n"
      ],
      "metadata": {
        "colab": {
          "base_uri": "https://localhost:8080/",
          "height": 34
        },
        "id": "3b8E47VAKb7v",
        "outputId": "1585581e-caaf-4f1e-de0f-fee6150fc7fa"
      },
      "execution_count": 22,
      "outputs": [
        {
          "output_type": "display_data",
          "data": {
            "text/html": [
              "<style>\n",
              ".list-inline {list-style: none; margin:0; padding: 0}\n",
              ".list-inline>li {display: inline-block}\n",
              ".list-inline>li:not(:last-child)::after {content: \"\\00b7\"; padding: 0 .5ex}\n",
              "</style>\n",
              "<ol class=list-inline><li>1500</li><li>112</li></ol>\n"
            ],
            "text/markdown": "1. 1500\n2. 112\n\n\n",
            "text/latex": "\\begin{enumerate*}\n\\item 1500\n\\item 112\n\\end{enumerate*}\n",
            "text/plain": [
              "[1] 1500  112"
            ]
          },
          "metadata": {}
        }
      ]
    },
    {
      "cell_type": "code",
      "source": [
        "Test <- as.matrix(test[,3:112])\n",
        "head(Test, 10)"
      ],
      "metadata": {
        "colab": {
          "base_uri": "https://localhost:8080/",
          "height": 400
        },
        "id": "fXrdhhk2KXZx",
        "outputId": "55696ea1-8a18-446e-d0e6-f73b2e23c4f9"
      },
      "execution_count": 23,
      "outputs": [
        {
          "output_type": "display_data",
          "data": {
            "text/html": [
              "<table class=\"dataframe\">\n",
              "<caption>A matrix: 10 × 110 of type dbl</caption>\n",
              "<thead>\n",
              "\t<tr><th scope=col>colombia</th><th scope=col>bogota</th><th scope=col>via</th><th scope=col>ano</th><th scope=col>gracia</th><th scope=col>medellin</th><th scope=col>ciudad</th><th scope=col>joven</th><th scope=col>politico</th><th scope=col>familia</th><th scope=col>⋯</th><th scope=col>Bogota</th><th scope=col>colombiahumana</th><th scope=col>cundinamarcar</th><th scope=col>concejo</th><th scope=col>socialismo</th><th scope=col>fascismo</th><th scope=col>transmilenio</th><th scope=col>distrital</th><th scope=col>estacion</th><th scope=col>onzar</th></tr>\n",
              "</thead>\n",
              "<tbody>\n",
              "\t<tr><td>0</td><td>0.0000000</td><td>0.000000</td><td>0.0000000</td><td>0</td><td>0</td><td>0</td><td>0</td><td>0</td><td>0</td><td>⋯</td><td>0</td><td>0</td><td>0</td><td>0</td><td>0</td><td>0</td><td>0</td><td>0</td><td>0</td><td>0</td></tr>\n",
              "\t<tr><td>0</td><td>0.0000000</td><td>0.000000</td><td>0.0000000</td><td>0</td><td>0</td><td>0</td><td>0</td><td>0</td><td>0</td><td>⋯</td><td>0</td><td>0</td><td>0</td><td>0</td><td>0</td><td>0</td><td>0</td><td>0</td><td>0</td><td>0</td></tr>\n",
              "\t<tr><td>0</td><td>0.4682133</td><td>0.000000</td><td>0.0000000</td><td>0</td><td>0</td><td>0</td><td>0</td><td>0</td><td>0</td><td>⋯</td><td>0</td><td>0</td><td>0</td><td>0</td><td>0</td><td>0</td><td>0</td><td>0</td><td>0</td><td>0</td></tr>\n",
              "\t<tr><td>0</td><td>0.0000000</td><td>0.000000</td><td>0.0000000</td><td>0</td><td>0</td><td>0</td><td>0</td><td>0</td><td>0</td><td>⋯</td><td>0</td><td>0</td><td>0</td><td>0</td><td>0</td><td>0</td><td>0</td><td>0</td><td>0</td><td>0</td></tr>\n",
              "\t<tr><td>0</td><td>0.0000000</td><td>2.482892</td><td>0.0000000</td><td>0</td><td>0</td><td>0</td><td>0</td><td>0</td><td>0</td><td>⋯</td><td>0</td><td>0</td><td>0</td><td>0</td><td>0</td><td>0</td><td>0</td><td>0</td><td>0</td><td>0</td></tr>\n",
              "\t<tr><td>0</td><td>0.0000000</td><td>0.000000</td><td>0.0000000</td><td>0</td><td>0</td><td>0</td><td>1</td><td>0</td><td>0</td><td>⋯</td><td>0</td><td>0</td><td>0</td><td>0</td><td>0</td><td>0</td><td>0</td><td>0</td><td>0</td><td>0</td></tr>\n",
              "\t<tr><td>0</td><td>0.3121422</td><td>0.000000</td><td>0.0000000</td><td>0</td><td>0</td><td>0</td><td>0</td><td>0</td><td>0</td><td>⋯</td><td>0</td><td>0</td><td>0</td><td>0</td><td>0</td><td>0</td><td>0</td><td>0</td><td>0</td><td>0</td></tr>\n",
              "\t<tr><td>0</td><td>0.0000000</td><td>0.000000</td><td>0.0000000</td><td>0</td><td>0</td><td>0</td><td>0</td><td>0</td><td>0</td><td>⋯</td><td>0</td><td>0</td><td>0</td><td>0</td><td>0</td><td>0</td><td>0</td><td>0</td><td>0</td><td>0</td></tr>\n",
              "\t<tr><td>0</td><td>0.4682133</td><td>0.000000</td><td>0.6711975</td><td>0</td><td>0</td><td>0</td><td>0</td><td>0</td><td>0</td><td>⋯</td><td>0</td><td>0</td><td>0</td><td>0</td><td>0</td><td>0</td><td>0</td><td>0</td><td>0</td><td>0</td></tr>\n",
              "\t<tr><td>0</td><td>0.0000000</td><td>0.000000</td><td>0.0000000</td><td>0</td><td>0</td><td>0</td><td>0</td><td>0</td><td>0</td><td>⋯</td><td>0</td><td>0</td><td>0</td><td>0</td><td>0</td><td>0</td><td>0</td><td>0</td><td>0</td><td>0</td></tr>\n",
              "</tbody>\n",
              "</table>\n"
            ],
            "text/markdown": "\nA matrix: 10 × 110 of type dbl\n\n| colombia | bogota | via | ano | gracia | medellin | ciudad | joven | politico | familia | ⋯ | Bogota | colombiahumana | cundinamarcar | concejo | socialismo | fascismo | transmilenio | distrital | estacion | onzar |\n|---|---|---|---|---|---|---|---|---|---|---|---|---|---|---|---|---|---|---|---|---|\n| 0 | 0.0000000 | 0.000000 | 0.0000000 | 0 | 0 | 0 | 0 | 0 | 0 | ⋯ | 0 | 0 | 0 | 0 | 0 | 0 | 0 | 0 | 0 | 0 |\n| 0 | 0.0000000 | 0.000000 | 0.0000000 | 0 | 0 | 0 | 0 | 0 | 0 | ⋯ | 0 | 0 | 0 | 0 | 0 | 0 | 0 | 0 | 0 | 0 |\n| 0 | 0.4682133 | 0.000000 | 0.0000000 | 0 | 0 | 0 | 0 | 0 | 0 | ⋯ | 0 | 0 | 0 | 0 | 0 | 0 | 0 | 0 | 0 | 0 |\n| 0 | 0.0000000 | 0.000000 | 0.0000000 | 0 | 0 | 0 | 0 | 0 | 0 | ⋯ | 0 | 0 | 0 | 0 | 0 | 0 | 0 | 0 | 0 | 0 |\n| 0 | 0.0000000 | 2.482892 | 0.0000000 | 0 | 0 | 0 | 0 | 0 | 0 | ⋯ | 0 | 0 | 0 | 0 | 0 | 0 | 0 | 0 | 0 | 0 |\n| 0 | 0.0000000 | 0.000000 | 0.0000000 | 0 | 0 | 0 | 1 | 0 | 0 | ⋯ | 0 | 0 | 0 | 0 | 0 | 0 | 0 | 0 | 0 | 0 |\n| 0 | 0.3121422 | 0.000000 | 0.0000000 | 0 | 0 | 0 | 0 | 0 | 0 | ⋯ | 0 | 0 | 0 | 0 | 0 | 0 | 0 | 0 | 0 | 0 |\n| 0 | 0.0000000 | 0.000000 | 0.0000000 | 0 | 0 | 0 | 0 | 0 | 0 | ⋯ | 0 | 0 | 0 | 0 | 0 | 0 | 0 | 0 | 0 | 0 |\n| 0 | 0.4682133 | 0.000000 | 0.6711975 | 0 | 0 | 0 | 0 | 0 | 0 | ⋯ | 0 | 0 | 0 | 0 | 0 | 0 | 0 | 0 | 0 | 0 |\n| 0 | 0.0000000 | 0.000000 | 0.0000000 | 0 | 0 | 0 | 0 | 0 | 0 | ⋯ | 0 | 0 | 0 | 0 | 0 | 0 | 0 | 0 | 0 | 0 |\n\n",
            "text/latex": "A matrix: 10 × 110 of type dbl\n\\begin{tabular}{lllllllllllllllllllll}\n colombia & bogota & via & ano & gracia & medellin & ciudad & joven & politico & familia & ⋯ & Bogota & colombiahumana & cundinamarcar & concejo & socialismo & fascismo & transmilenio & distrital & estacion & onzar\\\\\n\\hline\n\t 0 & 0.0000000 & 0.000000 & 0.0000000 & 0 & 0 & 0 & 0 & 0 & 0 & ⋯ & 0 & 0 & 0 & 0 & 0 & 0 & 0 & 0 & 0 & 0\\\\\n\t 0 & 0.0000000 & 0.000000 & 0.0000000 & 0 & 0 & 0 & 0 & 0 & 0 & ⋯ & 0 & 0 & 0 & 0 & 0 & 0 & 0 & 0 & 0 & 0\\\\\n\t 0 & 0.4682133 & 0.000000 & 0.0000000 & 0 & 0 & 0 & 0 & 0 & 0 & ⋯ & 0 & 0 & 0 & 0 & 0 & 0 & 0 & 0 & 0 & 0\\\\\n\t 0 & 0.0000000 & 0.000000 & 0.0000000 & 0 & 0 & 0 & 0 & 0 & 0 & ⋯ & 0 & 0 & 0 & 0 & 0 & 0 & 0 & 0 & 0 & 0\\\\\n\t 0 & 0.0000000 & 2.482892 & 0.0000000 & 0 & 0 & 0 & 0 & 0 & 0 & ⋯ & 0 & 0 & 0 & 0 & 0 & 0 & 0 & 0 & 0 & 0\\\\\n\t 0 & 0.0000000 & 0.000000 & 0.0000000 & 0 & 0 & 0 & 1 & 0 & 0 & ⋯ & 0 & 0 & 0 & 0 & 0 & 0 & 0 & 0 & 0 & 0\\\\\n\t 0 & 0.3121422 & 0.000000 & 0.0000000 & 0 & 0 & 0 & 0 & 0 & 0 & ⋯ & 0 & 0 & 0 & 0 & 0 & 0 & 0 & 0 & 0 & 0\\\\\n\t 0 & 0.0000000 & 0.000000 & 0.0000000 & 0 & 0 & 0 & 0 & 0 & 0 & ⋯ & 0 & 0 & 0 & 0 & 0 & 0 & 0 & 0 & 0 & 0\\\\\n\t 0 & 0.4682133 & 0.000000 & 0.6711975 & 0 & 0 & 0 & 0 & 0 & 0 & ⋯ & 0 & 0 & 0 & 0 & 0 & 0 & 0 & 0 & 0 & 0\\\\\n\t 0 & 0.0000000 & 0.000000 & 0.0000000 & 0 & 0 & 0 & 0 & 0 & 0 & ⋯ & 0 & 0 & 0 & 0 & 0 & 0 & 0 & 0 & 0 & 0\\\\\n\\end{tabular}\n",
            "text/plain": [
              "      colombia bogota    via      ano       gracia medellin ciudad joven\n",
              " [1,] 0        0.0000000 0.000000 0.0000000 0      0        0      0    \n",
              " [2,] 0        0.0000000 0.000000 0.0000000 0      0        0      0    \n",
              " [3,] 0        0.4682133 0.000000 0.0000000 0      0        0      0    \n",
              " [4,] 0        0.0000000 0.000000 0.0000000 0      0        0      0    \n",
              " [5,] 0        0.0000000 2.482892 0.0000000 0      0        0      0    \n",
              " [6,] 0        0.0000000 0.000000 0.0000000 0      0        0      1    \n",
              " [7,] 0        0.3121422 0.000000 0.0000000 0      0        0      0    \n",
              " [8,] 0        0.0000000 0.000000 0.0000000 0      0        0      0    \n",
              " [9,] 0        0.4682133 0.000000 0.6711975 0      0        0      0    \n",
              "[10,] 0        0.0000000 0.000000 0.0000000 0      0        0      0    \n",
              "      politico familia ⋯ Bogota colombiahumana cundinamarcar concejo socialismo\n",
              " [1,] 0        0       ⋯ 0      0              0             0       0         \n",
              " [2,] 0        0       ⋯ 0      0              0             0       0         \n",
              " [3,] 0        0       ⋯ 0      0              0             0       0         \n",
              " [4,] 0        0       ⋯ 0      0              0             0       0         \n",
              " [5,] 0        0       ⋯ 0      0              0             0       0         \n",
              " [6,] 0        0       ⋯ 0      0              0             0       0         \n",
              " [7,] 0        0       ⋯ 0      0              0             0       0         \n",
              " [8,] 0        0       ⋯ 0      0              0             0       0         \n",
              " [9,] 0        0       ⋯ 0      0              0             0       0         \n",
              "[10,] 0        0       ⋯ 0      0              0             0       0         \n",
              "      fascismo transmilenio distrital estacion onzar\n",
              " [1,] 0        0            0         0        0    \n",
              " [2,] 0        0            0         0        0    \n",
              " [3,] 0        0            0         0        0    \n",
              " [4,] 0        0            0         0        0    \n",
              " [5,] 0        0            0         0        0    \n",
              " [6,] 0        0            0         0        0    \n",
              " [7,] 0        0            0         0        0    \n",
              " [8,] 0        0            0         0        0    \n",
              " [9,] 0        0            0         0        0    \n",
              "[10,] 0        0            0         0        0    "
            ]
          },
          "metadata": {}
        }
      ]
    },
    {
      "cell_type": "code",
      "source": [
        "y_hat <- model  %>% predict(Test)"
      ],
      "metadata": {
        "id": "vWmuiZEUK9Hi"
      },
      "execution_count": 24,
      "outputs": []
    },
    {
      "cell_type": "code",
      "source": [
        "y_hat <- as.data.frame(y_hat)\n",
        "colnames(y_hat)[which(names(y_hat) == \"V2\")] <- \"Lopez\"\n",
        "colnames(y_hat)[which(names(y_hat) == \"V3\")] <- \"Uribe\"\n",
        "colnames(y_hat)[which(names(y_hat) == \"V4\")] <- \"Petro\"\n",
        "y_hat <- y_hat[-1]"
      ],
      "metadata": {
        "id": "ESTAOIcVNtXo"
      },
      "execution_count": 25,
      "outputs": []
    },
    {
      "cell_type": "code",
      "source": [
        "y_hat"
      ],
      "metadata": {
        "colab": {
          "base_uri": "https://localhost:8080/",
          "height": 1000
        },
        "id": "kImeseoBNx4R",
        "outputId": "921158f5-0cd7-43f5-cb60-40d206dd92bf"
      },
      "execution_count": 26,
      "outputs": [
        {
          "output_type": "display_data",
          "data": {
            "text/html": [
              "<table class=\"dataframe\">\n",
              "<caption>A data.frame: 1500 × 2</caption>\n",
              "<thead>\n",
              "\t<tr><th scope=col>Lopez</th><th scope=col>Uribe</th></tr>\n",
              "\t<tr><th scope=col>&lt;dbl&gt;</th><th scope=col>&lt;dbl&gt;</th></tr>\n",
              "</thead>\n",
              "<tbody>\n",
              "\t<tr><td>0.544593334</td><td>3.104381e-01</td></tr>\n",
              "\t<tr><td>0.544593334</td><td>3.104381e-01</td></tr>\n",
              "\t<tr><td>0.020600343</td><td>5.093934e-02</td></tr>\n",
              "\t<tr><td>0.492895246</td><td>4.581474e-01</td></tr>\n",
              "\t<tr><td>0.989095867</td><td>1.090410e-02</td></tr>\n",
              "\t<tr><td>0.472284734</td><td>1.566311e-01</td></tr>\n",
              "\t<tr><td>0.020600343</td><td>5.093934e-02</td></tr>\n",
              "\t<tr><td>0.213167503</td><td>7.438444e-01</td></tr>\n",
              "\t<tr><td>0.020600343</td><td>5.093934e-02</td></tr>\n",
              "\t<tr><td>0.103840150</td><td>8.023911e-01</td></tr>\n",
              "\t<tr><td>0.020600343</td><td>5.093934e-02</td></tr>\n",
              "\t<tr><td>0.544593334</td><td>3.104381e-01</td></tr>\n",
              "\t<tr><td>0.061310280</td><td>2.249105e-01</td></tr>\n",
              "\t<tr><td>0.327558696</td><td>3.849237e-01</td></tr>\n",
              "\t<tr><td>0.063690811</td><td>2.377385e-01</td></tr>\n",
              "\t<tr><td>0.020600343</td><td>5.093934e-02</td></tr>\n",
              "\t<tr><td>0.658055365</td><td>2.441471e-01</td></tr>\n",
              "\t<tr><td>0.025009520</td><td>6.583975e-02</td></tr>\n",
              "\t<tr><td>0.544593334</td><td>3.104381e-01</td></tr>\n",
              "\t<tr><td>0.102211013</td><td>8.148795e-01</td></tr>\n",
              "\t<tr><td>0.857122600</td><td>1.290779e-01</td></tr>\n",
              "\t<tr><td>0.001467503</td><td>9.985325e-01</td></tr>\n",
              "\t<tr><td>0.636251748</td><td>3.607085e-01</td></tr>\n",
              "\t<tr><td>0.488362402</td><td>3.266005e-01</td></tr>\n",
              "\t<tr><td>0.544593334</td><td>3.104381e-01</td></tr>\n",
              "\t<tr><td>0.035447400</td><td>1.050043e-01</td></tr>\n",
              "\t<tr><td>0.999999940</td><td>1.487502e-08</td></tr>\n",
              "\t<tr><td>0.130589768</td><td>7.737002e-01</td></tr>\n",
              "\t<tr><td>0.544593334</td><td>3.104381e-01</td></tr>\n",
              "\t<tr><td>0.615370810</td><td>3.819250e-01</td></tr>\n",
              "\t<tr><td>⋮</td><td>⋮</td></tr>\n",
              "\t<tr><td>0.5445933</td><td>0.3104381</td></tr>\n",
              "\t<tr><td>0.5445933</td><td>0.3104381</td></tr>\n",
              "\t<tr><td>0.5445933</td><td>0.3104381</td></tr>\n",
              "\t<tr><td>0.5445933</td><td>0.3104381</td></tr>\n",
              "\t<tr><td>0.5445933</td><td>0.3104381</td></tr>\n",
              "\t<tr><td>0.5445933</td><td>0.3104381</td></tr>\n",
              "\t<tr><td>0.5445933</td><td>0.3104381</td></tr>\n",
              "\t<tr><td>0.5445933</td><td>0.3104381</td></tr>\n",
              "\t<tr><td>0.5445933</td><td>0.3104381</td></tr>\n",
              "\t<tr><td>0.5445933</td><td>0.3104381</td></tr>\n",
              "\t<tr><td>0.5445933</td><td>0.3104381</td></tr>\n",
              "\t<tr><td>0.5445933</td><td>0.3104381</td></tr>\n",
              "\t<tr><td>0.5445933</td><td>0.3104381</td></tr>\n",
              "\t<tr><td>0.5445933</td><td>0.3104381</td></tr>\n",
              "\t<tr><td>0.5445933</td><td>0.3104381</td></tr>\n",
              "\t<tr><td>0.5445933</td><td>0.3104381</td></tr>\n",
              "\t<tr><td>0.5445933</td><td>0.3104381</td></tr>\n",
              "\t<tr><td>0.5445933</td><td>0.3104381</td></tr>\n",
              "\t<tr><td>0.5445933</td><td>0.3104381</td></tr>\n",
              "\t<tr><td>0.5445933</td><td>0.3104381</td></tr>\n",
              "\t<tr><td>0.5445933</td><td>0.3104381</td></tr>\n",
              "\t<tr><td>0.5445933</td><td>0.3104381</td></tr>\n",
              "\t<tr><td>0.5445933</td><td>0.3104381</td></tr>\n",
              "\t<tr><td>0.5445933</td><td>0.3104381</td></tr>\n",
              "\t<tr><td>0.5445933</td><td>0.3104381</td></tr>\n",
              "\t<tr><td>0.5445933</td><td>0.3104381</td></tr>\n",
              "\t<tr><td>0.5445933</td><td>0.3104381</td></tr>\n",
              "\t<tr><td>0.5445933</td><td>0.3104381</td></tr>\n",
              "\t<tr><td>0.5445933</td><td>0.3104381</td></tr>\n",
              "\t<tr><td>0.5445933</td><td>0.3104381</td></tr>\n",
              "</tbody>\n",
              "</table>\n"
            ],
            "text/markdown": "\nA data.frame: 1500 × 2\n\n| Lopez &lt;dbl&gt; | Uribe &lt;dbl&gt; |\n|---|---|\n| 0.544593334 | 3.104381e-01 |\n| 0.544593334 | 3.104381e-01 |\n| 0.020600343 | 5.093934e-02 |\n| 0.492895246 | 4.581474e-01 |\n| 0.989095867 | 1.090410e-02 |\n| 0.472284734 | 1.566311e-01 |\n| 0.020600343 | 5.093934e-02 |\n| 0.213167503 | 7.438444e-01 |\n| 0.020600343 | 5.093934e-02 |\n| 0.103840150 | 8.023911e-01 |\n| 0.020600343 | 5.093934e-02 |\n| 0.544593334 | 3.104381e-01 |\n| 0.061310280 | 2.249105e-01 |\n| 0.327558696 | 3.849237e-01 |\n| 0.063690811 | 2.377385e-01 |\n| 0.020600343 | 5.093934e-02 |\n| 0.658055365 | 2.441471e-01 |\n| 0.025009520 | 6.583975e-02 |\n| 0.544593334 | 3.104381e-01 |\n| 0.102211013 | 8.148795e-01 |\n| 0.857122600 | 1.290779e-01 |\n| 0.001467503 | 9.985325e-01 |\n| 0.636251748 | 3.607085e-01 |\n| 0.488362402 | 3.266005e-01 |\n| 0.544593334 | 3.104381e-01 |\n| 0.035447400 | 1.050043e-01 |\n| 0.999999940 | 1.487502e-08 |\n| 0.130589768 | 7.737002e-01 |\n| 0.544593334 | 3.104381e-01 |\n| 0.615370810 | 3.819250e-01 |\n| ⋮ | ⋮ |\n| 0.5445933 | 0.3104381 |\n| 0.5445933 | 0.3104381 |\n| 0.5445933 | 0.3104381 |\n| 0.5445933 | 0.3104381 |\n| 0.5445933 | 0.3104381 |\n| 0.5445933 | 0.3104381 |\n| 0.5445933 | 0.3104381 |\n| 0.5445933 | 0.3104381 |\n| 0.5445933 | 0.3104381 |\n| 0.5445933 | 0.3104381 |\n| 0.5445933 | 0.3104381 |\n| 0.5445933 | 0.3104381 |\n| 0.5445933 | 0.3104381 |\n| 0.5445933 | 0.3104381 |\n| 0.5445933 | 0.3104381 |\n| 0.5445933 | 0.3104381 |\n| 0.5445933 | 0.3104381 |\n| 0.5445933 | 0.3104381 |\n| 0.5445933 | 0.3104381 |\n| 0.5445933 | 0.3104381 |\n| 0.5445933 | 0.3104381 |\n| 0.5445933 | 0.3104381 |\n| 0.5445933 | 0.3104381 |\n| 0.5445933 | 0.3104381 |\n| 0.5445933 | 0.3104381 |\n| 0.5445933 | 0.3104381 |\n| 0.5445933 | 0.3104381 |\n| 0.5445933 | 0.3104381 |\n| 0.5445933 | 0.3104381 |\n| 0.5445933 | 0.3104381 |\n\n",
            "text/latex": "A data.frame: 1500 × 2\n\\begin{tabular}{ll}\n Lopez & Uribe\\\\\n <dbl> & <dbl>\\\\\n\\hline\n\t 0.544593334 & 3.104381e-01\\\\\n\t 0.544593334 & 3.104381e-01\\\\\n\t 0.020600343 & 5.093934e-02\\\\\n\t 0.492895246 & 4.581474e-01\\\\\n\t 0.989095867 & 1.090410e-02\\\\\n\t 0.472284734 & 1.566311e-01\\\\\n\t 0.020600343 & 5.093934e-02\\\\\n\t 0.213167503 & 7.438444e-01\\\\\n\t 0.020600343 & 5.093934e-02\\\\\n\t 0.103840150 & 8.023911e-01\\\\\n\t 0.020600343 & 5.093934e-02\\\\\n\t 0.544593334 & 3.104381e-01\\\\\n\t 0.061310280 & 2.249105e-01\\\\\n\t 0.327558696 & 3.849237e-01\\\\\n\t 0.063690811 & 2.377385e-01\\\\\n\t 0.020600343 & 5.093934e-02\\\\\n\t 0.658055365 & 2.441471e-01\\\\\n\t 0.025009520 & 6.583975e-02\\\\\n\t 0.544593334 & 3.104381e-01\\\\\n\t 0.102211013 & 8.148795e-01\\\\\n\t 0.857122600 & 1.290779e-01\\\\\n\t 0.001467503 & 9.985325e-01\\\\\n\t 0.636251748 & 3.607085e-01\\\\\n\t 0.488362402 & 3.266005e-01\\\\\n\t 0.544593334 & 3.104381e-01\\\\\n\t 0.035447400 & 1.050043e-01\\\\\n\t 0.999999940 & 1.487502e-08\\\\\n\t 0.130589768 & 7.737002e-01\\\\\n\t 0.544593334 & 3.104381e-01\\\\\n\t 0.615370810 & 3.819250e-01\\\\\n\t ⋮ & ⋮\\\\\n\t 0.5445933 & 0.3104381\\\\\n\t 0.5445933 & 0.3104381\\\\\n\t 0.5445933 & 0.3104381\\\\\n\t 0.5445933 & 0.3104381\\\\\n\t 0.5445933 & 0.3104381\\\\\n\t 0.5445933 & 0.3104381\\\\\n\t 0.5445933 & 0.3104381\\\\\n\t 0.5445933 & 0.3104381\\\\\n\t 0.5445933 & 0.3104381\\\\\n\t 0.5445933 & 0.3104381\\\\\n\t 0.5445933 & 0.3104381\\\\\n\t 0.5445933 & 0.3104381\\\\\n\t 0.5445933 & 0.3104381\\\\\n\t 0.5445933 & 0.3104381\\\\\n\t 0.5445933 & 0.3104381\\\\\n\t 0.5445933 & 0.3104381\\\\\n\t 0.5445933 & 0.3104381\\\\\n\t 0.5445933 & 0.3104381\\\\\n\t 0.5445933 & 0.3104381\\\\\n\t 0.5445933 & 0.3104381\\\\\n\t 0.5445933 & 0.3104381\\\\\n\t 0.5445933 & 0.3104381\\\\\n\t 0.5445933 & 0.3104381\\\\\n\t 0.5445933 & 0.3104381\\\\\n\t 0.5445933 & 0.3104381\\\\\n\t 0.5445933 & 0.3104381\\\\\n\t 0.5445933 & 0.3104381\\\\\n\t 0.5445933 & 0.3104381\\\\\n\t 0.5445933 & 0.3104381\\\\\n\t 0.5445933 & 0.3104381\\\\\n\\end{tabular}\n",
            "text/plain": [
              "     Lopez       Uribe       \n",
              "1    0.544593334 3.104381e-01\n",
              "2    0.544593334 3.104381e-01\n",
              "3    0.020600343 5.093934e-02\n",
              "4    0.492895246 4.581474e-01\n",
              "5    0.989095867 1.090410e-02\n",
              "6    0.472284734 1.566311e-01\n",
              "7    0.020600343 5.093934e-02\n",
              "8    0.213167503 7.438444e-01\n",
              "9    0.020600343 5.093934e-02\n",
              "10   0.103840150 8.023911e-01\n",
              "11   0.020600343 5.093934e-02\n",
              "12   0.544593334 3.104381e-01\n",
              "13   0.061310280 2.249105e-01\n",
              "14   0.327558696 3.849237e-01\n",
              "15   0.063690811 2.377385e-01\n",
              "16   0.020600343 5.093934e-02\n",
              "17   0.658055365 2.441471e-01\n",
              "18   0.025009520 6.583975e-02\n",
              "19   0.544593334 3.104381e-01\n",
              "20   0.102211013 8.148795e-01\n",
              "21   0.857122600 1.290779e-01\n",
              "22   0.001467503 9.985325e-01\n",
              "23   0.636251748 3.607085e-01\n",
              "24   0.488362402 3.266005e-01\n",
              "25   0.544593334 3.104381e-01\n",
              "26   0.035447400 1.050043e-01\n",
              "27   0.999999940 1.487502e-08\n",
              "28   0.130589768 7.737002e-01\n",
              "29   0.544593334 3.104381e-01\n",
              "30   0.615370810 3.819250e-01\n",
              "⋮    ⋮           ⋮           \n",
              "1471 0.5445933   0.3104381   \n",
              "1472 0.5445933   0.3104381   \n",
              "1473 0.5445933   0.3104381   \n",
              "1474 0.5445933   0.3104381   \n",
              "1475 0.5445933   0.3104381   \n",
              "1476 0.5445933   0.3104381   \n",
              "1477 0.5445933   0.3104381   \n",
              "1478 0.5445933   0.3104381   \n",
              "1479 0.5445933   0.3104381   \n",
              "1480 0.5445933   0.3104381   \n",
              "1481 0.5445933   0.3104381   \n",
              "1482 0.5445933   0.3104381   \n",
              "1483 0.5445933   0.3104381   \n",
              "1484 0.5445933   0.3104381   \n",
              "1485 0.5445933   0.3104381   \n",
              "1486 0.5445933   0.3104381   \n",
              "1487 0.5445933   0.3104381   \n",
              "1488 0.5445933   0.3104381   \n",
              "1489 0.5445933   0.3104381   \n",
              "1490 0.5445933   0.3104381   \n",
              "1491 0.5445933   0.3104381   \n",
              "1492 0.5445933   0.3104381   \n",
              "1493 0.5445933   0.3104381   \n",
              "1494 0.5445933   0.3104381   \n",
              "1495 0.5445933   0.3104381   \n",
              "1496 0.5445933   0.3104381   \n",
              "1497 0.5445933   0.3104381   \n",
              "1498 0.5445933   0.3104381   \n",
              "1499 0.5445933   0.3104381   \n",
              "1500 0.5445933   0.3104381   "
            ]
          },
          "metadata": {}
        }
      ]
    },
    {
      "cell_type": "code",
      "source": [
        "y_hat <- y_hat %>% mutate(name=names(.)[max.col(.)]) #Saca el la columna con el máximo valor predicho"
      ],
      "metadata": {
        "id": "sW2VsvnJN9G4"
      },
      "execution_count": 27,
      "outputs": []
    },
    {
      "cell_type": "code",
      "source": [
        "name <- as.matrix(y_hat$name)"
      ],
      "metadata": {
        "id": "tTb8vVtJN_o_"
      },
      "execution_count": 28,
      "outputs": []
    },
    {
      "cell_type": "code",
      "source": [
        "id <- as.matrix(test$id)"
      ],
      "metadata": {
        "id": "iRFBvVf7OCw6"
      },
      "execution_count": 29,
      "outputs": []
    },
    {
      "cell_type": "code",
      "source": [
        "predict <- data.frame(\n",
        "  id = id,\n",
        "  name = name \n",
        ")"
      ],
      "metadata": {
        "id": "PU7fn-EFOFAn"
      },
      "execution_count": 30,
      "outputs": []
    },
    {
      "cell_type": "code",
      "source": [
        "write.csv(predict, \"predict.csv\", row.names = FALSE)"
      ],
      "metadata": {
        "id": "MggLX9O8OHIn"
      },
      "execution_count": 31,
      "outputs": []
    },
    {
      "cell_type": "markdown",
      "source": [
        "## Modelo 2\n",
        "\n",
        "Se utiliza solo las variables de expresiones regulares "
      ],
      "metadata": {
        "id": "zOG9AuZ_Xlut"
      }
    },
    {
      "cell_type": "code",
      "source": [
        "x_train_dos <-  subset(x_train, select = c(Bogota, colombiahumana, cundinamarcar, concejo,  gobierno ,socialismo ,  fascismo, transmilenio, covid, distrital, estacion, ciudad, cuidar, joven, vacunacion, mujer, pacto, social, dejar, paz, vida, usd, onzar, solidaridad, democracia, familia, medellin  ))"
      ],
      "metadata": {
        "id": "lT7-wYw3Xtdq"
      },
      "execution_count": 32,
      "outputs": []
    },
    {
      "cell_type": "code",
      "source": [
        "Test_dos <-  subset(Test, select = c(Bogota, colombiahumana, cundinamarcar, concejo,  gobierno ,socialismo ,  fascismo, transmilenio, covid, distrital, estacion, ciudad, cuidar, joven, vacunacion, mujer, pacto, social, dejar, paz, vida, usd, onzar, solidaridad, democracia, familia, medellin  ))"
      ],
      "metadata": {
        "id": "q5K80gLeYs2M"
      },
      "execution_count": 33,
      "outputs": []
    },
    {
      "cell_type": "code",
      "source": [
        "dim(Test_dos)\n",
        "head(Test_dos)"
      ],
      "metadata": {
        "colab": {
          "base_uri": "https://localhost:8080/",
          "height": 292
        },
        "id": "NOS_97AaY3I5",
        "outputId": "564292ff-d79d-4166-cfb5-b49324a9e461"
      },
      "execution_count": 34,
      "outputs": [
        {
          "output_type": "display_data",
          "data": {
            "text/html": [
              "<style>\n",
              ".list-inline {list-style: none; margin:0; padding: 0}\n",
              ".list-inline>li {display: inline-block}\n",
              ".list-inline>li:not(:last-child)::after {content: \"\\00b7\"; padding: 0 .5ex}\n",
              "</style>\n",
              "<ol class=list-inline><li>1500</li><li>27</li></ol>\n"
            ],
            "text/markdown": "1. 1500\n2. 27\n\n\n",
            "text/latex": "\\begin{enumerate*}\n\\item 1500\n\\item 27\n\\end{enumerate*}\n",
            "text/plain": [
              "[1] 1500   27"
            ]
          },
          "metadata": {}
        },
        {
          "output_type": "display_data",
          "data": {
            "text/html": [
              "<table class=\"dataframe\">\n",
              "<caption>A matrix: 6 × 27 of type dbl</caption>\n",
              "<thead>\n",
              "\t<tr><th scope=col>Bogota</th><th scope=col>colombiahumana</th><th scope=col>cundinamarcar</th><th scope=col>concejo</th><th scope=col>gobierno</th><th scope=col>socialismo</th><th scope=col>fascismo</th><th scope=col>transmilenio</th><th scope=col>covid</th><th scope=col>distrital</th><th scope=col>⋯</th><th scope=col>social</th><th scope=col>dejar</th><th scope=col>paz</th><th scope=col>vida</th><th scope=col>usd</th><th scope=col>onzar</th><th scope=col>solidaridad</th><th scope=col>democracia</th><th scope=col>familia</th><th scope=col>medellin</th></tr>\n",
              "</thead>\n",
              "<tbody>\n",
              "\t<tr><td>0</td><td>0</td><td>0</td><td>0</td><td>0</td><td>0</td><td>0</td><td>0</td><td>0</td><td>0</td><td>⋯</td><td>0</td><td>0</td><td>0</td><td>0</td><td>0</td><td>0</td><td>0</td><td>0</td><td>0</td><td>0</td></tr>\n",
              "\t<tr><td>0</td><td>0</td><td>0</td><td>0</td><td>0</td><td>0</td><td>0</td><td>0</td><td>0</td><td>0</td><td>⋯</td><td>0</td><td>0</td><td>0</td><td>0</td><td>0</td><td>0</td><td>0</td><td>0</td><td>0</td><td>0</td></tr>\n",
              "\t<tr><td>0</td><td>0</td><td>0</td><td>0</td><td>0</td><td>0</td><td>0</td><td>0</td><td>0</td><td>0</td><td>⋯</td><td>0</td><td>0</td><td>0</td><td>0</td><td>0</td><td>0</td><td>0</td><td>0</td><td>0</td><td>0</td></tr>\n",
              "\t<tr><td>0</td><td>0</td><td>0</td><td>0</td><td>0</td><td>0</td><td>0</td><td>0</td><td>0</td><td>0</td><td>⋯</td><td>0</td><td>0</td><td>0</td><td>0</td><td>0</td><td>0</td><td>0</td><td>0</td><td>0</td><td>0</td></tr>\n",
              "\t<tr><td>0</td><td>0</td><td>0</td><td>0</td><td>0</td><td>0</td><td>0</td><td>0</td><td>0</td><td>0</td><td>⋯</td><td>0</td><td>0</td><td>0</td><td>0</td><td>0</td><td>0</td><td>0</td><td>0</td><td>0</td><td>0</td></tr>\n",
              "\t<tr><td>0</td><td>0</td><td>0</td><td>0</td><td>0</td><td>0</td><td>0</td><td>0</td><td>0</td><td>0</td><td>⋯</td><td>0</td><td>0</td><td>1</td><td>1</td><td>0</td><td>0</td><td>0</td><td>0</td><td>0</td><td>0</td></tr>\n",
              "</tbody>\n",
              "</table>\n"
            ],
            "text/markdown": "\nA matrix: 6 × 27 of type dbl\n\n| Bogota | colombiahumana | cundinamarcar | concejo | gobierno | socialismo | fascismo | transmilenio | covid | distrital | ⋯ | social | dejar | paz | vida | usd | onzar | solidaridad | democracia | familia | medellin |\n|---|---|---|---|---|---|---|---|---|---|---|---|---|---|---|---|---|---|---|---|---|\n| 0 | 0 | 0 | 0 | 0 | 0 | 0 | 0 | 0 | 0 | ⋯ | 0 | 0 | 0 | 0 | 0 | 0 | 0 | 0 | 0 | 0 |\n| 0 | 0 | 0 | 0 | 0 | 0 | 0 | 0 | 0 | 0 | ⋯ | 0 | 0 | 0 | 0 | 0 | 0 | 0 | 0 | 0 | 0 |\n| 0 | 0 | 0 | 0 | 0 | 0 | 0 | 0 | 0 | 0 | ⋯ | 0 | 0 | 0 | 0 | 0 | 0 | 0 | 0 | 0 | 0 |\n| 0 | 0 | 0 | 0 | 0 | 0 | 0 | 0 | 0 | 0 | ⋯ | 0 | 0 | 0 | 0 | 0 | 0 | 0 | 0 | 0 | 0 |\n| 0 | 0 | 0 | 0 | 0 | 0 | 0 | 0 | 0 | 0 | ⋯ | 0 | 0 | 0 | 0 | 0 | 0 | 0 | 0 | 0 | 0 |\n| 0 | 0 | 0 | 0 | 0 | 0 | 0 | 0 | 0 | 0 | ⋯ | 0 | 0 | 1 | 1 | 0 | 0 | 0 | 0 | 0 | 0 |\n\n",
            "text/latex": "A matrix: 6 × 27 of type dbl\n\\begin{tabular}{lllllllllllllllllllll}\n Bogota & colombiahumana & cundinamarcar & concejo & gobierno & socialismo & fascismo & transmilenio & covid & distrital & ⋯ & social & dejar & paz & vida & usd & onzar & solidaridad & democracia & familia & medellin\\\\\n\\hline\n\t 0 & 0 & 0 & 0 & 0 & 0 & 0 & 0 & 0 & 0 & ⋯ & 0 & 0 & 0 & 0 & 0 & 0 & 0 & 0 & 0 & 0\\\\\n\t 0 & 0 & 0 & 0 & 0 & 0 & 0 & 0 & 0 & 0 & ⋯ & 0 & 0 & 0 & 0 & 0 & 0 & 0 & 0 & 0 & 0\\\\\n\t 0 & 0 & 0 & 0 & 0 & 0 & 0 & 0 & 0 & 0 & ⋯ & 0 & 0 & 0 & 0 & 0 & 0 & 0 & 0 & 0 & 0\\\\\n\t 0 & 0 & 0 & 0 & 0 & 0 & 0 & 0 & 0 & 0 & ⋯ & 0 & 0 & 0 & 0 & 0 & 0 & 0 & 0 & 0 & 0\\\\\n\t 0 & 0 & 0 & 0 & 0 & 0 & 0 & 0 & 0 & 0 & ⋯ & 0 & 0 & 0 & 0 & 0 & 0 & 0 & 0 & 0 & 0\\\\\n\t 0 & 0 & 0 & 0 & 0 & 0 & 0 & 0 & 0 & 0 & ⋯ & 0 & 0 & 1 & 1 & 0 & 0 & 0 & 0 & 0 & 0\\\\\n\\end{tabular}\n",
            "text/plain": [
              "     Bogota colombiahumana cundinamarcar concejo gobierno socialismo fascismo\n",
              "[1,] 0      0              0             0       0        0          0       \n",
              "[2,] 0      0              0             0       0        0          0       \n",
              "[3,] 0      0              0             0       0        0          0       \n",
              "[4,] 0      0              0             0       0        0          0       \n",
              "[5,] 0      0              0             0       0        0          0       \n",
              "[6,] 0      0              0             0       0        0          0       \n",
              "     transmilenio covid distrital ⋯ social dejar paz vida usd onzar solidaridad\n",
              "[1,] 0            0     0         ⋯ 0      0     0   0    0   0     0          \n",
              "[2,] 0            0     0         ⋯ 0      0     0   0    0   0     0          \n",
              "[3,] 0            0     0         ⋯ 0      0     0   0    0   0     0          \n",
              "[4,] 0            0     0         ⋯ 0      0     0   0    0   0     0          \n",
              "[5,] 0            0     0         ⋯ 0      0     0   0    0   0     0          \n",
              "[6,] 0            0     0         ⋯ 0      0     1   1    0   0     0          \n",
              "     democracia familia medellin\n",
              "[1,] 0          0       0       \n",
              "[2,] 0          0       0       \n",
              "[3,] 0          0       0       \n",
              "[4,] 0          0       0       \n",
              "[5,] 0          0       0       \n",
              "[6,] 0          0       0       "
            ]
          },
          "metadata": {}
        }
      ]
    },
    {
      "cell_type": "code",
      "source": [
        "x_train_dos <-  as.matrix(x_train_dos[,0:27])\n",
        "dim(x_train_dos)\n",
        "head(x_train_dos)"
      ],
      "metadata": {
        "colab": {
          "base_uri": "https://localhost:8080/",
          "height": 292
        },
        "id": "_t1vcu6tYz9c",
        "outputId": "a24c736c-a1b6-4ce3-a57a-97f1048dfb5d"
      },
      "execution_count": 35,
      "outputs": [
        {
          "output_type": "display_data",
          "data": {
            "text/html": [
              "<style>\n",
              ".list-inline {list-style: none; margin:0; padding: 0}\n",
              ".list-inline>li {display: inline-block}\n",
              ".list-inline>li:not(:last-child)::after {content: \"\\00b7\"; padding: 0 .5ex}\n",
              "</style>\n",
              "<ol class=list-inline><li>9197</li><li>27</li></ol>\n"
            ],
            "text/markdown": "1. 9197\n2. 27\n\n\n",
            "text/latex": "\\begin{enumerate*}\n\\item 9197\n\\item 27\n\\end{enumerate*}\n",
            "text/plain": [
              "[1] 9197   27"
            ]
          },
          "metadata": {}
        },
        {
          "output_type": "display_data",
          "data": {
            "text/html": [
              "<table class=\"dataframe\">\n",
              "<caption>A matrix: 6 × 27 of type dbl</caption>\n",
              "<thead>\n",
              "\t<tr><th scope=col>Bogota</th><th scope=col>colombiahumana</th><th scope=col>cundinamarcar</th><th scope=col>concejo</th><th scope=col>gobierno</th><th scope=col>socialismo</th><th scope=col>fascismo</th><th scope=col>transmilenio</th><th scope=col>covid</th><th scope=col>distrital</th><th scope=col>⋯</th><th scope=col>social</th><th scope=col>dejar</th><th scope=col>paz</th><th scope=col>vida</th><th scope=col>usd</th><th scope=col>onzar</th><th scope=col>solidaridad</th><th scope=col>democracia</th><th scope=col>familia</th><th scope=col>medellin</th></tr>\n",
              "</thead>\n",
              "<tbody>\n",
              "\t<tr><td>0</td><td>1</td><td>0</td><td>0</td><td>0</td><td>0</td><td>0</td><td>0</td><td>0</td><td>0</td><td>⋯</td><td>0</td><td>0</td><td>0</td><td>0</td><td>0</td><td>0</td><td>0</td><td>0</td><td>0</td><td>0</td></tr>\n",
              "\t<tr><td>0</td><td>0</td><td>1</td><td>0</td><td>0</td><td>0</td><td>0</td><td>0</td><td>0</td><td>0</td><td>⋯</td><td>0</td><td>0</td><td>1</td><td>1</td><td>0</td><td>0</td><td>0</td><td>0</td><td>0</td><td>0</td></tr>\n",
              "\t<tr><td>0</td><td>0</td><td>0</td><td>1</td><td>0</td><td>0</td><td>0</td><td>0</td><td>0</td><td>0</td><td>⋯</td><td>0</td><td>0</td><td>0</td><td>0</td><td>0</td><td>0</td><td>0</td><td>0</td><td>0</td><td>0</td></tr>\n",
              "\t<tr><td>0</td><td>0</td><td>0</td><td>0</td><td>0</td><td>0</td><td>0</td><td>0</td><td>0</td><td>0</td><td>⋯</td><td>0</td><td>0</td><td>0</td><td>0</td><td>0</td><td>0</td><td>0</td><td>0</td><td>0</td><td>0</td></tr>\n",
              "\t<tr><td>0</td><td>0</td><td>0</td><td>0</td><td>1</td><td>0</td><td>0</td><td>0</td><td>0</td><td>0</td><td>⋯</td><td>0</td><td>0</td><td>0</td><td>0</td><td>0</td><td>0</td><td>0</td><td>0</td><td>0</td><td>0</td></tr>\n",
              "\t<tr><td>0</td><td>0</td><td>0</td><td>0</td><td>0</td><td>0</td><td>0</td><td>0</td><td>0</td><td>0</td><td>⋯</td><td>0</td><td>0</td><td>0</td><td>0</td><td>0</td><td>0</td><td>0</td><td>0</td><td>0</td><td>0</td></tr>\n",
              "</tbody>\n",
              "</table>\n"
            ],
            "text/markdown": "\nA matrix: 6 × 27 of type dbl\n\n| Bogota | colombiahumana | cundinamarcar | concejo | gobierno | socialismo | fascismo | transmilenio | covid | distrital | ⋯ | social | dejar | paz | vida | usd | onzar | solidaridad | democracia | familia | medellin |\n|---|---|---|---|---|---|---|---|---|---|---|---|---|---|---|---|---|---|---|---|---|\n| 0 | 1 | 0 | 0 | 0 | 0 | 0 | 0 | 0 | 0 | ⋯ | 0 | 0 | 0 | 0 | 0 | 0 | 0 | 0 | 0 | 0 |\n| 0 | 0 | 1 | 0 | 0 | 0 | 0 | 0 | 0 | 0 | ⋯ | 0 | 0 | 1 | 1 | 0 | 0 | 0 | 0 | 0 | 0 |\n| 0 | 0 | 0 | 1 | 0 | 0 | 0 | 0 | 0 | 0 | ⋯ | 0 | 0 | 0 | 0 | 0 | 0 | 0 | 0 | 0 | 0 |\n| 0 | 0 | 0 | 0 | 0 | 0 | 0 | 0 | 0 | 0 | ⋯ | 0 | 0 | 0 | 0 | 0 | 0 | 0 | 0 | 0 | 0 |\n| 0 | 0 | 0 | 0 | 1 | 0 | 0 | 0 | 0 | 0 | ⋯ | 0 | 0 | 0 | 0 | 0 | 0 | 0 | 0 | 0 | 0 |\n| 0 | 0 | 0 | 0 | 0 | 0 | 0 | 0 | 0 | 0 | ⋯ | 0 | 0 | 0 | 0 | 0 | 0 | 0 | 0 | 0 | 0 |\n\n",
            "text/latex": "A matrix: 6 × 27 of type dbl\n\\begin{tabular}{lllllllllllllllllllll}\n Bogota & colombiahumana & cundinamarcar & concejo & gobierno & socialismo & fascismo & transmilenio & covid & distrital & ⋯ & social & dejar & paz & vida & usd & onzar & solidaridad & democracia & familia & medellin\\\\\n\\hline\n\t 0 & 1 & 0 & 0 & 0 & 0 & 0 & 0 & 0 & 0 & ⋯ & 0 & 0 & 0 & 0 & 0 & 0 & 0 & 0 & 0 & 0\\\\\n\t 0 & 0 & 1 & 0 & 0 & 0 & 0 & 0 & 0 & 0 & ⋯ & 0 & 0 & 1 & 1 & 0 & 0 & 0 & 0 & 0 & 0\\\\\n\t 0 & 0 & 0 & 1 & 0 & 0 & 0 & 0 & 0 & 0 & ⋯ & 0 & 0 & 0 & 0 & 0 & 0 & 0 & 0 & 0 & 0\\\\\n\t 0 & 0 & 0 & 0 & 0 & 0 & 0 & 0 & 0 & 0 & ⋯ & 0 & 0 & 0 & 0 & 0 & 0 & 0 & 0 & 0 & 0\\\\\n\t 0 & 0 & 0 & 0 & 1 & 0 & 0 & 0 & 0 & 0 & ⋯ & 0 & 0 & 0 & 0 & 0 & 0 & 0 & 0 & 0 & 0\\\\\n\t 0 & 0 & 0 & 0 & 0 & 0 & 0 & 0 & 0 & 0 & ⋯ & 0 & 0 & 0 & 0 & 0 & 0 & 0 & 0 & 0 & 0\\\\\n\\end{tabular}\n",
            "text/plain": [
              "     Bogota colombiahumana cundinamarcar concejo gobierno socialismo fascismo\n",
              "[1,] 0      1              0             0       0        0          0       \n",
              "[2,] 0      0              1             0       0        0          0       \n",
              "[3,] 0      0              0             1       0        0          0       \n",
              "[4,] 0      0              0             0       0        0          0       \n",
              "[5,] 0      0              0             0       1        0          0       \n",
              "[6,] 0      0              0             0       0        0          0       \n",
              "     transmilenio covid distrital ⋯ social dejar paz vida usd onzar solidaridad\n",
              "[1,] 0            0     0         ⋯ 0      0     0   0    0   0     0          \n",
              "[2,] 0            0     0         ⋯ 0      0     1   1    0   0     0          \n",
              "[3,] 0            0     0         ⋯ 0      0     0   0    0   0     0          \n",
              "[4,] 0            0     0         ⋯ 0      0     0   0    0   0     0          \n",
              "[5,] 0            0     0         ⋯ 0      0     0   0    0   0     0          \n",
              "[6,] 0            0     0         ⋯ 0      0     0   0    0   0     0          \n",
              "     democracia familia medellin\n",
              "[1,] 0          0       0       \n",
              "[2,] 0          0       0       \n",
              "[3,] 0          0       0       \n",
              "[4,] 0          0       0       \n",
              "[5,] 0          0       0       \n",
              "[6,] 0          0       0       "
            ]
          },
          "metadata": {}
        }
      ]
    },
    {
      "cell_type": "code",
      "source": [
        "y_train_dos <- train$cat\n",
        "y_train_dos <- to_categorical(y_train_dos)\n",
        "\n",
        "class(y_train_dos)"
      ],
      "metadata": {
        "colab": {
          "base_uri": "https://localhost:8080/",
          "height": 34
        },
        "id": "oHW13nsUaCfv",
        "outputId": "4a764906-0c7f-41a4-ce4d-f1ffa488d072"
      },
      "execution_count": 36,
      "outputs": [
        {
          "output_type": "display_data",
          "data": {
            "text/html": [
              "<style>\n",
              ".list-inline {list-style: none; margin:0; padding: 0}\n",
              ".list-inline>li {display: inline-block}\n",
              ".list-inline>li:not(:last-child)::after {content: \"\\00b7\"; padding: 0 .5ex}\n",
              "</style>\n",
              "<ol class=list-inline><li>'matrix'</li><li>'array'</li></ol>\n"
            ],
            "text/markdown": "1. 'matrix'\n2. 'array'\n\n\n",
            "text/latex": "\\begin{enumerate*}\n\\item 'matrix'\n\\item 'array'\n\\end{enumerate*}\n",
            "text/plain": [
              "[1] \"matrix\" \"array\" "
            ]
          },
          "metadata": {}
        }
      ]
    },
    {
      "cell_type": "code",
      "source": [
        "Test_dos <-  as.matrix(Test_dos[,0:27])"
      ],
      "metadata": {
        "id": "DXBWX_k-ZFI6"
      },
      "execution_count": 37,
      "outputs": []
    },
    {
      "cell_type": "code",
      "source": [
        "model2 <- keras_model_sequential() \n",
        "model2 %>% \n",
        "  layer_dense(units = 10, activation = 'softmax', input_shape =ncol(x_train_dos)) %>% \n",
        "  layer_dense(units = 2, activation = 'relu') %>%\n",
        "  layer_dense(units = 4, activation = 'sigmoid')"
      ],
      "metadata": {
        "id": "neQs4YysZP0-"
      },
      "execution_count": 53,
      "outputs": []
    },
    {
      "cell_type": "code",
      "source": [
        "model2 %>% compile(\n",
        "  optimizer = 'adam',\n",
        "  loss = 'categorical_crossentropy',\n",
        "  metrics = c('accuracy')\n",
        ")"
      ],
      "metadata": {
        "id": "w38UWQNtZTVr"
      },
      "execution_count": 54,
      "outputs": []
    },
    {
      "cell_type": "code",
      "source": [
        "history <- model2 %>% fit(\n",
        "  x_train_dos, y_train_dos, \n",
        "  epochs = 10, \n",
        "  batch_size = 10,\n",
        "  validation_split = 0.2\n",
        ")"
      ],
      "metadata": {
        "id": "JxmKlDdqZWiM"
      },
      "execution_count": 55,
      "outputs": []
    },
    {
      "cell_type": "code",
      "source": [
        "plot(history)"
      ],
      "metadata": {
        "colab": {
          "base_uri": "https://localhost:8080/",
          "height": 437
        },
        "id": "F5hU8fMoZZU0",
        "outputId": "15f56eed-2f81-42a1-fa12-e97386aa4fcb"
      },
      "execution_count": 56,
      "outputs": [
        {
          "output_type": "display_data",
          "data": {
            "text/plain": [
              "plot without title"
            ],
            "image/png": "[encoded data removed]"
          },
          "metadata": {
            "image/png": {
              "width": 420,
              "height": 420
            }
          }
        }
      ]
    },
    {
      "cell_type": "code",
      "source": [
        "dim(Test_dos)"
      ],
      "metadata": {
        "colab": {
          "base_uri": "https://localhost:8080/",
          "height": 34
        },
        "id": "tiblbFZ0byeD",
        "outputId": "69bc3afa-ec1c-4580-b57b-f0559e6db723"
      },
      "execution_count": 57,
      "outputs": [
        {
          "output_type": "display_data",
          "data": {
            "text/html": [
              "<style>\n",
              ".list-inline {list-style: none; margin:0; padding: 0}\n",
              ".list-inline>li {display: inline-block}\n",
              ".list-inline>li:not(:last-child)::after {content: \"\\00b7\"; padding: 0 .5ex}\n",
              "</style>\n",
              "<ol class=list-inline><li>1500</li><li>27</li></ol>\n"
            ],
            "text/markdown": "1. 1500\n2. 27\n\n\n",
            "text/latex": "\\begin{enumerate*}\n\\item 1500\n\\item 27\n\\end{enumerate*}\n",
            "text/plain": [
              "[1] 1500   27"
            ]
          },
          "metadata": {}
        }
      ]
    },
    {
      "cell_type": "code",
      "source": [
        "y_hat_dos <- model2  %>% predict(Test_dos)"
      ],
      "metadata": {
        "id": "oyytSwaQboPl"
      },
      "execution_count": 58,
      "outputs": []
    },
    {
      "cell_type": "code",
      "source": [
        "y_hat_dos <- as.data.frame(y_hat_dos)\n",
        "colnames(y_hat_dos)[which(names(y_hat_dos) == \"V2\")] <- \"Lopez\"\n",
        "colnames(y_hat_dos)[which(names(y_hat_dos) == \"V3\")] <- \"Uribe\"\n",
        "colnames(y_hat_dos)[which(names(y_hat_dos) == \"V4\")] <- \"Petro\"\n",
        "y_hat_dos <- y_hat_dos[-1]"
      ],
      "metadata": {
        "id": "96SBpBl6cPDB"
      },
      "execution_count": 59,
      "outputs": []
    },
    {
      "cell_type": "code",
      "source": [
        "y_hat_dos <- y_hat_dos %>% mutate(name=names(.)[max.col(.)]) #Saca el la columna con el máximo valor predicho"
      ],
      "metadata": {
        "id": "mzUFEttScamu"
      },
      "execution_count": 60,
      "outputs": []
    },
    {
      "cell_type": "code",
      "source": [
        "name <- as.matrix(y_hat_dos$name)"
      ],
      "metadata": {
        "id": "mBEd3YoDcikF"
      },
      "execution_count": 61,
      "outputs": []
    },
    {
      "cell_type": "code",
      "source": [
        "id <- as.matrix(test$id)"
      ],
      "metadata": {
        "id": "Jp5rcHQ0cn47"
      },
      "execution_count": 62,
      "outputs": []
    },
    {
      "cell_type": "code",
      "source": [
        "y_hat_dos"
      ],
      "metadata": {
        "colab": {
          "base_uri": "https://localhost:8080/",
          "height": 1000
        },
        "id": "rAPCF2umc1Tb",
        "outputId": "59e21769-915e-4067-e3a0-4f4ad9950593"
      },
      "execution_count": 63,
      "outputs": [
        {
          "output_type": "display_data",
          "data": {
            "text/html": [
              "<table class=\"dataframe\">\n",
              "<caption>A data.frame: 1500 × 4</caption>\n",
              "<thead>\n",
              "\t<tr><th scope=col>Lopez</th><th scope=col>Uribe</th><th scope=col>Petro</th><th scope=col>name</th></tr>\n",
              "\t<tr><th scope=col>&lt;dbl&gt;</th><th scope=col>&lt;dbl&gt;</th><th scope=col>&lt;dbl&gt;</th><th scope=col>&lt;chr&gt;</th></tr>\n",
              "</thead>\n",
              "<tbody>\n",
              "\t<tr><td>0.8562610</td><td>0.8789775</td><td>0.8620940</td><td>Uribe</td></tr>\n",
              "\t<tr><td>0.8562610</td><td>0.8789775</td><td>0.8620940</td><td>Uribe</td></tr>\n",
              "\t<tr><td>0.8562610</td><td>0.8789775</td><td>0.8620940</td><td>Uribe</td></tr>\n",
              "\t<tr><td>0.8562610</td><td>0.8789775</td><td>0.8620940</td><td>Uribe</td></tr>\n",
              "\t<tr><td>0.8562610</td><td>0.8789775</td><td>0.8620940</td><td>Uribe</td></tr>\n",
              "\t<tr><td>0.9369175</td><td>0.5467699</td><td>0.7456353</td><td>Lopez</td></tr>\n",
              "\t<tr><td>0.8562610</td><td>0.8789775</td><td>0.8620940</td><td>Uribe</td></tr>\n",
              "\t<tr><td>0.8562610</td><td>0.8789775</td><td>0.8620940</td><td>Uribe</td></tr>\n",
              "\t<tr><td>0.8562610</td><td>0.8789775</td><td>0.8620940</td><td>Uribe</td></tr>\n",
              "\t<tr><td>0.8562610</td><td>0.8789775</td><td>0.8620940</td><td>Uribe</td></tr>\n",
              "\t<tr><td>0.9643421</td><td>0.5192056</td><td>0.7482431</td><td>Lopez</td></tr>\n",
              "\t<tr><td>0.8562610</td><td>0.8789775</td><td>0.8620940</td><td>Uribe</td></tr>\n",
              "\t<tr><td>0.8893579</td><td>0.7997714</td><td>0.8292085</td><td>Lopez</td></tr>\n",
              "\t<tr><td>0.9556209</td><td>0.6357586</td><td>0.7847656</td><td>Lopez</td></tr>\n",
              "\t<tr><td>0.9118927</td><td>0.6939084</td><td>0.7920158</td><td>Lopez</td></tr>\n",
              "\t<tr><td>0.8562610</td><td>0.8789775</td><td>0.8620940</td><td>Uribe</td></tr>\n",
              "\t<tr><td>0.8562610</td><td>0.8789775</td><td>0.8620940</td><td>Uribe</td></tr>\n",
              "\t<tr><td>0.9625806</td><td>0.6348995</td><td>0.7877988</td><td>Lopez</td></tr>\n",
              "\t<tr><td>0.8562610</td><td>0.8789775</td><td>0.8620940</td><td>Uribe</td></tr>\n",
              "\t<tr><td>0.8562610</td><td>0.8789775</td><td>0.8620940</td><td>Uribe</td></tr>\n",
              "\t<tr><td>0.8562610</td><td>0.8789775</td><td>0.8620940</td><td>Uribe</td></tr>\n",
              "\t<tr><td>0.7404484</td><td>0.7947310</td><td>0.8099406</td><td>Petro</td></tr>\n",
              "\t<tr><td>0.8505734</td><td>0.9755086</td><td>0.9335309</td><td>Uribe</td></tr>\n",
              "\t<tr><td>0.8562610</td><td>0.8789775</td><td>0.8620940</td><td>Uribe</td></tr>\n",
              "\t<tr><td>0.8562610</td><td>0.8789775</td><td>0.8620940</td><td>Uribe</td></tr>\n",
              "\t<tr><td>0.9625806</td><td>0.6348995</td><td>0.7877988</td><td>Lopez</td></tr>\n",
              "\t<tr><td>0.8616344</td><td>0.9781399</td><td>0.9374933</td><td>Uribe</td></tr>\n",
              "\t<tr><td>0.8562610</td><td>0.8789775</td><td>0.8620940</td><td>Uribe</td></tr>\n",
              "\t<tr><td>0.8562610</td><td>0.8789775</td><td>0.8620940</td><td>Uribe</td></tr>\n",
              "\t<tr><td>0.8562610</td><td>0.8789775</td><td>0.8620940</td><td>Uribe</td></tr>\n",
              "\t<tr><td>⋮</td><td>⋮</td><td>⋮</td><td>⋮</td></tr>\n",
              "\t<tr><td>0.856261</td><td>0.8789775</td><td>0.862094</td><td>Uribe</td></tr>\n",
              "\t<tr><td>0.856261</td><td>0.8789775</td><td>0.862094</td><td>Uribe</td></tr>\n",
              "\t<tr><td>0.856261</td><td>0.8789775</td><td>0.862094</td><td>Uribe</td></tr>\n",
              "\t<tr><td>0.856261</td><td>0.8789775</td><td>0.862094</td><td>Uribe</td></tr>\n",
              "\t<tr><td>0.856261</td><td>0.8789775</td><td>0.862094</td><td>Uribe</td></tr>\n",
              "\t<tr><td>0.856261</td><td>0.8789775</td><td>0.862094</td><td>Uribe</td></tr>\n",
              "\t<tr><td>0.856261</td><td>0.8789775</td><td>0.862094</td><td>Uribe</td></tr>\n",
              "\t<tr><td>0.856261</td><td>0.8789775</td><td>0.862094</td><td>Uribe</td></tr>\n",
              "\t<tr><td>0.856261</td><td>0.8789775</td><td>0.862094</td><td>Uribe</td></tr>\n",
              "\t<tr><td>0.856261</td><td>0.8789775</td><td>0.862094</td><td>Uribe</td></tr>\n",
              "\t<tr><td>0.856261</td><td>0.8789775</td><td>0.862094</td><td>Uribe</td></tr>\n",
              "\t<tr><td>0.856261</td><td>0.8789775</td><td>0.862094</td><td>Uribe</td></tr>\n",
              "\t<tr><td>0.856261</td><td>0.8789775</td><td>0.862094</td><td>Uribe</td></tr>\n",
              "\t<tr><td>0.856261</td><td>0.8789775</td><td>0.862094</td><td>Uribe</td></tr>\n",
              "\t<tr><td>0.856261</td><td>0.8789775</td><td>0.862094</td><td>Uribe</td></tr>\n",
              "\t<tr><td>0.856261</td><td>0.8789775</td><td>0.862094</td><td>Uribe</td></tr>\n",
              "\t<tr><td>0.856261</td><td>0.8789775</td><td>0.862094</td><td>Uribe</td></tr>\n",
              "\t<tr><td>0.856261</td><td>0.8789775</td><td>0.862094</td><td>Uribe</td></tr>\n",
              "\t<tr><td>0.856261</td><td>0.8789775</td><td>0.862094</td><td>Uribe</td></tr>\n",
              "\t<tr><td>0.856261</td><td>0.8789775</td><td>0.862094</td><td>Uribe</td></tr>\n",
              "\t<tr><td>0.856261</td><td>0.8789775</td><td>0.862094</td><td>Uribe</td></tr>\n",
              "\t<tr><td>0.856261</td><td>0.8789775</td><td>0.862094</td><td>Uribe</td></tr>\n",
              "\t<tr><td>0.856261</td><td>0.8789775</td><td>0.862094</td><td>Uribe</td></tr>\n",
              "\t<tr><td>0.856261</td><td>0.8789775</td><td>0.862094</td><td>Uribe</td></tr>\n",
              "\t<tr><td>0.856261</td><td>0.8789775</td><td>0.862094</td><td>Uribe</td></tr>\n",
              "\t<tr><td>0.856261</td><td>0.8789775</td><td>0.862094</td><td>Uribe</td></tr>\n",
              "\t<tr><td>0.856261</td><td>0.8789775</td><td>0.862094</td><td>Uribe</td></tr>\n",
              "\t<tr><td>0.856261</td><td>0.8789775</td><td>0.862094</td><td>Uribe</td></tr>\n",
              "\t<tr><td>0.856261</td><td>0.8789775</td><td>0.862094</td><td>Uribe</td></tr>\n",
              "\t<tr><td>0.856261</td><td>0.8789775</td><td>0.862094</td><td>Uribe</td></tr>\n",
              "</tbody>\n",
              "</table>\n"
            ],
            "text/markdown": "\nA data.frame: 1500 × 4\n\n| Lopez &lt;dbl&gt; | Uribe &lt;dbl&gt; | Petro &lt;dbl&gt; | name &lt;chr&gt; |\n|---|---|---|---|\n| 0.8562610 | 0.8789775 | 0.8620940 | Uribe |\n| 0.8562610 | 0.8789775 | 0.8620940 | Uribe |\n| 0.8562610 | 0.8789775 | 0.8620940 | Uribe |\n| 0.8562610 | 0.8789775 | 0.8620940 | Uribe |\n| 0.8562610 | 0.8789775 | 0.8620940 | Uribe |\n| 0.9369175 | 0.5467699 | 0.7456353 | Lopez |\n| 0.8562610 | 0.8789775 | 0.8620940 | Uribe |\n| 0.8562610 | 0.8789775 | 0.8620940 | Uribe |\n| 0.8562610 | 0.8789775 | 0.8620940 | Uribe |\n| 0.8562610 | 0.8789775 | 0.8620940 | Uribe |\n| 0.9643421 | 0.5192056 | 0.7482431 | Lopez |\n| 0.8562610 | 0.8789775 | 0.8620940 | Uribe |\n| 0.8893579 | 0.7997714 | 0.8292085 | Lopez |\n| 0.9556209 | 0.6357586 | 0.7847656 | Lopez |\n| 0.9118927 | 0.6939084 | 0.7920158 | Lopez |\n| 0.8562610 | 0.8789775 | 0.8620940 | Uribe |\n| 0.8562610 | 0.8789775 | 0.8620940 | Uribe |\n| 0.9625806 | 0.6348995 | 0.7877988 | Lopez |\n| 0.8562610 | 0.8789775 | 0.8620940 | Uribe |\n| 0.8562610 | 0.8789775 | 0.8620940 | Uribe |\n| 0.8562610 | 0.8789775 | 0.8620940 | Uribe |\n| 0.7404484 | 0.7947310 | 0.8099406 | Petro |\n| 0.8505734 | 0.9755086 | 0.9335309 | Uribe |\n| 0.8562610 | 0.8789775 | 0.8620940 | Uribe |\n| 0.8562610 | 0.8789775 | 0.8620940 | Uribe |\n| 0.9625806 | 0.6348995 | 0.7877988 | Lopez |\n| 0.8616344 | 0.9781399 | 0.9374933 | Uribe |\n| 0.8562610 | 0.8789775 | 0.8620940 | Uribe |\n| 0.8562610 | 0.8789775 | 0.8620940 | Uribe |\n| 0.8562610 | 0.8789775 | 0.8620940 | Uribe |\n| ⋮ | ⋮ | ⋮ | ⋮ |\n| 0.856261 | 0.8789775 | 0.862094 | Uribe |\n| 0.856261 | 0.8789775 | 0.862094 | Uribe |\n| 0.856261 | 0.8789775 | 0.862094 | Uribe |\n| 0.856261 | 0.8789775 | 0.862094 | Uribe |\n| 0.856261 | 0.8789775 | 0.862094 | Uribe |\n| 0.856261 | 0.8789775 | 0.862094 | Uribe |\n| 0.856261 | 0.8789775 | 0.862094 | Uribe |\n| 0.856261 | 0.8789775 | 0.862094 | Uribe |\n| 0.856261 | 0.8789775 | 0.862094 | Uribe |\n| 0.856261 | 0.8789775 | 0.862094 | Uribe |\n| 0.856261 | 0.8789775 | 0.862094 | Uribe |\n| 0.856261 | 0.8789775 | 0.862094 | Uribe |\n| 0.856261 | 0.8789775 | 0.862094 | Uribe |\n| 0.856261 | 0.8789775 | 0.862094 | Uribe |\n| 0.856261 | 0.8789775 | 0.862094 | Uribe |\n| 0.856261 | 0.8789775 | 0.862094 | Uribe |\n| 0.856261 | 0.8789775 | 0.862094 | Uribe |\n| 0.856261 | 0.8789775 | 0.862094 | Uribe |\n| 0.856261 | 0.8789775 | 0.862094 | Uribe |\n| 0.856261 | 0.8789775 | 0.862094 | Uribe |\n| 0.856261 | 0.8789775 | 0.862094 | Uribe |\n| 0.856261 | 0.8789775 | 0.862094 | Uribe |\n| 0.856261 | 0.8789775 | 0.862094 | Uribe |\n| 0.856261 | 0.8789775 | 0.862094 | Uribe |\n| 0.856261 | 0.8789775 | 0.862094 | Uribe |\n| 0.856261 | 0.8789775 | 0.862094 | Uribe |\n| 0.856261 | 0.8789775 | 0.862094 | Uribe |\n| 0.856261 | 0.8789775 | 0.862094 | Uribe |\n| 0.856261 | 0.8789775 | 0.862094 | Uribe |\n| 0.856261 | 0.8789775 | 0.862094 | Uribe |\n\n",
            "text/latex": "A data.frame: 1500 × 4\n\\begin{tabular}{llll}\n Lopez & Uribe & Petro & name\\\\\n <dbl> & <dbl> & <dbl> & <chr>\\\\\n\\hline\n\t 0.8562610 & 0.8789775 & 0.8620940 & Uribe\\\\\n\t 0.8562610 & 0.8789775 & 0.8620940 & Uribe\\\\\n\t 0.8562610 & 0.8789775 & 0.8620940 & Uribe\\\\\n\t 0.8562610 & 0.8789775 & 0.8620940 & Uribe\\\\\n\t 0.8562610 & 0.8789775 & 0.8620940 & Uribe\\\\\n\t 0.9369175 & 0.5467699 & 0.7456353 & Lopez\\\\\n\t 0.8562610 & 0.8789775 & 0.8620940 & Uribe\\\\\n\t 0.8562610 & 0.8789775 & 0.8620940 & Uribe\\\\\n\t 0.8562610 & 0.8789775 & 0.8620940 & Uribe\\\\\n\t 0.8562610 & 0.8789775 & 0.8620940 & Uribe\\\\\n\t 0.9643421 & 0.5192056 & 0.7482431 & Lopez\\\\\n\t 0.8562610 & 0.8789775 & 0.8620940 & Uribe\\\\\n\t 0.8893579 & 0.7997714 & 0.8292085 & Lopez\\\\\n\t 0.9556209 & 0.6357586 & 0.7847656 & Lopez\\\\\n\t 0.9118927 & 0.6939084 & 0.7920158 & Lopez\\\\\n\t 0.8562610 & 0.8789775 & 0.8620940 & Uribe\\\\\n\t 0.8562610 & 0.8789775 & 0.8620940 & Uribe\\\\\n\t 0.9625806 & 0.6348995 & 0.7877988 & Lopez\\\\\n\t 0.8562610 & 0.8789775 & 0.8620940 & Uribe\\\\\n\t 0.8562610 & 0.8789775 & 0.8620940 & Uribe\\\\\n\t 0.8562610 & 0.8789775 & 0.8620940 & Uribe\\\\\n\t 0.7404484 & 0.7947310 & 0.8099406 & Petro\\\\\n\t 0.8505734 & 0.9755086 & 0.9335309 & Uribe\\\\\n\t 0.8562610 & 0.8789775 & 0.8620940 & Uribe\\\\\n\t 0.8562610 & 0.8789775 & 0.8620940 & Uribe\\\\\n\t 0.9625806 & 0.6348995 & 0.7877988 & Lopez\\\\\n\t 0.8616344 & 0.9781399 & 0.9374933 & Uribe\\\\\n\t 0.8562610 & 0.8789775 & 0.8620940 & Uribe\\\\\n\t 0.8562610 & 0.8789775 & 0.8620940 & Uribe\\\\\n\t 0.8562610 & 0.8789775 & 0.8620940 & Uribe\\\\\n\t ⋮ & ⋮ & ⋮ & ⋮\\\\\n\t 0.856261 & 0.8789775 & 0.862094 & Uribe\\\\\n\t 0.856261 & 0.8789775 & 0.862094 & Uribe\\\\\n\t 0.856261 & 0.8789775 & 0.862094 & Uribe\\\\\n\t 0.856261 & 0.8789775 & 0.862094 & Uribe\\\\\n\t 0.856261 & 0.8789775 & 0.862094 & Uribe\\\\\n\t 0.856261 & 0.8789775 & 0.862094 & Uribe\\\\\n\t 0.856261 & 0.8789775 & 0.862094 & Uribe\\\\\n\t 0.856261 & 0.8789775 & 0.862094 & Uribe\\\\\n\t 0.856261 & 0.8789775 & 0.862094 & Uribe\\\\\n\t 0.856261 & 0.8789775 & 0.862094 & Uribe\\\\\n\t 0.856261 & 0.8789775 & 0.862094 & Uribe\\\\\n\t 0.856261 & 0.8789775 & 0.862094 & Uribe\\\\\n\t 0.856261 & 0.8789775 & 0.862094 & Uribe\\\\\n\t 0.856261 & 0.8789775 & 0.862094 & Uribe\\\\\n\t 0.856261 & 0.8789775 & 0.862094 & Uribe\\\\\n\t 0.856261 & 0.8789775 & 0.862094 & Uribe\\\\\n\t 0.856261 & 0.8789775 & 0.862094 & Uribe\\\\\n\t 0.856261 & 0.8789775 & 0.862094 & Uribe\\\\\n\t 0.856261 & 0.8789775 & 0.862094 & Uribe\\\\\n\t 0.856261 & 0.8789775 & 0.862094 & Uribe\\\\\n\t 0.856261 & 0.8789775 & 0.862094 & Uribe\\\\\n\t 0.856261 & 0.8789775 & 0.862094 & Uribe\\\\\n\t 0.856261 & 0.8789775 & 0.862094 & Uribe\\\\\n\t 0.856261 & 0.8789775 & 0.862094 & Uribe\\\\\n\t 0.856261 & 0.8789775 & 0.862094 & Uribe\\\\\n\t 0.856261 & 0.8789775 & 0.862094 & Uribe\\\\\n\t 0.856261 & 0.8789775 & 0.862094 & Uribe\\\\\n\t 0.856261 & 0.8789775 & 0.862094 & Uribe\\\\\n\t 0.856261 & 0.8789775 & 0.862094 & Uribe\\\\\n\t 0.856261 & 0.8789775 & 0.862094 & Uribe\\\\\n\\end{tabular}\n",
            "text/plain": [
              "     Lopez     Uribe     Petro     name \n",
              "1    0.8562610 0.8789775 0.8620940 Uribe\n",
              "2    0.8562610 0.8789775 0.8620940 Uribe\n",
              "3    0.8562610 0.8789775 0.8620940 Uribe\n",
              "4    0.8562610 0.8789775 0.8620940 Uribe\n",
              "5    0.8562610 0.8789775 0.8620940 Uribe\n",
              "6    0.9369175 0.5467699 0.7456353 Lopez\n",
              "7    0.8562610 0.8789775 0.8620940 Uribe\n",
              "8    0.8562610 0.8789775 0.8620940 Uribe\n",
              "9    0.8562610 0.8789775 0.8620940 Uribe\n",
              "10   0.8562610 0.8789775 0.8620940 Uribe\n",
              "11   0.9643421 0.5192056 0.7482431 Lopez\n",
              "12   0.8562610 0.8789775 0.8620940 Uribe\n",
              "13   0.8893579 0.7997714 0.8292085 Lopez\n",
              "14   0.9556209 0.6357586 0.7847656 Lopez\n",
              "15   0.9118927 0.6939084 0.7920158 Lopez\n",
              "16   0.8562610 0.8789775 0.8620940 Uribe\n",
              "17   0.8562610 0.8789775 0.8620940 Uribe\n",
              "18   0.9625806 0.6348995 0.7877988 Lopez\n",
              "19   0.8562610 0.8789775 0.8620940 Uribe\n",
              "20   0.8562610 0.8789775 0.8620940 Uribe\n",
              "21   0.8562610 0.8789775 0.8620940 Uribe\n",
              "22   0.7404484 0.7947310 0.8099406 Petro\n",
              "23   0.8505734 0.9755086 0.9335309 Uribe\n",
              "24   0.8562610 0.8789775 0.8620940 Uribe\n",
              "25   0.8562610 0.8789775 0.8620940 Uribe\n",
              "26   0.9625806 0.6348995 0.7877988 Lopez\n",
              "27   0.8616344 0.9781399 0.9374933 Uribe\n",
              "28   0.8562610 0.8789775 0.8620940 Uribe\n",
              "29   0.8562610 0.8789775 0.8620940 Uribe\n",
              "30   0.8562610 0.8789775 0.8620940 Uribe\n",
              "⋮    ⋮         ⋮         ⋮         ⋮    \n",
              "1471 0.856261  0.8789775 0.862094  Uribe\n",
              "1472 0.856261  0.8789775 0.862094  Uribe\n",
              "1473 0.856261  0.8789775 0.862094  Uribe\n",
              "1474 0.856261  0.8789775 0.862094  Uribe\n",
              "1475 0.856261  0.8789775 0.862094  Uribe\n",
              "1476 0.856261  0.8789775 0.862094  Uribe\n",
              "1477 0.856261  0.8789775 0.862094  Uribe\n",
              "1478 0.856261  0.8789775 0.862094  Uribe\n",
              "1479 0.856261  0.8789775 0.862094  Uribe\n",
              "1480 0.856261  0.8789775 0.862094  Uribe\n",
              "1481 0.856261  0.8789775 0.862094  Uribe\n",
              "1482 0.856261  0.8789775 0.862094  Uribe\n",
              "1483 0.856261  0.8789775 0.862094  Uribe\n",
              "1484 0.856261  0.8789775 0.862094  Uribe\n",
              "1485 0.856261  0.8789775 0.862094  Uribe\n",
              "1486 0.856261  0.8789775 0.862094  Uribe\n",
              "1487 0.856261  0.8789775 0.862094  Uribe\n",
              "1488 0.856261  0.8789775 0.862094  Uribe\n",
              "1489 0.856261  0.8789775 0.862094  Uribe\n",
              "1490 0.856261  0.8789775 0.862094  Uribe\n",
              "1491 0.856261  0.8789775 0.862094  Uribe\n",
              "1492 0.856261  0.8789775 0.862094  Uribe\n",
              "1493 0.856261  0.8789775 0.862094  Uribe\n",
              "1494 0.856261  0.8789775 0.862094  Uribe\n",
              "1495 0.856261  0.8789775 0.862094  Uribe\n",
              "1496 0.856261  0.8789775 0.862094  Uribe\n",
              "1497 0.856261  0.8789775 0.862094  Uribe\n",
              "1498 0.856261  0.8789775 0.862094  Uribe\n",
              "1499 0.856261  0.8789775 0.862094  Uribe\n",
              "1500 0.856261  0.8789775 0.862094  Uribe"
            ]
          },
          "metadata": {}
        }
      ]
    },
    {
      "cell_type": "code",
      "source": [
        "predict <- data.frame(\n",
        "  id = id,\n",
        "  name = name \n",
        ")"
      ],
      "metadata": {
        "id": "P3D5YhnLeVDP"
      },
      "execution_count": 64,
      "outputs": []
    },
    {
      "cell_type": "code",
      "source": [
        "write.csv(predict, \"predict.csv\", row.names = FALSE)"
      ],
      "metadata": {
        "id": "rTVpr76DczPo"
      },
      "execution_count": 65,
      "outputs": []
    }
  ],
  "metadata": {
    "anaconda-cloud": "",
    "kernelspec": {
      "display_name": "R",
      "langauge": "R",
      "name": "ir"
    },
    "language_info": {
      "codemirror_mode": "r",
      "file_extension": ".r",
      "mimetype": "text/x-r-source",
      "name": "R",
      "pygments_lexer": "r",
      "version": "3.4.1"
    },
    "colab": {
      "provenance": []
    }
  },
  "nbformat": 4,
  "nbformat_minor": 0
}