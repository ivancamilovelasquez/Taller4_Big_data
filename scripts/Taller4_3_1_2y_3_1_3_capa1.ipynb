{
  "cells": [
    {
      "cell_type": "markdown",
      "source": [
        "#**Código taller 4 grupo 9**"
      ],
      "metadata": {
        "id": "OmDG8SCywvrr"
      }
    },
    {
      "cell_type": "code",
      "execution_count": 133,
      "metadata": {
        "vscode": {
          "languageId": "r"
        },
        "id": "np_YHaypHpgb"
      },
      "outputs": [],
      "source": [
        "rm(list = ls())\n"
      ]
    },
    {
      "cell_type": "code",
      "execution_count": 134,
      "metadata": {
        "vscode": {
          "languageId": "r"
        },
        "id": "wioluF_8Hpge",
        "colab": {
          "base_uri": "https://localhost:8080/"
        },
        "outputId": "6bb58449-762c-467e-9472-6a186cb3fd83"
      },
      "outputs": [
        {
          "output_type": "stream",
          "name": "stderr",
          "text": [
            "Installing package into ‘/usr/local/lib/R/site-library’\n",
            "(as ‘lib’ is unspecified)\n",
            "\n"
          ]
        }
      ],
      "source": [
        "install.packages('keras')\n",
        "library(keras)"
      ]
    },
    {
      "cell_type": "code",
      "source": [
        "install.packages(\"readr\")\n",
        "library(readr)"
      ],
      "metadata": {
        "colab": {
          "base_uri": "https://localhost:8080/"
        },
        "id": "OV6TDM7Mx-x3",
        "outputId": "a4d8b46a-e683-4368-c447-10fe34cd9a04"
      },
      "execution_count": 135,
      "outputs": [
        {
          "output_type": "stream",
          "name": "stderr",
          "text": [
            "Installing package into ‘/usr/local/lib/R/site-library’\n",
            "(as ‘lib’ is unspecified)\n",
            "\n"
          ]
        }
      ]
    },
    {
      "cell_type": "code",
      "source": [
        "library(dplyr)"
      ],
      "metadata": {
        "colab": {
          "base_uri": "https://localhost:8080/"
        },
        "id": "5r47zQegObdR",
        "outputId": "bd666f68-4ca1-47fb-8483-d0cd509ee73d"
      },
      "execution_count": 220,
      "outputs": [
        {
          "output_type": "stream",
          "name": "stderr",
          "text": [
            "\n",
            "Attaching package: ‘dplyr’\n",
            "\n",
            "\n",
            "The following objects are masked from ‘package:stats’:\n",
            "\n",
            "    filter, lag\n",
            "\n",
            "\n",
            "The following objects are masked from ‘package:base’:\n",
            "\n",
            "    intersect, setdiff, setequal, union\n",
            "\n",
            "\n"
          ]
        }
      ]
    },
    {
      "cell_type": "markdown",
      "source": [
        "## Cargando los datos"
      ],
      "metadata": {
        "id": "pTP6IjQtxvT7"
      }
    },
    {
      "cell_type": "code",
      "source": [
        "test<-read.csv(\"test_final.csv\")\n",
        "train<-read.csv(\"train_final.csv\")\n",
        "\n",
        "head(test, 5)\n"
      ],
      "metadata": {
        "id": "FTwOiSR5xrLI",
        "colab": {
          "base_uri": "https://localhost:8080/",
          "height": 498
        },
        "outputId": "3435afc6-50d5-45be-e9fb-4202a281d63f"
      },
      "execution_count": 439,
      "outputs": [
        {
          "output_type": "display_data",
          "data": {
            "text/html": [
              "<table class=\"dataframe\">\n",
              "<caption>A data.frame: 5 × 112</caption>\n",
              "<thead>\n",
              "\t<tr><th></th><th scope=col>id</th><th scope=col>comentario</th><th scope=col>colombia</th><th scope=col>bogota</th><th scope=col>via</th><th scope=col>ano</th><th scope=col>gracia</th><th scope=col>medellin</th><th scope=col>ciudad</th><th scope=col>joven</th><th scope=col>⋯</th><th scope=col>Bogota</th><th scope=col>colombiahumana</th><th scope=col>cundinamarcar</th><th scope=col>concejo</th><th scope=col>socialismo</th><th scope=col>fascismo</th><th scope=col>transmilenio</th><th scope=col>distrital</th><th scope=col>estacion</th><th scope=col>onzar</th></tr>\n",
              "\t<tr><th></th><th scope=col>&lt;chr&gt;</th><th scope=col>&lt;chr&gt;</th><th scope=col>&lt;dbl&gt;</th><th scope=col>&lt;dbl&gt;</th><th scope=col>&lt;dbl&gt;</th><th scope=col>&lt;dbl&gt;</th><th scope=col>&lt;dbl&gt;</th><th scope=col>&lt;lgl&gt;</th><th scope=col>&lt;lgl&gt;</th><th scope=col>&lt;lgl&gt;</th><th scope=col>⋯</th><th scope=col>&lt;lgl&gt;</th><th scope=col>&lt;lgl&gt;</th><th scope=col>&lt;lgl&gt;</th><th scope=col>&lt;lgl&gt;</th><th scope=col>&lt;lgl&gt;</th><th scope=col>&lt;lgl&gt;</th><th scope=col>&lt;lgl&gt;</th><th scope=col>&lt;lgl&gt;</th><th scope=col>&lt;lgl&gt;</th><th scope=col>&lt;lgl&gt;</th></tr>\n",
              "</thead>\n",
              "<tbody>\n",
              "\t<tr><th scope=row>1</th><td>0004d31c290018d960ea1b61</td><td>ir pacifico                                                                                      </td><td>0</td><td>0.0000000</td><td>0.000000</td><td>0</td><td>0</td><td>FALSE</td><td>FALSE</td><td>FALSE</td><td>⋯</td><td>FALSE</td><td>FALSE</td><td>FALSE</td><td>FALSE</td><td>FALSE</td><td>FALSE</td><td>FALSE</td><td>FALSE</td><td>FALSE</td><td>FALSE</td></tr>\n",
              "\t<tr><th scope=row>2</th><td>001387a7e556a17e9af9e684</td><td>unico unico voto dejar                                                                           </td><td>0</td><td>0.0000000</td><td>0.000000</td><td>0</td><td>0</td><td>FALSE</td><td>FALSE</td><td>FALSE</td><td>⋯</td><td>FALSE</td><td>FALSE</td><td>FALSE</td><td>FALSE</td><td>FALSE</td><td>FALSE</td><td>FALSE</td><td>FALSE</td><td>FALSE</td><td>FALSE</td></tr>\n",
              "\t<tr><th scope=row>3</th><td>0017570ee84b80e1c3e10218</td><td>elr fuerza bogota ministro defensa policia consejo seguridad conjunto compromiso seguridad bogota</td><td>0</td><td>0.4682133</td><td>0.000000</td><td>0</td><td>0</td><td>FALSE</td><td>FALSE</td><td>FALSE</td><td>⋯</td><td>FALSE</td><td>FALSE</td><td>FALSE</td><td>FALSE</td><td>FALSE</td><td>FALSE</td><td>FALSE</td><td>FALSE</td><td>FALSE</td><td>FALSE</td></tr>\n",
              "\t<tr><th scope=row>4</th><td>0036f3d867393f8effa12b66</td><td>llamado asesinato persona crimen humanidad criminal humanidad                                    </td><td>0</td><td>0.0000000</td><td>0.000000</td><td>0</td><td>0</td><td>FALSE</td><td>FALSE</td><td>FALSE</td><td>⋯</td><td>FALSE</td><td>FALSE</td><td>FALSE</td><td>FALSE</td><td>FALSE</td><td>FALSE</td><td>FALSE</td><td>FALSE</td><td>FALSE</td><td>FALSE</td></tr>\n",
              "\t<tr><th scope=row>5</th><td>004508bf8e624f9656fdf9ec</td><td>publicar via                                                                                     </td><td>0</td><td>0.0000000</td><td>2.482892</td><td>0</td><td>0</td><td>FALSE</td><td>FALSE</td><td>FALSE</td><td>⋯</td><td>FALSE</td><td>FALSE</td><td>FALSE</td><td>FALSE</td><td>FALSE</td><td>FALSE</td><td>FALSE</td><td>FALSE</td><td>FALSE</td><td>FALSE</td></tr>\n",
              "</tbody>\n",
              "</table>\n"
            ],
            "text/markdown": "\nA data.frame: 5 × 112\n\n| <!--/--> | id &lt;chr&gt; | comentario &lt;chr&gt; | colombia &lt;dbl&gt; | bogota &lt;dbl&gt; | via &lt;dbl&gt; | ano &lt;dbl&gt; | gracia &lt;dbl&gt; | medellin &lt;lgl&gt; | ciudad &lt;lgl&gt; | joven &lt;lgl&gt; | ⋯ ⋯ | Bogota &lt;lgl&gt; | colombiahumana &lt;lgl&gt; | cundinamarcar &lt;lgl&gt; | concejo &lt;lgl&gt; | socialismo &lt;lgl&gt; | fascismo &lt;lgl&gt; | transmilenio &lt;lgl&gt; | distrital &lt;lgl&gt; | estacion &lt;lgl&gt; | onzar &lt;lgl&gt; |\n|---|---|---|---|---|---|---|---|---|---|---|---|---|---|---|---|---|---|---|---|---|---|\n| 1 | 0004d31c290018d960ea1b61 | ir pacifico                                                                                       | 0 | 0.0000000 | 0.000000 | 0 | 0 | FALSE | FALSE | FALSE | ⋯ | FALSE | FALSE | FALSE | FALSE | FALSE | FALSE | FALSE | FALSE | FALSE | FALSE |\n| 2 | 001387a7e556a17e9af9e684 | unico unico voto dejar                                                                            | 0 | 0.0000000 | 0.000000 | 0 | 0 | FALSE | FALSE | FALSE | ⋯ | FALSE | FALSE | FALSE | FALSE | FALSE | FALSE | FALSE | FALSE | FALSE | FALSE |\n| 3 | 0017570ee84b80e1c3e10218 | elr fuerza bogota ministro defensa policia consejo seguridad conjunto compromiso seguridad bogota | 0 | 0.4682133 | 0.000000 | 0 | 0 | FALSE | FALSE | FALSE | ⋯ | FALSE | FALSE | FALSE | FALSE | FALSE | FALSE | FALSE | FALSE | FALSE | FALSE |\n| 4 | 0036f3d867393f8effa12b66 | llamado asesinato persona crimen humanidad criminal humanidad                                     | 0 | 0.0000000 | 0.000000 | 0 | 0 | FALSE | FALSE | FALSE | ⋯ | FALSE | FALSE | FALSE | FALSE | FALSE | FALSE | FALSE | FALSE | FALSE | FALSE |\n| 5 | 004508bf8e624f9656fdf9ec | publicar via                                                                                      | 0 | 0.0000000 | 2.482892 | 0 | 0 | FALSE | FALSE | FALSE | ⋯ | FALSE | FALSE | FALSE | FALSE | FALSE | FALSE | FALSE | FALSE | FALSE | FALSE |\n\n",
            "text/latex": "A data.frame: 5 × 112\n\\begin{tabular}{r|lllllllllllllllllllll}\n  & id & comentario & colombia & bogota & via & ano & gracia & medellin & ciudad & joven & ⋯ & Bogota & colombiahumana & cundinamarcar & concejo & socialismo & fascismo & transmilenio & distrital & estacion & onzar\\\\\n  & <chr> & <chr> & <dbl> & <dbl> & <dbl> & <dbl> & <dbl> & <lgl> & <lgl> & <lgl> & ⋯ & <lgl> & <lgl> & <lgl> & <lgl> & <lgl> & <lgl> & <lgl> & <lgl> & <lgl> & <lgl>\\\\\n\\hline\n\t1 & 0004d31c290018d960ea1b61 & ir pacifico                                                                                       & 0 & 0.0000000 & 0.000000 & 0 & 0 & FALSE & FALSE & FALSE & ⋯ & FALSE & FALSE & FALSE & FALSE & FALSE & FALSE & FALSE & FALSE & FALSE & FALSE\\\\\n\t2 & 001387a7e556a17e9af9e684 & unico unico voto dejar                                                                            & 0 & 0.0000000 & 0.000000 & 0 & 0 & FALSE & FALSE & FALSE & ⋯ & FALSE & FALSE & FALSE & FALSE & FALSE & FALSE & FALSE & FALSE & FALSE & FALSE\\\\\n\t3 & 0017570ee84b80e1c3e10218 & elr fuerza bogota ministro defensa policia consejo seguridad conjunto compromiso seguridad bogota & 0 & 0.4682133 & 0.000000 & 0 & 0 & FALSE & FALSE & FALSE & ⋯ & FALSE & FALSE & FALSE & FALSE & FALSE & FALSE & FALSE & FALSE & FALSE & FALSE\\\\\n\t4 & 0036f3d867393f8effa12b66 & llamado asesinato persona crimen humanidad criminal humanidad                                     & 0 & 0.0000000 & 0.000000 & 0 & 0 & FALSE & FALSE & FALSE & ⋯ & FALSE & FALSE & FALSE & FALSE & FALSE & FALSE & FALSE & FALSE & FALSE & FALSE\\\\\n\t5 & 004508bf8e624f9656fdf9ec & publicar via                                                                                      & 0 & 0.0000000 & 2.482892 & 0 & 0 & FALSE & FALSE & FALSE & ⋯ & FALSE & FALSE & FALSE & FALSE & FALSE & FALSE & FALSE & FALSE & FALSE & FALSE\\\\\n\\end{tabular}\n",
            "text/plain": [
              "  id                      \n",
              "1 0004d31c290018d960ea1b61\n",
              "2 001387a7e556a17e9af9e684\n",
              "3 0017570ee84b80e1c3e10218\n",
              "4 0036f3d867393f8effa12b66\n",
              "5 004508bf8e624f9656fdf9ec\n",
              "  comentario                                                                                       \n",
              "1 ir pacifico                                                                                      \n",
              "2 unico unico voto dejar                                                                           \n",
              "3 elr fuerza bogota ministro defensa policia consejo seguridad conjunto compromiso seguridad bogota\n",
              "4 llamado asesinato persona crimen humanidad criminal humanidad                                    \n",
              "5 publicar via                                                                                     \n",
              "  colombia bogota    via      ano gracia medellin ciudad joven ⋯ Bogota\n",
              "1 0        0.0000000 0.000000 0   0      FALSE    FALSE  FALSE ⋯ FALSE \n",
              "2 0        0.0000000 0.000000 0   0      FALSE    FALSE  FALSE ⋯ FALSE \n",
              "3 0        0.4682133 0.000000 0   0      FALSE    FALSE  FALSE ⋯ FALSE \n",
              "4 0        0.0000000 0.000000 0   0      FALSE    FALSE  FALSE ⋯ FALSE \n",
              "5 0        0.0000000 2.482892 0   0      FALSE    FALSE  FALSE ⋯ FALSE \n",
              "  colombiahumana cundinamarcar concejo socialismo fascismo transmilenio\n",
              "1 FALSE          FALSE         FALSE   FALSE      FALSE    FALSE       \n",
              "2 FALSE          FALSE         FALSE   FALSE      FALSE    FALSE       \n",
              "3 FALSE          FALSE         FALSE   FALSE      FALSE    FALSE       \n",
              "4 FALSE          FALSE         FALSE   FALSE      FALSE    FALSE       \n",
              "5 FALSE          FALSE         FALSE   FALSE      FALSE    FALSE       \n",
              "  distrital estacion onzar\n",
              "1 FALSE     FALSE    FALSE\n",
              "2 FALSE     FALSE    FALSE\n",
              "3 FALSE     FALSE    FALSE\n",
              "4 FALSE     FALSE    FALSE\n",
              "5 FALSE     FALSE    FALSE"
            ]
          },
          "metadata": {}
        }
      ]
    },
    {
      "cell_type": "code",
      "source": [
        "head(train, 5)"
      ],
      "metadata": {
        "id": "EDAxfF_Zy8CL",
        "colab": {
          "base_uri": "https://localhost:8080/",
          "height": 515
        },
        "outputId": "342663f0-9f43-49df-b2b3-18e4c988c300"
      },
      "execution_count": 440,
      "outputs": [
        {
          "output_type": "display_data",
          "data": {
            "text/html": [
              "<table class=\"dataframe\">\n",
              "<caption>A data.frame: 5 × 113</caption>\n",
              "<thead>\n",
              "\t<tr><th></th><th scope=col>id</th><th scope=col>name</th><th scope=col>comentario</th><th scope=col>colombia</th><th scope=col>bogota</th><th scope=col>gobierno</th><th scope=col>cuidar</th><th scope=col>ano</th><th scope=col>politico</th><th scope=col>joven</th><th scope=col>⋯</th><th scope=col>Bogota</th><th scope=col>colombiahumana</th><th scope=col>cundinamarcar</th><th scope=col>concejo</th><th scope=col>socialismo</th><th scope=col>fascismo</th><th scope=col>transmilenio</th><th scope=col>distrital</th><th scope=col>estacion</th><th scope=col>onzar</th></tr>\n",
              "\t<tr><th></th><th scope=col>&lt;int&gt;</th><th scope=col>&lt;chr&gt;</th><th scope=col>&lt;chr&gt;</th><th scope=col>&lt;dbl&gt;</th><th scope=col>&lt;dbl&gt;</th><th scope=col>&lt;lgl&gt;</th><th scope=col>&lt;lgl&gt;</th><th scope=col>&lt;dbl&gt;</th><th scope=col>&lt;dbl&gt;</th><th scope=col>&lt;lgl&gt;</th><th scope=col>⋯</th><th scope=col>&lt;lgl&gt;</th><th scope=col>&lt;lgl&gt;</th><th scope=col>&lt;lgl&gt;</th><th scope=col>&lt;lgl&gt;</th><th scope=col>&lt;lgl&gt;</th><th scope=col>&lt;lgl&gt;</th><th scope=col>&lt;lgl&gt;</th><th scope=col>&lt;lgl&gt;</th><th scope=col>&lt;lgl&gt;</th><th scope=col>&lt;lgl&gt;</th></tr>\n",
              "</thead>\n",
              "<tbody>\n",
              "\t<tr><th scope=row>1</th><td>1</td><td>Petro</td><td>columna punto resistencia colombiahumana juventud llegarar campo popular organizar organizar organizar multitud humano                            </td><td>0.0000000</td><td>0.0000000</td><td>FALSE</td><td>FALSE</td><td>0.0000000</td><td>0</td><td>FALSE</td><td>⋯</td><td>FALSE</td><td> TRUE</td><td>FALSE</td><td>FALSE</td><td>FALSE</td><td>FALSE</td><td>FALSE</td><td>FALSE</td><td>FALSE</td><td>FALSE</td></tr>\n",
              "\t<tr><th scope=row>2</th><td>2</td><td>Lopez</td><td>bogota cundinamarcar salir colombia salir trabajar junto bogotano lograr lograr campesino vida dignar construir construir paz hacer bogotaregion  </td><td>0.1922953</td><td>0.1487278</td><td>FALSE</td><td>FALSE</td><td>0.0000000</td><td>0</td><td>FALSE</td><td>⋯</td><td>FALSE</td><td>FALSE</td><td> TRUE</td><td>FALSE</td><td>FALSE</td><td>FALSE</td><td>FALSE</td><td>FALSE</td><td>FALSE</td><td>FALSE</td></tr>\n",
              "\t<tr><th scope=row>3</th><td>3</td><td>Lopez</td><td>significar proyecto rescate social economico concejo bogota                                                                                       </td><td>0.0000000</td><td>0.3824428</td><td>FALSE</td><td>FALSE</td><td>0.0000000</td><td>0</td><td>FALSE</td><td>⋯</td><td>FALSE</td><td>FALSE</td><td>FALSE</td><td> TRUE</td><td>FALSE</td><td>FALSE</td><td>FALSE</td><td>FALSE</td><td>FALSE</td><td>FALSE</td></tr>\n",
              "\t<tr><th scope=row>4</th><td>4</td><td>Lopez</td><td>avanzar recorrido sar cristobal llegar colegio santa listo diciembre ano beneficiara estudiante localidad contar aula basica primario basica medio</td><td>0.0000000</td><td>0.0000000</td><td>FALSE</td><td>FALSE</td><td>0.2112980</td><td>0</td><td>FALSE</td><td>⋯</td><td>FALSE</td><td>FALSE</td><td>FALSE</td><td>FALSE</td><td>FALSE</td><td>FALSE</td><td>FALSE</td><td>FALSE</td><td>FALSE</td><td>FALSE</td></tr>\n",
              "\t<tr><th scope=row>5</th><td>5</td><td>Petro</td><td>mil persona bucaramanga momento seguir calle terminar rechazar asesinato masacre mundo colombia ano gobierno paronacionalm                        </td><td>0.2307543</td><td>0.0000000</td><td> TRUE</td><td>FALSE</td><td>0.2676442</td><td>0</td><td>FALSE</td><td>⋯</td><td>FALSE</td><td>FALSE</td><td>FALSE</td><td>FALSE</td><td>FALSE</td><td>FALSE</td><td>FALSE</td><td>FALSE</td><td>FALSE</td><td>FALSE</td></tr>\n",
              "</tbody>\n",
              "</table>\n"
            ],
            "text/markdown": "\nA data.frame: 5 × 113\n\n| <!--/--> | id &lt;int&gt; | name &lt;chr&gt; | comentario &lt;chr&gt; | colombia &lt;dbl&gt; | bogota &lt;dbl&gt; | gobierno &lt;lgl&gt; | cuidar &lt;lgl&gt; | ano &lt;dbl&gt; | politico &lt;dbl&gt; | joven &lt;lgl&gt; | ⋯ ⋯ | Bogota &lt;lgl&gt; | colombiahumana &lt;lgl&gt; | cundinamarcar &lt;lgl&gt; | concejo &lt;lgl&gt; | socialismo &lt;lgl&gt; | fascismo &lt;lgl&gt; | transmilenio &lt;lgl&gt; | distrital &lt;lgl&gt; | estacion &lt;lgl&gt; | onzar &lt;lgl&gt; |\n|---|---|---|---|---|---|---|---|---|---|---|---|---|---|---|---|---|---|---|---|---|---|\n| 1 | 1 | Petro | columna punto resistencia colombiahumana juventud llegarar campo popular organizar organizar organizar multitud humano                             | 0.0000000 | 0.0000000 | FALSE | FALSE | 0.0000000 | 0 | FALSE | ⋯ | FALSE |  TRUE | FALSE | FALSE | FALSE | FALSE | FALSE | FALSE | FALSE | FALSE |\n| 2 | 2 | Lopez | bogota cundinamarcar salir colombia salir trabajar junto bogotano lograr lograr campesino vida dignar construir construir paz hacer bogotaregion   | 0.1922953 | 0.1487278 | FALSE | FALSE | 0.0000000 | 0 | FALSE | ⋯ | FALSE | FALSE |  TRUE | FALSE | FALSE | FALSE | FALSE | FALSE | FALSE | FALSE |\n| 3 | 3 | Lopez | significar proyecto rescate social economico concejo bogota                                                                                        | 0.0000000 | 0.3824428 | FALSE | FALSE | 0.0000000 | 0 | FALSE | ⋯ | FALSE | FALSE | FALSE |  TRUE | FALSE | FALSE | FALSE | FALSE | FALSE | FALSE |\n| 4 | 4 | Lopez | avanzar recorrido sar cristobal llegar colegio santa listo diciembre ano beneficiara estudiante localidad contar aula basica primario basica medio | 0.0000000 | 0.0000000 | FALSE | FALSE | 0.2112980 | 0 | FALSE | ⋯ | FALSE | FALSE | FALSE | FALSE | FALSE | FALSE | FALSE | FALSE | FALSE | FALSE |\n| 5 | 5 | Petro | mil persona bucaramanga momento seguir calle terminar rechazar asesinato masacre mundo colombia ano gobierno paronacionalm                         | 0.2307543 | 0.0000000 |  TRUE | FALSE | 0.2676442 | 0 | FALSE | ⋯ | FALSE | FALSE | FALSE | FALSE | FALSE | FALSE | FALSE | FALSE | FALSE | FALSE |\n\n",
            "text/latex": "A data.frame: 5 × 113\n\\begin{tabular}{r|lllllllllllllllllllll}\n  & id & name & comentario & colombia & bogota & gobierno & cuidar & ano & politico & joven & ⋯ & Bogota & colombiahumana & cundinamarcar & concejo & socialismo & fascismo & transmilenio & distrital & estacion & onzar\\\\\n  & <int> & <chr> & <chr> & <dbl> & <dbl> & <lgl> & <lgl> & <dbl> & <dbl> & <lgl> & ⋯ & <lgl> & <lgl> & <lgl> & <lgl> & <lgl> & <lgl> & <lgl> & <lgl> & <lgl> & <lgl>\\\\\n\\hline\n\t1 & 1 & Petro & columna punto resistencia colombiahumana juventud llegarar campo popular organizar organizar organizar multitud humano                             & 0.0000000 & 0.0000000 & FALSE & FALSE & 0.0000000 & 0 & FALSE & ⋯ & FALSE &  TRUE & FALSE & FALSE & FALSE & FALSE & FALSE & FALSE & FALSE & FALSE\\\\\n\t2 & 2 & Lopez & bogota cundinamarcar salir colombia salir trabajar junto bogotano lograr lograr campesino vida dignar construir construir paz hacer bogotaregion   & 0.1922953 & 0.1487278 & FALSE & FALSE & 0.0000000 & 0 & FALSE & ⋯ & FALSE & FALSE &  TRUE & FALSE & FALSE & FALSE & FALSE & FALSE & FALSE & FALSE\\\\\n\t3 & 3 & Lopez & significar proyecto rescate social economico concejo bogota                                                                                        & 0.0000000 & 0.3824428 & FALSE & FALSE & 0.0000000 & 0 & FALSE & ⋯ & FALSE & FALSE & FALSE &  TRUE & FALSE & FALSE & FALSE & FALSE & FALSE & FALSE\\\\\n\t4 & 4 & Lopez & avanzar recorrido sar cristobal llegar colegio santa listo diciembre ano beneficiara estudiante localidad contar aula basica primario basica medio & 0.0000000 & 0.0000000 & FALSE & FALSE & 0.2112980 & 0 & FALSE & ⋯ & FALSE & FALSE & FALSE & FALSE & FALSE & FALSE & FALSE & FALSE & FALSE & FALSE\\\\\n\t5 & 5 & Petro & mil persona bucaramanga momento seguir calle terminar rechazar asesinato masacre mundo colombia ano gobierno paronacionalm                         & 0.2307543 & 0.0000000 &  TRUE & FALSE & 0.2676442 & 0 & FALSE & ⋯ & FALSE & FALSE & FALSE & FALSE & FALSE & FALSE & FALSE & FALSE & FALSE & FALSE\\\\\n\\end{tabular}\n",
            "text/plain": [
              "  id name \n",
              "1 1  Petro\n",
              "2 2  Lopez\n",
              "3 3  Lopez\n",
              "4 4  Lopez\n",
              "5 5  Petro\n",
              "  comentario                                                                                                                                        \n",
              "1 columna punto resistencia colombiahumana juventud llegarar campo popular organizar organizar organizar multitud humano                            \n",
              "2 bogota cundinamarcar salir colombia salir trabajar junto bogotano lograr lograr campesino vida dignar construir construir paz hacer bogotaregion  \n",
              "3 significar proyecto rescate social economico concejo bogota                                                                                       \n",
              "4 avanzar recorrido sar cristobal llegar colegio santa listo diciembre ano beneficiara estudiante localidad contar aula basica primario basica medio\n",
              "5 mil persona bucaramanga momento seguir calle terminar rechazar asesinato masacre mundo colombia ano gobierno paronacionalm                        \n",
              "  colombia  bogota    gobierno cuidar ano       politico joven ⋯ Bogota\n",
              "1 0.0000000 0.0000000 FALSE    FALSE  0.0000000 0        FALSE ⋯ FALSE \n",
              "2 0.1922953 0.1487278 FALSE    FALSE  0.0000000 0        FALSE ⋯ FALSE \n",
              "3 0.0000000 0.3824428 FALSE    FALSE  0.0000000 0        FALSE ⋯ FALSE \n",
              "4 0.0000000 0.0000000 FALSE    FALSE  0.2112980 0        FALSE ⋯ FALSE \n",
              "5 0.2307543 0.0000000  TRUE    FALSE  0.2676442 0        FALSE ⋯ FALSE \n",
              "  colombiahumana cundinamarcar concejo socialismo fascismo transmilenio\n",
              "1  TRUE          FALSE         FALSE   FALSE      FALSE    FALSE       \n",
              "2 FALSE           TRUE         FALSE   FALSE      FALSE    FALSE       \n",
              "3 FALSE          FALSE          TRUE   FALSE      FALSE    FALSE       \n",
              "4 FALSE          FALSE         FALSE   FALSE      FALSE    FALSE       \n",
              "5 FALSE          FALSE         FALSE   FALSE      FALSE    FALSE       \n",
              "  distrital estacion onzar\n",
              "1 FALSE     FALSE    FALSE\n",
              "2 FALSE     FALSE    FALSE\n",
              "3 FALSE     FALSE    FALSE\n",
              "4 FALSE     FALSE    FALSE\n",
              "5 FALSE     FALSE    FALSE"
            ]
          },
          "metadata": {}
        }
      ]
    },
    {
      "cell_type": "code",
      "source": [
        "head(train,10)"
      ],
      "metadata": {
        "id": "WXej32cy-Uzx",
        "colab": {
          "base_uri": "https://localhost:8080/",
          "height": 915
        },
        "outputId": "528f0562-4667-4577-f46e-98eab5e74336"
      },
      "execution_count": 441,
      "outputs": [
        {
          "output_type": "display_data",
          "data": {
            "text/html": [
              "<table class=\"dataframe\">\n",
              "<caption>A data.frame: 10 × 113</caption>\n",
              "<thead>\n",
              "\t<tr><th></th><th scope=col>id</th><th scope=col>name</th><th scope=col>comentario</th><th scope=col>colombia</th><th scope=col>bogota</th><th scope=col>gobierno</th><th scope=col>cuidar</th><th scope=col>ano</th><th scope=col>politico</th><th scope=col>joven</th><th scope=col>⋯</th><th scope=col>Bogota</th><th scope=col>colombiahumana</th><th scope=col>cundinamarcar</th><th scope=col>concejo</th><th scope=col>socialismo</th><th scope=col>fascismo</th><th scope=col>transmilenio</th><th scope=col>distrital</th><th scope=col>estacion</th><th scope=col>onzar</th></tr>\n",
              "\t<tr><th></th><th scope=col>&lt;int&gt;</th><th scope=col>&lt;chr&gt;</th><th scope=col>&lt;chr&gt;</th><th scope=col>&lt;dbl&gt;</th><th scope=col>&lt;dbl&gt;</th><th scope=col>&lt;lgl&gt;</th><th scope=col>&lt;lgl&gt;</th><th scope=col>&lt;dbl&gt;</th><th scope=col>&lt;dbl&gt;</th><th scope=col>&lt;lgl&gt;</th><th scope=col>⋯</th><th scope=col>&lt;lgl&gt;</th><th scope=col>&lt;lgl&gt;</th><th scope=col>&lt;lgl&gt;</th><th scope=col>&lt;lgl&gt;</th><th scope=col>&lt;lgl&gt;</th><th scope=col>&lt;lgl&gt;</th><th scope=col>&lt;lgl&gt;</th><th scope=col>&lt;lgl&gt;</th><th scope=col>&lt;lgl&gt;</th><th scope=col>&lt;lgl&gt;</th></tr>\n",
              "</thead>\n",
              "<tbody>\n",
              "\t<tr><th scope=row>1</th><td> 1</td><td>Petro</td><td>columna punto resistencia colombiahumana juventud llegarar campo popular organizar organizar organizar multitud humano                            </td><td>0.0000000</td><td>0.0000000</td><td>FALSE</td><td>FALSE</td><td>0.0000000</td><td>0</td><td>FALSE</td><td>⋯</td><td>FALSE</td><td> TRUE</td><td>FALSE</td><td>FALSE</td><td>FALSE</td><td>FALSE</td><td>FALSE</td><td>FALSE</td><td>FALSE</td><td>FALSE</td></tr>\n",
              "\t<tr><th scope=row>2</th><td> 2</td><td>Lopez</td><td>bogota cundinamarcar salir colombia salir trabajar junto bogotano lograr lograr campesino vida dignar construir construir paz hacer bogotaregion  </td><td>0.1922953</td><td>0.1487278</td><td>FALSE</td><td>FALSE</td><td>0.0000000</td><td>0</td><td>FALSE</td><td>⋯</td><td>FALSE</td><td>FALSE</td><td> TRUE</td><td>FALSE</td><td>FALSE</td><td>FALSE</td><td>FALSE</td><td>FALSE</td><td>FALSE</td><td>FALSE</td></tr>\n",
              "\t<tr><th scope=row>3</th><td> 3</td><td>Lopez</td><td>significar proyecto rescate social economico concejo bogota                                                                                       </td><td>0.0000000</td><td>0.3824428</td><td>FALSE</td><td>FALSE</td><td>0.0000000</td><td>0</td><td>FALSE</td><td>⋯</td><td>FALSE</td><td>FALSE</td><td>FALSE</td><td> TRUE</td><td>FALSE</td><td>FALSE</td><td>FALSE</td><td>FALSE</td><td>FALSE</td><td>FALSE</td></tr>\n",
              "\t<tr><th scope=row>4</th><td> 4</td><td>Lopez</td><td>avanzar recorrido sar cristobal llegar colegio santa listo diciembre ano beneficiara estudiante localidad contar aula basica primario basica medio</td><td>0.0000000</td><td>0.0000000</td><td>FALSE</td><td>FALSE</td><td>0.2112980</td><td>0</td><td>FALSE</td><td>⋯</td><td>FALSE</td><td>FALSE</td><td>FALSE</td><td>FALSE</td><td>FALSE</td><td>FALSE</td><td>FALSE</td><td>FALSE</td><td>FALSE</td><td>FALSE</td></tr>\n",
              "\t<tr><th scope=row>5</th><td> 5</td><td>Petro</td><td>mil persona bucaramanga momento seguir calle terminar rechazar asesinato masacre mundo colombia ano gobierno paronacionalm                        </td><td>0.2307543</td><td>0.0000000</td><td> TRUE</td><td>FALSE</td><td>0.2676442</td><td>0</td><td>FALSE</td><td>⋯</td><td>FALSE</td><td>FALSE</td><td>FALSE</td><td>FALSE</td><td>FALSE</td><td>FALSE</td><td>FALSE</td><td>FALSE</td><td>FALSE</td><td>FALSE</td></tr>\n",
              "\t<tr><th scope=row>6</th><td> 6</td><td>Petro</td><td>porcentaje trabajador semana fuerza laboral mundo grado explotacion laboral                                                                       </td><td>0.0000000</td><td>0.0000000</td><td>FALSE</td><td>FALSE</td><td>0.0000000</td><td>0</td><td>FALSE</td><td>⋯</td><td>FALSE</td><td>FALSE</td><td>FALSE</td><td>FALSE</td><td>FALSE</td><td>FALSE</td><td>FALSE</td><td>FALSE</td><td>FALSE</td><td>FALSE</td></tr>\n",
              "\t<tr><th scope=row>7</th><td> 7</td><td>Uribe</td><td>acelerar superacion pobreza hablarle duro socialismo                                                                                              </td><td>0.0000000</td><td>0.0000000</td><td>FALSE</td><td>FALSE</td><td>0.0000000</td><td>0</td><td>FALSE</td><td>⋯</td><td>FALSE</td><td>FALSE</td><td>FALSE</td><td>FALSE</td><td>FALSE</td><td>FALSE</td><td>FALSE</td><td>FALSE</td><td>FALSE</td><td>FALSE</td></tr>\n",
              "\t<tr><th scope=row>8</th><td> 8</td><td>Petro</td><td>pedir alcalde riesgo climatico establecer establecer crisis climatica municipio ampliar participacion popular                                     </td><td>0.0000000</td><td>0.0000000</td><td>FALSE</td><td>FALSE</td><td>0.0000000</td><td>0</td><td>FALSE</td><td>⋯</td><td>FALSE</td><td>FALSE</td><td>FALSE</td><td>FALSE</td><td>FALSE</td><td>FALSE</td><td>FALSE</td><td>FALSE</td><td>FALSE</td><td>FALSE</td></tr>\n",
              "\t<tr><th scope=row>9</th><td> 9</td><td>Petro</td><td>fascismo mundo mundo pais rico tratar objetivo pueblo excluido mundo                                                                              </td><td>0.0000000</td><td>0.0000000</td><td>FALSE</td><td>FALSE</td><td>0.0000000</td><td>0</td><td>FALSE</td><td>⋯</td><td>FALSE</td><td>FALSE</td><td>FALSE</td><td>FALSE</td><td>FALSE</td><td>FALSE</td><td>FALSE</td><td>FALSE</td><td>FALSE</td><td>FALSE</td></tr>\n",
              "\t<tr><th scope=row>10</th><td>10</td><td>Lopez</td><td>principal punto movilización manana julio ruta habilitar consultar consultar sectormovilidad transmilenio ciclovia                                </td><td>0.0000000</td><td>0.0000000</td><td>FALSE</td><td>FALSE</td><td>0.0000000</td><td>0</td><td>FALSE</td><td>⋯</td><td>FALSE</td><td>FALSE</td><td>FALSE</td><td>FALSE</td><td>FALSE</td><td>FALSE</td><td>FALSE</td><td>FALSE</td><td>FALSE</td><td>FALSE</td></tr>\n",
              "</tbody>\n",
              "</table>\n"
            ],
            "text/markdown": "\nA data.frame: 10 × 113\n\n| <!--/--> | id &lt;int&gt; | name &lt;chr&gt; | comentario &lt;chr&gt; | colombia &lt;dbl&gt; | bogota &lt;dbl&gt; | gobierno &lt;lgl&gt; | cuidar &lt;lgl&gt; | ano &lt;dbl&gt; | politico &lt;dbl&gt; | joven &lt;lgl&gt; | ⋯ ⋯ | Bogota &lt;lgl&gt; | colombiahumana &lt;lgl&gt; | cundinamarcar &lt;lgl&gt; | concejo &lt;lgl&gt; | socialismo &lt;lgl&gt; | fascismo &lt;lgl&gt; | transmilenio &lt;lgl&gt; | distrital &lt;lgl&gt; | estacion &lt;lgl&gt; | onzar &lt;lgl&gt; |\n|---|---|---|---|---|---|---|---|---|---|---|---|---|---|---|---|---|---|---|---|---|---|\n| 1 |  1 | Petro | columna punto resistencia colombiahumana juventud llegarar campo popular organizar organizar organizar multitud humano                             | 0.0000000 | 0.0000000 | FALSE | FALSE | 0.0000000 | 0 | FALSE | ⋯ | FALSE |  TRUE | FALSE | FALSE | FALSE | FALSE | FALSE | FALSE | FALSE | FALSE |\n| 2 |  2 | Lopez | bogota cundinamarcar salir colombia salir trabajar junto bogotano lograr lograr campesino vida dignar construir construir paz hacer bogotaregion   | 0.1922953 | 0.1487278 | FALSE | FALSE | 0.0000000 | 0 | FALSE | ⋯ | FALSE | FALSE |  TRUE | FALSE | FALSE | FALSE | FALSE | FALSE | FALSE | FALSE |\n| 3 |  3 | Lopez | significar proyecto rescate social economico concejo bogota                                                                                        | 0.0000000 | 0.3824428 | FALSE | FALSE | 0.0000000 | 0 | FALSE | ⋯ | FALSE | FALSE | FALSE |  TRUE | FALSE | FALSE | FALSE | FALSE | FALSE | FALSE |\n| 4 |  4 | Lopez | avanzar recorrido sar cristobal llegar colegio santa listo diciembre ano beneficiara estudiante localidad contar aula basica primario basica medio | 0.0000000 | 0.0000000 | FALSE | FALSE | 0.2112980 | 0 | FALSE | ⋯ | FALSE | FALSE | FALSE | FALSE | FALSE | FALSE | FALSE | FALSE | FALSE | FALSE |\n| 5 |  5 | Petro | mil persona bucaramanga momento seguir calle terminar rechazar asesinato masacre mundo colombia ano gobierno paronacionalm                         | 0.2307543 | 0.0000000 |  TRUE | FALSE | 0.2676442 | 0 | FALSE | ⋯ | FALSE | FALSE | FALSE | FALSE | FALSE | FALSE | FALSE | FALSE | FALSE | FALSE |\n| 6 |  6 | Petro | porcentaje trabajador semana fuerza laboral mundo grado explotacion laboral                                                                        | 0.0000000 | 0.0000000 | FALSE | FALSE | 0.0000000 | 0 | FALSE | ⋯ | FALSE | FALSE | FALSE | FALSE | FALSE | FALSE | FALSE | FALSE | FALSE | FALSE |\n| 7 |  7 | Uribe | acelerar superacion pobreza hablarle duro socialismo                                                                                               | 0.0000000 | 0.0000000 | FALSE | FALSE | 0.0000000 | 0 | FALSE | ⋯ | FALSE | FALSE | FALSE | FALSE | FALSE | FALSE | FALSE | FALSE | FALSE | FALSE |\n| 8 |  8 | Petro | pedir alcalde riesgo climatico establecer establecer crisis climatica municipio ampliar participacion popular                                      | 0.0000000 | 0.0000000 | FALSE | FALSE | 0.0000000 | 0 | FALSE | ⋯ | FALSE | FALSE | FALSE | FALSE | FALSE | FALSE | FALSE | FALSE | FALSE | FALSE |\n| 9 |  9 | Petro | fascismo mundo mundo pais rico tratar objetivo pueblo excluido mundo                                                                               | 0.0000000 | 0.0000000 | FALSE | FALSE | 0.0000000 | 0 | FALSE | ⋯ | FALSE | FALSE | FALSE | FALSE | FALSE | FALSE | FALSE | FALSE | FALSE | FALSE |\n| 10 | 10 | Lopez | principal punto movilización manana julio ruta habilitar consultar consultar sectormovilidad transmilenio ciclovia                                 | 0.0000000 | 0.0000000 | FALSE | FALSE | 0.0000000 | 0 | FALSE | ⋯ | FALSE | FALSE | FALSE | FALSE | FALSE | FALSE | FALSE | FALSE | FALSE | FALSE |\n\n",
            "text/latex": "A data.frame: 10 × 113\n\\begin{tabular}{r|lllllllllllllllllllll}\n  & id & name & comentario & colombia & bogota & gobierno & cuidar & ano & politico & joven & ⋯ & Bogota & colombiahumana & cundinamarcar & concejo & socialismo & fascismo & transmilenio & distrital & estacion & onzar\\\\\n  & <int> & <chr> & <chr> & <dbl> & <dbl> & <lgl> & <lgl> & <dbl> & <dbl> & <lgl> & ⋯ & <lgl> & <lgl> & <lgl> & <lgl> & <lgl> & <lgl> & <lgl> & <lgl> & <lgl> & <lgl>\\\\\n\\hline\n\t1 &  1 & Petro & columna punto resistencia colombiahumana juventud llegarar campo popular organizar organizar organizar multitud humano                             & 0.0000000 & 0.0000000 & FALSE & FALSE & 0.0000000 & 0 & FALSE & ⋯ & FALSE &  TRUE & FALSE & FALSE & FALSE & FALSE & FALSE & FALSE & FALSE & FALSE\\\\\n\t2 &  2 & Lopez & bogota cundinamarcar salir colombia salir trabajar junto bogotano lograr lograr campesino vida dignar construir construir paz hacer bogotaregion   & 0.1922953 & 0.1487278 & FALSE & FALSE & 0.0000000 & 0 & FALSE & ⋯ & FALSE & FALSE &  TRUE & FALSE & FALSE & FALSE & FALSE & FALSE & FALSE & FALSE\\\\\n\t3 &  3 & Lopez & significar proyecto rescate social economico concejo bogota                                                                                        & 0.0000000 & 0.3824428 & FALSE & FALSE & 0.0000000 & 0 & FALSE & ⋯ & FALSE & FALSE & FALSE &  TRUE & FALSE & FALSE & FALSE & FALSE & FALSE & FALSE\\\\\n\t4 &  4 & Lopez & avanzar recorrido sar cristobal llegar colegio santa listo diciembre ano beneficiara estudiante localidad contar aula basica primario basica medio & 0.0000000 & 0.0000000 & FALSE & FALSE & 0.2112980 & 0 & FALSE & ⋯ & FALSE & FALSE & FALSE & FALSE & FALSE & FALSE & FALSE & FALSE & FALSE & FALSE\\\\\n\t5 &  5 & Petro & mil persona bucaramanga momento seguir calle terminar rechazar asesinato masacre mundo colombia ano gobierno paronacionalm                         & 0.2307543 & 0.0000000 &  TRUE & FALSE & 0.2676442 & 0 & FALSE & ⋯ & FALSE & FALSE & FALSE & FALSE & FALSE & FALSE & FALSE & FALSE & FALSE & FALSE\\\\\n\t6 &  6 & Petro & porcentaje trabajador semana fuerza laboral mundo grado explotacion laboral                                                                        & 0.0000000 & 0.0000000 & FALSE & FALSE & 0.0000000 & 0 & FALSE & ⋯ & FALSE & FALSE & FALSE & FALSE & FALSE & FALSE & FALSE & FALSE & FALSE & FALSE\\\\\n\t7 &  7 & Uribe & acelerar superacion pobreza hablarle duro socialismo                                                                                               & 0.0000000 & 0.0000000 & FALSE & FALSE & 0.0000000 & 0 & FALSE & ⋯ & FALSE & FALSE & FALSE & FALSE & FALSE & FALSE & FALSE & FALSE & FALSE & FALSE\\\\\n\t8 &  8 & Petro & pedir alcalde riesgo climatico establecer establecer crisis climatica municipio ampliar participacion popular                                      & 0.0000000 & 0.0000000 & FALSE & FALSE & 0.0000000 & 0 & FALSE & ⋯ & FALSE & FALSE & FALSE & FALSE & FALSE & FALSE & FALSE & FALSE & FALSE & FALSE\\\\\n\t9 &  9 & Petro & fascismo mundo mundo pais rico tratar objetivo pueblo excluido mundo                                                                               & 0.0000000 & 0.0000000 & FALSE & FALSE & 0.0000000 & 0 & FALSE & ⋯ & FALSE & FALSE & FALSE & FALSE & FALSE & FALSE & FALSE & FALSE & FALSE & FALSE\\\\\n\t10 & 10 & Lopez & principal punto movilización manana julio ruta habilitar consultar consultar sectormovilidad transmilenio ciclovia                                 & 0.0000000 & 0.0000000 & FALSE & FALSE & 0.0000000 & 0 & FALSE & ⋯ & FALSE & FALSE & FALSE & FALSE & FALSE & FALSE & FALSE & FALSE & FALSE & FALSE\\\\\n\\end{tabular}\n",
            "text/plain": [
              "   id name \n",
              "1   1 Petro\n",
              "2   2 Lopez\n",
              "3   3 Lopez\n",
              "4   4 Lopez\n",
              "5   5 Petro\n",
              "6   6 Petro\n",
              "7   7 Uribe\n",
              "8   8 Petro\n",
              "9   9 Petro\n",
              "10 10 Lopez\n",
              "   comentario                                                                                                                                        \n",
              "1  columna punto resistencia colombiahumana juventud llegarar campo popular organizar organizar organizar multitud humano                            \n",
              "2  bogota cundinamarcar salir colombia salir trabajar junto bogotano lograr lograr campesino vida dignar construir construir paz hacer bogotaregion  \n",
              "3  significar proyecto rescate social economico concejo bogota                                                                                       \n",
              "4  avanzar recorrido sar cristobal llegar colegio santa listo diciembre ano beneficiara estudiante localidad contar aula basica primario basica medio\n",
              "5  mil persona bucaramanga momento seguir calle terminar rechazar asesinato masacre mundo colombia ano gobierno paronacionalm                        \n",
              "6  porcentaje trabajador semana fuerza laboral mundo grado explotacion laboral                                                                       \n",
              "7  acelerar superacion pobreza hablarle duro socialismo                                                                                              \n",
              "8  pedir alcalde riesgo climatico establecer establecer crisis climatica municipio ampliar participacion popular                                     \n",
              "9  fascismo mundo mundo pais rico tratar objetivo pueblo excluido mundo                                                                              \n",
              "10 principal punto movilización manana julio ruta habilitar consultar consultar sectormovilidad transmilenio ciclovia                                \n",
              "   colombia  bogota    gobierno cuidar ano       politico joven ⋯ Bogota\n",
              "1  0.0000000 0.0000000 FALSE    FALSE  0.0000000 0        FALSE ⋯ FALSE \n",
              "2  0.1922953 0.1487278 FALSE    FALSE  0.0000000 0        FALSE ⋯ FALSE \n",
              "3  0.0000000 0.3824428 FALSE    FALSE  0.0000000 0        FALSE ⋯ FALSE \n",
              "4  0.0000000 0.0000000 FALSE    FALSE  0.2112980 0        FALSE ⋯ FALSE \n",
              "5  0.2307543 0.0000000  TRUE    FALSE  0.2676442 0        FALSE ⋯ FALSE \n",
              "6  0.0000000 0.0000000 FALSE    FALSE  0.0000000 0        FALSE ⋯ FALSE \n",
              "7  0.0000000 0.0000000 FALSE    FALSE  0.0000000 0        FALSE ⋯ FALSE \n",
              "8  0.0000000 0.0000000 FALSE    FALSE  0.0000000 0        FALSE ⋯ FALSE \n",
              "9  0.0000000 0.0000000 FALSE    FALSE  0.0000000 0        FALSE ⋯ FALSE \n",
              "10 0.0000000 0.0000000 FALSE    FALSE  0.0000000 0        FALSE ⋯ FALSE \n",
              "   colombiahumana cundinamarcar concejo socialismo fascismo transmilenio\n",
              "1   TRUE          FALSE         FALSE   FALSE      FALSE    FALSE       \n",
              "2  FALSE           TRUE         FALSE   FALSE      FALSE    FALSE       \n",
              "3  FALSE          FALSE          TRUE   FALSE      FALSE    FALSE       \n",
              "4  FALSE          FALSE         FALSE   FALSE      FALSE    FALSE       \n",
              "5  FALSE          FALSE         FALSE   FALSE      FALSE    FALSE       \n",
              "6  FALSE          FALSE         FALSE   FALSE      FALSE    FALSE       \n",
              "7  FALSE          FALSE         FALSE   FALSE      FALSE    FALSE       \n",
              "8  FALSE          FALSE         FALSE   FALSE      FALSE    FALSE       \n",
              "9  FALSE          FALSE         FALSE   FALSE      FALSE    FALSE       \n",
              "10 FALSE          FALSE         FALSE   FALSE      FALSE    FALSE       \n",
              "   distrital estacion onzar\n",
              "1  FALSE     FALSE    FALSE\n",
              "2  FALSE     FALSE    FALSE\n",
              "3  FALSE     FALSE    FALSE\n",
              "4  FALSE     FALSE    FALSE\n",
              "5  FALSE     FALSE    FALSE\n",
              "6  FALSE     FALSE    FALSE\n",
              "7  FALSE     FALSE    FALSE\n",
              "8  FALSE     FALSE    FALSE\n",
              "9  FALSE     FALSE    FALSE\n",
              "10 FALSE     FALSE    FALSE"
            ]
          },
          "metadata": {}
        }
      ]
    },
    {
      "cell_type": "code",
      "source": [
        "train$cat <- ifelse(train$name == \"Lopez\", 1, ifelse(train$name == \"Uribe\",2,3))"
      ],
      "metadata": {
        "id": "YVE2RvC_zLIK"
      },
      "execution_count": 442,
      "outputs": []
    },
    {
      "cell_type": "code",
      "source": [
        "train$cat"
      ],
      "metadata": {
        "colab": {
          "base_uri": "https://localhost:8080/",
          "height": 104
        },
        "id": "AnoP-JUAHGel",
        "outputId": "9e592898-d3cd-4be0-e310-9e4c502432cb"
      },
      "execution_count": 361,
      "outputs": [
        {
          "output_type": "display_data",
          "data": {
            "text/html": [
              "<style>\n",
              ".list-inline {list-style: none; margin:0; padding: 0}\n",
              ".list-inline>li {display: inline-block}\n",
              ".list-inline>li:not(:last-child)::after {content: \"\\00b7\"; padding: 0 .5ex}\n",
              "</style>\n",
              "<ol class=list-inline><li>3</li><li>1</li><li>1</li><li>1</li><li>3</li><li>3</li><li>2</li><li>3</li><li>3</li><li>1</li><li>1</li><li>2</li><li>1</li><li>3</li><li>1</li><li>2</li><li>2</li><li>2</li><li>2</li><li>2</li><li>2</li><li>2</li><li>1</li><li>1</li><li>1</li><li>3</li><li>1</li><li>1</li><li>2</li><li>3</li><li>1</li><li>2</li><li>1</li><li>1</li><li>3</li><li>2</li><li>1</li><li>3</li><li>3</li><li>2</li><li>1</li><li>2</li><li>3</li><li>1</li><li>2</li><li>3</li><li>1</li><li>3</li><li>1</li><li>1</li><li>3</li><li>2</li><li>2</li><li>1</li><li>3</li><li>2</li><li>1</li><li>3</li><li>3</li><li>1</li><li>1</li><li>2</li><li>1</li><li>1</li><li>1</li><li>3</li><li>1</li><li>1</li><li>2</li><li>2</li><li>1</li><li>3</li><li>3</li><li>1</li><li>2</li><li>3</li><li>1</li><li>1</li><li>2</li><li>3</li><li>1</li><li>2</li><li>2</li><li>1</li><li>2</li><li>1</li><li>1</li><li>3</li><li>2</li><li>2</li><li>1</li><li>2</li><li>1</li><li>2</li><li>3</li><li>2</li><li>1</li><li>1</li><li>3</li><li>1</li><li>3</li><li>3</li><li>3</li><li>2</li><li>1</li><li>1</li><li>2</li><li>3</li><li>1</li><li>3</li><li>2</li><li>1</li><li>3</li><li>1</li><li>3</li><li>1</li><li>3</li><li>3</li><li>2</li><li>1</li><li>1</li><li>2</li><li>1</li><li>1</li><li>2</li><li>1</li><li>2</li><li>1</li><li>1</li><li>3</li><li>2</li><li>3</li><li>1</li><li>2</li><li>2</li><li>3</li><li>3</li><li>2</li><li>1</li><li>1</li><li>2</li><li>1</li><li>3</li><li>3</li><li>1</li><li>2</li><li>2</li><li>2</li><li>3</li><li>2</li><li>1</li><li>1</li><li>3</li><li>3</li><li>1</li><li>1</li><li>3</li><li>1</li><li>2</li><li>1</li><li>3</li><li>1</li><li>3</li><li>2</li><li>3</li><li>3</li><li>1</li><li>2</li><li>2</li><li>2</li><li>2</li><li>2</li><li>2</li><li>2</li><li>2</li><li>1</li><li>1</li><li>3</li><li>1</li><li>3</li><li>1</li><li>2</li><li>2</li><li>1</li><li>2</li><li>1</li><li>2</li><li>1</li><li>1</li><li>3</li><li>3</li><li>3</li><li>2</li><li>1</li><li>3</li><li>3</li><li>2</li><li>1</li><li>2</li><li>1</li><li>⋯</li><li>2</li><li>3</li><li>1</li><li>2</li><li>3</li><li>1</li><li>1</li><li>1</li><li>1</li><li>1</li><li>1</li><li>2</li><li>1</li><li>1</li><li>1</li><li>1</li><li>2</li><li>1</li><li>2</li><li>1</li><li>3</li><li>2</li><li>3</li><li>2</li><li>1</li><li>1</li><li>2</li><li>3</li><li>1</li><li>1</li><li>3</li><li>1</li><li>1</li><li>1</li><li>2</li><li>1</li><li>3</li><li>2</li><li>3</li><li>2</li><li>3</li><li>3</li><li>2</li><li>3</li><li>2</li><li>3</li><li>3</li><li>1</li><li>1</li><li>1</li><li>1</li><li>3</li><li>3</li><li>2</li><li>2</li><li>1</li><li>1</li><li>3</li><li>2</li><li>2</li><li>3</li><li>3</li><li>1</li><li>2</li><li>3</li><li>1</li><li>3</li><li>2</li><li>2</li><li>1</li><li>3</li><li>2</li><li>3</li><li>1</li><li>2</li><li>3</li><li>1</li><li>3</li><li>3</li><li>1</li><li>2</li><li>1</li><li>3</li><li>1</li><li>2</li><li>2</li><li>2</li><li>1</li><li>2</li><li>3</li><li>3</li><li>1</li><li>3</li><li>1</li><li>1</li><li>1</li><li>3</li><li>1</li><li>1</li><li>2</li><li>2</li><li>2</li><li>2</li><li>3</li><li>1</li><li>3</li><li>1</li><li>3</li><li>3</li><li>3</li><li>1</li><li>3</li><li>3</li><li>1</li><li>3</li><li>3</li><li>1</li><li>3</li><li>1</li><li>1</li><li>3</li><li>3</li><li>1</li><li>2</li><li>3</li><li>2</li><li>2</li><li>1</li><li>3</li><li>1</li><li>2</li><li>3</li><li>3</li><li>1</li><li>2</li><li>2</li><li>3</li><li>3</li><li>2</li><li>3</li><li>1</li><li>1</li><li>1</li><li>2</li><li>1</li><li>1</li><li>3</li><li>1</li><li>3</li><li>3</li><li>2</li><li>1</li><li>3</li><li>3</li><li>3</li><li>2</li><li>1</li><li>1</li><li>2</li><li>1</li><li>1</li><li>3</li><li>1</li><li>1</li><li>1</li><li>2</li><li>1</li><li>3</li><li>1</li><li>2</li><li>2</li><li>2</li><li>1</li><li>1</li><li>3</li><li>3</li><li>1</li><li>1</li><li>3</li><li>2</li><li>1</li><li>1</li><li>1</li><li>3</li><li>1</li><li>2</li><li>1</li><li>3</li><li>2</li><li>1</li><li>1</li><li>3</li><li>2</li><li>1</li><li>2</li><li>1</li><li>1</li><li>1</li><li>1</li><li>3</li></ol>\n"
            ],
            "text/markdown": "1. 3\n2. 1\n3. 1\n4. 1\n5. 3\n6. 3\n7. 2\n8. 3\n9. 3\n10. 1\n11. 1\n12. 2\n13. 1\n14. 3\n15. 1\n16. 2\n17. 2\n18. 2\n19. 2\n20. 2\n21. 2\n22. 2\n23. 1\n24. 1\n25. 1\n26. 3\n27. 1\n28. 1\n29. 2\n30. 3\n31. 1\n32. 2\n33. 1\n34. 1\n35. 3\n36. 2\n37. 1\n38. 3\n39. 3\n40. 2\n41. 1\n42. 2\n43. 3\n44. 1\n45. 2\n46. 3\n47. 1\n48. 3\n49. 1\n50. 1\n51. 3\n52. 2\n53. 2\n54. 1\n55. 3\n56. 2\n57. 1\n58. 3\n59. 3\n60. 1\n61. 1\n62. 2\n63. 1\n64. 1\n65. 1\n66. 3\n67. 1\n68. 1\n69. 2\n70. 2\n71. 1\n72. 3\n73. 3\n74. 1\n75. 2\n76. 3\n77. 1\n78. 1\n79. 2\n80. 3\n81. 1\n82. 2\n83. 2\n84. 1\n85. 2\n86. 1\n87. 1\n88. 3\n89. 2\n90. 2\n91. 1\n92. 2\n93. 1\n94. 2\n95. 3\n96. 2\n97. 1\n98. 1\n99. 3\n100. 1\n101. 3\n102. 3\n103. 3\n104. 2\n105. 1\n106. 1\n107. 2\n108. 3\n109. 1\n110. 3\n111. 2\n112. 1\n113. 3\n114. 1\n115. 3\n116. 1\n117. 3\n118. 3\n119. 2\n120. 1\n121. 1\n122. 2\n123. 1\n124. 1\n125. 2\n126. 1\n127. 2\n128. 1\n129. 1\n130. 3\n131. 2\n132. 3\n133. 1\n134. 2\n135. 2\n136. 3\n137. 3\n138. 2\n139. 1\n140. 1\n141. 2\n142. 1\n143. 3\n144. 3\n145. 1\n146. 2\n147. 2\n148. 2\n149. 3\n150. 2\n151. 1\n152. 1\n153. 3\n154. 3\n155. 1\n156. 1\n157. 3\n158. 1\n159. 2\n160. 1\n161. 3\n162. 1\n163. 3\n164. 2\n165. 3\n166. 3\n167. 1\n168. 2\n169. 2\n170. 2\n171. 2\n172. 2\n173. 2\n174. 2\n175. 2\n176. 1\n177. 1\n178. 3\n179. 1\n180. 3\n181. 1\n182. 2\n183. 2\n184. 1\n185. 2\n186. 1\n187. 2\n188. 1\n189. 1\n190. 3\n191. 3\n192. 3\n193. 2\n194. 1\n195. 3\n196. 3\n197. 2\n198. 1\n199. 2\n200. 1\n201. ⋯\n202. 2\n203. 3\n204. 1\n205. 2\n206. 3\n207. 1\n208. 1\n209. 1\n210. 1\n211. 1\n212. 1\n213. 2\n214. 1\n215. 1\n216. 1\n217. 1\n218. 2\n219. 1\n220. 2\n221. 1\n222. 3\n223. 2\n224. 3\n225. 2\n226. 1\n227. 1\n228. 2\n229. 3\n230. 1\n231. 1\n232. 3\n233. 1\n234. 1\n235. 1\n236. 2\n237. 1\n238. 3\n239. 2\n240. 3\n241. 2\n242. 3\n243. 3\n244. 2\n245. 3\n246. 2\n247. 3\n248. 3\n249. 1\n250. 1\n251. 1\n252. 1\n253. 3\n254. 3\n255. 2\n256. 2\n257. 1\n258. 1\n259. 3\n260. 2\n261. 2\n262. 3\n263. 3\n264. 1\n265. 2\n266. 3\n267. 1\n268. 3\n269. 2\n270. 2\n271. 1\n272. 3\n273. 2\n274. 3\n275. 1\n276. 2\n277. 3\n278. 1\n279. 3\n280. 3\n281. 1\n282. 2\n283. 1\n284. 3\n285. 1\n286. 2\n287. 2\n288. 2\n289. 1\n290. 2\n291. 3\n292. 3\n293. 1\n294. 3\n295. 1\n296. 1\n297. 1\n298. 3\n299. 1\n300. 1\n301. 2\n302. 2\n303. 2\n304. 2\n305. 3\n306. 1\n307. 3\n308. 1\n309. 3\n310. 3\n311. 3\n312. 1\n313. 3\n314. 3\n315. 1\n316. 3\n317. 3\n318. 1\n319. 3\n320. 1\n321. 1\n322. 3\n323. 3\n324. 1\n325. 2\n326. 3\n327. 2\n328. 2\n329. 1\n330. 3\n331. 1\n332. 2\n333. 3\n334. 3\n335. 1\n336. 2\n337. 2\n338. 3\n339. 3\n340. 2\n341. 3\n342. 1\n343. 1\n344. 1\n345. 2\n346. 1\n347. 1\n348. 3\n349. 1\n350. 3\n351. 3\n352. 2\n353. 1\n354. 3\n355. 3\n356. 3\n357. 2\n358. 1\n359. 1\n360. 2\n361. 1\n362. 1\n363. 3\n364. 1\n365. 1\n366. 1\n367. 2\n368. 1\n369. 3\n370. 1\n371. 2\n372. 2\n373. 2\n374. 1\n375. 1\n376. 3\n377. 3\n378. 1\n379. 1\n380. 3\n381. 2\n382. 1\n383. 1\n384. 1\n385. 3\n386. 1\n387. 2\n388. 1\n389. 3\n390. 2\n391. 1\n392. 1\n393. 3\n394. 2\n395. 1\n396. 2\n397. 1\n398. 1\n399. 1\n400. 1\n401. 3\n\n\n",
            "text/latex": "\\begin{enumerate*}\n\\item 3\n\\item 1\n\\item 1\n\\item 1\n\\item 3\n\\item 3\n\\item 2\n\\item 3\n\\item 3\n\\item 1\n\\item 1\n\\item 2\n\\item 1\n\\item 3\n\\item 1\n\\item 2\n\\item 2\n\\item 2\n\\item 2\n\\item 2\n\\item 2\n\\item 2\n\\item 1\n\\item 1\n\\item 1\n\\item 3\n\\item 1\n\\item 1\n\\item 2\n\\item 3\n\\item 1\n\\item 2\n\\item 1\n\\item 1\n\\item 3\n\\item 2\n\\item 1\n\\item 3\n\\item 3\n\\item 2\n\\item 1\n\\item 2\n\\item 3\n\\item 1\n\\item 2\n\\item 3\n\\item 1\n\\item 3\n\\item 1\n\\item 1\n\\item 3\n\\item 2\n\\item 2\n\\item 1\n\\item 3\n\\item 2\n\\item 1\n\\item 3\n\\item 3\n\\item 1\n\\item 1\n\\item 2\n\\item 1\n\\item 1\n\\item 1\n\\item 3\n\\item 1\n\\item 1\n\\item 2\n\\item 2\n\\item 1\n\\item 3\n\\item 3\n\\item 1\n\\item 2\n\\item 3\n\\item 1\n\\item 1\n\\item 2\n\\item 3\n\\item 1\n\\item 2\n\\item 2\n\\item 1\n\\item 2\n\\item 1\n\\item 1\n\\item 3\n\\item 2\n\\item 2\n\\item 1\n\\item 2\n\\item 1\n\\item 2\n\\item 3\n\\item 2\n\\item 1\n\\item 1\n\\item 3\n\\item 1\n\\item 3\n\\item 3\n\\item 3\n\\item 2\n\\item 1\n\\item 1\n\\item 2\n\\item 3\n\\item 1\n\\item 3\n\\item 2\n\\item 1\n\\item 3\n\\item 1\n\\item 3\n\\item 1\n\\item 3\n\\item 3\n\\item 2\n\\item 1\n\\item 1\n\\item 2\n\\item 1\n\\item 1\n\\item 2\n\\item 1\n\\item 2\n\\item 1\n\\item 1\n\\item 3\n\\item 2\n\\item 3\n\\item 1\n\\item 2\n\\item 2\n\\item 3\n\\item 3\n\\item 2\n\\item 1\n\\item 1\n\\item 2\n\\item 1\n\\item 3\n\\item 3\n\\item 1\n\\item 2\n\\item 2\n\\item 2\n\\item 3\n\\item 2\n\\item 1\n\\item 1\n\\item 3\n\\item 3\n\\item 1\n\\item 1\n\\item 3\n\\item 1\n\\item 2\n\\item 1\n\\item 3\n\\item 1\n\\item 3\n\\item 2\n\\item 3\n\\item 3\n\\item 1\n\\item 2\n\\item 2\n\\item 2\n\\item 2\n\\item 2\n\\item 2\n\\item 2\n\\item 2\n\\item 1\n\\item 1\n\\item 3\n\\item 1\n\\item 3\n\\item 1\n\\item 2\n\\item 2\n\\item 1\n\\item 2\n\\item 1\n\\item 2\n\\item 1\n\\item 1\n\\item 3\n\\item 3\n\\item 3\n\\item 2\n\\item 1\n\\item 3\n\\item 3\n\\item 2\n\\item 1\n\\item 2\n\\item 1\n\\item ⋯\n\\item 2\n\\item 3\n\\item 1\n\\item 2\n\\item 3\n\\item 1\n\\item 1\n\\item 1\n\\item 1\n\\item 1\n\\item 1\n\\item 2\n\\item 1\n\\item 1\n\\item 1\n\\item 1\n\\item 2\n\\item 1\n\\item 2\n\\item 1\n\\item 3\n\\item 2\n\\item 3\n\\item 2\n\\item 1\n\\item 1\n\\item 2\n\\item 3\n\\item 1\n\\item 1\n\\item 3\n\\item 1\n\\item 1\n\\item 1\n\\item 2\n\\item 1\n\\item 3\n\\item 2\n\\item 3\n\\item 2\n\\item 3\n\\item 3\n\\item 2\n\\item 3\n\\item 2\n\\item 3\n\\item 3\n\\item 1\n\\item 1\n\\item 1\n\\item 1\n\\item 3\n\\item 3\n\\item 2\n\\item 2\n\\item 1\n\\item 1\n\\item 3\n\\item 2\n\\item 2\n\\item 3\n\\item 3\n\\item 1\n\\item 2\n\\item 3\n\\item 1\n\\item 3\n\\item 2\n\\item 2\n\\item 1\n\\item 3\n\\item 2\n\\item 3\n\\item 1\n\\item 2\n\\item 3\n\\item 1\n\\item 3\n\\item 3\n\\item 1\n\\item 2\n\\item 1\n\\item 3\n\\item 1\n\\item 2\n\\item 2\n\\item 2\n\\item 1\n\\item 2\n\\item 3\n\\item 3\n\\item 1\n\\item 3\n\\item 1\n\\item 1\n\\item 1\n\\item 3\n\\item 1\n\\item 1\n\\item 2\n\\item 2\n\\item 2\n\\item 2\n\\item 3\n\\item 1\n\\item 3\n\\item 1\n\\item 3\n\\item 3\n\\item 3\n\\item 1\n\\item 3\n\\item 3\n\\item 1\n\\item 3\n\\item 3\n\\item 1\n\\item 3\n\\item 1\n\\item 1\n\\item 3\n\\item 3\n\\item 1\n\\item 2\n\\item 3\n\\item 2\n\\item 2\n\\item 1\n\\item 3\n\\item 1\n\\item 2\n\\item 3\n\\item 3\n\\item 1\n\\item 2\n\\item 2\n\\item 3\n\\item 3\n\\item 2\n\\item 3\n\\item 1\n\\item 1\n\\item 1\n\\item 2\n\\item 1\n\\item 1\n\\item 3\n\\item 1\n\\item 3\n\\item 3\n\\item 2\n\\item 1\n\\item 3\n\\item 3\n\\item 3\n\\item 2\n\\item 1\n\\item 1\n\\item 2\n\\item 1\n\\item 1\n\\item 3\n\\item 1\n\\item 1\n\\item 1\n\\item 2\n\\item 1\n\\item 3\n\\item 1\n\\item 2\n\\item 2\n\\item 2\n\\item 1\n\\item 1\n\\item 3\n\\item 3\n\\item 1\n\\item 1\n\\item 3\n\\item 2\n\\item 1\n\\item 1\n\\item 1\n\\item 3\n\\item 1\n\\item 2\n\\item 1\n\\item 3\n\\item 2\n\\item 1\n\\item 1\n\\item 3\n\\item 2\n\\item 1\n\\item 2\n\\item 1\n\\item 1\n\\item 1\n\\item 1\n\\item 3\n\\end{enumerate*}\n",
            "text/plain": [
              "   [1] 3 1 1 1 3 3 2 3 3 1 1 2 1 3 1 2 2 2 2 2 2 2 1 1 1 3 1 1 2 3 1 2 1 1 3 2 1\n",
              "  [38] 3 3 2 1 2 3 1 2 3 1 3 1 1 3 2 2 1 3 2 1 3 3 1 1 2 1 1 1 3 1 1 2 2 1 3 3 1\n",
              "  [75] 2 3 1 1 2 3 1 2 2 1 2 1 1 3 2 2 1 2 1 2 3 2 1 1 3 1 3 3 3 2 1 1 2 3 1 3 2\n",
              " [112] 1 3 1 3 1 3 3 2 1 1 2 1 1 2 1 2 1 1 3 2 3 1 2 2 3 3 2 1 1 2 1 3 3 1 2 2 2\n",
              " [149] 3 2 1 1 3 3 1 1 3 1 2 1 3 1 3 2 3 3 1 2 2 2 2 2 2 2 2 1 1 3 1 3 1 2 2 1 2\n",
              " [186] 1 2 1 1 3 3 3 2 1 3 3 2 1 2 1 2 2 1 1 2 3 2 3 1 1 1 2 1 1 3 3 1 2 1 2 3 1\n",
              " [223] 1 3 2 2 1 1 1 2 3 1 3 1 2 2 2 2 2 1 2 1 1 3 2 2 1 2 1 2 2 3 2 1 1 1 2 3 2\n",
              " [260] 1 1 3 1 1 2 2 3 3 3 2 1 3 1 1 1 3 3 1 2 1 2 3 2 3 3 3 1 2 1 1 2 3 2 1 1 1\n",
              " [297] 1 3 3 3 1 3 2 3 1 1 3 1 1 1 1 1 1 3 1 2 2 1 2 2 1 1 2 3 2 1 2 1 3 3 3 2 2\n",
              " [334] 1 3 3 2 1 1 3 3 3 1 2 2 3 3 1 1 1 2 2 1 1 1 3 1 3 3 3 2 3 2 2 2 1 2 1 2 1\n",
              " [371] 2 3 2 1 1 3 1 1 3 2 3 3 2 2 2 1 1 1 2 1 1 3 2 3 1 2 2 1 1 1 3 3 3 2 2 1 2\n",
              " [408] 1 3 2 3 2 2 2 3 1 1 2 1 1 1 2 3 3 1 3 2 2 1 1 1 2 1 3 3 3 1 3 1 1 1 1 1 1\n",
              " [445] 2 2 1 3 2 3 2 1 3 3 3 3 3 1 3 1 2 3 3 1 3 1 3 3 3 2 1 2 1 2 3 2 3 1 1 1 1\n",
              " [482] 3 2 3 1 2 3 1 1 2 2 1 2 1 2 1 2 3 1 3 3 1 1 2 2 1 1 2 1 1 1 3 1 2 1 3 1 3\n",
              " [519] 1 3 1 1 1 1 2 1 2 3 3 3 3 3 1 2 3 1 3 1 1 2 1 1 1 1 2 1 1 3 1 2 3 1 1 3 1\n",
              " [556] 1 3 3 3 2 2 3 2 3 2 2 3 2 1 1 2 2 3 2 3 2 1 1 1 2 1 3 3 2 2 1 1 3 3 3 2 3\n",
              " [593] 3 1 2 3 3 1 1 2 2 3 2 2 1 2 2 1 3 2 2 1 3 1 1 1 3 1 2 3 2 2 1 3 2 1 2 3 3\n",
              " [630] 1 2 1 2 1 2 2 2 3 2 3 3 2 1 2 3 2 1 2 1 3 1 2 2 1 3 3 2 3 2 3 3 2 2 1 2 2\n",
              " [667] 1 3 1 3 2 3 1 3 1 1 1 2 1 2 3 2 2 1 1 3 1 2 1 2 1 3 1 2 1 1 1 2 2 2 2 1 3\n",
              " [704] 3 3 2 1 2 2 1 3 1 2 2 3 1 3 2 2 3 2 2 3 2 1 3 1 1 2 2 3 1 3 1 2 2 1 2 1 3\n",
              " [741] 2 1 1 1 1 2 2 3 3 2 1 2 3 3 1 2 1 1 3 2 3 1 2 1 2 3 2 3 2 2 3 3 3 1 3 2 2\n",
              " [778] 2 1 1 2 3 2 1 3 1 3 2 1 1 2 1 3 3 3 3 1 2 1 2 1 1 3 1 1 1 3 2 1 1 1 2 3 3\n",
              " [815] 1 3 1 1 3 3 1 1 1 1 3 3 1 1 2 1 2 1 3 1 3 2 2 2 2 3 1 1 2 3 1 1 1 2 2 2 3\n",
              " [852] 2 3 3 3 1 3 3 2 1 2 2 3 2 3 1 2 3 2 1 3 3 1 2 3 3 1 1 3 1 2 2 1 2 3 3 1 3\n",
              " [889] 1 3 3 2 2 1 2 1 1 1 3 3 2 2 3 3 1 3 2 1 1 2 3 2 1 1 3 1 2 2 3 2 3 2 3 2 1\n",
              " [926] 3 2 3 1 2 3 2 1 1 3 1 2 2 1 2 2 2 2 3 1 1 1 3 3 3 3 1 1 1 1 1 2 1 1 3 1 2\n",
              " [963] 3 3 3 2 1 1 3 3 2 2 1 2 2 3 3 1 3 3 1 3 2 1 2 2 1 1 1 2 1 1 3 1 1 1 2 1 2\n",
              "[1000] 1 1 2 1 2 2 2 3 2 2 3 1 1 1 3 2 3 2 2 3 1 1 3 3 3 2 1 3 2 1 2 3 2 2 1 1 1\n",
              "[1037] 2 1 1 1 2 1 1 2 2 2 1 3 3 2 3 1 1 2 3 1 3 1 1 3 2 1 2 2 2 3 2 1 3 3 1 1 3\n",
              "[1074] 2 1 1 1 2 3 2 3 2 2 1 3 1 2 2 1 2 3 2 1 3 3 3 1 1 1 3 1 3 1 2 1 3 1 2 2 2\n",
              "[1111] 1 2 3 3 2 2 3 1 2 3 2 1 1 1 2 1 1 2 2 1 1 3 1 2 2 1 3 1 1 1 1 3 3 2 1 1 1\n",
              "[1148] 1 1 2 3 1 1 2 2 2 2 1 2 3 2 2 3 1 3 1 1 2 1 2 2 2 2 1 2 1 3 1 3 2 1 1 1 2\n",
              "[1185] 2 3 2 1 1 3 1 2 3 1 2 2 1 1 3 2 2 2 1 1 2 3 3 3 1 1 2 2 1 3 1 2 1 2 1 1 2\n",
              "[1222] 3 3 1 1 1 3 1 1 1 3 2 2 3 2 1 1 2 3 1 2 1 2 1 3 3 2 3 1 3 3 3 3 3 1 3 1 3\n",
              "[1259] 1 3 3 3 2 2 1 3 3 1 1 1 1 3 2 2 3 3 1 2 2 3 2 3 2 3 1 2 1 3 2 2 1 2 3 2 3\n",
              "[1296] 1 3 2 1 1 1 3 1 3 1 3 1 2 3 1 1 1 1 3 1 2 1 1 3 3 2 2 1 2 3 3 3 2 3 3 1 3\n",
              "[1333] 2 1 2 3 3 2 2 2 3 3 1 2 1 3 3 2 2 2 2 1 2 3 1 1 1 3 2 2 2 3 3 1 2 2 1 3 1\n",
              "[1370] 2 1 3 1 3 2 3 2 2 2 3 2 3 1 2 3 3 1 2 1 3 1 2 1 3 1 1 2 2 2 1 2 2 1 3 1 1\n",
              "[1407] 2 1 1 2 1 2 3 1 1 3 3 3 1 2 2 1 2 1 1 1 3 1 2 3 2 2 2 3 3 1 1 2 2 3 2 3 2\n",
              "[1444] 1 2 1 1 1 3 3 3 1 3 1 2 2 1 2 2 1 2 3 1 2 2 2 3 1 2 3 3 3 3 1 2 2 1 1 3 1\n",
              "[1481] 3 3 2 1 2 2 1 2 1 1 3 3 2 3 3 3 3 1 3 3 2 1 3 3 1 3 3 2 1 2 2 3 2 1 1 2 1\n",
              "[1518] 3 3 2 3 2 2 3 1 1 2 3 2 3 3 1 1 3 1 2 2 3 1 1 3 3 1 2 2 3 3 1 1 2 1 1 1 2\n",
              "[1555] 3 3 2 1 1 2 1 2 3 1 2 2 1 2 1 1 2 3 2 1 3 1 1 1 3 3 2 1 3 3 1 1 1 1 2 2 2\n",
              "[1592] 2 3 3 3 3 1 3 2 3 3 3 1 1 2 1 1 3 1 1 1 3 3 2 2 3 3 1 2 3 2 2 1 2 1 2 2 1\n",
              "[1629] 3 1 1 2 2 2 2 3 3 3 1 3 1 2 3 3 3 1 3 2 2 2 2 1 1 1 3 1 1 1 2 3 1 1 1 3 3\n",
              "[1666] 3 2 3 2 1 3 1 2 3 2 1 3 2 2 3 2 1 1 2 2 3 3 1 2 1 1 1 3 1 1 1 1 2 2 1 2 1\n",
              "[1703] 3 3 3 1 1 1 2 2 1 3 3 3 2 3 1 3 3 1 3 2 2 3 3 2 1 3 3 3 2 3 1 3 2 1 1 1 3\n",
              "[1740] 3 3 3 3 2 1 1 2 1 1 1 3 1 2 2 3 2 3 2 2 3 2 1 3 3 3 1 3 3 3 1 1 3 1 1 3 3\n",
              "[1777] 1 2 3 3 3 1 3 3 1 2 2 2 1 2 3 1 1 2 1 3 1 2 3 2 1 1 1 2 1 3 3 1 3 3 2 1 1\n",
              "[1814] 2 3 1 2 2 3 3 2 3 1 1 3 3 2 3 2 1 1 2 1 1 1 1 1 2 2 2 3 3 2 1 1 1 2 3 2 1\n",
              "[1851] 3 1 3 2 2 2 3 3 1 2 2 2 3 1 1 3 3 2 3 3 2 1 1 1 3 1 3 3 2 2 1 2 2 1 1 1 1\n",
              "[1888] 3 1 2 1 2 2 2 3 3 1 3 3 2 2 1 2 2 2 1 1 2 1 1 2 3 1 2 1 2 1 1 2 2 3 2 2 3\n",
              "[1925] 1 1 3 1 2 1 2 3 2 1 2 3 1 1 1 3 2 2 2 1 3 1 3 1 2 2 3 1 3 2 2 1 1 3 3 2 1\n",
              "[1962] 1 3 3 3 1 1 3 2 2 3 2 1 1 3 2 1 2 1 2 3 2 3 2 2 3 1 2 1 1 2 2 1 1 3 3 2 2\n",
              "[1999] 3 1 2 2 1 1 2 3 2 2 3 1 2 1 1 2 3 3 3 3 1 3 2 3 3 2 1 2 2 2 3 3 3 1 1 3 2\n",
              "[2036] 1 1 1 3 1 2 3 1 1 3 3 1 1 2 1 3 1 3 1 2 3 1 1 2 2 1 3 2 1 2 2 3 2 3 2 2 2\n",
              "[2073] 2 3 2 1 3 1 1 1 3 1 1 2 3 1 1 3 2 2 3 2 3 1 1 1 3 1 1 3 2 1 3 3 1 3 2 1 3\n",
              "[2110] 3 2 3 1 3 1 1 3 2 2 1 1 2 2 3 2 2 3 1 1 2 1 2 2 2 1 1 2 3 2 2 3 2 1 2 2 1\n",
              "[2147] 1 2 3 1 2 1 3 3 2 2 1 1 3 1 3 3 3 1 3 2 3 1 3 1 1 3 1 2 2 1 3 3 2 2 1 1 1\n",
              "[2184] 1 1 3 2 1 2 1 3 3 3 1 1 2 2 1 3 3 1 1 2 1 1 1 3 1 1 1 1 3 3 2 2 3 2 2 1 3\n",
              "[2221] 3 2 3 1 2 2 2 1 2 3 3 1 2 3 2 2 2 2 3 2 1 3 3 1 1 3 1 1 3 2 3 2 2 1 2 1 2\n",
              "[2258] 1 2 2 3 1 2 1 3 1 1 3 1 2 2 2 1 3 2 3 2 2 3 1 1 3 1 2 3 1 2 3 2 1 1 3 1 2\n",
              "[2295] 1 2 1 1 3 3 2 2 1 1 2 1 2 3 3 1 3 2 3 2 3 2 2 2 1 2 1 1 2 2 3 1 2 3 2 1 3\n",
              "[2332] 3 3 2 3 3 2 1 2 3 3 2 3 1 2 1 1 1 1 3 2 2 2 1 1 2 2 1 2 1 3 3 2 3 3 3 1 2\n",
              "[2369] 2 3 3 1 3 2 1 1 2 1 2 2 1 2 1 2 3 3 1 2 2 1 2 1 2 1 3 3 3 3 1 1 2 2 1 1 1\n",
              "[2406] 3 1 2 2 3 3 1 1 1 1 2 1 3 1 2 2 1 3 1 2 3 2 3 1 1 1 1 2 2 2 3 2 3 3 2 2 1\n",
              "[2443] 1 3 3 3 1 2 3 1 1 2 1 3 2 2 3 3 1 2 1 2 3 1 2 2 1 1 3 1 3 3 3 2 2 1 1 3 2\n",
              "[2480] 3 1 1 1 1 3 3 2 2 2 2 1 3 1 3 2 3 2 1 3 2 1 2 2 3 2 1 2 3 3 2 2 3 3 1 3 3\n",
              "[2517] 1 3 2 2 1 2 1 3 3 1 1 3 2 2 2 2 1 2 1 2 3 1 1 2 1 3 3 1 1 3 3 3 2 3 3 3 1\n",
              "[2554] 2 3 3 3 1 1 3 1 2 3 2 2 3 1 3 1 1 1 1 2 2 1 2 3 2 1 1 2 1 2 2 1 1 3 2 2 1\n",
              "[2591] 2 1 1 3 1 3 1 2 1 3 1 3 2 1 2 3 2 2 3 2 2 2 1 3 1 2 3 2 3 2 2 1 1 1 2 1 3\n",
              "[2628] 1 2 3 1 1 3 1 2 1 1 3 2 1 1 2 2 2 3 3 2 1 1 2 1 2 1 2 1 3 3 1 2 2 2 1 2 3\n",
              "[2665] 1 3 1 2 3 3 1 3 1 3 1 1 3 1 2 3 2 1 3 2 1 3 3 1 1 1 2 1 1 3 2 3 1 3 2 1 1\n",
              "[2702] 3 1 1 3 3 1 3 2 2 2 1 2 1 1 2 2 2 1 1 1 1 2 1 2 1 1 3 1 3 1 2 1 3 2 2 1 2\n",
              "[2739] 1 1 1 3 1 3 1 1 1 1 3 3 2 2 2 1 3 3 1 1 2 2 2 1 3 1 1 1 3 1 1 1 3 3 3 1 3\n",
              "[2776] 2 3 2 1 1 3 1 2 2 1 2 2 3 2 3 2 3 2 3 3 2 1 3 1 3 1 3 1 1 2 2 1 1 2 1 1 3\n",
              "[2813] 1 3 3 3 1 1 3 1 2 1 2 1 1 1 1 3 1 2 1 2 2 2 1 1 1 1 3 3 1 3 3 3 1 2 2 1 2\n",
              "[2850] 3 3 2 1 3 2 2 3 2 3 2 1 3 3 2 3 1 1 1 1 2 1 1 3 2 1 1 3 2 3 3 1 2 1 3 2 3\n",
              "[2887] 1 1 3 3 3 2 1 1 1 1 2 3 2 1 1 2 3 2 2 1 1 1 1 3 3 2 1 1 2 3 1 1 1 2 2 1 1\n",
              "[2924] 2 2 2 1 1 2 3 2 3 2 1 3 2 1 1 2 3 3 1 1 1 2 1 2 2 1 1 2 2 3 3 1 2 2 1 1 3\n",
              "[2961] 2 3 1 2 2 3 1 2 1 2 2 2 1 2 3 1 3 2 2 3 3 2 1 1 1 2 1 3 2 1 2 1 3 1 2 3 3\n",
              "[2998] 3 2 1 1 3 2 3 3 1 2 2 1 2 1 3 3 1 2 3 1 2 2 1 3 1 2 3 1 1 1 3 2 3 1 2 1 1\n",
              "[3035] 1 1 3 1 3 1 2 1 3 1 3 3 1 1 3 1 2 1 2 1 1 3 2 2 1 2 2 3 2 3 1 3 1 3 3 1 1\n",
              "[3072] 3 3 3 3 2 2 3 1 1 3 2 1 1 3 3 2 2 1 2 3 1 1 3 3 1 1 2 1 1 2 3 3 2 2 2 1 3\n",
              "[3109] 3 2 1 3 3 2 3 3 1 2 2 1 3 3 2 2 3 3 1 2 3 1 3 3 2 3 3 3 2 1 1 3 1 1 2 3 1\n",
              "[3146] 3 1 1 1 2 1 1 1 3 2 3 3 2 3 1 1 1 1 1 2 2 1 2 1 1 3 3 3 1 3 3 1 2 1 2 3 2\n",
              "[3183] 2 1 2 1 1 1 1 1 3 1 3 3 1 1 1 1 1 1 2 1 1 2 3 1 1 3 3 1 2 1 2 2 1 2 3 1 3\n",
              "[3220] 2 2 1 2 3 2 3 2 3 3 2 1 1 2 1 2 3 1 1 3 2 2 2 1 3 1 1 3 3 2 1 2 3 3 1 1 1\n",
              "[3257] 3 1 2 2 1 1 1 3 3 2 1 1 1 3 2 1 2 1 1 2 1 1 2 3 2 2 2 2 1 1 2 3 2 1 3 1 3\n",
              "[3294] 3 3 2 3 1 1 1 1 1 1 3 1 3 2 1 2 3 1 3 1 2 3 2 2 3 2 1 3 2 1 3 1 1 2 1 3 1\n",
              "[3331] 2 2 2 3 3 3 3 2 3 2 1 2 3 1 3 3 2 2 1 3 3 1 2 3 1 3 3 1 2 1 3 3 3 1 1 2 3\n",
              "[3368] 2 3 2 2 1 2 1 3 1 2 3 1 2 3 2 1 3 1 1 2 1 2 1 1 3 1 2 3 1 1 3 1 3 1 1 1 3\n",
              "[3405] 3 3 1 3 1 3 2 2 2 3 1 1 1 2 1 1 3 1 3 3 1 3 1 3 2 2 3 2 2 3 2 1 1 1 2 1 3\n",
              "[3442] 3 3 2 2 1 1 1 1 2 1 1 1 1 2 2 3 2 1 1 1 3 2 1 1 2 3 1 3 3 1 2 2 3 1 2 3 2\n",
              "[3479] 2 3 2 1 1 1 3 2 1 2 3 1 1 3 2 2 2 1 2 2 2 2 3 3 2 3 3 2 1 3 2 2 1 3 1 1 3\n",
              "[3516] 1 2 3 3 1 3 2 3 1 3 2 3 3 1 1 3 3 2 2 2 2 1 1 2 2 1 2 3 3 1 2 1 3 3 1 1 2\n",
              "[3553] 1 2 3 2 3 3 1 3 2 2 2 1 3 1 2 3 3 3 2 1 2 1 2 2 3 1 2 3 3 3 1 1 2 2 1 1 2\n",
              "[3590] 2 2 3 1 1 1 3 3 3 3 3 1 1 3 1 2 3 1 3 1 1 1 2 3 3 3 1 2 2 1 3 1 1 1 1 1 2\n",
              "[3627] 2 2 1 1 3 3 3 2 3 2 3 1 3 1 1 1 1 1 1 3 1 2 3 3 1 3 3 3 3 1 3 2 1 1 3 2 2\n",
              "[3664] 1 2 1 2 3 3 3 1 1 1 3 1 3 3 1 2 2 2 3 1 1 1 3 1 2 2 2 3 3 3 2 1 3 1 1 2 2\n",
              "[3701] 1 1 3 1 1 1 1 1 2 2 1 1 2 3 1 2 2 3 3 3 3 3 1 2 1 3 1 1 1 3 2 3 2 2 2 3 2\n",
              "[3738] 2 1 2 3 2 3 3 3 1 2 1 1 2 1 3 2 1 2 3 2 1 2 3 3 1 3 3 1 3 3 3 2 2 1 1 1 1\n",
              "[3775] 1 1 1 1 2 2 2 2 1 3 3 2 1 2 1 3 2 3 3 3 3 1 2 1 3 1 1 1 3 1 2 2 1 3 1 1 1\n",
              "[3812] 3 1 2 1 3 3 3 3 1 1 2 2 1 1 1 2 1 2 2 2 1 2 2 3 1 1 2 2 1 1 1 3 3 1 2 1 2\n",
              "[3849] 1 2 3 1 2 1 1 3 3 2 1 1 1 2 3 1 2 2 1 1 3 3 3 2 3 2 2 1 1 3 3 2 3 2 3 3 1\n",
              "[3886] 3 1 3 1 3 2 2 2 2 2 2 2 3 1 1 1 2 2 1 2 1 2 3 1 3 2 1 2 1 1 2 3 1 1 2 2 3\n",
              "[3923] 3 3 2 1 1 1 1 3 3 1 2 3 2 2 1 1 3 3 2 1 1 2 1 1 2 1 3 3 3 3 2 1 2 2 2 3 3\n",
              "[3960] 2 1 3 2 2 3 1 3 2 1 3 2 2 3 1 2 1 2 3 3 1 2 3 2 3 2 3 2 3 2 3 3 1 2 1 2 1\n",
              "[3997] 3 3 1 1 2 1 2 1 2 2 2 1 1 1 3 1 1 2 3 1 3 1 3 1 3 3 2 2 2 2 3 1 1 3 1 2 1\n",
              "[4034] 1 1 2 1 2 2 2 2 3 1 2 1 2 3 2 3 1 2 3 2 3 2 2 1 1 3 3 3 1 2 3 2 2 3 1 3 1\n",
              "[4071] 2 2 1 1 2 3 1 2 2 3 2 1 1 1 2 1 3 1 3 3 3 2 1 1 3 1 3 2 1 2 2 1 3 3 1 3 2\n",
              "[4108] 1 1 2 1 3 2 2 3 2 3 3 2 2 1 3 1 1 2 1 1 3 1 1 2 1 3 2 1 1 2 2 3 1 3 1 1 1\n",
              "[4145] 2 3 3 2 2 1 2 3 2 1 2 2 1 3 1 1 3 2 3 1 1 1 2 3 3 1 1 1 3 1 1 2 2 1 1 2 1\n",
              "[4182] 3 2 3 1 2 3 1 3 2 2 3 1 3 2 2 3 2 2 1 2 3 1 3 3 2 3 1 2 3 1 2 3 1 1 1 1 1\n",
              "[4219] 1 2 1 1 1 1 2 1 2 1 3 2 3 2 1 1 2 3 1 1 3 1 1 1 2 1 3 2 3 2 3 3 2 3 2 3 3\n",
              "[4256] 1 1 1 1 3 3 2 2 1 1 3 2 2 3 3 1 2 3 1 3 2 2 1 3 2 3 1 2 3 1 3 3 1 2 1 3 1\n",
              "[4293] 2 2 2 1 2 3 3 1 3 1 1 1 3 1 1 2 2 2 2 3 1 3 1 3 3 3 1 3 3 1 3 3 1 3 1 1 3\n",
              "[4330] 3 1 2 3 2 2 1 3 1 2 3 3 1 2 2 3 3 2 3 1 1 1 2 1 1 3 1 3 3 2 1 3 3 3 2 1 1\n",
              "[4367] 2 1 1 3 1 1 1 2 1 3 1 2 2 2 1 1 3 3 1 1 3 2 1 1 1 3 1 2 1 3 2 1 1 3 2 1 2\n",
              "[4404] 1 1 1 1 3"
            ]
          },
          "metadata": {}
        }
      ]
    },
    {
      "cell_type": "code",
      "source": [
        "y_train <- train$cat\n",
        "y_train <- to_categorical(y_train)"
      ],
      "metadata": {
        "id": "ybQyZKDxz1RD"
      },
      "execution_count": 481,
      "outputs": []
    },
    {
      "cell_type": "code",
      "source": [
        "y_train <- y_train[, -1]\n",
        "dim(y_train)\n",
        "y_train"
      ],
      "metadata": {
        "id": "IEXAcphYGU4z",
        "colab": {
          "base_uri": "https://localhost:8080/",
          "height": 1000
        },
        "outputId": "b14c0cca-e469-4a74-f000-defee5144863"
      },
      "execution_count": 482,
      "outputs": [
        {
          "output_type": "display_data",
          "data": {
            "text/html": [
              "<style>\n",
              ".list-inline {list-style: none; margin:0; padding: 0}\n",
              ".list-inline>li {display: inline-block}\n",
              ".list-inline>li:not(:last-child)::after {content: \"\\00b7\"; padding: 0 .5ex}\n",
              "</style>\n",
              "<ol class=list-inline><li>4408</li><li>3</li></ol>\n"
            ],
            "text/markdown": "1. 4408\n2. 3\n\n\n",
            "text/latex": "\\begin{enumerate*}\n\\item 4408\n\\item 3\n\\end{enumerate*}\n",
            "text/plain": [
              "[1] 4408    3"
            ]
          },
          "metadata": {}
        },
        {
          "output_type": "display_data",
          "data": {
            "text/html": [
              "<table class=\"dataframe\">\n",
              "<caption>A matrix: 4408 × 3 of type dbl</caption>\n",
              "<tbody>\n",
              "\t<tr><td>0</td><td>0</td><td>1</td></tr>\n",
              "\t<tr><td>1</td><td>0</td><td>0</td></tr>\n",
              "\t<tr><td>1</td><td>0</td><td>0</td></tr>\n",
              "\t<tr><td>1</td><td>0</td><td>0</td></tr>\n",
              "\t<tr><td>0</td><td>0</td><td>1</td></tr>\n",
              "\t<tr><td>0</td><td>0</td><td>1</td></tr>\n",
              "\t<tr><td>0</td><td>1</td><td>0</td></tr>\n",
              "\t<tr><td>0</td><td>0</td><td>1</td></tr>\n",
              "\t<tr><td>0</td><td>0</td><td>1</td></tr>\n",
              "\t<tr><td>1</td><td>0</td><td>0</td></tr>\n",
              "\t<tr><td>1</td><td>0</td><td>0</td></tr>\n",
              "\t<tr><td>0</td><td>1</td><td>0</td></tr>\n",
              "\t<tr><td>1</td><td>0</td><td>0</td></tr>\n",
              "\t<tr><td>0</td><td>0</td><td>1</td></tr>\n",
              "\t<tr><td>1</td><td>0</td><td>0</td></tr>\n",
              "\t<tr><td>0</td><td>1</td><td>0</td></tr>\n",
              "\t<tr><td>0</td><td>1</td><td>0</td></tr>\n",
              "\t<tr><td>0</td><td>1</td><td>0</td></tr>\n",
              "\t<tr><td>0</td><td>1</td><td>0</td></tr>\n",
              "\t<tr><td>0</td><td>1</td><td>0</td></tr>\n",
              "\t<tr><td>0</td><td>1</td><td>0</td></tr>\n",
              "\t<tr><td>0</td><td>1</td><td>0</td></tr>\n",
              "\t<tr><td>1</td><td>0</td><td>0</td></tr>\n",
              "\t<tr><td>1</td><td>0</td><td>0</td></tr>\n",
              "\t<tr><td>1</td><td>0</td><td>0</td></tr>\n",
              "\t<tr><td>0</td><td>0</td><td>1</td></tr>\n",
              "\t<tr><td>1</td><td>0</td><td>0</td></tr>\n",
              "\t<tr><td>1</td><td>0</td><td>0</td></tr>\n",
              "\t<tr><td>0</td><td>1</td><td>0</td></tr>\n",
              "\t<tr><td>0</td><td>0</td><td>1</td></tr>\n",
              "\t<tr><td>⋮</td><td>⋮</td><td>⋮</td></tr>\n",
              "\t<tr><td>0</td><td>1</td><td>0</td></tr>\n",
              "\t<tr><td>0</td><td>1</td><td>0</td></tr>\n",
              "\t<tr><td>1</td><td>0</td><td>0</td></tr>\n",
              "\t<tr><td>1</td><td>0</td><td>0</td></tr>\n",
              "\t<tr><td>0</td><td>0</td><td>1</td></tr>\n",
              "\t<tr><td>0</td><td>0</td><td>1</td></tr>\n",
              "\t<tr><td>1</td><td>0</td><td>0</td></tr>\n",
              "\t<tr><td>1</td><td>0</td><td>0</td></tr>\n",
              "\t<tr><td>0</td><td>0</td><td>1</td></tr>\n",
              "\t<tr><td>0</td><td>1</td><td>0</td></tr>\n",
              "\t<tr><td>1</td><td>0</td><td>0</td></tr>\n",
              "\t<tr><td>1</td><td>0</td><td>0</td></tr>\n",
              "\t<tr><td>1</td><td>0</td><td>0</td></tr>\n",
              "\t<tr><td>0</td><td>0</td><td>1</td></tr>\n",
              "\t<tr><td>1</td><td>0</td><td>0</td></tr>\n",
              "\t<tr><td>0</td><td>1</td><td>0</td></tr>\n",
              "\t<tr><td>1</td><td>0</td><td>0</td></tr>\n",
              "\t<tr><td>0</td><td>0</td><td>1</td></tr>\n",
              "\t<tr><td>0</td><td>1</td><td>0</td></tr>\n",
              "\t<tr><td>1</td><td>0</td><td>0</td></tr>\n",
              "\t<tr><td>1</td><td>0</td><td>0</td></tr>\n",
              "\t<tr><td>0</td><td>0</td><td>1</td></tr>\n",
              "\t<tr><td>0</td><td>1</td><td>0</td></tr>\n",
              "\t<tr><td>1</td><td>0</td><td>0</td></tr>\n",
              "\t<tr><td>0</td><td>1</td><td>0</td></tr>\n",
              "\t<tr><td>1</td><td>0</td><td>0</td></tr>\n",
              "\t<tr><td>1</td><td>0</td><td>0</td></tr>\n",
              "\t<tr><td>1</td><td>0</td><td>0</td></tr>\n",
              "\t<tr><td>1</td><td>0</td><td>0</td></tr>\n",
              "\t<tr><td>0</td><td>0</td><td>1</td></tr>\n",
              "</tbody>\n",
              "</table>\n"
            ],
            "text/markdown": "\nA matrix: 4408 × 3 of type dbl\n\n| 0 | 0 | 1 |\n| 1 | 0 | 0 |\n| 1 | 0 | 0 |\n| 1 | 0 | 0 |\n| 0 | 0 | 1 |\n| 0 | 0 | 1 |\n| 0 | 1 | 0 |\n| 0 | 0 | 1 |\n| 0 | 0 | 1 |\n| 1 | 0 | 0 |\n| 1 | 0 | 0 |\n| 0 | 1 | 0 |\n| 1 | 0 | 0 |\n| 0 | 0 | 1 |\n| 1 | 0 | 0 |\n| 0 | 1 | 0 |\n| 0 | 1 | 0 |\n| 0 | 1 | 0 |\n| 0 | 1 | 0 |\n| 0 | 1 | 0 |\n| 0 | 1 | 0 |\n| 0 | 1 | 0 |\n| 1 | 0 | 0 |\n| 1 | 0 | 0 |\n| 1 | 0 | 0 |\n| 0 | 0 | 1 |\n| 1 | 0 | 0 |\n| 1 | 0 | 0 |\n| 0 | 1 | 0 |\n| 0 | 0 | 1 |\n| ⋮ | ⋮ | ⋮ |\n| 0 | 1 | 0 |\n| 0 | 1 | 0 |\n| 1 | 0 | 0 |\n| 1 | 0 | 0 |\n| 0 | 0 | 1 |\n| 0 | 0 | 1 |\n| 1 | 0 | 0 |\n| 1 | 0 | 0 |\n| 0 | 0 | 1 |\n| 0 | 1 | 0 |\n| 1 | 0 | 0 |\n| 1 | 0 | 0 |\n| 1 | 0 | 0 |\n| 0 | 0 | 1 |\n| 1 | 0 | 0 |\n| 0 | 1 | 0 |\n| 1 | 0 | 0 |\n| 0 | 0 | 1 |\n| 0 | 1 | 0 |\n| 1 | 0 | 0 |\n| 1 | 0 | 0 |\n| 0 | 0 | 1 |\n| 0 | 1 | 0 |\n| 1 | 0 | 0 |\n| 0 | 1 | 0 |\n| 1 | 0 | 0 |\n| 1 | 0 | 0 |\n| 1 | 0 | 0 |\n| 1 | 0 | 0 |\n| 0 | 0 | 1 |\n\n",
            "text/latex": "A matrix: 4408 × 3 of type dbl\n\\begin{tabular}{lll}\n\t 0 & 0 & 1\\\\\n\t 1 & 0 & 0\\\\\n\t 1 & 0 & 0\\\\\n\t 1 & 0 & 0\\\\\n\t 0 & 0 & 1\\\\\n\t 0 & 0 & 1\\\\\n\t 0 & 1 & 0\\\\\n\t 0 & 0 & 1\\\\\n\t 0 & 0 & 1\\\\\n\t 1 & 0 & 0\\\\\n\t 1 & 0 & 0\\\\\n\t 0 & 1 & 0\\\\\n\t 1 & 0 & 0\\\\\n\t 0 & 0 & 1\\\\\n\t 1 & 0 & 0\\\\\n\t 0 & 1 & 0\\\\\n\t 0 & 1 & 0\\\\\n\t 0 & 1 & 0\\\\\n\t 0 & 1 & 0\\\\\n\t 0 & 1 & 0\\\\\n\t 0 & 1 & 0\\\\\n\t 0 & 1 & 0\\\\\n\t 1 & 0 & 0\\\\\n\t 1 & 0 & 0\\\\\n\t 1 & 0 & 0\\\\\n\t 0 & 0 & 1\\\\\n\t 1 & 0 & 0\\\\\n\t 1 & 0 & 0\\\\\n\t 0 & 1 & 0\\\\\n\t 0 & 0 & 1\\\\\n\t ⋮ & ⋮ & ⋮\\\\\n\t 0 & 1 & 0\\\\\n\t 0 & 1 & 0\\\\\n\t 1 & 0 & 0\\\\\n\t 1 & 0 & 0\\\\\n\t 0 & 0 & 1\\\\\n\t 0 & 0 & 1\\\\\n\t 1 & 0 & 0\\\\\n\t 1 & 0 & 0\\\\\n\t 0 & 0 & 1\\\\\n\t 0 & 1 & 0\\\\\n\t 1 & 0 & 0\\\\\n\t 1 & 0 & 0\\\\\n\t 1 & 0 & 0\\\\\n\t 0 & 0 & 1\\\\\n\t 1 & 0 & 0\\\\\n\t 0 & 1 & 0\\\\\n\t 1 & 0 & 0\\\\\n\t 0 & 0 & 1\\\\\n\t 0 & 1 & 0\\\\\n\t 1 & 0 & 0\\\\\n\t 1 & 0 & 0\\\\\n\t 0 & 0 & 1\\\\\n\t 0 & 1 & 0\\\\\n\t 1 & 0 & 0\\\\\n\t 0 & 1 & 0\\\\\n\t 1 & 0 & 0\\\\\n\t 1 & 0 & 0\\\\\n\t 1 & 0 & 0\\\\\n\t 1 & 0 & 0\\\\\n\t 0 & 0 & 1\\\\\n\\end{tabular}\n",
            "text/plain": [
              "      [,1] [,2] [,3]\n",
              " [1,] 0    0    1   \n",
              " [2,] 1    0    0   \n",
              " [3,] 1    0    0   \n",
              " [4,] 1    0    0   \n",
              " [5,] 0    0    1   \n",
              " [6,] 0    0    1   \n",
              " [7,] 0    1    0   \n",
              " [8,] 0    0    1   \n",
              " [9,] 0    0    1   \n",
              "[10,] 1    0    0   \n",
              "[11,] 1    0    0   \n",
              "[12,] 0    1    0   \n",
              "[13,] 1    0    0   \n",
              "[14,] 0    0    1   \n",
              "[15,] 1    0    0   \n",
              "[16,] 0    1    0   \n",
              "[17,] 0    1    0   \n",
              "[18,] 0    1    0   \n",
              "[19,] 0    1    0   \n",
              "[20,] 0    1    0   \n",
              "[21,] 0    1    0   \n",
              "[22,] 0    1    0   \n",
              "[23,] 1    0    0   \n",
              "[24,] 1    0    0   \n",
              "[25,] 1    0    0   \n",
              "[26,] 0    0    1   \n",
              "[27,] 1    0    0   \n",
              "[28,] 1    0    0   \n",
              "[29,] 0    1    0   \n",
              "[30,] 0    0    1   \n",
              "[31,] ⋮    ⋮    ⋮   \n",
              "[32,] 0    1    0   \n",
              "[33,] 0    1    0   \n",
              "[34,] 1    0    0   \n",
              "[35,] 1    0    0   \n",
              "[36,] 0    0    1   \n",
              "[37,] 0    0    1   \n",
              "[38,] 1    0    0   \n",
              "[39,] 1    0    0   \n",
              "[40,] 0    0    1   \n",
              "[41,] 0    1    0   \n",
              "[42,] 1    0    0   \n",
              "[43,] 1    0    0   \n",
              "[44,] 1    0    0   \n",
              "[45,] 0    0    1   \n",
              "[46,] 1    0    0   \n",
              "[47,] 0    1    0   \n",
              "[48,] 1    0    0   \n",
              "[49,] 0    0    1   \n",
              "[50,] 0    1    0   \n",
              "[51,] 1    0    0   \n",
              "[52,] 1    0    0   \n",
              "[53,] 0    0    1   \n",
              "[54,] 0    1    0   \n",
              "[55,] 1    0    0   \n",
              "[56,] 0    1    0   \n",
              "[57,] 1    0    0   \n",
              "[58,] 1    0    0   \n",
              "[59,] 1    0    0   \n",
              "[60,] 1    0    0   \n",
              "[61,] 0    0    1   "
            ]
          },
          "metadata": {}
        }
      ]
    },
    {
      "cell_type": "code",
      "source": [
        "x_train <-  subset(train, select = -c(cat))\n",
        "dim(x_train)\n"
      ],
      "metadata": {
        "colab": {
          "base_uri": "https://localhost:8080/",
          "height": 34
        },
        "id": "1bqTpy_lM-4l",
        "outputId": "24b3087e-3487-4c0d-b521-37fab1848eaa"
      },
      "execution_count": 483,
      "outputs": [
        {
          "output_type": "display_data",
          "data": {
            "text/html": [
              "<style>\n",
              ".list-inline {list-style: none; margin:0; padding: 0}\n",
              ".list-inline>li {display: inline-block}\n",
              ".list-inline>li:not(:last-child)::after {content: \"\\00b7\"; padding: 0 .5ex}\n",
              "</style>\n",
              "<ol class=list-inline><li>4408</li><li>113</li></ol>\n"
            ],
            "text/markdown": "1. 4408\n2. 113\n\n\n",
            "text/latex": "\\begin{enumerate*}\n\\item 4408\n\\item 113\n\\end{enumerate*}\n",
            "text/plain": [
              "[1] 4408  113"
            ]
          },
          "metadata": {}
        }
      ]
    },
    {
      "cell_type": "code",
      "source": [
        "x_train <-  as.matrix(train[,4:113])"
      ],
      "metadata": {
        "id": "DecILqvm1RkG"
      },
      "execution_count": 484,
      "outputs": []
    },
    {
      "cell_type": "code",
      "source": [
        "dim(y_train)\n",
        "class(y_train)"
      ],
      "metadata": {
        "colab": {
          "base_uri": "https://localhost:8080/",
          "height": 52
        },
        "id": "rGhV_scG1jSv",
        "outputId": "23fb191f-4859-4600-a6c0-936dad6d66d7"
      },
      "execution_count": 485,
      "outputs": [
        {
          "output_type": "display_data",
          "data": {
            "text/html": [
              "<style>\n",
              ".list-inline {list-style: none; margin:0; padding: 0}\n",
              ".list-inline>li {display: inline-block}\n",
              ".list-inline>li:not(:last-child)::after {content: \"\\00b7\"; padding: 0 .5ex}\n",
              "</style>\n",
              "<ol class=list-inline><li>4408</li><li>3</li></ol>\n"
            ],
            "text/markdown": "1. 4408\n2. 3\n\n\n",
            "text/latex": "\\begin{enumerate*}\n\\item 4408\n\\item 3\n\\end{enumerate*}\n",
            "text/plain": [
              "[1] 4408    3"
            ]
          },
          "metadata": {}
        },
        {
          "output_type": "display_data",
          "data": {
            "text/html": [
              "<style>\n",
              ".list-inline {list-style: none; margin:0; padding: 0}\n",
              ".list-inline>li {display: inline-block}\n",
              ".list-inline>li:not(:last-child)::after {content: \"\\00b7\"; padding: 0 .5ex}\n",
              "</style>\n",
              "<ol class=list-inline><li>'matrix'</li><li>'array'</li></ol>\n"
            ],
            "text/markdown": "1. 'matrix'\n2. 'array'\n\n\n",
            "text/latex": "\\begin{enumerate*}\n\\item 'matrix'\n\\item 'array'\n\\end{enumerate*}\n",
            "text/plain": [
              "[1] \"matrix\" \"array\" "
            ]
          },
          "metadata": {}
        }
      ]
    },
    {
      "cell_type": "code",
      "source": [
        "dim(x_train)"
      ],
      "metadata": {
        "colab": {
          "base_uri": "https://localhost:8080/",
          "height": 34
        },
        "id": "7qOR8bMe47lL",
        "outputId": "46fc12c4-604b-4b93-e466-193dff7c297c"
      },
      "execution_count": 486,
      "outputs": [
        {
          "output_type": "display_data",
          "data": {
            "text/html": [
              "<style>\n",
              ".list-inline {list-style: none; margin:0; padding: 0}\n",
              ".list-inline>li {display: inline-block}\n",
              ".list-inline>li:not(:last-child)::after {content: \"\\00b7\"; padding: 0 .5ex}\n",
              "</style>\n",
              "<ol class=list-inline><li>4408</li><li>110</li></ol>\n"
            ],
            "text/markdown": "1. 4408\n2. 110\n\n\n",
            "text/latex": "\\begin{enumerate*}\n\\item 4408\n\\item 110\n\\end{enumerate*}\n",
            "text/plain": [
              "[1] 4408  110"
            ]
          },
          "metadata": {}
        }
      ]
    },
    {
      "cell_type": "code",
      "source": [
        "set.seed(1234)"
      ],
      "metadata": {
        "id": "HA1vvZGk5Jud"
      },
      "execution_count": 487,
      "outputs": []
    },
    {
      "cell_type": "markdown",
      "source": [
        "## Modelo 1\n",
        "\n",
        "Se utiliza toda la base de datos que se construyó. 1 sola capa\n",
        "\n"
      ],
      "metadata": {
        "id": "W3mt1y83201w"
      }
    },
    {
      "cell_type": "code",
      "source": [
        "model <- keras_model_sequential() \n",
        "model %>% \n",
        "  layer_dense(units = 50, activation = 'relu', input_shape =ncol(x_train)) %>% \n",
        "  layer_dense(units = 3, activation = 'softmax')"
      ],
      "metadata": {
        "id": "7uUsT3F72pGz"
      },
      "execution_count": 508,
      "outputs": []
    },
    {
      "cell_type": "code",
      "source": [
        "summary(model)"
      ],
      "metadata": {
        "id": "CDyf2eds2w1I",
        "colab": {
          "base_uri": "https://localhost:8080/"
        },
        "outputId": "1c6a8196-4ee7-4277-ddc3-aaa2cd7e98fc"
      },
      "execution_count": 510,
      "outputs": [
        {
          "output_type": "stream",
          "name": "stdout",
          "text": [
            "Model: \"sequential_43\"\n",
            "________________________________________________________________________________\n",
            " Layer (type)                       Output Shape                    Param #     \n",
            "================================================================================\n",
            " dense_85 (Dense)                   (None, 50)                      5550        \n",
            " dense_84 (Dense)                   (None, 3)                       153         \n",
            "================================================================================\n",
            "Total params: 5,703\n",
            "Trainable params: 5,703\n",
            "Non-trainable params: 0\n",
            "________________________________________________________________________________\n"
          ]
        }
      ]
    },
    {
      "cell_type": "code",
      "source": [
        "model %>% compile(\n",
        "  optimizer = 'adam',\n",
        "  loss = 'categorical_crossentropy',\n",
        "  metrics = c('accuracy')\n",
        ")"
      ],
      "metadata": {
        "id": "CaDN-CZo3Bc1"
      },
      "execution_count": 511,
      "outputs": []
    },
    {
      "cell_type": "code",
      "source": [
        "history <- model %>% fit(\n",
        "  x_train, y_train, \n",
        "  epochs = 30, \n",
        "  batch_size = 2^4,\n",
        "  validation_split = 0.2\n",
        ")"
      ],
      "metadata": {
        "id": "G0eE2khG3LGJ"
      },
      "execution_count": 512,
      "outputs": []
    },
    {
      "cell_type": "code",
      "source": [
        "plot(history)"
      ],
      "metadata": {
        "colab": {
          "base_uri": "https://localhost:8080/",
          "height": 437
        },
        "id": "XZjMoLhkJOFQ",
        "outputId": "ef109560-4b1c-489d-94be-b648b2357ebd"
      },
      "execution_count": 513,
      "outputs": [
        {
          "output_type": "display_data",
          "data": {
            "text/plain": [
              "plot without title"
            ],
            "image/png": "[encoded data removed]"
          },
          "metadata": {
            "image/png": {
              "width": 420,
              "height": 420
            }
          }
        }
      ]
    },
    {
      "cell_type": "code",
      "source": [
        "dim(test)\n"
      ],
      "metadata": {
        "colab": {
          "base_uri": "https://localhost:8080/",
          "height": 34
        },
        "id": "3b8E47VAKb7v",
        "outputId": "679190d0-cdfb-40b8-f526-1c57f94ffd3b"
      },
      "execution_count": 514,
      "outputs": [
        {
          "output_type": "display_data",
          "data": {
            "text/html": [
              "<style>\n",
              ".list-inline {list-style: none; margin:0; padding: 0}\n",
              ".list-inline>li {display: inline-block}\n",
              ".list-inline>li:not(:last-child)::after {content: \"\\00b7\"; padding: 0 .5ex}\n",
              "</style>\n",
              "<ol class=list-inline><li>1500</li><li>112</li></ol>\n"
            ],
            "text/markdown": "1. 1500\n2. 112\n\n\n",
            "text/latex": "\\begin{enumerate*}\n\\item 1500\n\\item 112\n\\end{enumerate*}\n",
            "text/plain": [
              "[1] 1500  112"
            ]
          },
          "metadata": {}
        }
      ]
    },
    {
      "cell_type": "code",
      "source": [
        "Test <- as.matrix(test[,3:112])\n",
        "head(Test, 10)"
      ],
      "metadata": {
        "colab": {
          "base_uri": "https://localhost:8080/",
          "height": 380
        },
        "id": "fXrdhhk2KXZx",
        "outputId": "3acfc074-2b3d-43fd-d58f-cfd7e67628d8"
      },
      "execution_count": 515,
      "outputs": [
        {
          "output_type": "display_data",
          "data": {
            "text/html": [
              "<table class=\"dataframe\">\n",
              "<caption>A matrix: 10 × 110 of type dbl</caption>\n",
              "<thead>\n",
              "\t<tr><th scope=col>colombia</th><th scope=col>bogota</th><th scope=col>via</th><th scope=col>ano</th><th scope=col>gracia</th><th scope=col>medellin</th><th scope=col>ciudad</th><th scope=col>joven</th><th scope=col>politico</th><th scope=col>familia</th><th scope=col>⋯</th><th scope=col>Bogota</th><th scope=col>colombiahumana</th><th scope=col>cundinamarcar</th><th scope=col>concejo</th><th scope=col>socialismo</th><th scope=col>fascismo</th><th scope=col>transmilenio</th><th scope=col>distrital</th><th scope=col>estacion</th><th scope=col>onzar</th></tr>\n",
              "</thead>\n",
              "<tbody>\n",
              "\t<tr><td>0</td><td>0.0000000</td><td>0.000000</td><td>0.0000000</td><td>0</td><td>0</td><td>0</td><td>0</td><td>0</td><td>0</td><td>⋯</td><td>0</td><td>0</td><td>0</td><td>0</td><td>0</td><td>0</td><td>0</td><td>0</td><td>0</td><td>0</td></tr>\n",
              "\t<tr><td>0</td><td>0.0000000</td><td>0.000000</td><td>0.0000000</td><td>0</td><td>0</td><td>0</td><td>0</td><td>0</td><td>0</td><td>⋯</td><td>0</td><td>0</td><td>0</td><td>0</td><td>0</td><td>0</td><td>0</td><td>0</td><td>0</td><td>0</td></tr>\n",
              "\t<tr><td>0</td><td>0.4682133</td><td>0.000000</td><td>0.0000000</td><td>0</td><td>0</td><td>0</td><td>0</td><td>0</td><td>0</td><td>⋯</td><td>0</td><td>0</td><td>0</td><td>0</td><td>0</td><td>0</td><td>0</td><td>0</td><td>0</td><td>0</td></tr>\n",
              "\t<tr><td>0</td><td>0.0000000</td><td>0.000000</td><td>0.0000000</td><td>0</td><td>0</td><td>0</td><td>0</td><td>0</td><td>0</td><td>⋯</td><td>0</td><td>0</td><td>0</td><td>0</td><td>0</td><td>0</td><td>0</td><td>0</td><td>0</td><td>0</td></tr>\n",
              "\t<tr><td>0</td><td>0.0000000</td><td>2.482892</td><td>0.0000000</td><td>0</td><td>0</td><td>0</td><td>0</td><td>0</td><td>0</td><td>⋯</td><td>0</td><td>0</td><td>0</td><td>0</td><td>0</td><td>0</td><td>0</td><td>0</td><td>0</td><td>0</td></tr>\n",
              "\t<tr><td>0</td><td>0.0000000</td><td>0.000000</td><td>0.0000000</td><td>0</td><td>0</td><td>0</td><td>1</td><td>0</td><td>0</td><td>⋯</td><td>0</td><td>0</td><td>0</td><td>0</td><td>0</td><td>0</td><td>0</td><td>0</td><td>0</td><td>0</td></tr>\n",
              "\t<tr><td>0</td><td>0.3121422</td><td>0.000000</td><td>0.0000000</td><td>0</td><td>0</td><td>0</td><td>0</td><td>0</td><td>0</td><td>⋯</td><td>0</td><td>0</td><td>0</td><td>0</td><td>0</td><td>0</td><td>0</td><td>0</td><td>0</td><td>0</td></tr>\n",
              "\t<tr><td>0</td><td>0.0000000</td><td>0.000000</td><td>0.0000000</td><td>0</td><td>0</td><td>0</td><td>0</td><td>0</td><td>0</td><td>⋯</td><td>0</td><td>0</td><td>0</td><td>0</td><td>0</td><td>0</td><td>0</td><td>0</td><td>0</td><td>0</td></tr>\n",
              "\t<tr><td>0</td><td>0.4682133</td><td>0.000000</td><td>0.6711975</td><td>0</td><td>0</td><td>0</td><td>0</td><td>0</td><td>0</td><td>⋯</td><td>0</td><td>0</td><td>0</td><td>0</td><td>0</td><td>0</td><td>0</td><td>0</td><td>0</td><td>0</td></tr>\n",
              "\t<tr><td>0</td><td>0.0000000</td><td>0.000000</td><td>0.0000000</td><td>0</td><td>0</td><td>0</td><td>0</td><td>0</td><td>0</td><td>⋯</td><td>0</td><td>0</td><td>0</td><td>0</td><td>0</td><td>0</td><td>0</td><td>0</td><td>0</td><td>0</td></tr>\n",
              "</tbody>\n",
              "</table>\n"
            ],
            "text/markdown": "\nA matrix: 10 × 110 of type dbl\n\n| colombia | bogota | via | ano | gracia | medellin | ciudad | joven | politico | familia | ⋯ | Bogota | colombiahumana | cundinamarcar | concejo | socialismo | fascismo | transmilenio | distrital | estacion | onzar |\n|---|---|---|---|---|---|---|---|---|---|---|---|---|---|---|---|---|---|---|---|---|\n| 0 | 0.0000000 | 0.000000 | 0.0000000 | 0 | 0 | 0 | 0 | 0 | 0 | ⋯ | 0 | 0 | 0 | 0 | 0 | 0 | 0 | 0 | 0 | 0 |\n| 0 | 0.0000000 | 0.000000 | 0.0000000 | 0 | 0 | 0 | 0 | 0 | 0 | ⋯ | 0 | 0 | 0 | 0 | 0 | 0 | 0 | 0 | 0 | 0 |\n| 0 | 0.4682133 | 0.000000 | 0.0000000 | 0 | 0 | 0 | 0 | 0 | 0 | ⋯ | 0 | 0 | 0 | 0 | 0 | 0 | 0 | 0 | 0 | 0 |\n| 0 | 0.0000000 | 0.000000 | 0.0000000 | 0 | 0 | 0 | 0 | 0 | 0 | ⋯ | 0 | 0 | 0 | 0 | 0 | 0 | 0 | 0 | 0 | 0 |\n| 0 | 0.0000000 | 2.482892 | 0.0000000 | 0 | 0 | 0 | 0 | 0 | 0 | ⋯ | 0 | 0 | 0 | 0 | 0 | 0 | 0 | 0 | 0 | 0 |\n| 0 | 0.0000000 | 0.000000 | 0.0000000 | 0 | 0 | 0 | 1 | 0 | 0 | ⋯ | 0 | 0 | 0 | 0 | 0 | 0 | 0 | 0 | 0 | 0 |\n| 0 | 0.3121422 | 0.000000 | 0.0000000 | 0 | 0 | 0 | 0 | 0 | 0 | ⋯ | 0 | 0 | 0 | 0 | 0 | 0 | 0 | 0 | 0 | 0 |\n| 0 | 0.0000000 | 0.000000 | 0.0000000 | 0 | 0 | 0 | 0 | 0 | 0 | ⋯ | 0 | 0 | 0 | 0 | 0 | 0 | 0 | 0 | 0 | 0 |\n| 0 | 0.4682133 | 0.000000 | 0.6711975 | 0 | 0 | 0 | 0 | 0 | 0 | ⋯ | 0 | 0 | 0 | 0 | 0 | 0 | 0 | 0 | 0 | 0 |\n| 0 | 0.0000000 | 0.000000 | 0.0000000 | 0 | 0 | 0 | 0 | 0 | 0 | ⋯ | 0 | 0 | 0 | 0 | 0 | 0 | 0 | 0 | 0 | 0 |\n\n",
            "text/latex": "A matrix: 10 × 110 of type dbl\n\\begin{tabular}{lllllllllllllllllllll}\n colombia & bogota & via & ano & gracia & medellin & ciudad & joven & politico & familia & ⋯ & Bogota & colombiahumana & cundinamarcar & concejo & socialismo & fascismo & transmilenio & distrital & estacion & onzar\\\\\n\\hline\n\t 0 & 0.0000000 & 0.000000 & 0.0000000 & 0 & 0 & 0 & 0 & 0 & 0 & ⋯ & 0 & 0 & 0 & 0 & 0 & 0 & 0 & 0 & 0 & 0\\\\\n\t 0 & 0.0000000 & 0.000000 & 0.0000000 & 0 & 0 & 0 & 0 & 0 & 0 & ⋯ & 0 & 0 & 0 & 0 & 0 & 0 & 0 & 0 & 0 & 0\\\\\n\t 0 & 0.4682133 & 0.000000 & 0.0000000 & 0 & 0 & 0 & 0 & 0 & 0 & ⋯ & 0 & 0 & 0 & 0 & 0 & 0 & 0 & 0 & 0 & 0\\\\\n\t 0 & 0.0000000 & 0.000000 & 0.0000000 & 0 & 0 & 0 & 0 & 0 & 0 & ⋯ & 0 & 0 & 0 & 0 & 0 & 0 & 0 & 0 & 0 & 0\\\\\n\t 0 & 0.0000000 & 2.482892 & 0.0000000 & 0 & 0 & 0 & 0 & 0 & 0 & ⋯ & 0 & 0 & 0 & 0 & 0 & 0 & 0 & 0 & 0 & 0\\\\\n\t 0 & 0.0000000 & 0.000000 & 0.0000000 & 0 & 0 & 0 & 1 & 0 & 0 & ⋯ & 0 & 0 & 0 & 0 & 0 & 0 & 0 & 0 & 0 & 0\\\\\n\t 0 & 0.3121422 & 0.000000 & 0.0000000 & 0 & 0 & 0 & 0 & 0 & 0 & ⋯ & 0 & 0 & 0 & 0 & 0 & 0 & 0 & 0 & 0 & 0\\\\\n\t 0 & 0.0000000 & 0.000000 & 0.0000000 & 0 & 0 & 0 & 0 & 0 & 0 & ⋯ & 0 & 0 & 0 & 0 & 0 & 0 & 0 & 0 & 0 & 0\\\\\n\t 0 & 0.4682133 & 0.000000 & 0.6711975 & 0 & 0 & 0 & 0 & 0 & 0 & ⋯ & 0 & 0 & 0 & 0 & 0 & 0 & 0 & 0 & 0 & 0\\\\\n\t 0 & 0.0000000 & 0.000000 & 0.0000000 & 0 & 0 & 0 & 0 & 0 & 0 & ⋯ & 0 & 0 & 0 & 0 & 0 & 0 & 0 & 0 & 0 & 0\\\\\n\\end{tabular}\n",
            "text/plain": [
              "      colombia bogota    via      ano       gracia medellin ciudad joven\n",
              " [1,] 0        0.0000000 0.000000 0.0000000 0      0        0      0    \n",
              " [2,] 0        0.0000000 0.000000 0.0000000 0      0        0      0    \n",
              " [3,] 0        0.4682133 0.000000 0.0000000 0      0        0      0    \n",
              " [4,] 0        0.0000000 0.000000 0.0000000 0      0        0      0    \n",
              " [5,] 0        0.0000000 2.482892 0.0000000 0      0        0      0    \n",
              " [6,] 0        0.0000000 0.000000 0.0000000 0      0        0      1    \n",
              " [7,] 0        0.3121422 0.000000 0.0000000 0      0        0      0    \n",
              " [8,] 0        0.0000000 0.000000 0.0000000 0      0        0      0    \n",
              " [9,] 0        0.4682133 0.000000 0.6711975 0      0        0      0    \n",
              "[10,] 0        0.0000000 0.000000 0.0000000 0      0        0      0    \n",
              "      politico familia ⋯ Bogota colombiahumana cundinamarcar concejo socialismo\n",
              " [1,] 0        0       ⋯ 0      0              0             0       0         \n",
              " [2,] 0        0       ⋯ 0      0              0             0       0         \n",
              " [3,] 0        0       ⋯ 0      0              0             0       0         \n",
              " [4,] 0        0       ⋯ 0      0              0             0       0         \n",
              " [5,] 0        0       ⋯ 0      0              0             0       0         \n",
              " [6,] 0        0       ⋯ 0      0              0             0       0         \n",
              " [7,] 0        0       ⋯ 0      0              0             0       0         \n",
              " [8,] 0        0       ⋯ 0      0              0             0       0         \n",
              " [9,] 0        0       ⋯ 0      0              0             0       0         \n",
              "[10,] 0        0       ⋯ 0      0              0             0       0         \n",
              "      fascismo transmilenio distrital estacion onzar\n",
              " [1,] 0        0            0         0        0    \n",
              " [2,] 0        0            0         0        0    \n",
              " [3,] 0        0            0         0        0    \n",
              " [4,] 0        0            0         0        0    \n",
              " [5,] 0        0            0         0        0    \n",
              " [6,] 0        0            0         0        0    \n",
              " [7,] 0        0            0         0        0    \n",
              " [8,] 0        0            0         0        0    \n",
              " [9,] 0        0            0         0        0    \n",
              "[10,] 0        0            0         0        0    "
            ]
          },
          "metadata": {}
        }
      ]
    },
    {
      "cell_type": "code",
      "source": [
        "y_hat <- model  %>% predict(Test)"
      ],
      "metadata": {
        "id": "vWmuiZEUK9Hi"
      },
      "execution_count": 516,
      "outputs": []
    },
    {
      "cell_type": "code",
      "source": [
        "y_hat <- as.data.frame(y_hat)\n",
        "colnames(y_hat)[which(names(y_hat) == \"V2\")] <- \"Lopez\"\n",
        "colnames(y_hat)[which(names(y_hat) == \"V3\")] <- \"Uribe\"\n",
        "colnames(y_hat)[which(names(y_hat) == \"V4\")] <- \"Petro\"\n",
        "y_hat <- y_hat[-1]"
      ],
      "metadata": {
        "id": "ESTAOIcVNtXo"
      },
      "execution_count": 517,
      "outputs": []
    },
    {
      "cell_type": "code",
      "source": [
        "y_hat"
      ],
      "metadata": {
        "colab": {
          "base_uri": "https://localhost:8080/",
          "height": 1000
        },
        "id": "kImeseoBNx4R",
        "outputId": "cb6ff371-5a0a-4390-845b-a808b85fb141"
      },
      "execution_count": 518,
      "outputs": [
        {
          "output_type": "display_data",
          "data": {
            "text/html": [
              "<table class=\"dataframe\">\n",
              "<caption>A data.frame: 1500 × 2</caption>\n",
              "<thead>\n",
              "\t<tr><th scope=col>Lopez</th><th scope=col>Uribe</th></tr>\n",
              "\t<tr><th scope=col>&lt;dbl&gt;</th><th scope=col>&lt;dbl&gt;</th></tr>\n",
              "</thead>\n",
              "<tbody>\n",
              "\t<tr><td>0.534012556</td><td>2.796925e-01</td></tr>\n",
              "\t<tr><td>0.534012556</td><td>2.796925e-01</td></tr>\n",
              "\t<tr><td>0.142201081</td><td>2.010286e-01</td></tr>\n",
              "\t<tr><td>0.579802871</td><td>4.046085e-01</td></tr>\n",
              "\t<tr><td>0.981222034</td><td>9.501260e-03</td></tr>\n",
              "\t<tr><td>0.050002478</td><td>1.451364e-03</td></tr>\n",
              "\t<tr><td>0.018955309</td><td>1.974526e-01</td></tr>\n",
              "\t<tr><td>0.714836955</td><td>2.791525e-01</td></tr>\n",
              "\t<tr><td>0.232033104</td><td>1.694756e-01</td></tr>\n",
              "\t<tr><td>0.013955946</td><td>9.549104e-01</td></tr>\n",
              "\t<tr><td>0.126739845</td><td>8.994330e-02</td></tr>\n",
              "\t<tr><td>0.534012556</td><td>2.796925e-01</td></tr>\n",
              "\t<tr><td>0.051373333</td><td>3.117799e-01</td></tr>\n",
              "\t<tr><td>0.305889845</td><td>3.891412e-01</td></tr>\n",
              "\t<tr><td>0.169721812</td><td>1.730425e-01</td></tr>\n",
              "\t<tr><td>0.006150867</td><td>3.315406e-02</td></tr>\n",
              "\t<tr><td>0.544706166</td><td>3.051293e-01</td></tr>\n",
              "\t<tr><td>0.587893724</td><td>1.335277e-01</td></tr>\n",
              "\t<tr><td>0.534012556</td><td>2.796925e-01</td></tr>\n",
              "\t<tr><td>0.024441238</td><td>9.601114e-01</td></tr>\n",
              "\t<tr><td>0.386161417</td><td>3.047944e-01</td></tr>\n",
              "\t<tr><td>0.069913879</td><td>9.257197e-01</td></tr>\n",
              "\t<tr><td>0.764530778</td><td>2.324600e-01</td></tr>\n",
              "\t<tr><td>0.734520376</td><td>2.649744e-01</td></tr>\n",
              "\t<tr><td>0.534012556</td><td>2.796925e-01</td></tr>\n",
              "\t<tr><td>0.037346546</td><td>7.084230e-01</td></tr>\n",
              "\t<tr><td>0.999848604</td><td>3.511131e-05</td></tr>\n",
              "\t<tr><td>0.178013608</td><td>8.019100e-01</td></tr>\n",
              "\t<tr><td>0.534012556</td><td>2.796925e-01</td></tr>\n",
              "\t<tr><td>0.772506416</td><td>2.148885e-01</td></tr>\n",
              "\t<tr><td>⋮</td><td>⋮</td></tr>\n",
              "\t<tr><td>0.5340126</td><td>0.2796925</td></tr>\n",
              "\t<tr><td>0.5340126</td><td>0.2796925</td></tr>\n",
              "\t<tr><td>0.5340126</td><td>0.2796925</td></tr>\n",
              "\t<tr><td>0.5340126</td><td>0.2796925</td></tr>\n",
              "\t<tr><td>0.5340126</td><td>0.2796925</td></tr>\n",
              "\t<tr><td>0.5340126</td><td>0.2796925</td></tr>\n",
              "\t<tr><td>0.5340126</td><td>0.2796925</td></tr>\n",
              "\t<tr><td>0.5340126</td><td>0.2796925</td></tr>\n",
              "\t<tr><td>0.5340126</td><td>0.2796925</td></tr>\n",
              "\t<tr><td>0.5340126</td><td>0.2796925</td></tr>\n",
              "\t<tr><td>0.5340126</td><td>0.2796925</td></tr>\n",
              "\t<tr><td>0.5340126</td><td>0.2796925</td></tr>\n",
              "\t<tr><td>0.5340126</td><td>0.2796925</td></tr>\n",
              "\t<tr><td>0.5340126</td><td>0.2796925</td></tr>\n",
              "\t<tr><td>0.5340126</td><td>0.2796925</td></tr>\n",
              "\t<tr><td>0.5340126</td><td>0.2796925</td></tr>\n",
              "\t<tr><td>0.5340126</td><td>0.2796925</td></tr>\n",
              "\t<tr><td>0.5340126</td><td>0.2796925</td></tr>\n",
              "\t<tr><td>0.5340126</td><td>0.2796925</td></tr>\n",
              "\t<tr><td>0.5340126</td><td>0.2796925</td></tr>\n",
              "\t<tr><td>0.5340126</td><td>0.2796925</td></tr>\n",
              "\t<tr><td>0.5340126</td><td>0.2796925</td></tr>\n",
              "\t<tr><td>0.5340126</td><td>0.2796925</td></tr>\n",
              "\t<tr><td>0.5340126</td><td>0.2796925</td></tr>\n",
              "\t<tr><td>0.5340126</td><td>0.2796925</td></tr>\n",
              "\t<tr><td>0.5340126</td><td>0.2796925</td></tr>\n",
              "\t<tr><td>0.5340126</td><td>0.2796925</td></tr>\n",
              "\t<tr><td>0.5340126</td><td>0.2796925</td></tr>\n",
              "\t<tr><td>0.5340126</td><td>0.2796925</td></tr>\n",
              "\t<tr><td>0.5340126</td><td>0.2796925</td></tr>\n",
              "</tbody>\n",
              "</table>\n"
            ],
            "text/markdown": "\nA data.frame: 1500 × 2\n\n| Lopez &lt;dbl&gt; | Uribe &lt;dbl&gt; |\n|---|---|\n| 0.534012556 | 2.796925e-01 |\n| 0.534012556 | 2.796925e-01 |\n| 0.142201081 | 2.010286e-01 |\n| 0.579802871 | 4.046085e-01 |\n| 0.981222034 | 9.501260e-03 |\n| 0.050002478 | 1.451364e-03 |\n| 0.018955309 | 1.974526e-01 |\n| 0.714836955 | 2.791525e-01 |\n| 0.232033104 | 1.694756e-01 |\n| 0.013955946 | 9.549104e-01 |\n| 0.126739845 | 8.994330e-02 |\n| 0.534012556 | 2.796925e-01 |\n| 0.051373333 | 3.117799e-01 |\n| 0.305889845 | 3.891412e-01 |\n| 0.169721812 | 1.730425e-01 |\n| 0.006150867 | 3.315406e-02 |\n| 0.544706166 | 3.051293e-01 |\n| 0.587893724 | 1.335277e-01 |\n| 0.534012556 | 2.796925e-01 |\n| 0.024441238 | 9.601114e-01 |\n| 0.386161417 | 3.047944e-01 |\n| 0.069913879 | 9.257197e-01 |\n| 0.764530778 | 2.324600e-01 |\n| 0.734520376 | 2.649744e-01 |\n| 0.534012556 | 2.796925e-01 |\n| 0.037346546 | 7.084230e-01 |\n| 0.999848604 | 3.511131e-05 |\n| 0.178013608 | 8.019100e-01 |\n| 0.534012556 | 2.796925e-01 |\n| 0.772506416 | 2.148885e-01 |\n| ⋮ | ⋮ |\n| 0.5340126 | 0.2796925 |\n| 0.5340126 | 0.2796925 |\n| 0.5340126 | 0.2796925 |\n| 0.5340126 | 0.2796925 |\n| 0.5340126 | 0.2796925 |\n| 0.5340126 | 0.2796925 |\n| 0.5340126 | 0.2796925 |\n| 0.5340126 | 0.2796925 |\n| 0.5340126 | 0.2796925 |\n| 0.5340126 | 0.2796925 |\n| 0.5340126 | 0.2796925 |\n| 0.5340126 | 0.2796925 |\n| 0.5340126 | 0.2796925 |\n| 0.5340126 | 0.2796925 |\n| 0.5340126 | 0.2796925 |\n| 0.5340126 | 0.2796925 |\n| 0.5340126 | 0.2796925 |\n| 0.5340126 | 0.2796925 |\n| 0.5340126 | 0.2796925 |\n| 0.5340126 | 0.2796925 |\n| 0.5340126 | 0.2796925 |\n| 0.5340126 | 0.2796925 |\n| 0.5340126 | 0.2796925 |\n| 0.5340126 | 0.2796925 |\n| 0.5340126 | 0.2796925 |\n| 0.5340126 | 0.2796925 |\n| 0.5340126 | 0.2796925 |\n| 0.5340126 | 0.2796925 |\n| 0.5340126 | 0.2796925 |\n| 0.5340126 | 0.2796925 |\n\n",
            "text/latex": "A data.frame: 1500 × 2\n\\begin{tabular}{ll}\n Lopez & Uribe\\\\\n <dbl> & <dbl>\\\\\n\\hline\n\t 0.534012556 & 2.796925e-01\\\\\n\t 0.534012556 & 2.796925e-01\\\\\n\t 0.142201081 & 2.010286e-01\\\\\n\t 0.579802871 & 4.046085e-01\\\\\n\t 0.981222034 & 9.501260e-03\\\\\n\t 0.050002478 & 1.451364e-03\\\\\n\t 0.018955309 & 1.974526e-01\\\\\n\t 0.714836955 & 2.791525e-01\\\\\n\t 0.232033104 & 1.694756e-01\\\\\n\t 0.013955946 & 9.549104e-01\\\\\n\t 0.126739845 & 8.994330e-02\\\\\n\t 0.534012556 & 2.796925e-01\\\\\n\t 0.051373333 & 3.117799e-01\\\\\n\t 0.305889845 & 3.891412e-01\\\\\n\t 0.169721812 & 1.730425e-01\\\\\n\t 0.006150867 & 3.315406e-02\\\\\n\t 0.544706166 & 3.051293e-01\\\\\n\t 0.587893724 & 1.335277e-01\\\\\n\t 0.534012556 & 2.796925e-01\\\\\n\t 0.024441238 & 9.601114e-01\\\\\n\t 0.386161417 & 3.047944e-01\\\\\n\t 0.069913879 & 9.257197e-01\\\\\n\t 0.764530778 & 2.324600e-01\\\\\n\t 0.734520376 & 2.649744e-01\\\\\n\t 0.534012556 & 2.796925e-01\\\\\n\t 0.037346546 & 7.084230e-01\\\\\n\t 0.999848604 & 3.511131e-05\\\\\n\t 0.178013608 & 8.019100e-01\\\\\n\t 0.534012556 & 2.796925e-01\\\\\n\t 0.772506416 & 2.148885e-01\\\\\n\t ⋮ & ⋮\\\\\n\t 0.5340126 & 0.2796925\\\\\n\t 0.5340126 & 0.2796925\\\\\n\t 0.5340126 & 0.2796925\\\\\n\t 0.5340126 & 0.2796925\\\\\n\t 0.5340126 & 0.2796925\\\\\n\t 0.5340126 & 0.2796925\\\\\n\t 0.5340126 & 0.2796925\\\\\n\t 0.5340126 & 0.2796925\\\\\n\t 0.5340126 & 0.2796925\\\\\n\t 0.5340126 & 0.2796925\\\\\n\t 0.5340126 & 0.2796925\\\\\n\t 0.5340126 & 0.2796925\\\\\n\t 0.5340126 & 0.2796925\\\\\n\t 0.5340126 & 0.2796925\\\\\n\t 0.5340126 & 0.2796925\\\\\n\t 0.5340126 & 0.2796925\\\\\n\t 0.5340126 & 0.2796925\\\\\n\t 0.5340126 & 0.2796925\\\\\n\t 0.5340126 & 0.2796925\\\\\n\t 0.5340126 & 0.2796925\\\\\n\t 0.5340126 & 0.2796925\\\\\n\t 0.5340126 & 0.2796925\\\\\n\t 0.5340126 & 0.2796925\\\\\n\t 0.5340126 & 0.2796925\\\\\n\t 0.5340126 & 0.2796925\\\\\n\t 0.5340126 & 0.2796925\\\\\n\t 0.5340126 & 0.2796925\\\\\n\t 0.5340126 & 0.2796925\\\\\n\t 0.5340126 & 0.2796925\\\\\n\t 0.5340126 & 0.2796925\\\\\n\\end{tabular}\n",
            "text/plain": [
              "     Lopez       Uribe       \n",
              "1    0.534012556 2.796925e-01\n",
              "2    0.534012556 2.796925e-01\n",
              "3    0.142201081 2.010286e-01\n",
              "4    0.579802871 4.046085e-01\n",
              "5    0.981222034 9.501260e-03\n",
              "6    0.050002478 1.451364e-03\n",
              "7    0.018955309 1.974526e-01\n",
              "8    0.714836955 2.791525e-01\n",
              "9    0.232033104 1.694756e-01\n",
              "10   0.013955946 9.549104e-01\n",
              "11   0.126739845 8.994330e-02\n",
              "12   0.534012556 2.796925e-01\n",
              "13   0.051373333 3.117799e-01\n",
              "14   0.305889845 3.891412e-01\n",
              "15   0.169721812 1.730425e-01\n",
              "16   0.006150867 3.315406e-02\n",
              "17   0.544706166 3.051293e-01\n",
              "18   0.587893724 1.335277e-01\n",
              "19   0.534012556 2.796925e-01\n",
              "20   0.024441238 9.601114e-01\n",
              "21   0.386161417 3.047944e-01\n",
              "22   0.069913879 9.257197e-01\n",
              "23   0.764530778 2.324600e-01\n",
              "24   0.734520376 2.649744e-01\n",
              "25   0.534012556 2.796925e-01\n",
              "26   0.037346546 7.084230e-01\n",
              "27   0.999848604 3.511131e-05\n",
              "28   0.178013608 8.019100e-01\n",
              "29   0.534012556 2.796925e-01\n",
              "30   0.772506416 2.148885e-01\n",
              "⋮    ⋮           ⋮           \n",
              "1471 0.5340126   0.2796925   \n",
              "1472 0.5340126   0.2796925   \n",
              "1473 0.5340126   0.2796925   \n",
              "1474 0.5340126   0.2796925   \n",
              "1475 0.5340126   0.2796925   \n",
              "1476 0.5340126   0.2796925   \n",
              "1477 0.5340126   0.2796925   \n",
              "1478 0.5340126   0.2796925   \n",
              "1479 0.5340126   0.2796925   \n",
              "1480 0.5340126   0.2796925   \n",
              "1481 0.5340126   0.2796925   \n",
              "1482 0.5340126   0.2796925   \n",
              "1483 0.5340126   0.2796925   \n",
              "1484 0.5340126   0.2796925   \n",
              "1485 0.5340126   0.2796925   \n",
              "1486 0.5340126   0.2796925   \n",
              "1487 0.5340126   0.2796925   \n",
              "1488 0.5340126   0.2796925   \n",
              "1489 0.5340126   0.2796925   \n",
              "1490 0.5340126   0.2796925   \n",
              "1491 0.5340126   0.2796925   \n",
              "1492 0.5340126   0.2796925   \n",
              "1493 0.5340126   0.2796925   \n",
              "1494 0.5340126   0.2796925   \n",
              "1495 0.5340126   0.2796925   \n",
              "1496 0.5340126   0.2796925   \n",
              "1497 0.5340126   0.2796925   \n",
              "1498 0.5340126   0.2796925   \n",
              "1499 0.5340126   0.2796925   \n",
              "1500 0.5340126   0.2796925   "
            ]
          },
          "metadata": {}
        }
      ]
    },
    {
      "cell_type": "code",
      "source": [
        "y_hat <- y_hat %>% mutate(name=names(.)[max.col(.)]) #Saca el la columna con el máximo valor predicho"
      ],
      "metadata": {
        "id": "sW2VsvnJN9G4"
      },
      "execution_count": 519,
      "outputs": []
    },
    {
      "cell_type": "code",
      "source": [
        "name <- as.matrix(y_hat$name)"
      ],
      "metadata": {
        "id": "tTb8vVtJN_o_"
      },
      "execution_count": 520,
      "outputs": []
    },
    {
      "cell_type": "code",
      "source": [
        "id <- as.matrix(test$id)"
      ],
      "metadata": {
        "id": "iRFBvVf7OCw6"
      },
      "execution_count": 521,
      "outputs": []
    },
    {
      "cell_type": "code",
      "source": [
        "predict <- data.frame(\n",
        "  id = id,\n",
        "  name = name \n",
        ")"
      ],
      "metadata": {
        "id": "PU7fn-EFOFAn"
      },
      "execution_count": 522,
      "outputs": []
    },
    {
      "cell_type": "code",
      "source": [
        "write.csv(predict, \"predict.csv\", row.names = FALSE)"
      ],
      "metadata": {
        "id": "MggLX9O8OHIn"
      },
      "execution_count": 523,
      "outputs": []
    },
    {
      "cell_type": "markdown",
      "source": [
        "## Modelo 2\n",
        "\n",
        "Se utiliza solo las variables de expresiones regulares "
      ],
      "metadata": {
        "id": "zOG9AuZ_Xlut"
      }
    },
    {
      "cell_type": "code",
      "source": [
        "x_train_dos <-  subset(x_train, select = c(Bogota, colombiahumana, cundinamarcar, concejo,  gobierno ,socialismo ,  fascismo, transmilenio, covid, distrital, estacion, ciudad, cuidar, joven, vacunacion, mujer, pacto, social, dejar, paz, vida, usd, onzar, solidaridad, democracia, familia, medellin  ))"
      ],
      "metadata": {
        "id": "lT7-wYw3Xtdq"
      },
      "execution_count": 394,
      "outputs": []
    },
    {
      "cell_type": "code",
      "source": [
        "Test_dos <-  subset(Test, select = c(Bogota, colombiahumana, cundinamarcar, concejo,  gobierno ,socialismo ,  fascismo, transmilenio, covid, distrital, estacion, ciudad, cuidar, joven, vacunacion, mujer, pacto, social, dejar, paz, vida, usd, onzar, solidaridad, democracia, familia, medellin  ))"
      ],
      "metadata": {
        "id": "q5K80gLeYs2M"
      },
      "execution_count": 395,
      "outputs": []
    },
    {
      "cell_type": "code",
      "source": [
        "dim(Test_dos)\n",
        "head(Test_dos)"
      ],
      "metadata": {
        "colab": {
          "base_uri": "https://localhost:8080/",
          "height": 272
        },
        "id": "NOS_97AaY3I5",
        "outputId": "82631918-efe5-4d3a-92cb-6e3dee532da3"
      },
      "execution_count": 396,
      "outputs": [
        {
          "output_type": "display_data",
          "data": {
            "text/html": [
              "<style>\n",
              ".list-inline {list-style: none; margin:0; padding: 0}\n",
              ".list-inline>li {display: inline-block}\n",
              ".list-inline>li:not(:last-child)::after {content: \"\\00b7\"; padding: 0 .5ex}\n",
              "</style>\n",
              "<ol class=list-inline><li>1500</li><li>27</li></ol>\n"
            ],
            "text/markdown": "1. 1500\n2. 27\n\n\n",
            "text/latex": "\\begin{enumerate*}\n\\item 1500\n\\item 27\n\\end{enumerate*}\n",
            "text/plain": [
              "[1] 1500   27"
            ]
          },
          "metadata": {}
        },
        {
          "output_type": "display_data",
          "data": {
            "text/html": [
              "<table class=\"dataframe\">\n",
              "<caption>A matrix: 6 × 27 of type dbl</caption>\n",
              "<thead>\n",
              "\t<tr><th scope=col>Bogota</th><th scope=col>colombiahumana</th><th scope=col>cundinamarcar</th><th scope=col>concejo</th><th scope=col>gobierno</th><th scope=col>socialismo</th><th scope=col>fascismo</th><th scope=col>transmilenio</th><th scope=col>covid</th><th scope=col>distrital</th><th scope=col>⋯</th><th scope=col>social</th><th scope=col>dejar</th><th scope=col>paz</th><th scope=col>vida</th><th scope=col>usd</th><th scope=col>onzar</th><th scope=col>solidaridad</th><th scope=col>democracia</th><th scope=col>familia</th><th scope=col>medellin</th></tr>\n",
              "</thead>\n",
              "<tbody>\n",
              "\t<tr><td>0</td><td>0</td><td>0</td><td>0</td><td>0</td><td>0</td><td>0</td><td>0</td><td>0</td><td>0</td><td>⋯</td><td>0</td><td>0</td><td>0</td><td>0</td><td>0</td><td>0</td><td>0</td><td>0</td><td>0</td><td>0</td></tr>\n",
              "\t<tr><td>0</td><td>0</td><td>0</td><td>0</td><td>0</td><td>0</td><td>0</td><td>0</td><td>0</td><td>0</td><td>⋯</td><td>0</td><td>0</td><td>0</td><td>0</td><td>0</td><td>0</td><td>0</td><td>0</td><td>0</td><td>0</td></tr>\n",
              "\t<tr><td>0</td><td>0</td><td>0</td><td>0</td><td>0</td><td>0</td><td>0</td><td>0</td><td>0</td><td>0</td><td>⋯</td><td>0</td><td>0</td><td>0</td><td>0</td><td>0</td><td>0</td><td>0</td><td>0</td><td>0</td><td>0</td></tr>\n",
              "\t<tr><td>0</td><td>0</td><td>0</td><td>0</td><td>0</td><td>0</td><td>0</td><td>0</td><td>0</td><td>0</td><td>⋯</td><td>0</td><td>0</td><td>0</td><td>0</td><td>0</td><td>0</td><td>0</td><td>0</td><td>0</td><td>0</td></tr>\n",
              "\t<tr><td>0</td><td>0</td><td>0</td><td>0</td><td>0</td><td>0</td><td>0</td><td>0</td><td>0</td><td>0</td><td>⋯</td><td>0</td><td>0</td><td>0</td><td>0</td><td>0</td><td>0</td><td>0</td><td>0</td><td>0</td><td>0</td></tr>\n",
              "\t<tr><td>0</td><td>0</td><td>0</td><td>0</td><td>0</td><td>0</td><td>0</td><td>0</td><td>0</td><td>0</td><td>⋯</td><td>0</td><td>0</td><td>1</td><td>1</td><td>0</td><td>0</td><td>0</td><td>0</td><td>0</td><td>0</td></tr>\n",
              "</tbody>\n",
              "</table>\n"
            ],
            "text/markdown": "\nA matrix: 6 × 27 of type dbl\n\n| Bogota | colombiahumana | cundinamarcar | concejo | gobierno | socialismo | fascismo | transmilenio | covid | distrital | ⋯ | social | dejar | paz | vida | usd | onzar | solidaridad | democracia | familia | medellin |\n|---|---|---|---|---|---|---|---|---|---|---|---|---|---|---|---|---|---|---|---|---|\n| 0 | 0 | 0 | 0 | 0 | 0 | 0 | 0 | 0 | 0 | ⋯ | 0 | 0 | 0 | 0 | 0 | 0 | 0 | 0 | 0 | 0 |\n| 0 | 0 | 0 | 0 | 0 | 0 | 0 | 0 | 0 | 0 | ⋯ | 0 | 0 | 0 | 0 | 0 | 0 | 0 | 0 | 0 | 0 |\n| 0 | 0 | 0 | 0 | 0 | 0 | 0 | 0 | 0 | 0 | ⋯ | 0 | 0 | 0 | 0 | 0 | 0 | 0 | 0 | 0 | 0 |\n| 0 | 0 | 0 | 0 | 0 | 0 | 0 | 0 | 0 | 0 | ⋯ | 0 | 0 | 0 | 0 | 0 | 0 | 0 | 0 | 0 | 0 |\n| 0 | 0 | 0 | 0 | 0 | 0 | 0 | 0 | 0 | 0 | ⋯ | 0 | 0 | 0 | 0 | 0 | 0 | 0 | 0 | 0 | 0 |\n| 0 | 0 | 0 | 0 | 0 | 0 | 0 | 0 | 0 | 0 | ⋯ | 0 | 0 | 1 | 1 | 0 | 0 | 0 | 0 | 0 | 0 |\n\n",
            "text/latex": "A matrix: 6 × 27 of type dbl\n\\begin{tabular}{lllllllllllllllllllll}\n Bogota & colombiahumana & cundinamarcar & concejo & gobierno & socialismo & fascismo & transmilenio & covid & distrital & ⋯ & social & dejar & paz & vida & usd & onzar & solidaridad & democracia & familia & medellin\\\\\n\\hline\n\t 0 & 0 & 0 & 0 & 0 & 0 & 0 & 0 & 0 & 0 & ⋯ & 0 & 0 & 0 & 0 & 0 & 0 & 0 & 0 & 0 & 0\\\\\n\t 0 & 0 & 0 & 0 & 0 & 0 & 0 & 0 & 0 & 0 & ⋯ & 0 & 0 & 0 & 0 & 0 & 0 & 0 & 0 & 0 & 0\\\\\n\t 0 & 0 & 0 & 0 & 0 & 0 & 0 & 0 & 0 & 0 & ⋯ & 0 & 0 & 0 & 0 & 0 & 0 & 0 & 0 & 0 & 0\\\\\n\t 0 & 0 & 0 & 0 & 0 & 0 & 0 & 0 & 0 & 0 & ⋯ & 0 & 0 & 0 & 0 & 0 & 0 & 0 & 0 & 0 & 0\\\\\n\t 0 & 0 & 0 & 0 & 0 & 0 & 0 & 0 & 0 & 0 & ⋯ & 0 & 0 & 0 & 0 & 0 & 0 & 0 & 0 & 0 & 0\\\\\n\t 0 & 0 & 0 & 0 & 0 & 0 & 0 & 0 & 0 & 0 & ⋯ & 0 & 0 & 1 & 1 & 0 & 0 & 0 & 0 & 0 & 0\\\\\n\\end{tabular}\n",
            "text/plain": [
              "     Bogota colombiahumana cundinamarcar concejo gobierno socialismo fascismo\n",
              "[1,] 0      0              0             0       0        0          0       \n",
              "[2,] 0      0              0             0       0        0          0       \n",
              "[3,] 0      0              0             0       0        0          0       \n",
              "[4,] 0      0              0             0       0        0          0       \n",
              "[5,] 0      0              0             0       0        0          0       \n",
              "[6,] 0      0              0             0       0        0          0       \n",
              "     transmilenio covid distrital ⋯ social dejar paz vida usd onzar solidaridad\n",
              "[1,] 0            0     0         ⋯ 0      0     0   0    0   0     0          \n",
              "[2,] 0            0     0         ⋯ 0      0     0   0    0   0     0          \n",
              "[3,] 0            0     0         ⋯ 0      0     0   0    0   0     0          \n",
              "[4,] 0            0     0         ⋯ 0      0     0   0    0   0     0          \n",
              "[5,] 0            0     0         ⋯ 0      0     0   0    0   0     0          \n",
              "[6,] 0            0     0         ⋯ 0      0     1   1    0   0     0          \n",
              "     democracia familia medellin\n",
              "[1,] 0          0       0       \n",
              "[2,] 0          0       0       \n",
              "[3,] 0          0       0       \n",
              "[4,] 0          0       0       \n",
              "[5,] 0          0       0       \n",
              "[6,] 0          0       0       "
            ]
          },
          "metadata": {}
        }
      ]
    },
    {
      "cell_type": "code",
      "source": [
        "x_train_dos <-  as.matrix(x_train_dos[,0:27])\n",
        "dim(x_train_dos)\n",
        "head(x_train_dos)"
      ],
      "metadata": {
        "colab": {
          "base_uri": "https://localhost:8080/",
          "height": 272
        },
        "id": "_t1vcu6tYz9c",
        "outputId": "b76e5a80-139e-4897-8d14-93f6545da740"
      },
      "execution_count": 397,
      "outputs": [
        {
          "output_type": "display_data",
          "data": {
            "text/html": [
              "<style>\n",
              ".list-inline {list-style: none; margin:0; padding: 0}\n",
              ".list-inline>li {display: inline-block}\n",
              ".list-inline>li:not(:last-child)::after {content: \"\\00b7\"; padding: 0 .5ex}\n",
              "</style>\n",
              "<ol class=list-inline><li>4408</li><li>27</li></ol>\n"
            ],
            "text/markdown": "1. 4408\n2. 27\n\n\n",
            "text/latex": "\\begin{enumerate*}\n\\item 4408\n\\item 27\n\\end{enumerate*}\n",
            "text/plain": [
              "[1] 4408   27"
            ]
          },
          "metadata": {}
        },
        {
          "output_type": "display_data",
          "data": {
            "text/html": [
              "<table class=\"dataframe\">\n",
              "<caption>A matrix: 6 × 27 of type dbl</caption>\n",
              "<thead>\n",
              "\t<tr><th scope=col>Bogota</th><th scope=col>colombiahumana</th><th scope=col>cundinamarcar</th><th scope=col>concejo</th><th scope=col>gobierno</th><th scope=col>socialismo</th><th scope=col>fascismo</th><th scope=col>transmilenio</th><th scope=col>covid</th><th scope=col>distrital</th><th scope=col>⋯</th><th scope=col>social</th><th scope=col>dejar</th><th scope=col>paz</th><th scope=col>vida</th><th scope=col>usd</th><th scope=col>onzar</th><th scope=col>solidaridad</th><th scope=col>democracia</th><th scope=col>familia</th><th scope=col>medellin</th></tr>\n",
              "</thead>\n",
              "<tbody>\n",
              "\t<tr><td>0</td><td>1</td><td>0</td><td>0</td><td>0</td><td>0</td><td>0</td><td>0</td><td>0</td><td>0</td><td>⋯</td><td>0</td><td>0</td><td>0</td><td>0</td><td>0</td><td>0</td><td>0</td><td>0</td><td>0</td><td>0</td></tr>\n",
              "\t<tr><td>0</td><td>0</td><td>1</td><td>0</td><td>0</td><td>0</td><td>0</td><td>0</td><td>0</td><td>0</td><td>⋯</td><td>0</td><td>0</td><td>1</td><td>1</td><td>0</td><td>0</td><td>0</td><td>0</td><td>0</td><td>0</td></tr>\n",
              "\t<tr><td>0</td><td>0</td><td>0</td><td>1</td><td>0</td><td>0</td><td>0</td><td>0</td><td>0</td><td>0</td><td>⋯</td><td>0</td><td>0</td><td>0</td><td>0</td><td>0</td><td>0</td><td>0</td><td>0</td><td>0</td><td>0</td></tr>\n",
              "\t<tr><td>0</td><td>0</td><td>0</td><td>0</td><td>0</td><td>0</td><td>0</td><td>0</td><td>0</td><td>0</td><td>⋯</td><td>0</td><td>0</td><td>0</td><td>0</td><td>0</td><td>0</td><td>0</td><td>0</td><td>0</td><td>0</td></tr>\n",
              "\t<tr><td>0</td><td>0</td><td>0</td><td>0</td><td>1</td><td>0</td><td>0</td><td>0</td><td>0</td><td>0</td><td>⋯</td><td>0</td><td>0</td><td>0</td><td>0</td><td>0</td><td>0</td><td>0</td><td>0</td><td>0</td><td>0</td></tr>\n",
              "\t<tr><td>0</td><td>0</td><td>0</td><td>0</td><td>0</td><td>0</td><td>0</td><td>0</td><td>0</td><td>0</td><td>⋯</td><td>0</td><td>0</td><td>0</td><td>0</td><td>0</td><td>0</td><td>0</td><td>0</td><td>0</td><td>0</td></tr>\n",
              "</tbody>\n",
              "</table>\n"
            ],
            "text/markdown": "\nA matrix: 6 × 27 of type dbl\n\n| Bogota | colombiahumana | cundinamarcar | concejo | gobierno | socialismo | fascismo | transmilenio | covid | distrital | ⋯ | social | dejar | paz | vida | usd | onzar | solidaridad | democracia | familia | medellin |\n|---|---|---|---|---|---|---|---|---|---|---|---|---|---|---|---|---|---|---|---|---|\n| 0 | 1 | 0 | 0 | 0 | 0 | 0 | 0 | 0 | 0 | ⋯ | 0 | 0 | 0 | 0 | 0 | 0 | 0 | 0 | 0 | 0 |\n| 0 | 0 | 1 | 0 | 0 | 0 | 0 | 0 | 0 | 0 | ⋯ | 0 | 0 | 1 | 1 | 0 | 0 | 0 | 0 | 0 | 0 |\n| 0 | 0 | 0 | 1 | 0 | 0 | 0 | 0 | 0 | 0 | ⋯ | 0 | 0 | 0 | 0 | 0 | 0 | 0 | 0 | 0 | 0 |\n| 0 | 0 | 0 | 0 | 0 | 0 | 0 | 0 | 0 | 0 | ⋯ | 0 | 0 | 0 | 0 | 0 | 0 | 0 | 0 | 0 | 0 |\n| 0 | 0 | 0 | 0 | 1 | 0 | 0 | 0 | 0 | 0 | ⋯ | 0 | 0 | 0 | 0 | 0 | 0 | 0 | 0 | 0 | 0 |\n| 0 | 0 | 0 | 0 | 0 | 0 | 0 | 0 | 0 | 0 | ⋯ | 0 | 0 | 0 | 0 | 0 | 0 | 0 | 0 | 0 | 0 |\n\n",
            "text/latex": "A matrix: 6 × 27 of type dbl\n\\begin{tabular}{lllllllllllllllllllll}\n Bogota & colombiahumana & cundinamarcar & concejo & gobierno & socialismo & fascismo & transmilenio & covid & distrital & ⋯ & social & dejar & paz & vida & usd & onzar & solidaridad & democracia & familia & medellin\\\\\n\\hline\n\t 0 & 1 & 0 & 0 & 0 & 0 & 0 & 0 & 0 & 0 & ⋯ & 0 & 0 & 0 & 0 & 0 & 0 & 0 & 0 & 0 & 0\\\\\n\t 0 & 0 & 1 & 0 & 0 & 0 & 0 & 0 & 0 & 0 & ⋯ & 0 & 0 & 1 & 1 & 0 & 0 & 0 & 0 & 0 & 0\\\\\n\t 0 & 0 & 0 & 1 & 0 & 0 & 0 & 0 & 0 & 0 & ⋯ & 0 & 0 & 0 & 0 & 0 & 0 & 0 & 0 & 0 & 0\\\\\n\t 0 & 0 & 0 & 0 & 0 & 0 & 0 & 0 & 0 & 0 & ⋯ & 0 & 0 & 0 & 0 & 0 & 0 & 0 & 0 & 0 & 0\\\\\n\t 0 & 0 & 0 & 0 & 1 & 0 & 0 & 0 & 0 & 0 & ⋯ & 0 & 0 & 0 & 0 & 0 & 0 & 0 & 0 & 0 & 0\\\\\n\t 0 & 0 & 0 & 0 & 0 & 0 & 0 & 0 & 0 & 0 & ⋯ & 0 & 0 & 0 & 0 & 0 & 0 & 0 & 0 & 0 & 0\\\\\n\\end{tabular}\n",
            "text/plain": [
              "     Bogota colombiahumana cundinamarcar concejo gobierno socialismo fascismo\n",
              "[1,] 0      1              0             0       0        0          0       \n",
              "[2,] 0      0              1             0       0        0          0       \n",
              "[3,] 0      0              0             1       0        0          0       \n",
              "[4,] 0      0              0             0       0        0          0       \n",
              "[5,] 0      0              0             0       1        0          0       \n",
              "[6,] 0      0              0             0       0        0          0       \n",
              "     transmilenio covid distrital ⋯ social dejar paz vida usd onzar solidaridad\n",
              "[1,] 0            0     0         ⋯ 0      0     0   0    0   0     0          \n",
              "[2,] 0            0     0         ⋯ 0      0     1   1    0   0     0          \n",
              "[3,] 0            0     0         ⋯ 0      0     0   0    0   0     0          \n",
              "[4,] 0            0     0         ⋯ 0      0     0   0    0   0     0          \n",
              "[5,] 0            0     0         ⋯ 0      0     0   0    0   0     0          \n",
              "[6,] 0            0     0         ⋯ 0      0     0   0    0   0     0          \n",
              "     democracia familia medellin\n",
              "[1,] 0          0       0       \n",
              "[2,] 0          0       0       \n",
              "[3,] 0          0       0       \n",
              "[4,] 0          0       0       \n",
              "[5,] 0          0       0       \n",
              "[6,] 0          0       0       "
            ]
          },
          "metadata": {}
        }
      ]
    },
    {
      "cell_type": "code",
      "source": [
        "y_train_dos <- train$cat\n",
        "y_train_dos <- to_categorical(y_train_dos)\n",
        "\n",
        "class(y_train_dos)"
      ],
      "metadata": {
        "colab": {
          "base_uri": "https://localhost:8080/",
          "height": 34
        },
        "id": "oHW13nsUaCfv",
        "outputId": "7acabed0-917b-49bd-a1ea-d1d9e10a16ef"
      },
      "execution_count": 398,
      "outputs": [
        {
          "output_type": "display_data",
          "data": {
            "text/html": [
              "<style>\n",
              ".list-inline {list-style: none; margin:0; padding: 0}\n",
              ".list-inline>li {display: inline-block}\n",
              ".list-inline>li:not(:last-child)::after {content: \"\\00b7\"; padding: 0 .5ex}\n",
              "</style>\n",
              "<ol class=list-inline><li>'matrix'</li><li>'array'</li></ol>\n"
            ],
            "text/markdown": "1. 'matrix'\n2. 'array'\n\n\n",
            "text/latex": "\\begin{enumerate*}\n\\item 'matrix'\n\\item 'array'\n\\end{enumerate*}\n",
            "text/plain": [
              "[1] \"matrix\" \"array\" "
            ]
          },
          "metadata": {}
        }
      ]
    },
    {
      "cell_type": "code",
      "source": [
        "Test_dos <-  as.matrix(Test_dos[,0:27])"
      ],
      "metadata": {
        "id": "DXBWX_k-ZFI6"
      },
      "execution_count": 399,
      "outputs": []
    },
    {
      "cell_type": "code",
      "source": [
        "model2 <- keras_model_sequential() \n",
        "model2 %>% \n",
        "  layer_dense(units = 10, activation = 'softmax', input_shape =ncol(x_train_dos)) %>% \n",
        "  layer_dense(units = 4, activation = 'sigmoid')"
      ],
      "metadata": {
        "id": "neQs4YysZP0-"
      },
      "execution_count": 418,
      "outputs": []
    },
    {
      "cell_type": "code",
      "source": [
        "model2 %>% compile(\n",
        "  optimizer = 'adam',\n",
        "  loss = 'categorical_crossentropy',\n",
        "  metrics = c('accuracy')\n",
        ")"
      ],
      "metadata": {
        "id": "w38UWQNtZTVr"
      },
      "execution_count": 419,
      "outputs": []
    },
    {
      "cell_type": "code",
      "source": [
        "history <- model2 %>% fit(\n",
        "  x_train_dos, y_train_dos, \n",
        "  epochs = 10, \n",
        "  batch_size = 10,\n",
        "  validation_split = 0.2\n",
        ")"
      ],
      "metadata": {
        "id": "JxmKlDdqZWiM"
      },
      "execution_count": 424,
      "outputs": []
    },
    {
      "cell_type": "code",
      "source": [
        "plot(history)"
      ],
      "metadata": {
        "colab": {
          "base_uri": "https://localhost:8080/",
          "height": 437
        },
        "id": "F5hU8fMoZZU0",
        "outputId": "4d8cdb94-7179-4a39-d821-849658078993"
      },
      "execution_count": 425,
      "outputs": [
        {
          "output_type": "display_data",
          "data": {
            "text/plain": [
              "plot without title"
            ],
            "image/png": "[encoded data removed]"
          },
          "metadata": {
            "image/png": {
              "width": 420,
              "height": 420
            }
          }
        }
      ]
    },
    {
      "cell_type": "code",
      "source": [
        "dim(Test_dos)"
      ],
      "metadata": {
        "colab": {
          "base_uri": "https://localhost:8080/",
          "height": 34
        },
        "id": "tiblbFZ0byeD",
        "outputId": "f4d0bc7c-170c-4bcd-9e42-48676516600e"
      },
      "execution_count": 426,
      "outputs": [
        {
          "output_type": "display_data",
          "data": {
            "text/html": [
              "<style>\n",
              ".list-inline {list-style: none; margin:0; padding: 0}\n",
              ".list-inline>li {display: inline-block}\n",
              ".list-inline>li:not(:last-child)::after {content: \"\\00b7\"; padding: 0 .5ex}\n",
              "</style>\n",
              "<ol class=list-inline><li>1500</li><li>27</li></ol>\n"
            ],
            "text/markdown": "1. 1500\n2. 27\n\n\n",
            "text/latex": "\\begin{enumerate*}\n\\item 1500\n\\item 27\n\\end{enumerate*}\n",
            "text/plain": [
              "[1] 1500   27"
            ]
          },
          "metadata": {}
        }
      ]
    },
    {
      "cell_type": "code",
      "source": [
        "y_hat_dos <- model2  %>% predict(Test_dos)"
      ],
      "metadata": {
        "id": "oyytSwaQboPl"
      },
      "execution_count": 427,
      "outputs": []
    },
    {
      "cell_type": "code",
      "source": [
        "y_hat_dos <- as.data.frame(y_hat_dos)\n",
        "colnames(y_hat_dos)[which(names(y_hat_dos) == \"V2\")] <- \"Lopez\"\n",
        "colnames(y_hat_dos)[which(names(y_hat_dos) == \"V3\")] <- \"Uribe\"\n",
        "colnames(y_hat_dos)[which(names(y_hat_dos) == \"V4\")] <- \"Petro\"\n",
        "y_hat_dos <- y_hat_dos[-1]"
      ],
      "metadata": {
        "id": "96SBpBl6cPDB"
      },
      "execution_count": 428,
      "outputs": []
    },
    {
      "cell_type": "code",
      "source": [
        "y_hat_dos <- y_hat_dos %>% mutate(name=names(.)[max.col(.)]) #Saca el la columna con el máximo valor predicho"
      ],
      "metadata": {
        "id": "mzUFEttScamu"
      },
      "execution_count": 429,
      "outputs": []
    },
    {
      "cell_type": "code",
      "source": [
        "name <- as.matrix(y_hat_dos$name)"
      ],
      "metadata": {
        "id": "mBEd3YoDcikF"
      },
      "execution_count": 430,
      "outputs": []
    },
    {
      "cell_type": "code",
      "source": [
        "id <- as.matrix(test$id)"
      ],
      "metadata": {
        "id": "Jp5rcHQ0cn47"
      },
      "execution_count": 431,
      "outputs": []
    },
    {
      "cell_type": "code",
      "source": [
        "y_hat_dos"
      ],
      "metadata": {
        "colab": {
          "base_uri": "https://localhost:8080/",
          "height": 1000
        },
        "id": "rAPCF2umc1Tb",
        "outputId": "9aeabc0e-e2db-43bf-a734-0e10b4c912a4"
      },
      "execution_count": 432,
      "outputs": [
        {
          "output_type": "display_data",
          "data": {
            "text/html": [
              "<table class=\"dataframe\">\n",
              "<caption>A data.frame: 1500 × 4</caption>\n",
              "<thead>\n",
              "\t<tr><th scope=col>Lopez</th><th scope=col>Uribe</th><th scope=col>Petro</th><th scope=col>name</th></tr>\n",
              "\t<tr><th scope=col>&lt;dbl&gt;</th><th scope=col>&lt;dbl&gt;</th><th scope=col>&lt;dbl&gt;</th><th scope=col>&lt;chr&gt;</th></tr>\n",
              "</thead>\n",
              "<tbody>\n",
              "\t<tr><td>0.6566476</td><td>0.6895908</td><td>0.6439233</td><td>Uribe</td></tr>\n",
              "\t<tr><td>0.6566476</td><td>0.6895908</td><td>0.6439233</td><td>Uribe</td></tr>\n",
              "\t<tr><td>0.6566476</td><td>0.6895908</td><td>0.6439233</td><td>Uribe</td></tr>\n",
              "\t<tr><td>0.6566476</td><td>0.6895908</td><td>0.6439233</td><td>Uribe</td></tr>\n",
              "\t<tr><td>0.6566476</td><td>0.6895908</td><td>0.6439233</td><td>Uribe</td></tr>\n",
              "\t<tr><td>0.8308908</td><td>0.4855615</td><td>0.7600636</td><td>Lopez</td></tr>\n",
              "\t<tr><td>0.6566476</td><td>0.6895908</td><td>0.6439233</td><td>Uribe</td></tr>\n",
              "\t<tr><td>0.6566476</td><td>0.6895908</td><td>0.6439233</td><td>Uribe</td></tr>\n",
              "\t<tr><td>0.6566476</td><td>0.6895908</td><td>0.6439233</td><td>Uribe</td></tr>\n",
              "\t<tr><td>0.6566476</td><td>0.6895908</td><td>0.6439233</td><td>Uribe</td></tr>\n",
              "\t<tr><td>0.9283535</td><td>0.3924534</td><td>0.6354465</td><td>Lopez</td></tr>\n",
              "\t<tr><td>0.6566476</td><td>0.6895908</td><td>0.6439233</td><td>Uribe</td></tr>\n",
              "\t<tr><td>0.7601197</td><td>0.5834575</td><td>0.6978024</td><td>Lopez</td></tr>\n",
              "\t<tr><td>0.9073682</td><td>0.4506822</td><td>0.6136955</td><td>Lopez</td></tr>\n",
              "\t<tr><td>0.8363261</td><td>0.4965892</td><td>0.7053406</td><td>Lopez</td></tr>\n",
              "\t<tr><td>0.6566476</td><td>0.6895908</td><td>0.6439233</td><td>Uribe</td></tr>\n",
              "\t<tr><td>0.6566476</td><td>0.6895908</td><td>0.6439233</td><td>Uribe</td></tr>\n",
              "\t<tr><td>0.8890764</td><td>0.4904552</td><td>0.6094332</td><td>Lopez</td></tr>\n",
              "\t<tr><td>0.6566476</td><td>0.6895908</td><td>0.6439233</td><td>Uribe</td></tr>\n",
              "\t<tr><td>0.6566476</td><td>0.6895908</td><td>0.6439233</td><td>Uribe</td></tr>\n",
              "\t<tr><td>0.6566476</td><td>0.6895908</td><td>0.6439233</td><td>Uribe</td></tr>\n",
              "\t<tr><td>0.5958542</td><td>0.6572832</td><td>0.7777448</td><td>Petro</td></tr>\n",
              "\t<tr><td>0.3825830</td><td>0.8671702</td><td>0.4993991</td><td>Uribe</td></tr>\n",
              "\t<tr><td>0.6566476</td><td>0.6895908</td><td>0.6439233</td><td>Uribe</td></tr>\n",
              "\t<tr><td>0.6566476</td><td>0.6895908</td><td>0.6439233</td><td>Uribe</td></tr>\n",
              "\t<tr><td>0.8890764</td><td>0.4904552</td><td>0.6094332</td><td>Lopez</td></tr>\n",
              "\t<tr><td>0.3739961</td><td>0.8899719</td><td>0.3977663</td><td>Uribe</td></tr>\n",
              "\t<tr><td>0.6566476</td><td>0.6895908</td><td>0.6439233</td><td>Uribe</td></tr>\n",
              "\t<tr><td>0.6566476</td><td>0.6895908</td><td>0.6439233</td><td>Uribe</td></tr>\n",
              "\t<tr><td>0.6566476</td><td>0.6895908</td><td>0.6439233</td><td>Uribe</td></tr>\n",
              "\t<tr><td>⋮</td><td>⋮</td><td>⋮</td><td>⋮</td></tr>\n",
              "\t<tr><td>0.6566476</td><td>0.6895908</td><td>0.6439233</td><td>Uribe</td></tr>\n",
              "\t<tr><td>0.6566476</td><td>0.6895908</td><td>0.6439233</td><td>Uribe</td></tr>\n",
              "\t<tr><td>0.6566476</td><td>0.6895908</td><td>0.6439233</td><td>Uribe</td></tr>\n",
              "\t<tr><td>0.6566476</td><td>0.6895908</td><td>0.6439233</td><td>Uribe</td></tr>\n",
              "\t<tr><td>0.6566476</td><td>0.6895908</td><td>0.6439233</td><td>Uribe</td></tr>\n",
              "\t<tr><td>0.6566476</td><td>0.6895908</td><td>0.6439233</td><td>Uribe</td></tr>\n",
              "\t<tr><td>0.6566476</td><td>0.6895908</td><td>0.6439233</td><td>Uribe</td></tr>\n",
              "\t<tr><td>0.6566476</td><td>0.6895908</td><td>0.6439233</td><td>Uribe</td></tr>\n",
              "\t<tr><td>0.6566476</td><td>0.6895908</td><td>0.6439233</td><td>Uribe</td></tr>\n",
              "\t<tr><td>0.6566476</td><td>0.6895908</td><td>0.6439233</td><td>Uribe</td></tr>\n",
              "\t<tr><td>0.6566476</td><td>0.6895908</td><td>0.6439233</td><td>Uribe</td></tr>\n",
              "\t<tr><td>0.6566476</td><td>0.6895908</td><td>0.6439233</td><td>Uribe</td></tr>\n",
              "\t<tr><td>0.6566476</td><td>0.6895908</td><td>0.6439233</td><td>Uribe</td></tr>\n",
              "\t<tr><td>0.6566476</td><td>0.6895908</td><td>0.6439233</td><td>Uribe</td></tr>\n",
              "\t<tr><td>0.6566476</td><td>0.6895908</td><td>0.6439233</td><td>Uribe</td></tr>\n",
              "\t<tr><td>0.6566476</td><td>0.6895908</td><td>0.6439233</td><td>Uribe</td></tr>\n",
              "\t<tr><td>0.6566476</td><td>0.6895908</td><td>0.6439233</td><td>Uribe</td></tr>\n",
              "\t<tr><td>0.6566476</td><td>0.6895908</td><td>0.6439233</td><td>Uribe</td></tr>\n",
              "\t<tr><td>0.6566476</td><td>0.6895908</td><td>0.6439233</td><td>Uribe</td></tr>\n",
              "\t<tr><td>0.6566476</td><td>0.6895908</td><td>0.6439233</td><td>Uribe</td></tr>\n",
              "\t<tr><td>0.6566476</td><td>0.6895908</td><td>0.6439233</td><td>Uribe</td></tr>\n",
              "\t<tr><td>0.6566476</td><td>0.6895908</td><td>0.6439233</td><td>Uribe</td></tr>\n",
              "\t<tr><td>0.6566476</td><td>0.6895908</td><td>0.6439233</td><td>Uribe</td></tr>\n",
              "\t<tr><td>0.6566476</td><td>0.6895908</td><td>0.6439233</td><td>Uribe</td></tr>\n",
              "\t<tr><td>0.6566476</td><td>0.6895908</td><td>0.6439233</td><td>Uribe</td></tr>\n",
              "\t<tr><td>0.6566476</td><td>0.6895908</td><td>0.6439233</td><td>Uribe</td></tr>\n",
              "\t<tr><td>0.6566476</td><td>0.6895908</td><td>0.6439234</td><td>Uribe</td></tr>\n",
              "\t<tr><td>0.6566476</td><td>0.6895908</td><td>0.6439234</td><td>Uribe</td></tr>\n",
              "\t<tr><td>0.6566476</td><td>0.6895908</td><td>0.6439234</td><td>Uribe</td></tr>\n",
              "\t<tr><td>0.6566476</td><td>0.6895908</td><td>0.6439234</td><td>Uribe</td></tr>\n",
              "</tbody>\n",
              "</table>\n"
            ],
            "text/markdown": "\nA data.frame: 1500 × 4\n\n| Lopez &lt;dbl&gt; | Uribe &lt;dbl&gt; | Petro &lt;dbl&gt; | name &lt;chr&gt; |\n|---|---|---|---|\n| 0.6566476 | 0.6895908 | 0.6439233 | Uribe |\n| 0.6566476 | 0.6895908 | 0.6439233 | Uribe |\n| 0.6566476 | 0.6895908 | 0.6439233 | Uribe |\n| 0.6566476 | 0.6895908 | 0.6439233 | Uribe |\n| 0.6566476 | 0.6895908 | 0.6439233 | Uribe |\n| 0.8308908 | 0.4855615 | 0.7600636 | Lopez |\n| 0.6566476 | 0.6895908 | 0.6439233 | Uribe |\n| 0.6566476 | 0.6895908 | 0.6439233 | Uribe |\n| 0.6566476 | 0.6895908 | 0.6439233 | Uribe |\n| 0.6566476 | 0.6895908 | 0.6439233 | Uribe |\n| 0.9283535 | 0.3924534 | 0.6354465 | Lopez |\n| 0.6566476 | 0.6895908 | 0.6439233 | Uribe |\n| 0.7601197 | 0.5834575 | 0.6978024 | Lopez |\n| 0.9073682 | 0.4506822 | 0.6136955 | Lopez |\n| 0.8363261 | 0.4965892 | 0.7053406 | Lopez |\n| 0.6566476 | 0.6895908 | 0.6439233 | Uribe |\n| 0.6566476 | 0.6895908 | 0.6439233 | Uribe |\n| 0.8890764 | 0.4904552 | 0.6094332 | Lopez |\n| 0.6566476 | 0.6895908 | 0.6439233 | Uribe |\n| 0.6566476 | 0.6895908 | 0.6439233 | Uribe |\n| 0.6566476 | 0.6895908 | 0.6439233 | Uribe |\n| 0.5958542 | 0.6572832 | 0.7777448 | Petro |\n| 0.3825830 | 0.8671702 | 0.4993991 | Uribe |\n| 0.6566476 | 0.6895908 | 0.6439233 | Uribe |\n| 0.6566476 | 0.6895908 | 0.6439233 | Uribe |\n| 0.8890764 | 0.4904552 | 0.6094332 | Lopez |\n| 0.3739961 | 0.8899719 | 0.3977663 | Uribe |\n| 0.6566476 | 0.6895908 | 0.6439233 | Uribe |\n| 0.6566476 | 0.6895908 | 0.6439233 | Uribe |\n| 0.6566476 | 0.6895908 | 0.6439233 | Uribe |\n| ⋮ | ⋮ | ⋮ | ⋮ |\n| 0.6566476 | 0.6895908 | 0.6439233 | Uribe |\n| 0.6566476 | 0.6895908 | 0.6439233 | Uribe |\n| 0.6566476 | 0.6895908 | 0.6439233 | Uribe |\n| 0.6566476 | 0.6895908 | 0.6439233 | Uribe |\n| 0.6566476 | 0.6895908 | 0.6439233 | Uribe |\n| 0.6566476 | 0.6895908 | 0.6439233 | Uribe |\n| 0.6566476 | 0.6895908 | 0.6439233 | Uribe |\n| 0.6566476 | 0.6895908 | 0.6439233 | Uribe |\n| 0.6566476 | 0.6895908 | 0.6439233 | Uribe |\n| 0.6566476 | 0.6895908 | 0.6439233 | Uribe |\n| 0.6566476 | 0.6895908 | 0.6439233 | Uribe |\n| 0.6566476 | 0.6895908 | 0.6439233 | Uribe |\n| 0.6566476 | 0.6895908 | 0.6439233 | Uribe |\n| 0.6566476 | 0.6895908 | 0.6439233 | Uribe |\n| 0.6566476 | 0.6895908 | 0.6439233 | Uribe |\n| 0.6566476 | 0.6895908 | 0.6439233 | Uribe |\n| 0.6566476 | 0.6895908 | 0.6439233 | Uribe |\n| 0.6566476 | 0.6895908 | 0.6439233 | Uribe |\n| 0.6566476 | 0.6895908 | 0.6439233 | Uribe |\n| 0.6566476 | 0.6895908 | 0.6439233 | Uribe |\n| 0.6566476 | 0.6895908 | 0.6439233 | Uribe |\n| 0.6566476 | 0.6895908 | 0.6439233 | Uribe |\n| 0.6566476 | 0.6895908 | 0.6439233 | Uribe |\n| 0.6566476 | 0.6895908 | 0.6439233 | Uribe |\n| 0.6566476 | 0.6895908 | 0.6439233 | Uribe |\n| 0.6566476 | 0.6895908 | 0.6439233 | Uribe |\n| 0.6566476 | 0.6895908 | 0.6439234 | Uribe |\n| 0.6566476 | 0.6895908 | 0.6439234 | Uribe |\n| 0.6566476 | 0.6895908 | 0.6439234 | Uribe |\n| 0.6566476 | 0.6895908 | 0.6439234 | Uribe |\n\n",
            "text/latex": "A data.frame: 1500 × 4\n\\begin{tabular}{llll}\n Lopez & Uribe & Petro & name\\\\\n <dbl> & <dbl> & <dbl> & <chr>\\\\\n\\hline\n\t 0.6566476 & 0.6895908 & 0.6439233 & Uribe\\\\\n\t 0.6566476 & 0.6895908 & 0.6439233 & Uribe\\\\\n\t 0.6566476 & 0.6895908 & 0.6439233 & Uribe\\\\\n\t 0.6566476 & 0.6895908 & 0.6439233 & Uribe\\\\\n\t 0.6566476 & 0.6895908 & 0.6439233 & Uribe\\\\\n\t 0.8308908 & 0.4855615 & 0.7600636 & Lopez\\\\\n\t 0.6566476 & 0.6895908 & 0.6439233 & Uribe\\\\\n\t 0.6566476 & 0.6895908 & 0.6439233 & Uribe\\\\\n\t 0.6566476 & 0.6895908 & 0.6439233 & Uribe\\\\\n\t 0.6566476 & 0.6895908 & 0.6439233 & Uribe\\\\\n\t 0.9283535 & 0.3924534 & 0.6354465 & Lopez\\\\\n\t 0.6566476 & 0.6895908 & 0.6439233 & Uribe\\\\\n\t 0.7601197 & 0.5834575 & 0.6978024 & Lopez\\\\\n\t 0.9073682 & 0.4506822 & 0.6136955 & Lopez\\\\\n\t 0.8363261 & 0.4965892 & 0.7053406 & Lopez\\\\\n\t 0.6566476 & 0.6895908 & 0.6439233 & Uribe\\\\\n\t 0.6566476 & 0.6895908 & 0.6439233 & Uribe\\\\\n\t 0.8890764 & 0.4904552 & 0.6094332 & Lopez\\\\\n\t 0.6566476 & 0.6895908 & 0.6439233 & Uribe\\\\\n\t 0.6566476 & 0.6895908 & 0.6439233 & Uribe\\\\\n\t 0.6566476 & 0.6895908 & 0.6439233 & Uribe\\\\\n\t 0.5958542 & 0.6572832 & 0.7777448 & Petro\\\\\n\t 0.3825830 & 0.8671702 & 0.4993991 & Uribe\\\\\n\t 0.6566476 & 0.6895908 & 0.6439233 & Uribe\\\\\n\t 0.6566476 & 0.6895908 & 0.6439233 & Uribe\\\\\n\t 0.8890764 & 0.4904552 & 0.6094332 & Lopez\\\\\n\t 0.3739961 & 0.8899719 & 0.3977663 & Uribe\\\\\n\t 0.6566476 & 0.6895908 & 0.6439233 & Uribe\\\\\n\t 0.6566476 & 0.6895908 & 0.6439233 & Uribe\\\\\n\t 0.6566476 & 0.6895908 & 0.6439233 & Uribe\\\\\n\t ⋮ & ⋮ & ⋮ & ⋮\\\\\n\t 0.6566476 & 0.6895908 & 0.6439233 & Uribe\\\\\n\t 0.6566476 & 0.6895908 & 0.6439233 & Uribe\\\\\n\t 0.6566476 & 0.6895908 & 0.6439233 & Uribe\\\\\n\t 0.6566476 & 0.6895908 & 0.6439233 & Uribe\\\\\n\t 0.6566476 & 0.6895908 & 0.6439233 & Uribe\\\\\n\t 0.6566476 & 0.6895908 & 0.6439233 & Uribe\\\\\n\t 0.6566476 & 0.6895908 & 0.6439233 & Uribe\\\\\n\t 0.6566476 & 0.6895908 & 0.6439233 & Uribe\\\\\n\t 0.6566476 & 0.6895908 & 0.6439233 & Uribe\\\\\n\t 0.6566476 & 0.6895908 & 0.6439233 & Uribe\\\\\n\t 0.6566476 & 0.6895908 & 0.6439233 & Uribe\\\\\n\t 0.6566476 & 0.6895908 & 0.6439233 & Uribe\\\\\n\t 0.6566476 & 0.6895908 & 0.6439233 & Uribe\\\\\n\t 0.6566476 & 0.6895908 & 0.6439233 & Uribe\\\\\n\t 0.6566476 & 0.6895908 & 0.6439233 & Uribe\\\\\n\t 0.6566476 & 0.6895908 & 0.6439233 & Uribe\\\\\n\t 0.6566476 & 0.6895908 & 0.6439233 & Uribe\\\\\n\t 0.6566476 & 0.6895908 & 0.6439233 & Uribe\\\\\n\t 0.6566476 & 0.6895908 & 0.6439233 & Uribe\\\\\n\t 0.6566476 & 0.6895908 & 0.6439233 & Uribe\\\\\n\t 0.6566476 & 0.6895908 & 0.6439233 & Uribe\\\\\n\t 0.6566476 & 0.6895908 & 0.6439233 & Uribe\\\\\n\t 0.6566476 & 0.6895908 & 0.6439233 & Uribe\\\\\n\t 0.6566476 & 0.6895908 & 0.6439233 & Uribe\\\\\n\t 0.6566476 & 0.6895908 & 0.6439233 & Uribe\\\\\n\t 0.6566476 & 0.6895908 & 0.6439233 & Uribe\\\\\n\t 0.6566476 & 0.6895908 & 0.6439234 & Uribe\\\\\n\t 0.6566476 & 0.6895908 & 0.6439234 & Uribe\\\\\n\t 0.6566476 & 0.6895908 & 0.6439234 & Uribe\\\\\n\t 0.6566476 & 0.6895908 & 0.6439234 & Uribe\\\\\n\\end{tabular}\n",
            "text/plain": [
              "     Lopez     Uribe     Petro     name \n",
              "1    0.6566476 0.6895908 0.6439233 Uribe\n",
              "2    0.6566476 0.6895908 0.6439233 Uribe\n",
              "3    0.6566476 0.6895908 0.6439233 Uribe\n",
              "4    0.6566476 0.6895908 0.6439233 Uribe\n",
              "5    0.6566476 0.6895908 0.6439233 Uribe\n",
              "6    0.8308908 0.4855615 0.7600636 Lopez\n",
              "7    0.6566476 0.6895908 0.6439233 Uribe\n",
              "8    0.6566476 0.6895908 0.6439233 Uribe\n",
              "9    0.6566476 0.6895908 0.6439233 Uribe\n",
              "10   0.6566476 0.6895908 0.6439233 Uribe\n",
              "11   0.9283535 0.3924534 0.6354465 Lopez\n",
              "12   0.6566476 0.6895908 0.6439233 Uribe\n",
              "13   0.7601197 0.5834575 0.6978024 Lopez\n",
              "14   0.9073682 0.4506822 0.6136955 Lopez\n",
              "15   0.8363261 0.4965892 0.7053406 Lopez\n",
              "16   0.6566476 0.6895908 0.6439233 Uribe\n",
              "17   0.6566476 0.6895908 0.6439233 Uribe\n",
              "18   0.8890764 0.4904552 0.6094332 Lopez\n",
              "19   0.6566476 0.6895908 0.6439233 Uribe\n",
              "20   0.6566476 0.6895908 0.6439233 Uribe\n",
              "21   0.6566476 0.6895908 0.6439233 Uribe\n",
              "22   0.5958542 0.6572832 0.7777448 Petro\n",
              "23   0.3825830 0.8671702 0.4993991 Uribe\n",
              "24   0.6566476 0.6895908 0.6439233 Uribe\n",
              "25   0.6566476 0.6895908 0.6439233 Uribe\n",
              "26   0.8890764 0.4904552 0.6094332 Lopez\n",
              "27   0.3739961 0.8899719 0.3977663 Uribe\n",
              "28   0.6566476 0.6895908 0.6439233 Uribe\n",
              "29   0.6566476 0.6895908 0.6439233 Uribe\n",
              "30   0.6566476 0.6895908 0.6439233 Uribe\n",
              "⋮    ⋮         ⋮         ⋮         ⋮    \n",
              "1471 0.6566476 0.6895908 0.6439233 Uribe\n",
              "1472 0.6566476 0.6895908 0.6439233 Uribe\n",
              "1473 0.6566476 0.6895908 0.6439233 Uribe\n",
              "1474 0.6566476 0.6895908 0.6439233 Uribe\n",
              "1475 0.6566476 0.6895908 0.6439233 Uribe\n",
              "1476 0.6566476 0.6895908 0.6439233 Uribe\n",
              "1477 0.6566476 0.6895908 0.6439233 Uribe\n",
              "1478 0.6566476 0.6895908 0.6439233 Uribe\n",
              "1479 0.6566476 0.6895908 0.6439233 Uribe\n",
              "1480 0.6566476 0.6895908 0.6439233 Uribe\n",
              "1481 0.6566476 0.6895908 0.6439233 Uribe\n",
              "1482 0.6566476 0.6895908 0.6439233 Uribe\n",
              "1483 0.6566476 0.6895908 0.6439233 Uribe\n",
              "1484 0.6566476 0.6895908 0.6439233 Uribe\n",
              "1485 0.6566476 0.6895908 0.6439233 Uribe\n",
              "1486 0.6566476 0.6895908 0.6439233 Uribe\n",
              "1487 0.6566476 0.6895908 0.6439233 Uribe\n",
              "1488 0.6566476 0.6895908 0.6439233 Uribe\n",
              "1489 0.6566476 0.6895908 0.6439233 Uribe\n",
              "1490 0.6566476 0.6895908 0.6439233 Uribe\n",
              "1491 0.6566476 0.6895908 0.6439233 Uribe\n",
              "1492 0.6566476 0.6895908 0.6439233 Uribe\n",
              "1493 0.6566476 0.6895908 0.6439233 Uribe\n",
              "1494 0.6566476 0.6895908 0.6439233 Uribe\n",
              "1495 0.6566476 0.6895908 0.6439233 Uribe\n",
              "1496 0.6566476 0.6895908 0.6439233 Uribe\n",
              "1497 0.6566476 0.6895908 0.6439234 Uribe\n",
              "1498 0.6566476 0.6895908 0.6439234 Uribe\n",
              "1499 0.6566476 0.6895908 0.6439234 Uribe\n",
              "1500 0.6566476 0.6895908 0.6439234 Uribe"
            ]
          },
          "metadata": {}
        }
      ]
    },
    {
      "cell_type": "code",
      "source": [
        "predict <- data.frame(\n",
        "  id = id,\n",
        "  name = name \n",
        ")"
      ],
      "metadata": {
        "id": "P3D5YhnLeVDP"
      },
      "execution_count": 433,
      "outputs": []
    },
    {
      "cell_type": "code",
      "source": [
        "write.csv(predict, \"predict.csv\", row.names = FALSE)"
      ],
      "metadata": {
        "id": "rTVpr76DczPo"
      },
      "execution_count": 434,
      "outputs": []
    }
  ],
  "metadata": {
    "anaconda-cloud": "",
    "kernelspec": {
      "display_name": "R",
      "langauge": "R",
      "name": "ir"
    },
    "language_info": {
      "codemirror_mode": "r",
      "file_extension": ".r",
      "mimetype": "text/x-r-source",
      "name": "R",
      "pygments_lexer": "r",
      "version": "3.4.1"
    },
    "colab": {
      "provenance": []
    }
  },
  "nbformat": 4,
  "nbformat_minor": 0
}